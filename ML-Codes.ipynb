{
 "cells": [
  {
   "attachments": {},
   "cell_type": "markdown",
   "metadata": {},
   "source": [
    "# ADHD classification"
   ]
  },
  {
   "attachments": {},
   "cell_type": "markdown",
   "metadata": {},
   "source": [
    "## DT method"
   ]
  },
  {
   "attachments": {},
   "cell_type": "markdown",
   "metadata": {},
   "source": [
    "### ZigZag trace"
   ]
  },
  {
   "cell_type": "code",
   "execution_count": 3,
   "metadata": {
    "ExecuteTime": {
     "end_time": "2025-01-12T09:36:14.764722100Z",
     "start_time": "2025-01-12T09:36:14.678722700Z"
    }
   },
   "outputs": [],
   "source": [
    "from sklearn.datasets import make_moons\n",
    "from sklearn.model_selection import train_test_split, GridSearchCV\n",
    "from sklearn.tree import DecisionTreeClassifier\n",
    "from sklearn.tree import export_graphviz\n",
    "from matplotlib.colors import ListedColormap\n",
    "import graphviz\n",
    "from sklearn.preprocessing import StandardScaler\n",
    "import pandas as pd\n",
    "from mlxtend.feature_selection import SequentialFeatureSelector as SFS"
   ]
  },
  {
   "cell_type": "code",
   "execution_count": 4,
   "metadata": {
    "ExecuteTime": {
     "end_time": "2025-01-12T09:36:16.146599900Z",
     "start_time": "2025-01-12T09:36:15.989906Z"
    }
   },
   "outputs": [
    {
     "data": {
      "text/plain": "(87, 31)"
     },
     "execution_count": 4,
     "metadata": {},
     "output_type": "execute_result"
    }
   ],
   "source": [
    "f=pd.read_csv('Dataset/Zigzag_trace.csv')\n",
    "df = f.to_numpy()\n",
    "df.shape"
   ]
  },
  {
   "cell_type": "code",
   "execution_count": 5,
   "metadata": {
    "ExecuteTime": {
     "end_time": "2025-01-12T09:36:18.569519600Z",
     "start_time": "2025-01-12T09:36:18.433526500Z"
    }
   },
   "outputs": [
    {
     "name": "stdout",
     "output_type": "stream",
     "text": [
      "[ 1740.85  1563.31  1466.88  1688.38  1858.82  2091.91  3254.4   4006.28\n",
      "  2357.96  1828.74  2391.82  2329.72  1622.88  1891.23 13118.    1769.75\n",
      "  1651.74  2346.78  3485.1   3047.08  3018.19  2176.34  1855.85  2421.99\n",
      "  2324.16  3061.06  2358.62  1739.48  1817.36  2062.04  2111.    2888.18\n",
      "  2340.96  1440.    1782.47  1306.    1416.27  1558.54  1444.39  1679.02\n",
      "  1692.5   1436.61  3078.13  3199.09  2211.81  8520.    2281.85  2475.82\n",
      "  1256.    1511.    1385.    2230.67  2211.01  2845.28  1836.84  2961.26\n",
      "  2358.1   1849.72  1558.15  1652.61  2648.88  1487.22  1671.49  2626.81\n",
      "  1699.02  1636.    4210.43  3946.52  2438.3   1976.15  2247.1   1444.9\n",
      "  2613.4   2316.59  1937.3   1466.13  3147.4   3192.41  2502.    1293.\n",
      "  1462.83  2763.39  2531.    1224.    1407.31  1792.25  1425.57]\n"
     ]
    }
   ],
   "source": [
    "X = df[:,2:]\n",
    "y = df[:,1]\n",
    "print(y)\n",
    "y=y.astype('int')\n",
    "\n",
    "#データチューニング\n",
    "tuned_parameters = {'max_depth':[1, 2, 3, 4, 5],\n",
    "         'min_samples_leaf':[1, 2, 3, 4, 5, 6, 7, 8, 9, 10],\n",
    "         'min_samples_split':[2, 3, 4, 5]}\n",
    "\n",
    "#DecisionTreeClassifier(max_depth=4, min_samples_leaf=2, random_state=0)\n",
    "\n",
    "\n",
    "from sklearn.model_selection import LeaveOneOut\n",
    "\n",
    "# create loocv procedure\n",
    "cv = LeaveOneOut()\n",
    "\n",
    "clf = GridSearchCV(DecisionTreeClassifier(random_state=0),   # グリッドサーチで決定木を定義\n",
    "                   tuned_parameters,\n",
    "                   cv=cv,\n",
    "                   n_jobs=-1,\n",
    "                   verbose=2\n",
    "                  )"
   ]
  },
  {
   "cell_type": "code",
   "execution_count": 6,
   "metadata": {
    "ExecuteTime": {
     "end_time": "2025-01-12T09:36:20.883508600Z",
     "start_time": "2025-01-12T09:36:20.753118200Z"
    }
   },
   "outputs": [],
   "source": [
    "stdsc = StandardScaler()\n",
    "X_std = stdsc.fit_transform(X)"
   ]
  },
  {
   "cell_type": "code",
   "execution_count": 7,
   "metadata": {
    "ExecuteTime": {
     "end_time": "2025-01-12T09:51:18.709652200Z",
     "start_time": "2025-01-12T09:36:21.794945700Z"
    }
   },
   "outputs": [
    {
     "name": "stderr",
     "output_type": "stream",
     "text": [
      "[Parallel(n_jobs=-1)]: Using backend LokyBackend with 12 concurrent workers.\n",
      "[Parallel(n_jobs=-1)]: Done  29 out of  29 | elapsed:    8.6s finished\n",
      "Features: 1/2[Parallel(n_jobs=-1)]: Using backend LokyBackend with 12 concurrent workers.\n",
      "[Parallel(n_jobs=-1)]: Done  28 out of  28 | elapsed:    0.7s finished\n",
      "Features: 2/2"
     ]
    },
    {
     "name": "stdout",
     "output_type": "stream",
     "text": [
      "Fitting 87 folds for each of 200 candidates, totalling 17400 fits\n",
      "0.022988505747126436 {'max_depth': 5, 'min_samples_leaf': 1, 'min_samples_split': 2}\n"
     ]
    },
    {
     "name": "stderr",
     "output_type": "stream",
     "text": [
      "[Parallel(n_jobs=-1)]: Using backend LokyBackend with 12 concurrent workers.\n",
      "[Parallel(n_jobs=-1)]: Done  29 out of  29 | elapsed:    0.7s finished\n",
      "Features: 1/3[Parallel(n_jobs=-1)]: Using backend LokyBackend with 12 concurrent workers.\n",
      "[Parallel(n_jobs=-1)]: Done  28 out of  28 | elapsed:    0.6s finished\n",
      "Features: 2/3[Parallel(n_jobs=-1)]: Using backend LokyBackend with 12 concurrent workers.\n",
      "[Parallel(n_jobs=-1)]: Done  27 out of  27 | elapsed:    0.6s finished\n",
      "[Parallel(n_jobs=-1)]: Using backend LokyBackend with 12 concurrent workers.\n",
      "[Parallel(n_jobs=-1)]: Done   2 out of   2 | elapsed:    0.0s finished\n",
      "Features: 3/3"
     ]
    },
    {
     "name": "stdout",
     "output_type": "stream",
     "text": [
      "Fitting 87 folds for each of 200 candidates, totalling 17400 fits\n",
      "0.022988505747126436 {'max_depth': 5, 'min_samples_leaf': 1, 'min_samples_split': 2}\n"
     ]
    },
    {
     "name": "stderr",
     "output_type": "stream",
     "text": [
      "[Parallel(n_jobs=-1)]: Using backend LokyBackend with 12 concurrent workers.\n",
      "[Parallel(n_jobs=-1)]: Done  29 out of  29 | elapsed:    0.6s finished\n",
      "Features: 1/4[Parallel(n_jobs=-1)]: Using backend LokyBackend with 12 concurrent workers.\n",
      "[Parallel(n_jobs=-1)]: Done  28 out of  28 | elapsed:    0.7s finished\n",
      "Features: 2/4[Parallel(n_jobs=-1)]: Using backend LokyBackend with 12 concurrent workers.\n",
      "[Parallel(n_jobs=-1)]: Done  27 out of  27 | elapsed:    0.6s finished\n",
      "[Parallel(n_jobs=-1)]: Using backend LokyBackend with 12 concurrent workers.\n",
      "[Parallel(n_jobs=-1)]: Done   2 out of   2 | elapsed:    0.0s finished\n",
      "Features: 3/4[Parallel(n_jobs=-1)]: Using backend LokyBackend with 12 concurrent workers.\n",
      "[Parallel(n_jobs=-1)]: Done  26 out of  26 | elapsed:    0.6s finished\n",
      "[Parallel(n_jobs=-1)]: Using backend LokyBackend with 12 concurrent workers.\n",
      "[Parallel(n_jobs=-1)]: Done   3 out of   3 | elapsed:    0.1s finished\n",
      "Features: 4/4"
     ]
    },
    {
     "name": "stdout",
     "output_type": "stream",
     "text": [
      "Fitting 87 folds for each of 200 candidates, totalling 17400 fits\n",
      "0.022988505747126436 {'max_depth': 5, 'min_samples_leaf': 1, 'min_samples_split': 2}\n"
     ]
    },
    {
     "name": "stderr",
     "output_type": "stream",
     "text": [
      "[Parallel(n_jobs=-1)]: Using backend LokyBackend with 12 concurrent workers.\n",
      "[Parallel(n_jobs=-1)]: Done  29 out of  29 | elapsed:    0.7s finished\n",
      "Features: 1/5[Parallel(n_jobs=-1)]: Using backend LokyBackend with 12 concurrent workers.\n",
      "[Parallel(n_jobs=-1)]: Done  28 out of  28 | elapsed:    0.7s finished\n",
      "Features: 2/5[Parallel(n_jobs=-1)]: Using backend LokyBackend with 12 concurrent workers.\n",
      "[Parallel(n_jobs=-1)]: Done  27 out of  27 | elapsed:    0.7s finished\n",
      "[Parallel(n_jobs=-1)]: Using backend LokyBackend with 12 concurrent workers.\n",
      "[Parallel(n_jobs=-1)]: Done   2 out of   2 | elapsed:    0.0s finished\n",
      "Features: 3/5[Parallel(n_jobs=-1)]: Using backend LokyBackend with 12 concurrent workers.\n",
      "[Parallel(n_jobs=-1)]: Done  26 out of  26 | elapsed:    0.8s finished\n",
      "[Parallel(n_jobs=-1)]: Using backend LokyBackend with 12 concurrent workers.\n",
      "[Parallel(n_jobs=-1)]: Done   3 out of   3 | elapsed:    0.1s finished\n",
      "Features: 4/5[Parallel(n_jobs=-1)]: Using backend LokyBackend with 12 concurrent workers.\n",
      "[Parallel(n_jobs=-1)]: Done  25 out of  25 | elapsed:    1.1s finished\n",
      "[Parallel(n_jobs=-1)]: Using backend LokyBackend with 12 concurrent workers.\n",
      "[Parallel(n_jobs=-1)]: Done   4 out of   4 | elapsed:    0.4s finished\n",
      "Features: 5/5"
     ]
    },
    {
     "name": "stdout",
     "output_type": "stream",
     "text": [
      "Fitting 87 folds for each of 200 candidates, totalling 17400 fits\n",
      "0.011494252873563218 {'max_depth': 5, 'min_samples_leaf': 4, 'min_samples_split': 2}\n"
     ]
    },
    {
     "name": "stderr",
     "output_type": "stream",
     "text": [
      "[Parallel(n_jobs=-1)]: Using backend LokyBackend with 12 concurrent workers.\n",
      "[Parallel(n_jobs=-1)]: Done  29 out of  29 | elapsed:    0.5s finished\n",
      "Features: 1/6[Parallel(n_jobs=-1)]: Using backend LokyBackend with 12 concurrent workers.\n",
      "[Parallel(n_jobs=-1)]: Done  28 out of  28 | elapsed:    0.6s finished\n",
      "Features: 2/6[Parallel(n_jobs=-1)]: Using backend LokyBackend with 12 concurrent workers.\n",
      "[Parallel(n_jobs=-1)]: Done  27 out of  27 | elapsed:    0.6s finished\n",
      "[Parallel(n_jobs=-1)]: Using backend LokyBackend with 12 concurrent workers.\n",
      "[Parallel(n_jobs=-1)]: Done   2 out of   2 | elapsed:    0.0s finished\n",
      "Features: 3/6[Parallel(n_jobs=-1)]: Using backend LokyBackend with 12 concurrent workers.\n",
      "[Parallel(n_jobs=-1)]: Done  26 out of  26 | elapsed:    0.6s finished\n",
      "[Parallel(n_jobs=-1)]: Using backend LokyBackend with 12 concurrent workers.\n",
      "[Parallel(n_jobs=-1)]: Done   3 out of   3 | elapsed:    0.0s finished\n",
      "Features: 4/6[Parallel(n_jobs=-1)]: Using backend LokyBackend with 12 concurrent workers.\n",
      "[Parallel(n_jobs=-1)]: Done  25 out of  25 | elapsed:    0.6s finished\n",
      "[Parallel(n_jobs=-1)]: Using backend LokyBackend with 12 concurrent workers.\n",
      "[Parallel(n_jobs=-1)]: Done   4 out of   4 | elapsed:    0.1s finished\n",
      "Features: 5/6[Parallel(n_jobs=-1)]: Using backend LokyBackend with 12 concurrent workers.\n",
      "[Parallel(n_jobs=-1)]: Done  24 out of  24 | elapsed:    0.6s finished\n",
      "[Parallel(n_jobs=-1)]: Using backend LokyBackend with 12 concurrent workers.\n",
      "[Parallel(n_jobs=-1)]: Done   5 out of   5 | elapsed:    0.1s finished\n",
      "Features: 6/6"
     ]
    },
    {
     "name": "stdout",
     "output_type": "stream",
     "text": [
      "Fitting 87 folds for each of 200 candidates, totalling 17400 fits\n",
      "0.022988505747126436 {'max_depth': 5, 'min_samples_leaf': 2, 'min_samples_split': 2}\n"
     ]
    },
    {
     "name": "stderr",
     "output_type": "stream",
     "text": [
      "[Parallel(n_jobs=-1)]: Using backend LokyBackend with 12 concurrent workers.\n",
      "[Parallel(n_jobs=-1)]: Done  29 out of  29 | elapsed:    0.6s finished\n",
      "Features: 1/7[Parallel(n_jobs=-1)]: Using backend LokyBackend with 12 concurrent workers.\n",
      "[Parallel(n_jobs=-1)]: Done  28 out of  28 | elapsed:    0.7s finished\n",
      "Features: 2/7[Parallel(n_jobs=-1)]: Using backend LokyBackend with 12 concurrent workers.\n",
      "[Parallel(n_jobs=-1)]: Done  27 out of  27 | elapsed:    0.6s finished\n",
      "[Parallel(n_jobs=-1)]: Using backend LokyBackend with 12 concurrent workers.\n",
      "[Parallel(n_jobs=-1)]: Done   2 out of   2 | elapsed:    0.0s finished\n",
      "Features: 3/7[Parallel(n_jobs=-1)]: Using backend LokyBackend with 12 concurrent workers.\n",
      "[Parallel(n_jobs=-1)]: Done  26 out of  26 | elapsed:    0.6s finished\n",
      "[Parallel(n_jobs=-1)]: Using backend LokyBackend with 12 concurrent workers.\n",
      "[Parallel(n_jobs=-1)]: Done   3 out of   3 | elapsed:    0.0s finished\n",
      "Features: 4/7[Parallel(n_jobs=-1)]: Using backend LokyBackend with 12 concurrent workers.\n",
      "[Parallel(n_jobs=-1)]: Done  25 out of  25 | elapsed:    0.6s finished\n",
      "[Parallel(n_jobs=-1)]: Using backend LokyBackend with 12 concurrent workers.\n",
      "[Parallel(n_jobs=-1)]: Done   4 out of   4 | elapsed:    0.1s finished\n",
      "Features: 5/7[Parallel(n_jobs=-1)]: Using backend LokyBackend with 12 concurrent workers.\n",
      "[Parallel(n_jobs=-1)]: Done  24 out of  24 | elapsed:    0.7s finished\n",
      "[Parallel(n_jobs=-1)]: Using backend LokyBackend with 12 concurrent workers.\n",
      "[Parallel(n_jobs=-1)]: Done   5 out of   5 | elapsed:    0.1s finished\n",
      "Features: 6/7[Parallel(n_jobs=-1)]: Using backend LokyBackend with 12 concurrent workers.\n",
      "[Parallel(n_jobs=-1)]: Done  23 out of  23 | elapsed:    0.6s finished\n",
      "[Parallel(n_jobs=-1)]: Using backend LokyBackend with 12 concurrent workers.\n",
      "[Parallel(n_jobs=-1)]: Done   4 out of   6 | elapsed:    0.2s remaining:    0.0s\n",
      "[Parallel(n_jobs=-1)]: Done   6 out of   6 | elapsed:    0.2s finished\n",
      "Features: 7/7"
     ]
    },
    {
     "name": "stdout",
     "output_type": "stream",
     "text": [
      "Fitting 87 folds for each of 200 candidates, totalling 17400 fits\n",
      "0.0 {'max_depth': 1, 'min_samples_leaf': 1, 'min_samples_split': 2}\n"
     ]
    },
    {
     "name": "stderr",
     "output_type": "stream",
     "text": [
      "[Parallel(n_jobs=-1)]: Using backend LokyBackend with 12 concurrent workers.\n",
      "[Parallel(n_jobs=-1)]: Done  29 out of  29 | elapsed:    0.6s finished\n",
      "Features: 1/8[Parallel(n_jobs=-1)]: Using backend LokyBackend with 12 concurrent workers.\n",
      "[Parallel(n_jobs=-1)]: Done  28 out of  28 | elapsed:    0.6s finished\n",
      "Features: 2/8[Parallel(n_jobs=-1)]: Using backend LokyBackend with 12 concurrent workers.\n",
      "[Parallel(n_jobs=-1)]: Done  27 out of  27 | elapsed:    0.6s finished\n",
      "[Parallel(n_jobs=-1)]: Using backend LokyBackend with 12 concurrent workers.\n",
      "[Parallel(n_jobs=-1)]: Done   2 out of   2 | elapsed:    0.0s finished\n",
      "Features: 3/8[Parallel(n_jobs=-1)]: Using backend LokyBackend with 12 concurrent workers.\n",
      "[Parallel(n_jobs=-1)]: Done  26 out of  26 | elapsed:    0.6s finished\n",
      "[Parallel(n_jobs=-1)]: Using backend LokyBackend with 12 concurrent workers.\n",
      "[Parallel(n_jobs=-1)]: Done   3 out of   3 | elapsed:    0.1s finished\n",
      "Features: 4/8[Parallel(n_jobs=-1)]: Using backend LokyBackend with 12 concurrent workers.\n",
      "[Parallel(n_jobs=-1)]: Done  25 out of  25 | elapsed:    0.6s finished\n",
      "[Parallel(n_jobs=-1)]: Using backend LokyBackend with 12 concurrent workers.\n",
      "[Parallel(n_jobs=-1)]: Done   4 out of   4 | elapsed:    0.1s finished\n",
      "Features: 5/8[Parallel(n_jobs=-1)]: Using backend LokyBackend with 12 concurrent workers.\n",
      "[Parallel(n_jobs=-1)]: Done  24 out of  24 | elapsed:    0.7s finished\n",
      "[Parallel(n_jobs=-1)]: Using backend LokyBackend with 12 concurrent workers.\n",
      "[Parallel(n_jobs=-1)]: Done   5 out of   5 | elapsed:    0.1s finished\n",
      "Features: 6/8[Parallel(n_jobs=-1)]: Using backend LokyBackend with 12 concurrent workers.\n",
      "[Parallel(n_jobs=-1)]: Done  23 out of  23 | elapsed:    0.9s finished\n",
      "[Parallel(n_jobs=-1)]: Using backend LokyBackend with 12 concurrent workers.\n",
      "[Parallel(n_jobs=-1)]: Done   4 out of   6 | elapsed:    0.3s remaining:    0.1s\n",
      "[Parallel(n_jobs=-1)]: Done   6 out of   6 | elapsed:    0.3s finished\n",
      "Features: 7/8[Parallel(n_jobs=-1)]: Using backend LokyBackend with 12 concurrent workers.\n",
      "[Parallel(n_jobs=-1)]: Done  22 out of  22 | elapsed:    0.9s finished\n",
      "[Parallel(n_jobs=-1)]: Using backend LokyBackend with 12 concurrent workers.\n",
      "[Parallel(n_jobs=-1)]: Done   7 out of   7 | elapsed:    0.4s finished\n",
      "Features: 8/8"
     ]
    },
    {
     "name": "stdout",
     "output_type": "stream",
     "text": [
      "Fitting 87 folds for each of 200 candidates, totalling 17400 fits\n",
      "0.0 {'max_depth': 1, 'min_samples_leaf': 1, 'min_samples_split': 2}\n"
     ]
    },
    {
     "name": "stderr",
     "output_type": "stream",
     "text": [
      "[Parallel(n_jobs=-1)]: Using backend LokyBackend with 12 concurrent workers.\n",
      "[Parallel(n_jobs=-1)]: Done  29 out of  29 | elapsed:    1.1s finished\n",
      "Features: 1/9[Parallel(n_jobs=-1)]: Using backend LokyBackend with 12 concurrent workers.\n",
      "[Parallel(n_jobs=-1)]: Done  28 out of  28 | elapsed:    0.7s finished\n",
      "Features: 2/9[Parallel(n_jobs=-1)]: Using backend LokyBackend with 12 concurrent workers.\n",
      "[Parallel(n_jobs=-1)]: Done  27 out of  27 | elapsed:    1.0s finished\n",
      "[Parallel(n_jobs=-1)]: Using backend LokyBackend with 12 concurrent workers.\n",
      "[Parallel(n_jobs=-1)]: Done   2 out of   2 | elapsed:    0.2s finished\n",
      "Features: 3/9[Parallel(n_jobs=-1)]: Using backend LokyBackend with 12 concurrent workers.\n",
      "[Parallel(n_jobs=-1)]: Done  26 out of  26 | elapsed:    0.7s finished\n",
      "[Parallel(n_jobs=-1)]: Using backend LokyBackend with 12 concurrent workers.\n",
      "[Parallel(n_jobs=-1)]: Done   3 out of   3 | elapsed:    0.2s finished\n",
      "Features: 4/9[Parallel(n_jobs=-1)]: Using backend LokyBackend with 12 concurrent workers.\n",
      "[Parallel(n_jobs=-1)]: Done  25 out of  25 | elapsed:    0.7s finished\n",
      "[Parallel(n_jobs=-1)]: Using backend LokyBackend with 12 concurrent workers.\n",
      "[Parallel(n_jobs=-1)]: Done   4 out of   4 | elapsed:    0.1s finished\n",
      "Features: 5/9[Parallel(n_jobs=-1)]: Using backend LokyBackend with 12 concurrent workers.\n",
      "[Parallel(n_jobs=-1)]: Done  24 out of  24 | elapsed:    1.0s finished\n",
      "[Parallel(n_jobs=-1)]: Using backend LokyBackend with 12 concurrent workers.\n",
      "[Parallel(n_jobs=-1)]: Done   5 out of   5 | elapsed:    0.3s finished\n",
      "Features: 6/9[Parallel(n_jobs=-1)]: Using backend LokyBackend with 12 concurrent workers.\n",
      "[Parallel(n_jobs=-1)]: Done  23 out of  23 | elapsed:    0.9s finished\n",
      "[Parallel(n_jobs=-1)]: Using backend LokyBackend with 12 concurrent workers.\n",
      "[Parallel(n_jobs=-1)]: Done   4 out of   6 | elapsed:    0.4s remaining:    0.1s\n",
      "[Parallel(n_jobs=-1)]: Done   6 out of   6 | elapsed:    0.4s finished\n",
      "Features: 7/9[Parallel(n_jobs=-1)]: Using backend LokyBackend with 12 concurrent workers.\n",
      "[Parallel(n_jobs=-1)]: Done  22 out of  22 | elapsed:    0.9s finished\n",
      "[Parallel(n_jobs=-1)]: Using backend LokyBackend with 12 concurrent workers.\n",
      "[Parallel(n_jobs=-1)]: Done   7 out of   7 | elapsed:    0.4s finished\n",
      "Features: 8/9[Parallel(n_jobs=-1)]: Using backend LokyBackend with 12 concurrent workers.\n",
      "[Parallel(n_jobs=-1)]: Done  21 out of  21 | elapsed:    1.1s finished\n",
      "[Parallel(n_jobs=-1)]: Using backend LokyBackend with 12 concurrent workers.\n",
      "[Parallel(n_jobs=-1)]: Done   3 out of   8 | elapsed:    0.3s remaining:    0.6s\n",
      "[Parallel(n_jobs=-1)]: Done   8 out of   8 | elapsed:    0.5s finished\n",
      "Features: 9/9"
     ]
    },
    {
     "name": "stdout",
     "output_type": "stream",
     "text": [
      "Fitting 87 folds for each of 200 candidates, totalling 17400 fits\n",
      "0.0 {'max_depth': 1, 'min_samples_leaf': 1, 'min_samples_split': 2}\n"
     ]
    },
    {
     "name": "stderr",
     "output_type": "stream",
     "text": [
      "[Parallel(n_jobs=-1)]: Using backend LokyBackend with 12 concurrent workers.\n",
      "[Parallel(n_jobs=-1)]: Done  29 out of  29 | elapsed:    0.7s finished\n",
      "Features: 1/10[Parallel(n_jobs=-1)]: Using backend LokyBackend with 12 concurrent workers.\n",
      "[Parallel(n_jobs=-1)]: Done  28 out of  28 | elapsed:    0.7s finished\n",
      "Features: 2/10[Parallel(n_jobs=-1)]: Using backend LokyBackend with 12 concurrent workers.\n",
      "[Parallel(n_jobs=-1)]: Done  27 out of  27 | elapsed:    0.6s finished\n",
      "[Parallel(n_jobs=-1)]: Using backend LokyBackend with 12 concurrent workers.\n",
      "[Parallel(n_jobs=-1)]: Done   2 out of   2 | elapsed:    0.1s finished\n",
      "Features: 3/10[Parallel(n_jobs=-1)]: Using backend LokyBackend with 12 concurrent workers.\n",
      "[Parallel(n_jobs=-1)]: Done  26 out of  26 | elapsed:    0.6s finished\n",
      "[Parallel(n_jobs=-1)]: Using backend LokyBackend with 12 concurrent workers.\n",
      "[Parallel(n_jobs=-1)]: Done   3 out of   3 | elapsed:    0.1s finished\n",
      "Features: 4/10[Parallel(n_jobs=-1)]: Using backend LokyBackend with 12 concurrent workers.\n",
      "[Parallel(n_jobs=-1)]: Done  25 out of  25 | elapsed:    0.6s finished\n",
      "[Parallel(n_jobs=-1)]: Using backend LokyBackend with 12 concurrent workers.\n",
      "[Parallel(n_jobs=-1)]: Done   4 out of   4 | elapsed:    0.1s finished\n",
      "Features: 5/10[Parallel(n_jobs=-1)]: Using backend LokyBackend with 12 concurrent workers.\n",
      "[Parallel(n_jobs=-1)]: Done  24 out of  24 | elapsed:    0.6s finished\n",
      "[Parallel(n_jobs=-1)]: Using backend LokyBackend with 12 concurrent workers.\n",
      "[Parallel(n_jobs=-1)]: Done   5 out of   5 | elapsed:    0.1s finished\n",
      "Features: 6/10[Parallel(n_jobs=-1)]: Using backend LokyBackend with 12 concurrent workers.\n",
      "[Parallel(n_jobs=-1)]: Done  23 out of  23 | elapsed:    0.7s finished\n",
      "[Parallel(n_jobs=-1)]: Using backend LokyBackend with 12 concurrent workers.\n",
      "[Parallel(n_jobs=-1)]: Done   4 out of   6 | elapsed:    0.2s remaining:    0.0s\n",
      "[Parallel(n_jobs=-1)]: Done   6 out of   6 | elapsed:    0.2s finished\n",
      "Features: 7/10[Parallel(n_jobs=-1)]: Using backend LokyBackend with 12 concurrent workers.\n",
      "[Parallel(n_jobs=-1)]: Done  22 out of  22 | elapsed:    0.7s finished\n",
      "[Parallel(n_jobs=-1)]: Using backend LokyBackend with 12 concurrent workers.\n",
      "[Parallel(n_jobs=-1)]: Done   7 out of   7 | elapsed:    0.2s finished\n",
      "Features: 8/10[Parallel(n_jobs=-1)]: Using backend LokyBackend with 12 concurrent workers.\n",
      "[Parallel(n_jobs=-1)]: Done  21 out of  21 | elapsed:    0.8s finished\n",
      "[Parallel(n_jobs=-1)]: Using backend LokyBackend with 12 concurrent workers.\n",
      "[Parallel(n_jobs=-1)]: Done   3 out of   8 | elapsed:    0.2s remaining:    0.5s\n",
      "[Parallel(n_jobs=-1)]: Done   8 out of   8 | elapsed:    0.3s finished\n",
      "Features: 9/10[Parallel(n_jobs=-1)]: Using backend LokyBackend with 12 concurrent workers.\n",
      "[Parallel(n_jobs=-1)]: Done  18 out of  20 | elapsed:    0.8s remaining:    0.0s\n",
      "[Parallel(n_jobs=-1)]: Done  20 out of  20 | elapsed:    0.9s finished\n",
      "[Parallel(n_jobs=-1)]: Using backend LokyBackend with 12 concurrent workers.\n",
      "[Parallel(n_jobs=-1)]: Done   6 out of   9 | elapsed:    0.3s remaining:    0.1s\n",
      "[Parallel(n_jobs=-1)]: Done   9 out of   9 | elapsed:    0.4s finished\n",
      "Features: 10/10"
     ]
    },
    {
     "name": "stdout",
     "output_type": "stream",
     "text": [
      "Fitting 87 folds for each of 200 candidates, totalling 17400 fits\n",
      "0.022988505747126436 {'max_depth': 5, 'min_samples_leaf': 9, 'min_samples_split': 2}\n"
     ]
    },
    {
     "name": "stderr",
     "output_type": "stream",
     "text": [
      "[Parallel(n_jobs=-1)]: Using backend LokyBackend with 12 concurrent workers.\n",
      "[Parallel(n_jobs=-1)]: Done  29 out of  29 | elapsed:    0.5s finished\n",
      "Features: 1/11[Parallel(n_jobs=-1)]: Using backend LokyBackend with 12 concurrent workers.\n",
      "[Parallel(n_jobs=-1)]: Done  28 out of  28 | elapsed:    0.8s finished\n",
      "Features: 2/11[Parallel(n_jobs=-1)]: Using backend LokyBackend with 12 concurrent workers.\n",
      "[Parallel(n_jobs=-1)]: Done  27 out of  27 | elapsed:    0.7s finished\n",
      "[Parallel(n_jobs=-1)]: Using backend LokyBackend with 12 concurrent workers.\n",
      "[Parallel(n_jobs=-1)]: Done   2 out of   2 | elapsed:    0.1s finished\n",
      "Features: 3/11[Parallel(n_jobs=-1)]: Using backend LokyBackend with 12 concurrent workers.\n",
      "[Parallel(n_jobs=-1)]: Done  26 out of  26 | elapsed:    1.6s finished\n",
      "[Parallel(n_jobs=-1)]: Using backend LokyBackend with 12 concurrent workers.\n",
      "[Parallel(n_jobs=-1)]: Done   3 out of   3 | elapsed:    0.2s finished\n",
      "Features: 4/11[Parallel(n_jobs=-1)]: Using backend LokyBackend with 12 concurrent workers.\n",
      "[Parallel(n_jobs=-1)]: Done  25 out of  25 | elapsed:    2.7s finished\n",
      "[Parallel(n_jobs=-1)]: Using backend LokyBackend with 12 concurrent workers.\n",
      "[Parallel(n_jobs=-1)]: Done   4 out of   4 | elapsed:    0.2s finished\n",
      "Features: 5/11[Parallel(n_jobs=-1)]: Using backend LokyBackend with 12 concurrent workers.\n",
      "[Parallel(n_jobs=-1)]: Done  24 out of  24 | elapsed:    0.7s finished\n",
      "[Parallel(n_jobs=-1)]: Using backend LokyBackend with 12 concurrent workers.\n",
      "[Parallel(n_jobs=-1)]: Done   5 out of   5 | elapsed:    0.1s finished\n",
      "Features: 6/11[Parallel(n_jobs=-1)]: Using backend LokyBackend with 12 concurrent workers.\n",
      "[Parallel(n_jobs=-1)]: Done  23 out of  23 | elapsed:    0.7s finished\n",
      "[Parallel(n_jobs=-1)]: Using backend LokyBackend with 12 concurrent workers.\n",
      "[Parallel(n_jobs=-1)]: Done   4 out of   6 | elapsed:    0.1s remaining:    0.0s\n",
      "[Parallel(n_jobs=-1)]: Done   6 out of   6 | elapsed:    0.1s finished\n",
      "Features: 7/11[Parallel(n_jobs=-1)]: Using backend LokyBackend with 12 concurrent workers.\n",
      "[Parallel(n_jobs=-1)]: Done  22 out of  22 | elapsed:    0.8s finished\n",
      "[Parallel(n_jobs=-1)]: Using backend LokyBackend with 12 concurrent workers.\n",
      "[Parallel(n_jobs=-1)]: Done   7 out of   7 | elapsed:    0.3s finished\n",
      "Features: 8/11[Parallel(n_jobs=-1)]: Using backend LokyBackend with 12 concurrent workers.\n",
      "[Parallel(n_jobs=-1)]: Done  21 out of  21 | elapsed:    0.9s finished\n",
      "[Parallel(n_jobs=-1)]: Using backend LokyBackend with 12 concurrent workers.\n",
      "[Parallel(n_jobs=-1)]: Done   3 out of   8 | elapsed:    0.2s remaining:    0.5s\n",
      "[Parallel(n_jobs=-1)]: Done   8 out of   8 | elapsed:    0.3s finished\n",
      "Features: 9/11[Parallel(n_jobs=-1)]: Using backend LokyBackend with 12 concurrent workers.\n",
      "[Parallel(n_jobs=-1)]: Done  18 out of  20 | elapsed:    0.7s remaining:    0.0s\n",
      "[Parallel(n_jobs=-1)]: Done  20 out of  20 | elapsed:    0.8s finished\n",
      "[Parallel(n_jobs=-1)]: Using backend LokyBackend with 12 concurrent workers.\n",
      "[Parallel(n_jobs=-1)]: Done   6 out of   9 | elapsed:    0.3s remaining:    0.1s\n",
      "[Parallel(n_jobs=-1)]: Done   9 out of   9 | elapsed:    0.3s finished\n",
      "Features: 10/11[Parallel(n_jobs=-1)]: Using backend LokyBackend with 12 concurrent workers.\n",
      "[Parallel(n_jobs=-1)]: Done  16 out of  19 | elapsed:    0.8s remaining:    0.1s\n",
      "[Parallel(n_jobs=-1)]: Done  19 out of  19 | elapsed:    0.8s finished\n",
      "[Parallel(n_jobs=-1)]: Using backend LokyBackend with 12 concurrent workers.\n",
      "[Parallel(n_jobs=-1)]: Done  10 out of  10 | elapsed:    0.3s finished\n",
      "Features: 11/11"
     ]
    },
    {
     "name": "stdout",
     "output_type": "stream",
     "text": [
      "Fitting 87 folds for each of 200 candidates, totalling 17400 fits\n",
      "0.0 {'max_depth': 1, 'min_samples_leaf': 1, 'min_samples_split': 2}\n"
     ]
    },
    {
     "name": "stderr",
     "output_type": "stream",
     "text": [
      "[Parallel(n_jobs=-1)]: Using backend LokyBackend with 12 concurrent workers.\n",
      "[Parallel(n_jobs=-1)]: Done  29 out of  29 | elapsed:    0.5s finished\n",
      "Features: 1/12[Parallel(n_jobs=-1)]: Using backend LokyBackend with 12 concurrent workers.\n",
      "[Parallel(n_jobs=-1)]: Done  28 out of  28 | elapsed:    0.6s finished\n",
      "Features: 2/12[Parallel(n_jobs=-1)]: Using backend LokyBackend with 12 concurrent workers.\n",
      "[Parallel(n_jobs=-1)]: Done  27 out of  27 | elapsed:    0.6s finished\n",
      "[Parallel(n_jobs=-1)]: Using backend LokyBackend with 12 concurrent workers.\n",
      "[Parallel(n_jobs=-1)]: Done   2 out of   2 | elapsed:    0.0s finished\n",
      "Features: 3/12[Parallel(n_jobs=-1)]: Using backend LokyBackend with 12 concurrent workers.\n",
      "[Parallel(n_jobs=-1)]: Done  26 out of  26 | elapsed:    0.6s finished\n",
      "[Parallel(n_jobs=-1)]: Using backend LokyBackend with 12 concurrent workers.\n",
      "[Parallel(n_jobs=-1)]: Done   3 out of   3 | elapsed:    0.0s finished\n",
      "Features: 4/12[Parallel(n_jobs=-1)]: Using backend LokyBackend with 12 concurrent workers.\n",
      "[Parallel(n_jobs=-1)]: Done  25 out of  25 | elapsed:    0.5s finished\n",
      "[Parallel(n_jobs=-1)]: Using backend LokyBackend with 12 concurrent workers.\n",
      "[Parallel(n_jobs=-1)]: Done   4 out of   4 | elapsed:    0.1s finished\n",
      "Features: 5/12[Parallel(n_jobs=-1)]: Using backend LokyBackend with 12 concurrent workers.\n",
      "[Parallel(n_jobs=-1)]: Done  24 out of  24 | elapsed:    0.6s finished\n",
      "[Parallel(n_jobs=-1)]: Using backend LokyBackend with 12 concurrent workers.\n",
      "[Parallel(n_jobs=-1)]: Done   5 out of   5 | elapsed:    0.1s finished\n",
      "Features: 6/12[Parallel(n_jobs=-1)]: Using backend LokyBackend with 12 concurrent workers.\n",
      "[Parallel(n_jobs=-1)]: Done  23 out of  23 | elapsed:    0.7s finished\n",
      "[Parallel(n_jobs=-1)]: Using backend LokyBackend with 12 concurrent workers.\n",
      "[Parallel(n_jobs=-1)]: Done   4 out of   6 | elapsed:    0.1s remaining:    0.0s\n",
      "[Parallel(n_jobs=-1)]: Done   6 out of   6 | elapsed:    0.2s finished\n",
      "Features: 7/12[Parallel(n_jobs=-1)]: Using backend LokyBackend with 12 concurrent workers.\n",
      "[Parallel(n_jobs=-1)]: Done  22 out of  22 | elapsed:    0.6s finished\n",
      "[Parallel(n_jobs=-1)]: Using backend LokyBackend with 12 concurrent workers.\n",
      "[Parallel(n_jobs=-1)]: Done   7 out of   7 | elapsed:    0.2s finished\n",
      "Features: 8/12[Parallel(n_jobs=-1)]: Using backend LokyBackend with 12 concurrent workers.\n",
      "[Parallel(n_jobs=-1)]: Done  21 out of  21 | elapsed:    0.8s finished\n",
      "[Parallel(n_jobs=-1)]: Using backend LokyBackend with 12 concurrent workers.\n",
      "[Parallel(n_jobs=-1)]: Done   3 out of   8 | elapsed:    0.2s remaining:    0.4s\n",
      "[Parallel(n_jobs=-1)]: Done   8 out of   8 | elapsed:    0.2s finished\n",
      "Features: 9/12[Parallel(n_jobs=-1)]: Using backend LokyBackend with 12 concurrent workers.\n",
      "[Parallel(n_jobs=-1)]: Done  18 out of  20 | elapsed:    0.6s remaining:    0.0s\n",
      "[Parallel(n_jobs=-1)]: Done  20 out of  20 | elapsed:    0.8s finished\n",
      "[Parallel(n_jobs=-1)]: Using backend LokyBackend with 12 concurrent workers.\n",
      "[Parallel(n_jobs=-1)]: Done   6 out of   9 | elapsed:    0.2s remaining:    0.1s\n",
      "[Parallel(n_jobs=-1)]: Done   9 out of   9 | elapsed:    0.2s finished\n",
      "Features: 10/12[Parallel(n_jobs=-1)]: Using backend LokyBackend with 12 concurrent workers.\n",
      "[Parallel(n_jobs=-1)]: Done  16 out of  19 | elapsed:    0.7s remaining:    0.0s\n",
      "[Parallel(n_jobs=-1)]: Done  19 out of  19 | elapsed:    0.7s finished\n",
      "[Parallel(n_jobs=-1)]: Using backend LokyBackend with 12 concurrent workers.\n",
      "[Parallel(n_jobs=-1)]: Done  10 out of  10 | elapsed:    0.3s finished\n",
      "Features: 11/12[Parallel(n_jobs=-1)]: Using backend LokyBackend with 12 concurrent workers.\n",
      "[Parallel(n_jobs=-1)]: Done  14 out of  18 | elapsed:    0.7s remaining:    0.1s\n",
      "[Parallel(n_jobs=-1)]: Done  18 out of  18 | elapsed:    0.7s finished\n",
      "[Parallel(n_jobs=-1)]: Using backend LokyBackend with 12 concurrent workers.\n",
      "[Parallel(n_jobs=-1)]: Done  11 out of  11 | elapsed:    0.4s finished\n",
      "Features: 12/12"
     ]
    },
    {
     "name": "stdout",
     "output_type": "stream",
     "text": [
      "Fitting 87 folds for each of 200 candidates, totalling 17400 fits\n",
      "0.0 {'max_depth': 1, 'min_samples_leaf': 1, 'min_samples_split': 2}\n"
     ]
    },
    {
     "name": "stderr",
     "output_type": "stream",
     "text": [
      "[Parallel(n_jobs=-1)]: Using backend LokyBackend with 12 concurrent workers.\n",
      "[Parallel(n_jobs=-1)]: Done  29 out of  29 | elapsed:    0.5s finished\n",
      "Features: 1/13[Parallel(n_jobs=-1)]: Using backend LokyBackend with 12 concurrent workers.\n",
      "[Parallel(n_jobs=-1)]: Done  28 out of  28 | elapsed:    0.6s finished\n",
      "Features: 2/13[Parallel(n_jobs=-1)]: Using backend LokyBackend with 12 concurrent workers.\n",
      "[Parallel(n_jobs=-1)]: Done  27 out of  27 | elapsed:    0.6s finished\n",
      "[Parallel(n_jobs=-1)]: Using backend LokyBackend with 12 concurrent workers.\n",
      "[Parallel(n_jobs=-1)]: Done   2 out of   2 | elapsed:    0.0s finished\n",
      "Features: 3/13[Parallel(n_jobs=-1)]: Using backend LokyBackend with 12 concurrent workers.\n",
      "[Parallel(n_jobs=-1)]: Done  26 out of  26 | elapsed:    0.6s finished\n",
      "[Parallel(n_jobs=-1)]: Using backend LokyBackend with 12 concurrent workers.\n",
      "[Parallel(n_jobs=-1)]: Done   3 out of   3 | elapsed:    0.1s finished\n",
      "Features: 4/13[Parallel(n_jobs=-1)]: Using backend LokyBackend with 12 concurrent workers.\n",
      "[Parallel(n_jobs=-1)]: Done  25 out of  25 | elapsed:    0.6s finished\n",
      "[Parallel(n_jobs=-1)]: Using backend LokyBackend with 12 concurrent workers.\n",
      "[Parallel(n_jobs=-1)]: Done   4 out of   4 | elapsed:    0.1s finished\n",
      "Features: 5/13[Parallel(n_jobs=-1)]: Using backend LokyBackend with 12 concurrent workers.\n",
      "[Parallel(n_jobs=-1)]: Done  24 out of  24 | elapsed:    0.6s finished\n",
      "[Parallel(n_jobs=-1)]: Using backend LokyBackend with 12 concurrent workers.\n",
      "[Parallel(n_jobs=-1)]: Done   5 out of   5 | elapsed:    0.1s finished\n",
      "Features: 6/13[Parallel(n_jobs=-1)]: Using backend LokyBackend with 12 concurrent workers.\n",
      "[Parallel(n_jobs=-1)]: Done  23 out of  23 | elapsed:    0.7s finished\n",
      "[Parallel(n_jobs=-1)]: Using backend LokyBackend with 12 concurrent workers.\n",
      "[Parallel(n_jobs=-1)]: Done   4 out of   6 | elapsed:    0.1s remaining:    0.0s\n",
      "[Parallel(n_jobs=-1)]: Done   6 out of   6 | elapsed:    0.1s finished\n",
      "Features: 7/13[Parallel(n_jobs=-1)]: Using backend LokyBackend with 12 concurrent workers.\n",
      "[Parallel(n_jobs=-1)]: Done  22 out of  22 | elapsed:    0.7s finished\n",
      "[Parallel(n_jobs=-1)]: Using backend LokyBackend with 12 concurrent workers.\n",
      "[Parallel(n_jobs=-1)]: Done   7 out of   7 | elapsed:    0.2s finished\n",
      "Features: 8/13[Parallel(n_jobs=-1)]: Using backend LokyBackend with 12 concurrent workers.\n",
      "[Parallel(n_jobs=-1)]: Done  21 out of  21 | elapsed:    0.7s finished\n",
      "[Parallel(n_jobs=-1)]: Using backend LokyBackend with 12 concurrent workers.\n",
      "[Parallel(n_jobs=-1)]: Done   3 out of   8 | elapsed:    0.2s remaining:    0.4s\n",
      "[Parallel(n_jobs=-1)]: Done   8 out of   8 | elapsed:    0.2s finished\n",
      "Features: 9/13[Parallel(n_jobs=-1)]: Using backend LokyBackend with 12 concurrent workers.\n",
      "[Parallel(n_jobs=-1)]: Done  18 out of  20 | elapsed:    0.6s remaining:    0.0s\n",
      "[Parallel(n_jobs=-1)]: Done  20 out of  20 | elapsed:    0.7s finished\n",
      "[Parallel(n_jobs=-1)]: Using backend LokyBackend with 12 concurrent workers.\n",
      "[Parallel(n_jobs=-1)]: Done   6 out of   9 | elapsed:    0.2s remaining:    0.1s\n",
      "[Parallel(n_jobs=-1)]: Done   9 out of   9 | elapsed:    0.2s finished\n",
      "Features: 10/13[Parallel(n_jobs=-1)]: Using backend LokyBackend with 12 concurrent workers.\n",
      "[Parallel(n_jobs=-1)]: Done  16 out of  19 | elapsed:    0.7s remaining:    0.0s\n",
      "[Parallel(n_jobs=-1)]: Done  19 out of  19 | elapsed:    0.7s finished\n",
      "[Parallel(n_jobs=-1)]: Using backend LokyBackend with 12 concurrent workers.\n",
      "[Parallel(n_jobs=-1)]: Done  10 out of  10 | elapsed:    0.3s finished\n",
      "Features: 11/13[Parallel(n_jobs=-1)]: Using backend LokyBackend with 12 concurrent workers.\n",
      "[Parallel(n_jobs=-1)]: Done  14 out of  18 | elapsed:    0.7s remaining:    0.1s\n",
      "[Parallel(n_jobs=-1)]: Done  18 out of  18 | elapsed:    0.7s finished\n",
      "[Parallel(n_jobs=-1)]: Using backend LokyBackend with 12 concurrent workers.\n",
      "[Parallel(n_jobs=-1)]: Done  11 out of  11 | elapsed:    0.4s finished\n",
      "Features: 12/13[Parallel(n_jobs=-1)]: Using backend LokyBackend with 12 concurrent workers.\n",
      "[Parallel(n_jobs=-1)]: Done  12 out of  17 | elapsed:    0.5s remaining:    0.1s\n",
      "[Parallel(n_jobs=-1)]: Done  17 out of  17 | elapsed:    0.7s finished\n",
      "[Parallel(n_jobs=-1)]: Using backend LokyBackend with 12 concurrent workers.\n",
      "[Parallel(n_jobs=-1)]: Done   2 out of  12 | elapsed:    0.3s remaining:    2.0s\n",
      "[Parallel(n_jobs=-1)]: Done  12 out of  12 | elapsed:    0.5s finished\n",
      "Features: 13/13"
     ]
    },
    {
     "name": "stdout",
     "output_type": "stream",
     "text": [
      "Fitting 87 folds for each of 200 candidates, totalling 17400 fits\n",
      "0.0 {'max_depth': 1, 'min_samples_leaf': 1, 'min_samples_split': 2}\n"
     ]
    },
    {
     "name": "stderr",
     "output_type": "stream",
     "text": [
      "[Parallel(n_jobs=-1)]: Using backend LokyBackend with 12 concurrent workers.\n",
      "[Parallel(n_jobs=-1)]: Done  29 out of  29 | elapsed:    0.5s finished\n",
      "Features: 1/14[Parallel(n_jobs=-1)]: Using backend LokyBackend with 12 concurrent workers.\n",
      "[Parallel(n_jobs=-1)]: Done  28 out of  28 | elapsed:    0.7s finished\n",
      "Features: 2/14[Parallel(n_jobs=-1)]: Using backend LokyBackend with 12 concurrent workers.\n",
      "[Parallel(n_jobs=-1)]: Done  27 out of  27 | elapsed:    0.6s finished\n",
      "[Parallel(n_jobs=-1)]: Using backend LokyBackend with 12 concurrent workers.\n",
      "[Parallel(n_jobs=-1)]: Done   2 out of   2 | elapsed:    0.0s finished\n",
      "Features: 3/14[Parallel(n_jobs=-1)]: Using backend LokyBackend with 12 concurrent workers.\n",
      "[Parallel(n_jobs=-1)]: Done  26 out of  26 | elapsed:    0.6s finished\n",
      "[Parallel(n_jobs=-1)]: Using backend LokyBackend with 12 concurrent workers.\n",
      "[Parallel(n_jobs=-1)]: Done   3 out of   3 | elapsed:    0.0s finished\n",
      "Features: 4/14[Parallel(n_jobs=-1)]: Using backend LokyBackend with 12 concurrent workers.\n",
      "[Parallel(n_jobs=-1)]: Done  25 out of  25 | elapsed:    0.5s finished\n",
      "[Parallel(n_jobs=-1)]: Using backend LokyBackend with 12 concurrent workers.\n",
      "[Parallel(n_jobs=-1)]: Done   4 out of   4 | elapsed:    0.1s finished\n",
      "Features: 5/14[Parallel(n_jobs=-1)]: Using backend LokyBackend with 12 concurrent workers.\n",
      "[Parallel(n_jobs=-1)]: Done  24 out of  24 | elapsed:    0.6s finished\n",
      "[Parallel(n_jobs=-1)]: Using backend LokyBackend with 12 concurrent workers.\n",
      "[Parallel(n_jobs=-1)]: Done   5 out of   5 | elapsed:    0.1s finished\n",
      "Features: 6/14[Parallel(n_jobs=-1)]: Using backend LokyBackend with 12 concurrent workers.\n",
      "[Parallel(n_jobs=-1)]: Done  23 out of  23 | elapsed:    0.7s finished\n",
      "[Parallel(n_jobs=-1)]: Using backend LokyBackend with 12 concurrent workers.\n",
      "[Parallel(n_jobs=-1)]: Done   4 out of   6 | elapsed:    0.1s remaining:    0.0s\n",
      "[Parallel(n_jobs=-1)]: Done   6 out of   6 | elapsed:    0.1s finished\n",
      "Features: 7/14[Parallel(n_jobs=-1)]: Using backend LokyBackend with 12 concurrent workers.\n",
      "[Parallel(n_jobs=-1)]: Done  22 out of  22 | elapsed:    0.7s finished\n",
      "[Parallel(n_jobs=-1)]: Using backend LokyBackend with 12 concurrent workers.\n",
      "[Parallel(n_jobs=-1)]: Done   7 out of   7 | elapsed:    0.2s finished\n",
      "Features: 8/14[Parallel(n_jobs=-1)]: Using backend LokyBackend with 12 concurrent workers.\n",
      "[Parallel(n_jobs=-1)]: Done  21 out of  21 | elapsed:    0.7s finished\n",
      "[Parallel(n_jobs=-1)]: Using backend LokyBackend with 12 concurrent workers.\n",
      "[Parallel(n_jobs=-1)]: Done   3 out of   8 | elapsed:    0.2s remaining:    0.4s\n",
      "[Parallel(n_jobs=-1)]: Done   8 out of   8 | elapsed:    0.2s finished\n",
      "Features: 9/14[Parallel(n_jobs=-1)]: Using backend LokyBackend with 12 concurrent workers.\n",
      "[Parallel(n_jobs=-1)]: Done  18 out of  20 | elapsed:    0.6s remaining:    0.0s\n",
      "[Parallel(n_jobs=-1)]: Done  20 out of  20 | elapsed:    0.7s finished\n",
      "[Parallel(n_jobs=-1)]: Using backend LokyBackend with 12 concurrent workers.\n",
      "[Parallel(n_jobs=-1)]: Done   6 out of   9 | elapsed:    0.3s remaining:    0.1s\n",
      "[Parallel(n_jobs=-1)]: Done   9 out of   9 | elapsed:    0.3s finished\n",
      "Features: 10/14[Parallel(n_jobs=-1)]: Using backend LokyBackend with 12 concurrent workers.\n",
      "[Parallel(n_jobs=-1)]: Done  16 out of  19 | elapsed:    0.7s remaining:    0.0s\n",
      "[Parallel(n_jobs=-1)]: Done  19 out of  19 | elapsed:    0.7s finished\n",
      "[Parallel(n_jobs=-1)]: Using backend LokyBackend with 12 concurrent workers.\n",
      "[Parallel(n_jobs=-1)]: Done  10 out of  10 | elapsed:    0.3s finished\n",
      "Features: 11/14[Parallel(n_jobs=-1)]: Using backend LokyBackend with 12 concurrent workers.\n",
      "[Parallel(n_jobs=-1)]: Done  14 out of  18 | elapsed:    0.7s remaining:    0.1s\n",
      "[Parallel(n_jobs=-1)]: Done  18 out of  18 | elapsed:    0.7s finished\n",
      "[Parallel(n_jobs=-1)]: Using backend LokyBackend with 12 concurrent workers.\n",
      "[Parallel(n_jobs=-1)]: Done  11 out of  11 | elapsed:    0.3s finished\n",
      "Features: 12/14[Parallel(n_jobs=-1)]: Using backend LokyBackend with 12 concurrent workers.\n",
      "[Parallel(n_jobs=-1)]: Done  12 out of  17 | elapsed:    0.6s remaining:    0.2s\n",
      "[Parallel(n_jobs=-1)]: Done  17 out of  17 | elapsed:    0.7s finished\n",
      "[Parallel(n_jobs=-1)]: Using backend LokyBackend with 12 concurrent workers.\n",
      "[Parallel(n_jobs=-1)]: Done   2 out of  12 | elapsed:    0.3s remaining:    1.9s\n",
      "[Parallel(n_jobs=-1)]: Done  12 out of  12 | elapsed:    0.4s finished\n",
      "Features: 13/14[Parallel(n_jobs=-1)]: Using backend LokyBackend with 12 concurrent workers.\n",
      "[Parallel(n_jobs=-1)]: Done  10 out of  16 | elapsed:    0.5s remaining:    0.3s\n",
      "[Parallel(n_jobs=-1)]: Done  16 out of  16 | elapsed:    0.8s finished\n",
      "[Parallel(n_jobs=-1)]: Using backend LokyBackend with 12 concurrent workers.\n",
      "[Parallel(n_jobs=-1)]: Done   4 out of  13 | elapsed:    0.3s remaining:    0.9s\n",
      "[Parallel(n_jobs=-1)]: Done  13 out of  13 | elapsed:    0.6s finished\n",
      "[Parallel(n_jobs=-1)]: Using backend LokyBackend with 12 concurrent workers.\n",
      "[Parallel(n_jobs=-1)]: Done   2 out of  12 | elapsed:    0.3s remaining:    2.1s\n",
      "[Parallel(n_jobs=-1)]: Done  12 out of  12 | elapsed:    0.5s finished\n",
      "Features: 13/14[Parallel(n_jobs=-1)]: Using backend LokyBackend with 12 concurrent workers.\n",
      "[Parallel(n_jobs=-1)]: Done  10 out of  16 | elapsed:    0.5s remaining:    0.3s\n",
      "[Parallel(n_jobs=-1)]: Done  16 out of  16 | elapsed:    0.8s finished\n",
      "[Parallel(n_jobs=-1)]: Using backend LokyBackend with 12 concurrent workers.\n",
      "[Parallel(n_jobs=-1)]: Done   4 out of  13 | elapsed:    0.4s remaining:    1.0s\n",
      "[Parallel(n_jobs=-1)]: Done  13 out of  13 | elapsed:    0.7s finished\n",
      "Features: 14/14"
     ]
    },
    {
     "name": "stdout",
     "output_type": "stream",
     "text": [
      "Fitting 87 folds for each of 200 candidates, totalling 17400 fits\n",
      "0.0 {'max_depth': 1, 'min_samples_leaf': 1, 'min_samples_split': 2}\n"
     ]
    },
    {
     "name": "stderr",
     "output_type": "stream",
     "text": [
      "[Parallel(n_jobs=-1)]: Using backend LokyBackend with 12 concurrent workers.\n",
      "[Parallel(n_jobs=-1)]: Done  29 out of  29 | elapsed:    0.6s finished\n",
      "Features: 1/15[Parallel(n_jobs=-1)]: Using backend LokyBackend with 12 concurrent workers.\n",
      "[Parallel(n_jobs=-1)]: Done  28 out of  28 | elapsed:    0.6s finished\n",
      "Features: 2/15[Parallel(n_jobs=-1)]: Using backend LokyBackend with 12 concurrent workers.\n",
      "[Parallel(n_jobs=-1)]: Done  27 out of  27 | elapsed:    0.7s finished\n",
      "[Parallel(n_jobs=-1)]: Using backend LokyBackend with 12 concurrent workers.\n",
      "[Parallel(n_jobs=-1)]: Done   2 out of   2 | elapsed:    0.0s finished\n",
      "Features: 3/15[Parallel(n_jobs=-1)]: Using backend LokyBackend with 12 concurrent workers.\n",
      "[Parallel(n_jobs=-1)]: Done  26 out of  26 | elapsed:    0.6s finished\n",
      "[Parallel(n_jobs=-1)]: Using backend LokyBackend with 12 concurrent workers.\n",
      "[Parallel(n_jobs=-1)]: Done   3 out of   3 | elapsed:    0.0s finished\n",
      "Features: 4/15[Parallel(n_jobs=-1)]: Using backend LokyBackend with 12 concurrent workers.\n",
      "[Parallel(n_jobs=-1)]: Done  25 out of  25 | elapsed:    0.6s finished\n",
      "[Parallel(n_jobs=-1)]: Using backend LokyBackend with 12 concurrent workers.\n",
      "[Parallel(n_jobs=-1)]: Done   4 out of   4 | elapsed:    0.1s finished\n",
      "Features: 5/15[Parallel(n_jobs=-1)]: Using backend LokyBackend with 12 concurrent workers.\n",
      "[Parallel(n_jobs=-1)]: Done  24 out of  24 | elapsed:    0.6s finished\n",
      "[Parallel(n_jobs=-1)]: Using backend LokyBackend with 12 concurrent workers.\n",
      "[Parallel(n_jobs=-1)]: Done   5 out of   5 | elapsed:    0.1s finished\n",
      "Features: 6/15[Parallel(n_jobs=-1)]: Using backend LokyBackend with 12 concurrent workers.\n",
      "[Parallel(n_jobs=-1)]: Done  23 out of  23 | elapsed:    0.7s finished\n",
      "[Parallel(n_jobs=-1)]: Using backend LokyBackend with 12 concurrent workers.\n",
      "[Parallel(n_jobs=-1)]: Done   4 out of   6 | elapsed:    0.1s remaining:    0.0s\n",
      "[Parallel(n_jobs=-1)]: Done   6 out of   6 | elapsed:    0.2s finished\n",
      "Features: 7/15[Parallel(n_jobs=-1)]: Using backend LokyBackend with 12 concurrent workers.\n",
      "[Parallel(n_jobs=-1)]: Done  22 out of  22 | elapsed:    0.7s finished\n",
      "[Parallel(n_jobs=-1)]: Using backend LokyBackend with 12 concurrent workers.\n",
      "[Parallel(n_jobs=-1)]: Done   7 out of   7 | elapsed:    0.2s finished\n",
      "Features: 8/15[Parallel(n_jobs=-1)]: Using backend LokyBackend with 12 concurrent workers.\n",
      "[Parallel(n_jobs=-1)]: Done  21 out of  21 | elapsed:    0.7s finished\n",
      "[Parallel(n_jobs=-1)]: Using backend LokyBackend with 12 concurrent workers.\n",
      "[Parallel(n_jobs=-1)]: Done   3 out of   8 | elapsed:    0.2s remaining:    0.4s\n",
      "[Parallel(n_jobs=-1)]: Done   8 out of   8 | elapsed:    0.2s finished\n",
      "Features: 9/15[Parallel(n_jobs=-1)]: Using backend LokyBackend with 12 concurrent workers.\n",
      "[Parallel(n_jobs=-1)]: Done  18 out of  20 | elapsed:    0.7s remaining:    0.0s\n",
      "[Parallel(n_jobs=-1)]: Done  20 out of  20 | elapsed:    0.7s finished\n",
      "[Parallel(n_jobs=-1)]: Using backend LokyBackend with 12 concurrent workers.\n",
      "[Parallel(n_jobs=-1)]: Done   6 out of   9 | elapsed:    0.2s remaining:    0.1s\n",
      "[Parallel(n_jobs=-1)]: Done   9 out of   9 | elapsed:    0.2s finished\n",
      "Features: 10/15[Parallel(n_jobs=-1)]: Using backend LokyBackend with 12 concurrent workers.\n",
      "[Parallel(n_jobs=-1)]: Done  16 out of  19 | elapsed:    0.7s remaining:    0.0s\n",
      "[Parallel(n_jobs=-1)]: Done  19 out of  19 | elapsed:    0.7s finished\n",
      "[Parallel(n_jobs=-1)]: Using backend LokyBackend with 12 concurrent workers.\n",
      "[Parallel(n_jobs=-1)]: Done  10 out of  10 | elapsed:    0.3s finished\n",
      "Features: 11/15[Parallel(n_jobs=-1)]: Using backend LokyBackend with 12 concurrent workers.\n",
      "[Parallel(n_jobs=-1)]: Done  14 out of  18 | elapsed:    0.7s remaining:    0.1s\n",
      "[Parallel(n_jobs=-1)]: Done  18 out of  18 | elapsed:    0.7s finished\n",
      "[Parallel(n_jobs=-1)]: Using backend LokyBackend with 12 concurrent workers.\n",
      "[Parallel(n_jobs=-1)]: Done  11 out of  11 | elapsed:    0.4s finished\n",
      "Features: 12/15[Parallel(n_jobs=-1)]: Using backend LokyBackend with 12 concurrent workers.\n",
      "[Parallel(n_jobs=-1)]: Done  12 out of  17 | elapsed:    0.6s remaining:    0.2s\n",
      "[Parallel(n_jobs=-1)]: Done  17 out of  17 | elapsed:    0.8s finished\n",
      "[Parallel(n_jobs=-1)]: Using backend LokyBackend with 12 concurrent workers.\n",
      "[Parallel(n_jobs=-1)]: Done   2 out of  12 | elapsed:    0.3s remaining:    1.9s\n",
      "[Parallel(n_jobs=-1)]: Done  12 out of  12 | elapsed:    0.4s finished\n",
      "Features: 13/15[Parallel(n_jobs=-1)]: Using backend LokyBackend with 12 concurrent workers.\n",
      "[Parallel(n_jobs=-1)]: Done  10 out of  16 | elapsed:    0.6s remaining:    0.3s\n",
      "[Parallel(n_jobs=-1)]: Done  16 out of  16 | elapsed:    0.8s finished\n",
      "[Parallel(n_jobs=-1)]: Using backend LokyBackend with 12 concurrent workers.\n",
      "[Parallel(n_jobs=-1)]: Done   4 out of  13 | elapsed:    0.3s remaining:    0.9s\n",
      "[Parallel(n_jobs=-1)]: Done  13 out of  13 | elapsed:    0.6s finished\n",
      "[Parallel(n_jobs=-1)]: Using backend LokyBackend with 12 concurrent workers.\n",
      "[Parallel(n_jobs=-1)]: Done   2 out of  12 | elapsed:    0.3s remaining:    2.0s\n",
      "[Parallel(n_jobs=-1)]: Done  12 out of  12 | elapsed:    0.5s finished\n",
      "Features: 13/15[Parallel(n_jobs=-1)]: Using backend LokyBackend with 12 concurrent workers.\n",
      "[Parallel(n_jobs=-1)]: Done  10 out of  16 | elapsed:    0.5s remaining:    0.3s\n",
      "[Parallel(n_jobs=-1)]: Done  16 out of  16 | elapsed:    0.8s finished\n",
      "[Parallel(n_jobs=-1)]: Using backend LokyBackend with 12 concurrent workers.\n",
      "[Parallel(n_jobs=-1)]: Done   4 out of  13 | elapsed:    0.4s remaining:    1.0s\n",
      "[Parallel(n_jobs=-1)]: Done  13 out of  13 | elapsed:    0.7s finished\n",
      "Features: 14/15[Parallel(n_jobs=-1)]: Using backend LokyBackend with 12 concurrent workers.\n",
      "[Parallel(n_jobs=-1)]: Done   8 out of  15 | elapsed:    0.4s remaining:    0.4s\n",
      "[Parallel(n_jobs=-1)]: Done  15 out of  15 | elapsed:    0.8s finished\n",
      "[Parallel(n_jobs=-1)]: Using backend LokyBackend with 12 concurrent workers.\n",
      "[Parallel(n_jobs=-1)]: Done   6 out of  14 | elapsed:    0.4s remaining:    0.6s\n",
      "[Parallel(n_jobs=-1)]: Done  14 out of  14 | elapsed:    0.7s finished\n",
      "Features: 15/15"
     ]
    },
    {
     "name": "stdout",
     "output_type": "stream",
     "text": [
      "Fitting 87 folds for each of 200 candidates, totalling 17400 fits\n",
      "0.0 {'max_depth': 1, 'min_samples_leaf': 1, 'min_samples_split': 2}\n"
     ]
    },
    {
     "name": "stderr",
     "output_type": "stream",
     "text": [
      "[Parallel(n_jobs=-1)]: Using backend LokyBackend with 12 concurrent workers.\n",
      "[Parallel(n_jobs=-1)]: Done  29 out of  29 | elapsed:    0.5s finished\n",
      "Features: 1/16[Parallel(n_jobs=-1)]: Using backend LokyBackend with 12 concurrent workers.\n",
      "[Parallel(n_jobs=-1)]: Done  28 out of  28 | elapsed:    0.6s finished\n",
      "Features: 2/16[Parallel(n_jobs=-1)]: Using backend LokyBackend with 12 concurrent workers.\n",
      "[Parallel(n_jobs=-1)]: Done  27 out of  27 | elapsed:    0.6s finished\n",
      "[Parallel(n_jobs=-1)]: Using backend LokyBackend with 12 concurrent workers.\n",
      "[Parallel(n_jobs=-1)]: Done   2 out of   2 | elapsed:    0.0s finished\n",
      "Features: 3/16[Parallel(n_jobs=-1)]: Using backend LokyBackend with 12 concurrent workers.\n",
      "[Parallel(n_jobs=-1)]: Done  26 out of  26 | elapsed:    0.6s finished\n",
      "[Parallel(n_jobs=-1)]: Using backend LokyBackend with 12 concurrent workers.\n",
      "[Parallel(n_jobs=-1)]: Done   3 out of   3 | elapsed:    0.0s finished\n",
      "Features: 4/16[Parallel(n_jobs=-1)]: Using backend LokyBackend with 12 concurrent workers.\n",
      "[Parallel(n_jobs=-1)]: Done  25 out of  25 | elapsed:    0.6s finished\n",
      "[Parallel(n_jobs=-1)]: Using backend LokyBackend with 12 concurrent workers.\n",
      "[Parallel(n_jobs=-1)]: Done   4 out of   4 | elapsed:    0.1s finished\n",
      "Features: 5/16[Parallel(n_jobs=-1)]: Using backend LokyBackend with 12 concurrent workers.\n",
      "[Parallel(n_jobs=-1)]: Done  24 out of  24 | elapsed:    0.6s finished\n",
      "[Parallel(n_jobs=-1)]: Using backend LokyBackend with 12 concurrent workers.\n",
      "[Parallel(n_jobs=-1)]: Done   5 out of   5 | elapsed:    0.1s finished\n",
      "Features: 6/16[Parallel(n_jobs=-1)]: Using backend LokyBackend with 12 concurrent workers.\n",
      "[Parallel(n_jobs=-1)]: Done  23 out of  23 | elapsed:    0.6s finished\n",
      "[Parallel(n_jobs=-1)]: Using backend LokyBackend with 12 concurrent workers.\n",
      "[Parallel(n_jobs=-1)]: Done   4 out of   6 | elapsed:    0.1s remaining:    0.0s\n",
      "[Parallel(n_jobs=-1)]: Done   6 out of   6 | elapsed:    0.1s finished\n",
      "Features: 7/16[Parallel(n_jobs=-1)]: Using backend LokyBackend with 12 concurrent workers.\n",
      "[Parallel(n_jobs=-1)]: Done  22 out of  22 | elapsed:    0.8s finished\n",
      "[Parallel(n_jobs=-1)]: Using backend LokyBackend with 12 concurrent workers.\n",
      "[Parallel(n_jobs=-1)]: Done   7 out of   7 | elapsed:    0.2s finished\n",
      "Features: 8/16[Parallel(n_jobs=-1)]: Using backend LokyBackend with 12 concurrent workers.\n",
      "[Parallel(n_jobs=-1)]: Done  21 out of  21 | elapsed:    0.7s finished\n",
      "[Parallel(n_jobs=-1)]: Using backend LokyBackend with 12 concurrent workers.\n",
      "[Parallel(n_jobs=-1)]: Done   3 out of   8 | elapsed:    0.2s remaining:    0.4s\n",
      "[Parallel(n_jobs=-1)]: Done   8 out of   8 | elapsed:    0.2s finished\n",
      "Features: 9/16[Parallel(n_jobs=-1)]: Using backend LokyBackend with 12 concurrent workers.\n",
      "[Parallel(n_jobs=-1)]: Done  18 out of  20 | elapsed:    0.6s remaining:    0.0s\n",
      "[Parallel(n_jobs=-1)]: Done  20 out of  20 | elapsed:    0.7s finished\n",
      "[Parallel(n_jobs=-1)]: Using backend LokyBackend with 12 concurrent workers.\n",
      "[Parallel(n_jobs=-1)]: Done   6 out of   9 | elapsed:    0.2s remaining:    0.1s\n",
      "[Parallel(n_jobs=-1)]: Done   9 out of   9 | elapsed:    0.3s finished\n",
      "Features: 10/16[Parallel(n_jobs=-1)]: Using backend LokyBackend with 12 concurrent workers.\n",
      "[Parallel(n_jobs=-1)]: Done  16 out of  19 | elapsed:    0.7s remaining:    0.0s\n",
      "[Parallel(n_jobs=-1)]: Done  19 out of  19 | elapsed:    0.7s finished\n",
      "[Parallel(n_jobs=-1)]: Using backend LokyBackend with 12 concurrent workers.\n",
      "[Parallel(n_jobs=-1)]: Done  10 out of  10 | elapsed:    0.3s finished\n",
      "Features: 11/16[Parallel(n_jobs=-1)]: Using backend LokyBackend with 12 concurrent workers.\n",
      "[Parallel(n_jobs=-1)]: Done  14 out of  18 | elapsed:    0.7s remaining:    0.1s\n",
      "[Parallel(n_jobs=-1)]: Done  18 out of  18 | elapsed:    0.7s finished\n",
      "[Parallel(n_jobs=-1)]: Using backend LokyBackend with 12 concurrent workers.\n",
      "[Parallel(n_jobs=-1)]: Done  11 out of  11 | elapsed:    0.3s finished\n",
      "Features: 12/16[Parallel(n_jobs=-1)]: Using backend LokyBackend with 12 concurrent workers.\n",
      "[Parallel(n_jobs=-1)]: Done  12 out of  17 | elapsed:    0.6s remaining:    0.2s\n",
      "[Parallel(n_jobs=-1)]: Done  17 out of  17 | elapsed:    0.8s finished\n",
      "[Parallel(n_jobs=-1)]: Using backend LokyBackend with 12 concurrent workers.\n",
      "[Parallel(n_jobs=-1)]: Done   2 out of  12 | elapsed:    0.3s remaining:    1.9s\n",
      "[Parallel(n_jobs=-1)]: Done  12 out of  12 | elapsed:    0.4s finished\n",
      "Features: 13/16[Parallel(n_jobs=-1)]: Using backend LokyBackend with 12 concurrent workers.\n",
      "[Parallel(n_jobs=-1)]: Done  10 out of  16 | elapsed:    0.5s remaining:    0.3s\n",
      "[Parallel(n_jobs=-1)]: Done  16 out of  16 | elapsed:    0.7s finished\n",
      "[Parallel(n_jobs=-1)]: Using backend LokyBackend with 12 concurrent workers.\n",
      "[Parallel(n_jobs=-1)]: Done   4 out of  13 | elapsed:    0.4s remaining:    0.9s\n",
      "[Parallel(n_jobs=-1)]: Done  13 out of  13 | elapsed:    0.6s finished\n",
      "[Parallel(n_jobs=-1)]: Using backend LokyBackend with 12 concurrent workers.\n",
      "[Parallel(n_jobs=-1)]: Done   2 out of  12 | elapsed:    0.3s remaining:    2.1s\n",
      "[Parallel(n_jobs=-1)]: Done  12 out of  12 | elapsed:    0.5s finished\n",
      "Features: 13/16[Parallel(n_jobs=-1)]: Using backend LokyBackend with 12 concurrent workers.\n",
      "[Parallel(n_jobs=-1)]: Done  10 out of  16 | elapsed:    0.6s remaining:    0.3s\n",
      "[Parallel(n_jobs=-1)]: Done  16 out of  16 | elapsed:    0.8s finished\n",
      "[Parallel(n_jobs=-1)]: Using backend LokyBackend with 12 concurrent workers.\n",
      "[Parallel(n_jobs=-1)]: Done   4 out of  13 | elapsed:    0.4s remaining:    1.0s\n",
      "[Parallel(n_jobs=-1)]: Done  13 out of  13 | elapsed:    0.7s finished\n",
      "Features: 14/16[Parallel(n_jobs=-1)]: Using backend LokyBackend with 12 concurrent workers.\n",
      "[Parallel(n_jobs=-1)]: Done   8 out of  15 | elapsed:    0.5s remaining:    0.4s\n",
      "[Parallel(n_jobs=-1)]: Done  15 out of  15 | elapsed:    0.8s finished\n",
      "[Parallel(n_jobs=-1)]: Using backend LokyBackend with 12 concurrent workers.\n",
      "[Parallel(n_jobs=-1)]: Done   6 out of  14 | elapsed:    0.4s remaining:    0.5s\n",
      "[Parallel(n_jobs=-1)]: Done  14 out of  14 | elapsed:    0.7s finished\n",
      "Features: 15/16[Parallel(n_jobs=-1)]: Using backend LokyBackend with 12 concurrent workers.\n",
      "[Parallel(n_jobs=-1)]: Done   6 out of  14 | elapsed:    0.4s remaining:    0.6s\n",
      "[Parallel(n_jobs=-1)]: Done  14 out of  14 | elapsed:    0.8s finished\n",
      "[Parallel(n_jobs=-1)]: Using backend LokyBackend with 12 concurrent workers.\n",
      "[Parallel(n_jobs=-1)]: Done   8 out of  15 | elapsed:    0.4s remaining:    0.3s\n",
      "[Parallel(n_jobs=-1)]: Done  15 out of  15 | elapsed:    0.8s finished\n",
      "Features: 16/16"
     ]
    },
    {
     "name": "stdout",
     "output_type": "stream",
     "text": [
      "Fitting 87 folds for each of 200 candidates, totalling 17400 fits\n",
      "0.0 {'max_depth': 1, 'min_samples_leaf': 1, 'min_samples_split': 2}\n"
     ]
    },
    {
     "name": "stderr",
     "output_type": "stream",
     "text": [
      "[Parallel(n_jobs=-1)]: Using backend LokyBackend with 12 concurrent workers.\n",
      "[Parallel(n_jobs=-1)]: Done  29 out of  29 | elapsed:    0.5s finished\n",
      "Features: 1/17[Parallel(n_jobs=-1)]: Using backend LokyBackend with 12 concurrent workers.\n",
      "[Parallel(n_jobs=-1)]: Done  28 out of  28 | elapsed:    0.6s finished\n",
      "Features: 2/17[Parallel(n_jobs=-1)]: Using backend LokyBackend with 12 concurrent workers.\n",
      "[Parallel(n_jobs=-1)]: Done  27 out of  27 | elapsed:    0.6s finished\n",
      "[Parallel(n_jobs=-1)]: Using backend LokyBackend with 12 concurrent workers.\n",
      "[Parallel(n_jobs=-1)]: Done   2 out of   2 | elapsed:    0.0s finished\n",
      "Features: 3/17[Parallel(n_jobs=-1)]: Using backend LokyBackend with 12 concurrent workers.\n",
      "[Parallel(n_jobs=-1)]: Done  26 out of  26 | elapsed:    0.6s finished\n",
      "[Parallel(n_jobs=-1)]: Using backend LokyBackend with 12 concurrent workers.\n",
      "[Parallel(n_jobs=-1)]: Done   3 out of   3 | elapsed:    0.1s finished\n",
      "Features: 4/17[Parallel(n_jobs=-1)]: Using backend LokyBackend with 12 concurrent workers.\n",
      "[Parallel(n_jobs=-1)]: Done  25 out of  25 | elapsed:    0.6s finished\n",
      "[Parallel(n_jobs=-1)]: Using backend LokyBackend with 12 concurrent workers.\n",
      "[Parallel(n_jobs=-1)]: Done   4 out of   4 | elapsed:    0.1s finished\n",
      "Features: 5/17[Parallel(n_jobs=-1)]: Using backend LokyBackend with 12 concurrent workers.\n",
      "[Parallel(n_jobs=-1)]: Done  24 out of  24 | elapsed:    0.6s finished\n",
      "[Parallel(n_jobs=-1)]: Using backend LokyBackend with 12 concurrent workers.\n",
      "[Parallel(n_jobs=-1)]: Done   5 out of   5 | elapsed:    0.1s finished\n",
      "Features: 6/17[Parallel(n_jobs=-1)]: Using backend LokyBackend with 12 concurrent workers.\n",
      "[Parallel(n_jobs=-1)]: Done  23 out of  23 | elapsed:    0.7s finished\n",
      "[Parallel(n_jobs=-1)]: Using backend LokyBackend with 12 concurrent workers.\n",
      "[Parallel(n_jobs=-1)]: Done   4 out of   6 | elapsed:    0.1s remaining:    0.0s\n",
      "[Parallel(n_jobs=-1)]: Done   6 out of   6 | elapsed:    0.1s finished\n",
      "Features: 7/17[Parallel(n_jobs=-1)]: Using backend LokyBackend with 12 concurrent workers.\n",
      "[Parallel(n_jobs=-1)]: Done  22 out of  22 | elapsed:    0.7s finished\n",
      "[Parallel(n_jobs=-1)]: Using backend LokyBackend with 12 concurrent workers.\n",
      "[Parallel(n_jobs=-1)]: Done   7 out of   7 | elapsed:    0.2s finished\n",
      "Features: 8/17[Parallel(n_jobs=-1)]: Using backend LokyBackend with 12 concurrent workers.\n",
      "[Parallel(n_jobs=-1)]: Done  21 out of  21 | elapsed:    0.7s finished\n",
      "[Parallel(n_jobs=-1)]: Using backend LokyBackend with 12 concurrent workers.\n",
      "[Parallel(n_jobs=-1)]: Done   3 out of   8 | elapsed:    0.2s remaining:    0.4s\n",
      "[Parallel(n_jobs=-1)]: Done   8 out of   8 | elapsed:    0.2s finished\n",
      "Features: 9/17[Parallel(n_jobs=-1)]: Using backend LokyBackend with 12 concurrent workers.\n",
      "[Parallel(n_jobs=-1)]: Done  18 out of  20 | elapsed:    0.6s remaining:    0.0s\n",
      "[Parallel(n_jobs=-1)]: Done  20 out of  20 | elapsed:    0.7s finished\n",
      "[Parallel(n_jobs=-1)]: Using backend LokyBackend with 12 concurrent workers.\n",
      "[Parallel(n_jobs=-1)]: Done   6 out of   9 | elapsed:    0.2s remaining:    0.1s\n",
      "[Parallel(n_jobs=-1)]: Done   9 out of   9 | elapsed:    0.3s finished\n",
      "Features: 10/17[Parallel(n_jobs=-1)]: Using backend LokyBackend with 12 concurrent workers.\n",
      "[Parallel(n_jobs=-1)]: Done  16 out of  19 | elapsed:    0.7s remaining:    0.0s\n",
      "[Parallel(n_jobs=-1)]: Done  19 out of  19 | elapsed:    0.7s finished\n",
      "[Parallel(n_jobs=-1)]: Using backend LokyBackend with 12 concurrent workers.\n",
      "[Parallel(n_jobs=-1)]: Done  10 out of  10 | elapsed:    0.3s finished\n",
      "Features: 11/17[Parallel(n_jobs=-1)]: Using backend LokyBackend with 12 concurrent workers.\n",
      "[Parallel(n_jobs=-1)]: Done  14 out of  18 | elapsed:    0.7s remaining:    0.1s\n",
      "[Parallel(n_jobs=-1)]: Done  18 out of  18 | elapsed:    0.7s finished\n",
      "[Parallel(n_jobs=-1)]: Using backend LokyBackend with 12 concurrent workers.\n",
      "[Parallel(n_jobs=-1)]: Done  11 out of  11 | elapsed:    0.4s finished\n",
      "Features: 12/17[Parallel(n_jobs=-1)]: Using backend LokyBackend with 12 concurrent workers.\n",
      "[Parallel(n_jobs=-1)]: Done  12 out of  17 | elapsed:    0.5s remaining:    0.2s\n",
      "[Parallel(n_jobs=-1)]: Done  17 out of  17 | elapsed:    0.7s finished\n",
      "[Parallel(n_jobs=-1)]: Using backend LokyBackend with 12 concurrent workers.\n",
      "[Parallel(n_jobs=-1)]: Done   2 out of  12 | elapsed:    0.3s remaining:    2.0s\n",
      "[Parallel(n_jobs=-1)]: Done  12 out of  12 | elapsed:    0.4s finished\n",
      "Features: 13/17[Parallel(n_jobs=-1)]: Using backend LokyBackend with 12 concurrent workers.\n",
      "[Parallel(n_jobs=-1)]: Done  10 out of  16 | elapsed:    0.5s remaining:    0.2s\n",
      "[Parallel(n_jobs=-1)]: Done  16 out of  16 | elapsed:    0.7s finished\n",
      "[Parallel(n_jobs=-1)]: Using backend LokyBackend with 12 concurrent workers.\n",
      "[Parallel(n_jobs=-1)]: Done   4 out of  13 | elapsed:    0.3s remaining:    0.9s\n",
      "[Parallel(n_jobs=-1)]: Done  13 out of  13 | elapsed:    0.7s finished\n",
      "[Parallel(n_jobs=-1)]: Using backend LokyBackend with 12 concurrent workers.\n",
      "[Parallel(n_jobs=-1)]: Done   2 out of  12 | elapsed:    0.3s remaining:    2.0s\n",
      "[Parallel(n_jobs=-1)]: Done  12 out of  12 | elapsed:    0.5s finished\n",
      "Features: 13/17[Parallel(n_jobs=-1)]: Using backend LokyBackend with 12 concurrent workers.\n",
      "[Parallel(n_jobs=-1)]: Done  10 out of  16 | elapsed:    0.5s remaining:    0.3s\n",
      "[Parallel(n_jobs=-1)]: Done  16 out of  16 | elapsed:    0.8s finished\n",
      "[Parallel(n_jobs=-1)]: Using backend LokyBackend with 12 concurrent workers.\n",
      "[Parallel(n_jobs=-1)]: Done   4 out of  13 | elapsed:    0.4s remaining:    1.0s\n",
      "[Parallel(n_jobs=-1)]: Done  13 out of  13 | elapsed:    0.7s finished\n",
      "Features: 14/17[Parallel(n_jobs=-1)]: Using backend LokyBackend with 12 concurrent workers.\n",
      "[Parallel(n_jobs=-1)]: Done   8 out of  15 | elapsed:    0.5s remaining:    0.5s\n",
      "[Parallel(n_jobs=-1)]: Done  15 out of  15 | elapsed:    0.8s finished\n",
      "[Parallel(n_jobs=-1)]: Using backend LokyBackend with 12 concurrent workers.\n",
      "[Parallel(n_jobs=-1)]: Done   6 out of  14 | elapsed:    0.4s remaining:    0.5s\n",
      "[Parallel(n_jobs=-1)]: Done  14 out of  14 | elapsed:    0.7s finished\n",
      "Features: 15/17[Parallel(n_jobs=-1)]: Using backend LokyBackend with 12 concurrent workers.\n",
      "[Parallel(n_jobs=-1)]: Done   6 out of  14 | elapsed:    0.4s remaining:    0.6s\n",
      "[Parallel(n_jobs=-1)]: Done  14 out of  14 | elapsed:    0.8s finished\n",
      "[Parallel(n_jobs=-1)]: Using backend LokyBackend with 12 concurrent workers.\n",
      "[Parallel(n_jobs=-1)]: Done   8 out of  15 | elapsed:    0.4s remaining:    0.4s\n",
      "[Parallel(n_jobs=-1)]: Done  15 out of  15 | elapsed:    0.8s finished\n",
      "Features: 16/17[Parallel(n_jobs=-1)]: Using backend LokyBackend with 12 concurrent workers.\n",
      "[Parallel(n_jobs=-1)]: Done   4 out of  13 | elapsed:    0.5s remaining:    1.1s\n",
      "[Parallel(n_jobs=-1)]: Done  13 out of  13 | elapsed:    0.8s finished\n",
      "[Parallel(n_jobs=-1)]: Using backend LokyBackend with 12 concurrent workers.\n",
      "[Parallel(n_jobs=-1)]: Done  10 out of  16 | elapsed:    0.5s remaining:    0.3s\n",
      "[Parallel(n_jobs=-1)]: Done  16 out of  16 | elapsed:    0.8s finished\n",
      "Features: 17/17"
     ]
    },
    {
     "name": "stdout",
     "output_type": "stream",
     "text": [
      "Fitting 87 folds for each of 200 candidates, totalling 17400 fits\n",
      "0.0 {'max_depth': 1, 'min_samples_leaf': 1, 'min_samples_split': 2}\n"
     ]
    },
    {
     "name": "stderr",
     "output_type": "stream",
     "text": [
      "[Parallel(n_jobs=-1)]: Using backend LokyBackend with 12 concurrent workers.\n",
      "[Parallel(n_jobs=-1)]: Done  29 out of  29 | elapsed:    0.5s finished\n",
      "Features: 1/18[Parallel(n_jobs=-1)]: Using backend LokyBackend with 12 concurrent workers.\n",
      "[Parallel(n_jobs=-1)]: Done  28 out of  28 | elapsed:    0.6s finished\n",
      "Features: 2/18[Parallel(n_jobs=-1)]: Using backend LokyBackend with 12 concurrent workers.\n",
      "[Parallel(n_jobs=-1)]: Done  27 out of  27 | elapsed:    0.6s finished\n",
      "[Parallel(n_jobs=-1)]: Using backend LokyBackend with 12 concurrent workers.\n",
      "[Parallel(n_jobs=-1)]: Done   2 out of   2 | elapsed:    0.0s finished\n",
      "Features: 3/18[Parallel(n_jobs=-1)]: Using backend LokyBackend with 12 concurrent workers.\n",
      "[Parallel(n_jobs=-1)]: Done  26 out of  26 | elapsed:    0.6s finished\n",
      "[Parallel(n_jobs=-1)]: Using backend LokyBackend with 12 concurrent workers.\n",
      "[Parallel(n_jobs=-1)]: Done   3 out of   3 | elapsed:    0.0s finished\n",
      "Features: 4/18[Parallel(n_jobs=-1)]: Using backend LokyBackend with 12 concurrent workers.\n",
      "[Parallel(n_jobs=-1)]: Done  25 out of  25 | elapsed:    0.6s finished\n",
      "[Parallel(n_jobs=-1)]: Using backend LokyBackend with 12 concurrent workers.\n",
      "[Parallel(n_jobs=-1)]: Done   4 out of   4 | elapsed:    0.1s finished\n",
      "Features: 5/18[Parallel(n_jobs=-1)]: Using backend LokyBackend with 12 concurrent workers.\n",
      "[Parallel(n_jobs=-1)]: Done  24 out of  24 | elapsed:    0.7s finished\n",
      "[Parallel(n_jobs=-1)]: Using backend LokyBackend with 12 concurrent workers.\n",
      "[Parallel(n_jobs=-1)]: Done   5 out of   5 | elapsed:    0.1s finished\n",
      "Features: 6/18[Parallel(n_jobs=-1)]: Using backend LokyBackend with 12 concurrent workers.\n",
      "[Parallel(n_jobs=-1)]: Done  23 out of  23 | elapsed:    0.8s finished\n",
      "[Parallel(n_jobs=-1)]: Using backend LokyBackend with 12 concurrent workers.\n",
      "[Parallel(n_jobs=-1)]: Done   4 out of   6 | elapsed:    0.2s remaining:    0.0s\n",
      "[Parallel(n_jobs=-1)]: Done   6 out of   6 | elapsed:    0.2s finished\n",
      "Features: 7/18[Parallel(n_jobs=-1)]: Using backend LokyBackend with 12 concurrent workers.\n",
      "[Parallel(n_jobs=-1)]: Done  22 out of  22 | elapsed:    0.9s finished\n",
      "[Parallel(n_jobs=-1)]: Using backend LokyBackend with 12 concurrent workers.\n",
      "[Parallel(n_jobs=-1)]: Done   7 out of   7 | elapsed:    0.3s finished\n",
      "Features: 8/18[Parallel(n_jobs=-1)]: Using backend LokyBackend with 12 concurrent workers.\n",
      "[Parallel(n_jobs=-1)]: Done  21 out of  21 | elapsed:    0.8s finished\n",
      "[Parallel(n_jobs=-1)]: Using backend LokyBackend with 12 concurrent workers.\n",
      "[Parallel(n_jobs=-1)]: Done   3 out of   8 | elapsed:    0.3s remaining:    0.6s\n",
      "[Parallel(n_jobs=-1)]: Done   8 out of   8 | elapsed:    0.4s finished\n",
      "Features: 9/18[Parallel(n_jobs=-1)]: Using backend LokyBackend with 12 concurrent workers.\n",
      "[Parallel(n_jobs=-1)]: Done  18 out of  20 | elapsed:    0.7s remaining:    0.0s\n",
      "[Parallel(n_jobs=-1)]: Done  20 out of  20 | elapsed:    0.8s finished\n",
      "[Parallel(n_jobs=-1)]: Using backend LokyBackend with 12 concurrent workers.\n",
      "[Parallel(n_jobs=-1)]: Done   6 out of   9 | elapsed:    0.4s remaining:    0.1s\n",
      "[Parallel(n_jobs=-1)]: Done   9 out of   9 | elapsed:    0.4s finished\n",
      "Features: 10/18[Parallel(n_jobs=-1)]: Using backend LokyBackend with 12 concurrent workers.\n",
      "[Parallel(n_jobs=-1)]: Done  16 out of  19 | elapsed:    0.7s remaining:    0.1s\n",
      "[Parallel(n_jobs=-1)]: Done  19 out of  19 | elapsed:    0.8s finished\n",
      "[Parallel(n_jobs=-1)]: Using backend LokyBackend with 12 concurrent workers.\n",
      "[Parallel(n_jobs=-1)]: Done  10 out of  10 | elapsed:    0.4s finished\n",
      "Features: 11/18[Parallel(n_jobs=-1)]: Using backend LokyBackend with 12 concurrent workers.\n",
      "[Parallel(n_jobs=-1)]: Done  14 out of  18 | elapsed:    0.8s remaining:    0.1s\n",
      "[Parallel(n_jobs=-1)]: Done  18 out of  18 | elapsed:    0.8s finished\n",
      "[Parallel(n_jobs=-1)]: Using backend LokyBackend with 12 concurrent workers.\n",
      "[Parallel(n_jobs=-1)]: Done  11 out of  11 | elapsed:    0.5s finished\n",
      "Features: 12/18[Parallel(n_jobs=-1)]: Using backend LokyBackend with 12 concurrent workers.\n",
      "[Parallel(n_jobs=-1)]: Done  12 out of  17 | elapsed:    0.7s remaining:    0.2s\n",
      "[Parallel(n_jobs=-1)]: Done  17 out of  17 | elapsed:    1.0s finished\n",
      "[Parallel(n_jobs=-1)]: Using backend LokyBackend with 12 concurrent workers.\n",
      "[Parallel(n_jobs=-1)]: Done   2 out of  12 | elapsed:    0.4s remaining:    2.6s\n",
      "[Parallel(n_jobs=-1)]: Done  12 out of  12 | elapsed:    0.5s finished\n",
      "Features: 13/18[Parallel(n_jobs=-1)]: Using backend LokyBackend with 12 concurrent workers.\n",
      "[Parallel(n_jobs=-1)]: Done  10 out of  16 | elapsed:    0.8s remaining:    0.4s\n",
      "[Parallel(n_jobs=-1)]: Done  16 out of  16 | elapsed:    1.0s finished\n",
      "[Parallel(n_jobs=-1)]: Using backend LokyBackend with 12 concurrent workers.\n",
      "[Parallel(n_jobs=-1)]: Done   4 out of  13 | elapsed:    0.4s remaining:    1.0s\n",
      "[Parallel(n_jobs=-1)]: Done  13 out of  13 | elapsed:    0.8s finished\n",
      "[Parallel(n_jobs=-1)]: Using backend LokyBackend with 12 concurrent workers.\n",
      "[Parallel(n_jobs=-1)]: Done   2 out of  12 | elapsed:    0.4s remaining:    2.4s\n",
      "[Parallel(n_jobs=-1)]: Done  12 out of  12 | elapsed:    0.7s finished\n",
      "Features: 13/18[Parallel(n_jobs=-1)]: Using backend LokyBackend with 12 concurrent workers.\n",
      "[Parallel(n_jobs=-1)]: Done  10 out of  16 | elapsed:    2.4s remaining:    1.4s\n",
      "[Parallel(n_jobs=-1)]: Done  16 out of  16 | elapsed:    3.5s finished\n",
      "[Parallel(n_jobs=-1)]: Using backend LokyBackend with 12 concurrent workers.\n",
      "[Parallel(n_jobs=-1)]: Done   4 out of  13 | elapsed:    2.4s remaining:    5.5s\n",
      "[Parallel(n_jobs=-1)]: Done  13 out of  13 | elapsed:    2.7s finished\n",
      "Features: 14/18[Parallel(n_jobs=-1)]: Using backend LokyBackend with 12 concurrent workers.\n",
      "[Parallel(n_jobs=-1)]: Done   8 out of  15 | elapsed:    0.6s remaining:    0.5s\n",
      "[Parallel(n_jobs=-1)]: Done  15 out of  15 | elapsed:    0.9s finished\n",
      "[Parallel(n_jobs=-1)]: Using backend LokyBackend with 12 concurrent workers.\n",
      "[Parallel(n_jobs=-1)]: Done   6 out of  14 | elapsed:    0.4s remaining:    0.6s\n",
      "[Parallel(n_jobs=-1)]: Done  14 out of  14 | elapsed:    0.8s finished\n",
      "Features: 15/18[Parallel(n_jobs=-1)]: Using backend LokyBackend with 12 concurrent workers.\n",
      "[Parallel(n_jobs=-1)]: Done   6 out of  14 | elapsed:    0.5s remaining:    0.8s\n",
      "[Parallel(n_jobs=-1)]: Done  14 out of  14 | elapsed:    0.9s finished\n",
      "[Parallel(n_jobs=-1)]: Using backend LokyBackend with 12 concurrent workers.\n",
      "[Parallel(n_jobs=-1)]: Done   8 out of  15 | elapsed:    0.6s remaining:    0.5s\n",
      "[Parallel(n_jobs=-1)]: Done  15 out of  15 | elapsed:    0.9s finished\n",
      "Features: 16/18[Parallel(n_jobs=-1)]: Using backend LokyBackend with 12 concurrent workers.\n",
      "[Parallel(n_jobs=-1)]: Done   4 out of  13 | elapsed:    0.5s remaining:    1.3s\n",
      "[Parallel(n_jobs=-1)]: Done  13 out of  13 | elapsed:    0.9s finished\n",
      "[Parallel(n_jobs=-1)]: Using backend LokyBackend with 12 concurrent workers.\n",
      "[Parallel(n_jobs=-1)]: Done  10 out of  16 | elapsed:    0.7s remaining:    0.4s\n",
      "[Parallel(n_jobs=-1)]: Done  16 out of  16 | elapsed:    0.9s finished\n",
      "Features: 17/18[Parallel(n_jobs=-1)]: Using backend LokyBackend with 12 concurrent workers.\n",
      "[Parallel(n_jobs=-1)]: Done   2 out of  12 | elapsed:    0.5s remaining:    3.0s\n",
      "[Parallel(n_jobs=-1)]: Done  12 out of  12 | elapsed:    0.7s finished\n",
      "[Parallel(n_jobs=-1)]: Using backend LokyBackend with 12 concurrent workers.\n",
      "[Parallel(n_jobs=-1)]: Done  12 out of  17 | elapsed:    0.6s remaining:    0.2s\n",
      "[Parallel(n_jobs=-1)]: Done  17 out of  17 | elapsed:    1.0s finished\n",
      "Features: 18/18"
     ]
    },
    {
     "name": "stdout",
     "output_type": "stream",
     "text": [
      "Fitting 87 folds for each of 200 candidates, totalling 17400 fits\n",
      "0.011494252873563218 {'max_depth': 4, 'min_samples_leaf': 10, 'min_samples_split': 2}\n"
     ]
    },
    {
     "name": "stderr",
     "output_type": "stream",
     "text": [
      "[Parallel(n_jobs=-1)]: Using backend LokyBackend with 12 concurrent workers.\n",
      "[Parallel(n_jobs=-1)]: Done  29 out of  29 | elapsed:    0.5s finished\n",
      "Features: 1/19[Parallel(n_jobs=-1)]: Using backend LokyBackend with 12 concurrent workers.\n",
      "[Parallel(n_jobs=-1)]: Done  28 out of  28 | elapsed:    0.6s finished\n",
      "Features: 2/19[Parallel(n_jobs=-1)]: Using backend LokyBackend with 12 concurrent workers.\n",
      "[Parallel(n_jobs=-1)]: Done  27 out of  27 | elapsed:    0.6s finished\n",
      "[Parallel(n_jobs=-1)]: Using backend LokyBackend with 12 concurrent workers.\n",
      "[Parallel(n_jobs=-1)]: Done   2 out of   2 | elapsed:    0.0s finished\n",
      "Features: 3/19[Parallel(n_jobs=-1)]: Using backend LokyBackend with 12 concurrent workers.\n",
      "[Parallel(n_jobs=-1)]: Done  26 out of  26 | elapsed:    0.6s finished\n",
      "[Parallel(n_jobs=-1)]: Using backend LokyBackend with 12 concurrent workers.\n",
      "[Parallel(n_jobs=-1)]: Done   3 out of   3 | elapsed:    0.1s finished\n",
      "Features: 4/19[Parallel(n_jobs=-1)]: Using backend LokyBackend with 12 concurrent workers.\n",
      "[Parallel(n_jobs=-1)]: Done  25 out of  25 | elapsed:    0.6s finished\n",
      "[Parallel(n_jobs=-1)]: Using backend LokyBackend with 12 concurrent workers.\n",
      "[Parallel(n_jobs=-1)]: Done   4 out of   4 | elapsed:    0.1s finished\n",
      "Features: 5/19[Parallel(n_jobs=-1)]: Using backend LokyBackend with 12 concurrent workers.\n",
      "[Parallel(n_jobs=-1)]: Done  24 out of  24 | elapsed:    0.6s finished\n",
      "[Parallel(n_jobs=-1)]: Using backend LokyBackend with 12 concurrent workers.\n",
      "[Parallel(n_jobs=-1)]: Done   5 out of   5 | elapsed:    0.1s finished\n",
      "Features: 6/19[Parallel(n_jobs=-1)]: Using backend LokyBackend with 12 concurrent workers.\n",
      "[Parallel(n_jobs=-1)]: Done  23 out of  23 | elapsed:    0.7s finished\n",
      "[Parallel(n_jobs=-1)]: Using backend LokyBackend with 12 concurrent workers.\n",
      "[Parallel(n_jobs=-1)]: Done   4 out of   6 | elapsed:    0.1s remaining:    0.0s\n",
      "[Parallel(n_jobs=-1)]: Done   6 out of   6 | elapsed:    0.2s finished\n",
      "Features: 7/19[Parallel(n_jobs=-1)]: Using backend LokyBackend with 12 concurrent workers.\n",
      "[Parallel(n_jobs=-1)]: Done  22 out of  22 | elapsed:    0.7s finished\n",
      "[Parallel(n_jobs=-1)]: Using backend LokyBackend with 12 concurrent workers.\n",
      "[Parallel(n_jobs=-1)]: Done   7 out of   7 | elapsed:    0.2s finished\n",
      "Features: 8/19[Parallel(n_jobs=-1)]: Using backend LokyBackend with 12 concurrent workers.\n",
      "[Parallel(n_jobs=-1)]: Done  21 out of  21 | elapsed:    0.8s finished\n",
      "[Parallel(n_jobs=-1)]: Using backend LokyBackend with 12 concurrent workers.\n",
      "[Parallel(n_jobs=-1)]: Done   3 out of   8 | elapsed:    0.2s remaining:    0.4s\n",
      "[Parallel(n_jobs=-1)]: Done   8 out of   8 | elapsed:    0.2s finished\n",
      "Features: 9/19[Parallel(n_jobs=-1)]: Using backend LokyBackend with 12 concurrent workers.\n",
      "[Parallel(n_jobs=-1)]: Done  18 out of  20 | elapsed:    0.7s remaining:    0.0s\n",
      "[Parallel(n_jobs=-1)]: Done  20 out of  20 | elapsed:    0.8s finished\n",
      "[Parallel(n_jobs=-1)]: Using backend LokyBackend with 12 concurrent workers.\n",
      "[Parallel(n_jobs=-1)]: Done   6 out of   9 | elapsed:    0.2s remaining:    0.1s\n",
      "[Parallel(n_jobs=-1)]: Done   9 out of   9 | elapsed:    0.3s finished\n",
      "Features: 10/19[Parallel(n_jobs=-1)]: Using backend LokyBackend with 12 concurrent workers.\n",
      "[Parallel(n_jobs=-1)]: Done  16 out of  19 | elapsed:    0.7s remaining:    0.0s\n",
      "[Parallel(n_jobs=-1)]: Done  19 out of  19 | elapsed:    0.7s finished\n",
      "[Parallel(n_jobs=-1)]: Using backend LokyBackend with 12 concurrent workers.\n",
      "[Parallel(n_jobs=-1)]: Done  10 out of  10 | elapsed:    0.3s finished\n",
      "Features: 11/19[Parallel(n_jobs=-1)]: Using backend LokyBackend with 12 concurrent workers.\n",
      "[Parallel(n_jobs=-1)]: Done  14 out of  18 | elapsed:    0.7s remaining:    0.1s\n",
      "[Parallel(n_jobs=-1)]: Done  18 out of  18 | elapsed:    0.7s finished\n",
      "[Parallel(n_jobs=-1)]: Using backend LokyBackend with 12 concurrent workers.\n",
      "[Parallel(n_jobs=-1)]: Done  11 out of  11 | elapsed:    0.4s finished\n",
      "Features: 12/19[Parallel(n_jobs=-1)]: Using backend LokyBackend with 12 concurrent workers.\n",
      "[Parallel(n_jobs=-1)]: Done  12 out of  17 | elapsed:    0.5s remaining:    0.2s\n",
      "[Parallel(n_jobs=-1)]: Done  17 out of  17 | elapsed:    0.8s finished\n",
      "[Parallel(n_jobs=-1)]: Using backend LokyBackend with 12 concurrent workers.\n",
      "[Parallel(n_jobs=-1)]: Done   2 out of  12 | elapsed:    0.3s remaining:    2.0s\n",
      "[Parallel(n_jobs=-1)]: Done  12 out of  12 | elapsed:    0.5s finished\n",
      "Features: 13/19[Parallel(n_jobs=-1)]: Using backend LokyBackend with 12 concurrent workers.\n",
      "[Parallel(n_jobs=-1)]: Done  10 out of  16 | elapsed:    0.5s remaining:    0.3s\n",
      "[Parallel(n_jobs=-1)]: Done  16 out of  16 | elapsed:    0.8s finished\n",
      "[Parallel(n_jobs=-1)]: Using backend LokyBackend with 12 concurrent workers.\n",
      "[Parallel(n_jobs=-1)]: Done   4 out of  13 | elapsed:    0.4s remaining:    1.0s\n",
      "[Parallel(n_jobs=-1)]: Done  13 out of  13 | elapsed:    0.7s finished\n",
      "[Parallel(n_jobs=-1)]: Using backend LokyBackend with 12 concurrent workers.\n",
      "[Parallel(n_jobs=-1)]: Done   2 out of  12 | elapsed:    0.3s remaining:    2.1s\n",
      "[Parallel(n_jobs=-1)]: Done  12 out of  12 | elapsed:    0.5s finished\n",
      "Features: 13/19[Parallel(n_jobs=-1)]: Using backend LokyBackend with 12 concurrent workers.\n",
      "[Parallel(n_jobs=-1)]: Done  10 out of  16 | elapsed:    0.5s remaining:    0.3s\n",
      "[Parallel(n_jobs=-1)]: Done  16 out of  16 | elapsed:    0.8s finished\n",
      "[Parallel(n_jobs=-1)]: Using backend LokyBackend with 12 concurrent workers.\n",
      "[Parallel(n_jobs=-1)]: Done   4 out of  13 | elapsed:    0.4s remaining:    1.0s\n",
      "[Parallel(n_jobs=-1)]: Done  13 out of  13 | elapsed:    0.7s finished\n",
      "Features: 14/19[Parallel(n_jobs=-1)]: Using backend LokyBackend with 12 concurrent workers.\n",
      "[Parallel(n_jobs=-1)]: Done   8 out of  15 | elapsed:    0.6s remaining:    0.5s\n",
      "[Parallel(n_jobs=-1)]: Done  15 out of  15 | elapsed:    0.8s finished\n",
      "[Parallel(n_jobs=-1)]: Using backend LokyBackend with 12 concurrent workers.\n",
      "[Parallel(n_jobs=-1)]: Done   6 out of  14 | elapsed:    0.4s remaining:    0.5s\n",
      "[Parallel(n_jobs=-1)]: Done  14 out of  14 | elapsed:    0.7s finished\n",
      "Features: 15/19[Parallel(n_jobs=-1)]: Using backend LokyBackend with 12 concurrent workers.\n",
      "[Parallel(n_jobs=-1)]: Done   6 out of  14 | elapsed:    0.5s remaining:    0.6s\n",
      "[Parallel(n_jobs=-1)]: Done  14 out of  14 | elapsed:    0.8s finished\n",
      "[Parallel(n_jobs=-1)]: Using backend LokyBackend with 12 concurrent workers.\n",
      "[Parallel(n_jobs=-1)]: Done   8 out of  15 | elapsed:    0.5s remaining:    0.4s\n",
      "[Parallel(n_jobs=-1)]: Done  15 out of  15 | elapsed:    0.8s finished\n",
      "Features: 16/19[Parallel(n_jobs=-1)]: Using backend LokyBackend with 12 concurrent workers.\n",
      "[Parallel(n_jobs=-1)]: Done   4 out of  13 | elapsed:    0.5s remaining:    1.2s\n",
      "[Parallel(n_jobs=-1)]: Done  13 out of  13 | elapsed:    0.8s finished\n",
      "[Parallel(n_jobs=-1)]: Using backend LokyBackend with 12 concurrent workers.\n",
      "[Parallel(n_jobs=-1)]: Done  10 out of  16 | elapsed:    0.6s remaining:    0.3s\n",
      "[Parallel(n_jobs=-1)]: Done  16 out of  16 | elapsed:    0.9s finished\n",
      "Features: 17/19[Parallel(n_jobs=-1)]: Using backend LokyBackend with 12 concurrent workers.\n",
      "[Parallel(n_jobs=-1)]: Done   2 out of  12 | elapsed:    0.5s remaining:    2.7s\n",
      "[Parallel(n_jobs=-1)]: Done  12 out of  12 | elapsed:    0.7s finished\n",
      "[Parallel(n_jobs=-1)]: Using backend LokyBackend with 12 concurrent workers.\n",
      "[Parallel(n_jobs=-1)]: Done  12 out of  17 | elapsed:    0.7s remaining:    0.2s\n",
      "[Parallel(n_jobs=-1)]: Done  17 out of  17 | elapsed:    0.9s finished\n",
      "Features: 18/19[Parallel(n_jobs=-1)]: Using backend LokyBackend with 12 concurrent workers.\n",
      "[Parallel(n_jobs=-1)]: Done  11 out of  11 | elapsed:    0.7s finished\n",
      "[Parallel(n_jobs=-1)]: Using backend LokyBackend with 12 concurrent workers.\n",
      "[Parallel(n_jobs=-1)]: Done  14 out of  18 | elapsed:    1.0s remaining:    0.2s\n",
      "[Parallel(n_jobs=-1)]: Done  18 out of  18 | elapsed:    1.0s finished\n",
      "Features: 19/19"
     ]
    },
    {
     "name": "stdout",
     "output_type": "stream",
     "text": [
      "Fitting 87 folds for each of 200 candidates, totalling 17400 fits\n",
      "0.0 {'max_depth': 1, 'min_samples_leaf': 1, 'min_samples_split': 2}\n"
     ]
    },
    {
     "name": "stderr",
     "output_type": "stream",
     "text": [
      "[Parallel(n_jobs=-1)]: Using backend LokyBackend with 12 concurrent workers.\n",
      "[Parallel(n_jobs=-1)]: Done  29 out of  29 | elapsed:    0.5s finished\n",
      "Features: 1/20[Parallel(n_jobs=-1)]: Using backend LokyBackend with 12 concurrent workers.\n",
      "[Parallel(n_jobs=-1)]: Done  28 out of  28 | elapsed:    0.6s finished\n",
      "Features: 2/20[Parallel(n_jobs=-1)]: Using backend LokyBackend with 12 concurrent workers.\n",
      "[Parallel(n_jobs=-1)]: Done  27 out of  27 | elapsed:    0.6s finished\n",
      "[Parallel(n_jobs=-1)]: Using backend LokyBackend with 12 concurrent workers.\n",
      "[Parallel(n_jobs=-1)]: Done   2 out of   2 | elapsed:    0.0s finished\n",
      "Features: 3/20[Parallel(n_jobs=-1)]: Using backend LokyBackend with 12 concurrent workers.\n",
      "[Parallel(n_jobs=-1)]: Done  26 out of  26 | elapsed:    0.5s finished\n",
      "[Parallel(n_jobs=-1)]: Using backend LokyBackend with 12 concurrent workers.\n",
      "[Parallel(n_jobs=-1)]: Done   3 out of   3 | elapsed:    0.0s finished\n",
      "Features: 4/20[Parallel(n_jobs=-1)]: Using backend LokyBackend with 12 concurrent workers.\n",
      "[Parallel(n_jobs=-1)]: Done  25 out of  25 | elapsed:    0.6s finished\n",
      "[Parallel(n_jobs=-1)]: Using backend LokyBackend with 12 concurrent workers.\n",
      "[Parallel(n_jobs=-1)]: Done   4 out of   4 | elapsed:    0.1s finished\n",
      "Features: 5/20[Parallel(n_jobs=-1)]: Using backend LokyBackend with 12 concurrent workers.\n",
      "[Parallel(n_jobs=-1)]: Done  24 out of  24 | elapsed:    0.6s finished\n",
      "[Parallel(n_jobs=-1)]: Using backend LokyBackend with 12 concurrent workers.\n",
      "[Parallel(n_jobs=-1)]: Done   5 out of   5 | elapsed:    0.1s finished\n",
      "Features: 6/20[Parallel(n_jobs=-1)]: Using backend LokyBackend with 12 concurrent workers.\n",
      "[Parallel(n_jobs=-1)]: Done  23 out of  23 | elapsed:    0.7s finished\n",
      "[Parallel(n_jobs=-1)]: Using backend LokyBackend with 12 concurrent workers.\n",
      "[Parallel(n_jobs=-1)]: Done   4 out of   6 | elapsed:    0.1s remaining:    0.0s\n",
      "[Parallel(n_jobs=-1)]: Done   6 out of   6 | elapsed:    0.1s finished\n",
      "Features: 7/20[Parallel(n_jobs=-1)]: Using backend LokyBackend with 12 concurrent workers.\n",
      "[Parallel(n_jobs=-1)]: Done  22 out of  22 | elapsed:    0.7s finished\n",
      "[Parallel(n_jobs=-1)]: Using backend LokyBackend with 12 concurrent workers.\n",
      "[Parallel(n_jobs=-1)]: Done   7 out of   7 | elapsed:    0.2s finished\n",
      "Features: 8/20[Parallel(n_jobs=-1)]: Using backend LokyBackend with 12 concurrent workers.\n",
      "[Parallel(n_jobs=-1)]: Done  21 out of  21 | elapsed:    0.9s finished\n",
      "[Parallel(n_jobs=-1)]: Using backend LokyBackend with 12 concurrent workers.\n",
      "[Parallel(n_jobs=-1)]: Done   3 out of   8 | elapsed:    0.2s remaining:    0.5s\n",
      "[Parallel(n_jobs=-1)]: Done   8 out of   8 | elapsed:    0.3s finished\n",
      "Features: 9/20[Parallel(n_jobs=-1)]: Using backend LokyBackend with 12 concurrent workers.\n",
      "[Parallel(n_jobs=-1)]: Done  18 out of  20 | elapsed:    0.7s remaining:    0.0s\n",
      "[Parallel(n_jobs=-1)]: Done  20 out of  20 | elapsed:    0.7s finished\n",
      "[Parallel(n_jobs=-1)]: Using backend LokyBackend with 12 concurrent workers.\n",
      "[Parallel(n_jobs=-1)]: Done   6 out of   9 | elapsed:    0.3s remaining:    0.1s\n",
      "[Parallel(n_jobs=-1)]: Done   9 out of   9 | elapsed:    0.3s finished\n",
      "Features: 10/20[Parallel(n_jobs=-1)]: Using backend LokyBackend with 12 concurrent workers.\n",
      "[Parallel(n_jobs=-1)]: Done  16 out of  19 | elapsed:    0.7s remaining:    0.1s\n",
      "[Parallel(n_jobs=-1)]: Done  19 out of  19 | elapsed:    0.8s finished\n",
      "[Parallel(n_jobs=-1)]: Using backend LokyBackend with 12 concurrent workers.\n",
      "[Parallel(n_jobs=-1)]: Done  10 out of  10 | elapsed:    0.3s finished\n",
      "Features: 11/20[Parallel(n_jobs=-1)]: Using backend LokyBackend with 12 concurrent workers.\n",
      "[Parallel(n_jobs=-1)]: Done  14 out of  18 | elapsed:    0.7s remaining:    0.1s\n",
      "[Parallel(n_jobs=-1)]: Done  18 out of  18 | elapsed:    0.7s finished\n",
      "[Parallel(n_jobs=-1)]: Using backend LokyBackend with 12 concurrent workers.\n",
      "[Parallel(n_jobs=-1)]: Done  11 out of  11 | elapsed:    0.4s finished\n",
      "Features: 12/20[Parallel(n_jobs=-1)]: Using backend LokyBackend with 12 concurrent workers.\n",
      "[Parallel(n_jobs=-1)]: Done  12 out of  17 | elapsed:    0.7s remaining:    0.2s\n",
      "[Parallel(n_jobs=-1)]: Done  17 out of  17 | elapsed:    0.8s finished\n",
      "[Parallel(n_jobs=-1)]: Using backend LokyBackend with 12 concurrent workers.\n",
      "[Parallel(n_jobs=-1)]: Done   2 out of  12 | elapsed:    0.3s remaining:    2.0s\n",
      "[Parallel(n_jobs=-1)]: Done  12 out of  12 | elapsed:    0.5s finished\n",
      "Features: 13/20[Parallel(n_jobs=-1)]: Using backend LokyBackend with 12 concurrent workers.\n",
      "[Parallel(n_jobs=-1)]: Done  10 out of  16 | elapsed:    0.6s remaining:    0.3s\n",
      "[Parallel(n_jobs=-1)]: Done  16 out of  16 | elapsed:    0.8s finished\n",
      "[Parallel(n_jobs=-1)]: Using backend LokyBackend with 12 concurrent workers.\n",
      "[Parallel(n_jobs=-1)]: Done   4 out of  13 | elapsed:    0.4s remaining:    0.9s\n",
      "[Parallel(n_jobs=-1)]: Done  13 out of  13 | elapsed:    0.7s finished\n",
      "[Parallel(n_jobs=-1)]: Using backend LokyBackend with 12 concurrent workers.\n",
      "[Parallel(n_jobs=-1)]: Done   2 out of  12 | elapsed:    0.3s remaining:    2.1s\n",
      "[Parallel(n_jobs=-1)]: Done  12 out of  12 | elapsed:    0.6s finished\n",
      "Features: 13/20[Parallel(n_jobs=-1)]: Using backend LokyBackend with 12 concurrent workers.\n",
      "[Parallel(n_jobs=-1)]: Done  10 out of  16 | elapsed:    0.7s remaining:    0.4s\n",
      "[Parallel(n_jobs=-1)]: Done  16 out of  16 | elapsed:    0.8s finished\n",
      "[Parallel(n_jobs=-1)]: Using backend LokyBackend with 12 concurrent workers.\n",
      "[Parallel(n_jobs=-1)]: Done   4 out of  13 | elapsed:    0.4s remaining:    1.0s\n",
      "[Parallel(n_jobs=-1)]: Done  13 out of  13 | elapsed:    0.7s finished\n",
      "Features: 14/20[Parallel(n_jobs=-1)]: Using backend LokyBackend with 12 concurrent workers.\n",
      "[Parallel(n_jobs=-1)]: Done   8 out of  15 | elapsed:    0.6s remaining:    0.5s\n",
      "[Parallel(n_jobs=-1)]: Done  15 out of  15 | elapsed:    0.9s finished\n",
      "[Parallel(n_jobs=-1)]: Using backend LokyBackend with 12 concurrent workers.\n",
      "[Parallel(n_jobs=-1)]: Done   6 out of  14 | elapsed:    0.4s remaining:    0.6s\n",
      "[Parallel(n_jobs=-1)]: Done  14 out of  14 | elapsed:    0.8s finished\n",
      "Features: 15/20[Parallel(n_jobs=-1)]: Using backend LokyBackend with 12 concurrent workers.\n",
      "[Parallel(n_jobs=-1)]: Done   6 out of  14 | elapsed:    0.4s remaining:    0.6s\n",
      "[Parallel(n_jobs=-1)]: Done  14 out of  14 | elapsed:    0.8s finished\n",
      "[Parallel(n_jobs=-1)]: Using backend LokyBackend with 12 concurrent workers.\n",
      "[Parallel(n_jobs=-1)]: Done   8 out of  15 | elapsed:    0.4s remaining:    0.3s\n",
      "[Parallel(n_jobs=-1)]: Done  15 out of  15 | elapsed:    0.8s finished\n",
      "Features: 16/20[Parallel(n_jobs=-1)]: Using backend LokyBackend with 12 concurrent workers.\n",
      "[Parallel(n_jobs=-1)]: Done   4 out of  13 | elapsed:    0.5s remaining:    1.2s\n",
      "[Parallel(n_jobs=-1)]: Done  13 out of  13 | elapsed:    0.9s finished\n",
      "[Parallel(n_jobs=-1)]: Using backend LokyBackend with 12 concurrent workers.\n",
      "[Parallel(n_jobs=-1)]: Done  10 out of  16 | elapsed:    0.6s remaining:    0.3s\n",
      "[Parallel(n_jobs=-1)]: Done  16 out of  16 | elapsed:    0.8s finished\n",
      "Features: 17/20[Parallel(n_jobs=-1)]: Using backend LokyBackend with 12 concurrent workers.\n",
      "[Parallel(n_jobs=-1)]: Done   2 out of  12 | elapsed:    0.5s remaining:    2.7s\n",
      "[Parallel(n_jobs=-1)]: Done  12 out of  12 | elapsed:    0.6s finished\n",
      "[Parallel(n_jobs=-1)]: Using backend LokyBackend with 12 concurrent workers.\n",
      "[Parallel(n_jobs=-1)]: Done  12 out of  17 | elapsed:    0.7s remaining:    0.2s\n",
      "[Parallel(n_jobs=-1)]: Done  17 out of  17 | elapsed:    0.9s finished\n",
      "Features: 18/20[Parallel(n_jobs=-1)]: Using backend LokyBackend with 12 concurrent workers.\n",
      "[Parallel(n_jobs=-1)]: Done  11 out of  11 | elapsed:    0.6s finished\n",
      "[Parallel(n_jobs=-1)]: Using backend LokyBackend with 12 concurrent workers.\n",
      "[Parallel(n_jobs=-1)]: Done  14 out of  18 | elapsed:    0.9s remaining:    0.2s\n",
      "[Parallel(n_jobs=-1)]: Done  18 out of  18 | elapsed:    1.0s finished\n",
      "Features: 19/20[Parallel(n_jobs=-1)]: Using backend LokyBackend with 12 concurrent workers.\n",
      "[Parallel(n_jobs=-1)]: Done  10 out of  10 | elapsed:    0.6s finished\n",
      "[Parallel(n_jobs=-1)]: Using backend LokyBackend with 12 concurrent workers.\n",
      "[Parallel(n_jobs=-1)]: Done  16 out of  19 | elapsed:    1.1s remaining:    0.1s\n",
      "[Parallel(n_jobs=-1)]: Done  19 out of  19 | elapsed:    1.1s finished\n",
      "Features: 20/20"
     ]
    },
    {
     "name": "stdout",
     "output_type": "stream",
     "text": [
      "Fitting 87 folds for each of 200 candidates, totalling 17400 fits\n",
      "0.0 {'max_depth': 1, 'min_samples_leaf': 1, 'min_samples_split': 2}\n"
     ]
    },
    {
     "name": "stderr",
     "output_type": "stream",
     "text": [
      "[Parallel(n_jobs=-1)]: Using backend LokyBackend with 12 concurrent workers.\n",
      "[Parallel(n_jobs=-1)]: Done  29 out of  29 | elapsed:    0.5s finished\n",
      "Features: 1/21[Parallel(n_jobs=-1)]: Using backend LokyBackend with 12 concurrent workers.\n",
      "[Parallel(n_jobs=-1)]: Done  28 out of  28 | elapsed:    0.6s finished\n",
      "Features: 2/21[Parallel(n_jobs=-1)]: Using backend LokyBackend with 12 concurrent workers.\n",
      "[Parallel(n_jobs=-1)]: Done  27 out of  27 | elapsed:    0.6s finished\n",
      "[Parallel(n_jobs=-1)]: Using backend LokyBackend with 12 concurrent workers.\n",
      "[Parallel(n_jobs=-1)]: Done   2 out of   2 | elapsed:    0.0s finished\n",
      "Features: 3/21[Parallel(n_jobs=-1)]: Using backend LokyBackend with 12 concurrent workers.\n",
      "[Parallel(n_jobs=-1)]: Done  26 out of  26 | elapsed:    0.5s finished\n",
      "[Parallel(n_jobs=-1)]: Using backend LokyBackend with 12 concurrent workers.\n",
      "[Parallel(n_jobs=-1)]: Done   3 out of   3 | elapsed:    0.0s finished\n",
      "Features: 4/21[Parallel(n_jobs=-1)]: Using backend LokyBackend with 12 concurrent workers.\n",
      "[Parallel(n_jobs=-1)]: Done  25 out of  25 | elapsed:    0.6s finished\n",
      "[Parallel(n_jobs=-1)]: Using backend LokyBackend with 12 concurrent workers.\n",
      "[Parallel(n_jobs=-1)]: Done   4 out of   4 | elapsed:    0.1s finished\n",
      "Features: 5/21[Parallel(n_jobs=-1)]: Using backend LokyBackend with 12 concurrent workers.\n",
      "[Parallel(n_jobs=-1)]: Done  24 out of  24 | elapsed:    0.6s finished\n",
      "[Parallel(n_jobs=-1)]: Using backend LokyBackend with 12 concurrent workers.\n",
      "[Parallel(n_jobs=-1)]: Done   5 out of   5 | elapsed:    0.1s finished\n",
      "Features: 6/21[Parallel(n_jobs=-1)]: Using backend LokyBackend with 12 concurrent workers.\n",
      "[Parallel(n_jobs=-1)]: Done  23 out of  23 | elapsed:    0.6s finished\n",
      "[Parallel(n_jobs=-1)]: Using backend LokyBackend with 12 concurrent workers.\n",
      "[Parallel(n_jobs=-1)]: Done   4 out of   6 | elapsed:    0.1s remaining:    0.0s\n",
      "[Parallel(n_jobs=-1)]: Done   6 out of   6 | elapsed:    0.1s finished\n",
      "Features: 7/21[Parallel(n_jobs=-1)]: Using backend LokyBackend with 12 concurrent workers.\n",
      "[Parallel(n_jobs=-1)]: Done  22 out of  22 | elapsed:    0.7s finished\n",
      "[Parallel(n_jobs=-1)]: Using backend LokyBackend with 12 concurrent workers.\n",
      "[Parallel(n_jobs=-1)]: Done   7 out of   7 | elapsed:    0.2s finished\n",
      "Features: 8/21[Parallel(n_jobs=-1)]: Using backend LokyBackend with 12 concurrent workers.\n",
      "[Parallel(n_jobs=-1)]: Done  21 out of  21 | elapsed:    0.7s finished\n",
      "[Parallel(n_jobs=-1)]: Using backend LokyBackend with 12 concurrent workers.\n",
      "[Parallel(n_jobs=-1)]: Done   3 out of   8 | elapsed:    0.2s remaining:    0.4s\n",
      "[Parallel(n_jobs=-1)]: Done   8 out of   8 | elapsed:    0.2s finished\n",
      "Features: 9/21[Parallel(n_jobs=-1)]: Using backend LokyBackend with 12 concurrent workers.\n",
      "[Parallel(n_jobs=-1)]: Done  18 out of  20 | elapsed:    0.6s remaining:    0.0s\n",
      "[Parallel(n_jobs=-1)]: Done  20 out of  20 | elapsed:    0.6s finished\n",
      "[Parallel(n_jobs=-1)]: Using backend LokyBackend with 12 concurrent workers.\n",
      "[Parallel(n_jobs=-1)]: Done   6 out of   9 | elapsed:    0.2s remaining:    0.1s\n",
      "[Parallel(n_jobs=-1)]: Done   9 out of   9 | elapsed:    0.2s finished\n",
      "Features: 10/21[Parallel(n_jobs=-1)]: Using backend LokyBackend with 12 concurrent workers.\n",
      "[Parallel(n_jobs=-1)]: Done  16 out of  19 | elapsed:    0.7s remaining:    0.0s\n",
      "[Parallel(n_jobs=-1)]: Done  19 out of  19 | elapsed:    0.7s finished\n",
      "[Parallel(n_jobs=-1)]: Using backend LokyBackend with 12 concurrent workers.\n",
      "[Parallel(n_jobs=-1)]: Done  10 out of  10 | elapsed:    0.3s finished\n",
      "Features: 11/21[Parallel(n_jobs=-1)]: Using backend LokyBackend with 12 concurrent workers.\n",
      "[Parallel(n_jobs=-1)]: Done  14 out of  18 | elapsed:    0.7s remaining:    0.1s\n",
      "[Parallel(n_jobs=-1)]: Done  18 out of  18 | elapsed:    0.7s finished\n",
      "[Parallel(n_jobs=-1)]: Using backend LokyBackend with 12 concurrent workers.\n",
      "[Parallel(n_jobs=-1)]: Done  11 out of  11 | elapsed:    0.4s finished\n",
      "Features: 12/21[Parallel(n_jobs=-1)]: Using backend LokyBackend with 12 concurrent workers.\n",
      "[Parallel(n_jobs=-1)]: Done  12 out of  17 | elapsed:    0.6s remaining:    0.2s\n",
      "[Parallel(n_jobs=-1)]: Done  17 out of  17 | elapsed:    0.7s finished\n",
      "[Parallel(n_jobs=-1)]: Using backend LokyBackend with 12 concurrent workers.\n",
      "[Parallel(n_jobs=-1)]: Done   2 out of  12 | elapsed:    0.3s remaining:    1.9s\n",
      "[Parallel(n_jobs=-1)]: Done  12 out of  12 | elapsed:    0.5s finished\n",
      "Features: 13/21[Parallel(n_jobs=-1)]: Using backend LokyBackend with 12 concurrent workers.\n",
      "[Parallel(n_jobs=-1)]: Done  10 out of  16 | elapsed:    0.5s remaining:    0.3s\n",
      "[Parallel(n_jobs=-1)]: Done  16 out of  16 | elapsed:    0.8s finished\n",
      "[Parallel(n_jobs=-1)]: Using backend LokyBackend with 12 concurrent workers.\n",
      "[Parallel(n_jobs=-1)]: Done   4 out of  13 | elapsed:    0.4s remaining:    0.9s\n",
      "[Parallel(n_jobs=-1)]: Done  13 out of  13 | elapsed:    0.6s finished\n",
      "[Parallel(n_jobs=-1)]: Using backend LokyBackend with 12 concurrent workers.\n",
      "[Parallel(n_jobs=-1)]: Done   2 out of  12 | elapsed:    0.3s remaining:    2.0s\n",
      "[Parallel(n_jobs=-1)]: Done  12 out of  12 | elapsed:    0.5s finished\n",
      "Features: 13/21[Parallel(n_jobs=-1)]: Using backend LokyBackend with 12 concurrent workers.\n",
      "[Parallel(n_jobs=-1)]: Done  10 out of  16 | elapsed:    0.6s remaining:    0.3s\n",
      "[Parallel(n_jobs=-1)]: Done  16 out of  16 | elapsed:    0.8s finished\n",
      "[Parallel(n_jobs=-1)]: Using backend LokyBackend with 12 concurrent workers.\n",
      "[Parallel(n_jobs=-1)]: Done   4 out of  13 | elapsed:    0.4s remaining:    1.0s\n",
      "[Parallel(n_jobs=-1)]: Done  13 out of  13 | elapsed:    0.7s finished\n",
      "Features: 14/21[Parallel(n_jobs=-1)]: Using backend LokyBackend with 12 concurrent workers.\n",
      "[Parallel(n_jobs=-1)]: Done   8 out of  15 | elapsed:    0.5s remaining:    0.4s\n",
      "[Parallel(n_jobs=-1)]: Done  15 out of  15 | elapsed:    0.8s finished\n",
      "[Parallel(n_jobs=-1)]: Using backend LokyBackend with 12 concurrent workers.\n",
      "[Parallel(n_jobs=-1)]: Done   6 out of  14 | elapsed:    0.4s remaining:    0.6s\n",
      "[Parallel(n_jobs=-1)]: Done  14 out of  14 | elapsed:    0.7s finished\n",
      "Features: 15/21[Parallel(n_jobs=-1)]: Using backend LokyBackend with 12 concurrent workers.\n",
      "[Parallel(n_jobs=-1)]: Done   6 out of  14 | elapsed:    0.4s remaining:    0.6s\n",
      "[Parallel(n_jobs=-1)]: Done  14 out of  14 | elapsed:    0.8s finished\n",
      "[Parallel(n_jobs=-1)]: Using backend LokyBackend with 12 concurrent workers.\n",
      "[Parallel(n_jobs=-1)]: Done   8 out of  15 | elapsed:    0.4s remaining:    0.4s\n",
      "[Parallel(n_jobs=-1)]: Done  15 out of  15 | elapsed:    0.8s finished\n",
      "Features: 16/21[Parallel(n_jobs=-1)]: Using backend LokyBackend with 12 concurrent workers.\n",
      "[Parallel(n_jobs=-1)]: Done   4 out of  13 | elapsed:    0.5s remaining:    1.2s\n",
      "[Parallel(n_jobs=-1)]: Done  13 out of  13 | elapsed:    0.8s finished\n",
      "[Parallel(n_jobs=-1)]: Using backend LokyBackend with 12 concurrent workers.\n",
      "[Parallel(n_jobs=-1)]: Done  10 out of  16 | elapsed:    0.6s remaining:    0.3s\n",
      "[Parallel(n_jobs=-1)]: Done  16 out of  16 | elapsed:    0.8s finished\n",
      "Features: 17/21[Parallel(n_jobs=-1)]: Using backend LokyBackend with 12 concurrent workers.\n",
      "[Parallel(n_jobs=-1)]: Done   2 out of  12 | elapsed:    0.5s remaining:    2.7s\n",
      "[Parallel(n_jobs=-1)]: Done  12 out of  12 | elapsed:    0.6s finished\n",
      "[Parallel(n_jobs=-1)]: Using backend LokyBackend with 12 concurrent workers.\n",
      "[Parallel(n_jobs=-1)]: Done  12 out of  17 | elapsed:    0.6s remaining:    0.2s\n",
      "[Parallel(n_jobs=-1)]: Done  17 out of  17 | elapsed:    0.9s finished\n",
      "Features: 18/21[Parallel(n_jobs=-1)]: Using backend LokyBackend with 12 concurrent workers.\n",
      "[Parallel(n_jobs=-1)]: Done  11 out of  11 | elapsed:    0.6s finished\n",
      "[Parallel(n_jobs=-1)]: Using backend LokyBackend with 12 concurrent workers.\n",
      "[Parallel(n_jobs=-1)]: Done  14 out of  18 | elapsed:    1.0s remaining:    0.2s\n",
      "[Parallel(n_jobs=-1)]: Done  18 out of  18 | elapsed:    1.0s finished\n",
      "Features: 19/21[Parallel(n_jobs=-1)]: Using backend LokyBackend with 12 concurrent workers.\n",
      "[Parallel(n_jobs=-1)]: Done  10 out of  10 | elapsed:    0.5s finished\n",
      "[Parallel(n_jobs=-1)]: Using backend LokyBackend with 12 concurrent workers.\n",
      "[Parallel(n_jobs=-1)]: Done  16 out of  19 | elapsed:    1.0s remaining:    0.1s\n",
      "[Parallel(n_jobs=-1)]: Done  19 out of  19 | elapsed:    1.1s finished\n",
      "Features: 20/21[Parallel(n_jobs=-1)]: Using backend LokyBackend with 12 concurrent workers.\n",
      "[Parallel(n_jobs=-1)]: Done   6 out of   9 | elapsed:    0.5s remaining:    0.2s\n",
      "[Parallel(n_jobs=-1)]: Done   9 out of   9 | elapsed:    0.5s finished\n",
      "[Parallel(n_jobs=-1)]: Using backend LokyBackend with 12 concurrent workers.\n",
      "[Parallel(n_jobs=-1)]: Done  18 out of  20 | elapsed:    1.1s remaining:    0.0s\n",
      "[Parallel(n_jobs=-1)]: Done  20 out of  20 | elapsed:    1.2s finished\n",
      "[Parallel(n_jobs=-1)]: Using backend LokyBackend with 12 concurrent workers.\n",
      "[Parallel(n_jobs=-1)]: Done  16 out of  19 | elapsed:    1.0s remaining:    0.1s\n",
      "[Parallel(n_jobs=-1)]: Done  19 out of  19 | elapsed:    1.1s finished\n",
      "Features: 20/21[Parallel(n_jobs=-1)]: Using backend LokyBackend with 12 concurrent workers.\n",
      "[Parallel(n_jobs=-1)]: Done   6 out of   9 | elapsed:    0.5s remaining:    0.2s\n",
      "[Parallel(n_jobs=-1)]: Done   9 out of   9 | elapsed:    0.5s finished\n",
      "[Parallel(n_jobs=-1)]: Using backend LokyBackend with 12 concurrent workers.\n",
      "[Parallel(n_jobs=-1)]: Done  18 out of  20 | elapsed:    1.1s remaining:    0.0s\n",
      "[Parallel(n_jobs=-1)]: Done  20 out of  20 | elapsed:    1.1s finished\n",
      "Features: 21/21"
     ]
    },
    {
     "name": "stdout",
     "output_type": "stream",
     "text": [
      "Fitting 87 folds for each of 200 candidates, totalling 17400 fits\n",
      "0.0 {'max_depth': 1, 'min_samples_leaf': 1, 'min_samples_split': 2}\n"
     ]
    },
    {
     "name": "stderr",
     "output_type": "stream",
     "text": [
      "[Parallel(n_jobs=-1)]: Using backend LokyBackend with 12 concurrent workers.\n",
      "[Parallel(n_jobs=-1)]: Done  29 out of  29 | elapsed:    0.5s finished\n",
      "Features: 1/22[Parallel(n_jobs=-1)]: Using backend LokyBackend with 12 concurrent workers.\n",
      "[Parallel(n_jobs=-1)]: Done  28 out of  28 | elapsed:    0.6s finished\n",
      "Features: 2/22[Parallel(n_jobs=-1)]: Using backend LokyBackend with 12 concurrent workers.\n",
      "[Parallel(n_jobs=-1)]: Done  27 out of  27 | elapsed:    0.6s finished\n",
      "[Parallel(n_jobs=-1)]: Using backend LokyBackend with 12 concurrent workers.\n",
      "[Parallel(n_jobs=-1)]: Done   2 out of   2 | elapsed:    0.0s finished\n",
      "Features: 3/22[Parallel(n_jobs=-1)]: Using backend LokyBackend with 12 concurrent workers.\n",
      "[Parallel(n_jobs=-1)]: Done  26 out of  26 | elapsed:    0.6s finished\n",
      "[Parallel(n_jobs=-1)]: Using backend LokyBackend with 12 concurrent workers.\n",
      "[Parallel(n_jobs=-1)]: Done   3 out of   3 | elapsed:    0.0s finished\n",
      "Features: 4/22[Parallel(n_jobs=-1)]: Using backend LokyBackend with 12 concurrent workers.\n",
      "[Parallel(n_jobs=-1)]: Done  25 out of  25 | elapsed:    0.6s finished\n",
      "[Parallel(n_jobs=-1)]: Using backend LokyBackend with 12 concurrent workers.\n",
      "[Parallel(n_jobs=-1)]: Done   4 out of   4 | elapsed:    0.1s finished\n",
      "Features: 5/22[Parallel(n_jobs=-1)]: Using backend LokyBackend with 12 concurrent workers.\n",
      "[Parallel(n_jobs=-1)]: Done  24 out of  24 | elapsed:    0.6s finished\n",
      "[Parallel(n_jobs=-1)]: Using backend LokyBackend with 12 concurrent workers.\n",
      "[Parallel(n_jobs=-1)]: Done   5 out of   5 | elapsed:    0.1s finished\n",
      "Features: 6/22[Parallel(n_jobs=-1)]: Using backend LokyBackend with 12 concurrent workers.\n",
      "[Parallel(n_jobs=-1)]: Done  23 out of  23 | elapsed:    0.6s finished\n",
      "[Parallel(n_jobs=-1)]: Using backend LokyBackend with 12 concurrent workers.\n",
      "[Parallel(n_jobs=-1)]: Done   4 out of   6 | elapsed:    0.1s remaining:    0.0s\n",
      "[Parallel(n_jobs=-1)]: Done   6 out of   6 | elapsed:    0.1s finished\n",
      "Features: 7/22[Parallel(n_jobs=-1)]: Using backend LokyBackend with 12 concurrent workers.\n",
      "[Parallel(n_jobs=-1)]: Done  22 out of  22 | elapsed:    0.7s finished\n",
      "[Parallel(n_jobs=-1)]: Using backend LokyBackend with 12 concurrent workers.\n",
      "[Parallel(n_jobs=-1)]: Done   7 out of   7 | elapsed:    0.2s finished\n",
      "Features: 8/22[Parallel(n_jobs=-1)]: Using backend LokyBackend with 12 concurrent workers.\n",
      "[Parallel(n_jobs=-1)]: Done  21 out of  21 | elapsed:    0.7s finished\n",
      "[Parallel(n_jobs=-1)]: Using backend LokyBackend with 12 concurrent workers.\n",
      "[Parallel(n_jobs=-1)]: Done   3 out of   8 | elapsed:    0.2s remaining:    0.4s\n",
      "[Parallel(n_jobs=-1)]: Done   8 out of   8 | elapsed:    0.2s finished\n",
      "Features: 9/22[Parallel(n_jobs=-1)]: Using backend LokyBackend with 12 concurrent workers.\n",
      "[Parallel(n_jobs=-1)]: Done  18 out of  20 | elapsed:    0.7s remaining:    0.0s\n",
      "[Parallel(n_jobs=-1)]: Done  20 out of  20 | elapsed:    0.7s finished\n",
      "[Parallel(n_jobs=-1)]: Using backend LokyBackend with 12 concurrent workers.\n",
      "[Parallel(n_jobs=-1)]: Done   6 out of   9 | elapsed:    0.2s remaining:    0.1s\n",
      "[Parallel(n_jobs=-1)]: Done   9 out of   9 | elapsed:    0.3s finished\n",
      "Features: 10/22[Parallel(n_jobs=-1)]: Using backend LokyBackend with 12 concurrent workers.\n",
      "[Parallel(n_jobs=-1)]: Done  16 out of  19 | elapsed:    0.7s remaining:    0.0s\n",
      "[Parallel(n_jobs=-1)]: Done  19 out of  19 | elapsed:    0.7s finished\n",
      "[Parallel(n_jobs=-1)]: Using backend LokyBackend with 12 concurrent workers.\n",
      "[Parallel(n_jobs=-1)]: Done  10 out of  10 | elapsed:    0.3s finished\n",
      "Features: 11/22[Parallel(n_jobs=-1)]: Using backend LokyBackend with 12 concurrent workers.\n",
      "[Parallel(n_jobs=-1)]: Done  14 out of  18 | elapsed:    0.7s remaining:    0.1s\n",
      "[Parallel(n_jobs=-1)]: Done  18 out of  18 | elapsed:    0.7s finished\n",
      "[Parallel(n_jobs=-1)]: Using backend LokyBackend with 12 concurrent workers.\n",
      "[Parallel(n_jobs=-1)]: Done  11 out of  11 | elapsed:    0.4s finished\n",
      "Features: 12/22[Parallel(n_jobs=-1)]: Using backend LokyBackend with 12 concurrent workers.\n",
      "[Parallel(n_jobs=-1)]: Done  12 out of  17 | elapsed:    0.6s remaining:    0.2s\n",
      "[Parallel(n_jobs=-1)]: Done  17 out of  17 | elapsed:    0.7s finished\n",
      "[Parallel(n_jobs=-1)]: Using backend LokyBackend with 12 concurrent workers.\n",
      "[Parallel(n_jobs=-1)]: Done   2 out of  12 | elapsed:    0.3s remaining:    2.0s\n",
      "[Parallel(n_jobs=-1)]: Done  12 out of  12 | elapsed:    0.4s finished\n",
      "Features: 13/22[Parallel(n_jobs=-1)]: Using backend LokyBackend with 12 concurrent workers.\n",
      "[Parallel(n_jobs=-1)]: Done  10 out of  16 | elapsed:    0.5s remaining:    0.3s\n",
      "[Parallel(n_jobs=-1)]: Done  16 out of  16 | elapsed:    0.8s finished\n",
      "[Parallel(n_jobs=-1)]: Using backend LokyBackend with 12 concurrent workers.\n",
      "[Parallel(n_jobs=-1)]: Done   4 out of  13 | elapsed:    0.3s remaining:    0.9s\n",
      "[Parallel(n_jobs=-1)]: Done  13 out of  13 | elapsed:    0.6s finished\n",
      "[Parallel(n_jobs=-1)]: Using backend LokyBackend with 12 concurrent workers.\n",
      "[Parallel(n_jobs=-1)]: Done   2 out of  12 | elapsed:    0.3s remaining:    2.0s\n",
      "[Parallel(n_jobs=-1)]: Done  12 out of  12 | elapsed:    0.5s finished\n",
      "Features: 13/22[Parallel(n_jobs=-1)]: Using backend LokyBackend with 12 concurrent workers.\n",
      "[Parallel(n_jobs=-1)]: Done  10 out of  16 | elapsed:    0.5s remaining:    0.3s\n",
      "[Parallel(n_jobs=-1)]: Done  16 out of  16 | elapsed:    0.8s finished\n",
      "[Parallel(n_jobs=-1)]: Using backend LokyBackend with 12 concurrent workers.\n",
      "[Parallel(n_jobs=-1)]: Done   4 out of  13 | elapsed:    0.4s remaining:    1.0s\n",
      "[Parallel(n_jobs=-1)]: Done  13 out of  13 | elapsed:    0.7s finished\n",
      "Features: 14/22[Parallel(n_jobs=-1)]: Using backend LokyBackend with 12 concurrent workers.\n",
      "[Parallel(n_jobs=-1)]: Done   8 out of  15 | elapsed:    0.6s remaining:    0.5s\n",
      "[Parallel(n_jobs=-1)]: Done  15 out of  15 | elapsed:    0.9s finished\n",
      "[Parallel(n_jobs=-1)]: Using backend LokyBackend with 12 concurrent workers.\n",
      "[Parallel(n_jobs=-1)]: Done   6 out of  14 | elapsed:    0.4s remaining:    0.6s\n",
      "[Parallel(n_jobs=-1)]: Done  14 out of  14 | elapsed:    0.7s finished\n",
      "Features: 15/22[Parallel(n_jobs=-1)]: Using backend LokyBackend with 12 concurrent workers.\n",
      "[Parallel(n_jobs=-1)]: Done   6 out of  14 | elapsed:    0.4s remaining:    0.6s\n",
      "[Parallel(n_jobs=-1)]: Done  14 out of  14 | elapsed:    0.8s finished\n",
      "[Parallel(n_jobs=-1)]: Using backend LokyBackend with 12 concurrent workers.\n",
      "[Parallel(n_jobs=-1)]: Done   8 out of  15 | elapsed:    0.5s remaining:    0.4s\n",
      "[Parallel(n_jobs=-1)]: Done  15 out of  15 | elapsed:    0.8s finished\n",
      "Features: 16/22[Parallel(n_jobs=-1)]: Using backend LokyBackend with 12 concurrent workers.\n",
      "[Parallel(n_jobs=-1)]: Done   4 out of  13 | elapsed:    0.4s remaining:    1.1s\n",
      "[Parallel(n_jobs=-1)]: Done  13 out of  13 | elapsed:    0.8s finished\n",
      "[Parallel(n_jobs=-1)]: Using backend LokyBackend with 12 concurrent workers.\n",
      "[Parallel(n_jobs=-1)]: Done  10 out of  16 | elapsed:    0.7s remaining:    0.4s\n",
      "[Parallel(n_jobs=-1)]: Done  16 out of  16 | elapsed:    0.9s finished\n",
      "Features: 17/22[Parallel(n_jobs=-1)]: Using backend LokyBackend with 12 concurrent workers.\n",
      "[Parallel(n_jobs=-1)]: Done   2 out of  12 | elapsed:    0.5s remaining:    2.8s\n",
      "[Parallel(n_jobs=-1)]: Done  12 out of  12 | elapsed:    0.8s finished\n",
      "[Parallel(n_jobs=-1)]: Using backend LokyBackend with 12 concurrent workers.\n",
      "[Parallel(n_jobs=-1)]: Done  12 out of  17 | elapsed:    0.8s remaining:    0.3s\n",
      "[Parallel(n_jobs=-1)]: Done  17 out of  17 | elapsed:    1.0s finished\n",
      "Features: 18/22[Parallel(n_jobs=-1)]: Using backend LokyBackend with 12 concurrent workers.\n",
      "[Parallel(n_jobs=-1)]: Done  11 out of  11 | elapsed:    0.6s finished\n",
      "[Parallel(n_jobs=-1)]: Using backend LokyBackend with 12 concurrent workers.\n",
      "[Parallel(n_jobs=-1)]: Done  14 out of  18 | elapsed:    1.3s remaining:    0.3s\n",
      "[Parallel(n_jobs=-1)]: Done  18 out of  18 | elapsed:    1.4s finished\n",
      "Features: 19/22[Parallel(n_jobs=-1)]: Using backend LokyBackend with 12 concurrent workers.\n",
      "[Parallel(n_jobs=-1)]: Done  10 out of  10 | elapsed:    1.1s finished\n",
      "[Parallel(n_jobs=-1)]: Using backend LokyBackend with 12 concurrent workers.\n",
      "[Parallel(n_jobs=-1)]: Done  16 out of  19 | elapsed:    1.4s remaining:    0.2s\n",
      "[Parallel(n_jobs=-1)]: Done  19 out of  19 | elapsed:    1.5s finished\n",
      "Features: 20/22[Parallel(n_jobs=-1)]: Using backend LokyBackend with 12 concurrent workers.\n",
      "[Parallel(n_jobs=-1)]: Done   6 out of   9 | elapsed:    0.9s remaining:    0.4s\n",
      "[Parallel(n_jobs=-1)]: Done   9 out of   9 | elapsed:    1.0s finished\n",
      "[Parallel(n_jobs=-1)]: Using backend LokyBackend with 12 concurrent workers.\n",
      "[Parallel(n_jobs=-1)]: Done  18 out of  20 | elapsed:    1.4s remaining:    0.1s\n",
      "[Parallel(n_jobs=-1)]: Done  20 out of  20 | elapsed:    1.6s finished\n",
      "[Parallel(n_jobs=-1)]: Using backend LokyBackend with 12 concurrent workers.\n",
      "[Parallel(n_jobs=-1)]: Done  16 out of  19 | elapsed:    1.3s remaining:    0.2s\n",
      "[Parallel(n_jobs=-1)]: Done  19 out of  19 | elapsed:    1.6s finished\n",
      "Features: 20/22[Parallel(n_jobs=-1)]: Using backend LokyBackend with 12 concurrent workers.\n",
      "[Parallel(n_jobs=-1)]: Done   6 out of   9 | elapsed:    0.7s remaining:    0.3s\n",
      "[Parallel(n_jobs=-1)]: Done   9 out of   9 | elapsed:    0.9s finished\n",
      "[Parallel(n_jobs=-1)]: Using backend LokyBackend with 12 concurrent workers.\n",
      "[Parallel(n_jobs=-1)]: Done  18 out of  20 | elapsed:    1.3s remaining:    0.1s\n",
      "[Parallel(n_jobs=-1)]: Done  20 out of  20 | elapsed:    1.4s finished\n",
      "Features: 21/22[Parallel(n_jobs=-1)]: Using backend LokyBackend with 12 concurrent workers.\n",
      "[Parallel(n_jobs=-1)]: Done   3 out of   8 | elapsed:    0.7s remaining:    1.2s\n",
      "[Parallel(n_jobs=-1)]: Done   8 out of   8 | elapsed:    0.8s finished\n",
      "[Parallel(n_jobs=-1)]: Using backend LokyBackend with 12 concurrent workers.\n",
      "[Parallel(n_jobs=-1)]: Done  21 out of  21 | elapsed:    1.7s finished\n",
      "Features: 22/22"
     ]
    },
    {
     "name": "stdout",
     "output_type": "stream",
     "text": [
      "Fitting 87 folds for each of 200 candidates, totalling 17400 fits\n",
      "0.0 {'max_depth': 1, 'min_samples_leaf': 1, 'min_samples_split': 2}\n"
     ]
    },
    {
     "name": "stderr",
     "output_type": "stream",
     "text": [
      "[Parallel(n_jobs=-1)]: Using backend LokyBackend with 12 concurrent workers.\n",
      "[Parallel(n_jobs=-1)]: Done  29 out of  29 | elapsed:    0.7s finished\n",
      "Features: 1/23[Parallel(n_jobs=-1)]: Using backend LokyBackend with 12 concurrent workers.\n",
      "[Parallel(n_jobs=-1)]: Done  28 out of  28 | elapsed:    0.7s finished\n",
      "Features: 2/23[Parallel(n_jobs=-1)]: Using backend LokyBackend with 12 concurrent workers.\n",
      "[Parallel(n_jobs=-1)]: Done  27 out of  27 | elapsed:    0.7s finished\n",
      "[Parallel(n_jobs=-1)]: Using backend LokyBackend with 12 concurrent workers.\n",
      "[Parallel(n_jobs=-1)]: Done   2 out of   2 | elapsed:    0.1s finished\n",
      "Features: 3/23[Parallel(n_jobs=-1)]: Using backend LokyBackend with 12 concurrent workers.\n",
      "[Parallel(n_jobs=-1)]: Done  26 out of  26 | elapsed:    0.8s finished\n",
      "[Parallel(n_jobs=-1)]: Using backend LokyBackend with 12 concurrent workers.\n",
      "[Parallel(n_jobs=-1)]: Done   3 out of   3 | elapsed:    0.1s finished\n",
      "Features: 4/23[Parallel(n_jobs=-1)]: Using backend LokyBackend with 12 concurrent workers.\n",
      "[Parallel(n_jobs=-1)]: Done  25 out of  25 | elapsed:    1.5s finished\n",
      "[Parallel(n_jobs=-1)]: Using backend LokyBackend with 12 concurrent workers.\n",
      "[Parallel(n_jobs=-1)]: Done   4 out of   4 | elapsed:    0.6s finished\n",
      "Features: 5/23[Parallel(n_jobs=-1)]: Using backend LokyBackend with 12 concurrent workers.\n",
      "[Parallel(n_jobs=-1)]: Done  24 out of  24 | elapsed:    0.9s finished\n",
      "[Parallel(n_jobs=-1)]: Using backend LokyBackend with 12 concurrent workers.\n",
      "[Parallel(n_jobs=-1)]: Done   5 out of   5 | elapsed:    0.2s finished\n",
      "Features: 6/23[Parallel(n_jobs=-1)]: Using backend LokyBackend with 12 concurrent workers.\n",
      "[Parallel(n_jobs=-1)]: Done  23 out of  23 | elapsed:    1.2s finished\n",
      "[Parallel(n_jobs=-1)]: Using backend LokyBackend with 12 concurrent workers.\n",
      "[Parallel(n_jobs=-1)]: Done   4 out of   6 | elapsed:    0.3s remaining:    0.1s\n",
      "[Parallel(n_jobs=-1)]: Done   6 out of   6 | elapsed:    0.3s finished\n",
      "Features: 7/23[Parallel(n_jobs=-1)]: Using backend LokyBackend with 12 concurrent workers.\n",
      "[Parallel(n_jobs=-1)]: Done  22 out of  22 | elapsed:    1.0s finished\n",
      "[Parallel(n_jobs=-1)]: Using backend LokyBackend with 12 concurrent workers.\n",
      "[Parallel(n_jobs=-1)]: Done   7 out of   7 | elapsed:    0.4s finished\n",
      "Features: 8/23[Parallel(n_jobs=-1)]: Using backend LokyBackend with 12 concurrent workers.\n",
      "[Parallel(n_jobs=-1)]: Done  21 out of  21 | elapsed:    1.2s finished\n",
      "[Parallel(n_jobs=-1)]: Using backend LokyBackend with 12 concurrent workers.\n",
      "[Parallel(n_jobs=-1)]: Done   3 out of   8 | elapsed:    0.4s remaining:    0.7s\n",
      "[Parallel(n_jobs=-1)]: Done   8 out of   8 | elapsed:    0.4s finished\n",
      "Features: 9/23[Parallel(n_jobs=-1)]: Using backend LokyBackend with 12 concurrent workers.\n",
      "[Parallel(n_jobs=-1)]: Done  18 out of  20 | elapsed:    0.8s remaining:    0.0s\n",
      "[Parallel(n_jobs=-1)]: Done  20 out of  20 | elapsed:    0.9s finished\n",
      "[Parallel(n_jobs=-1)]: Using backend LokyBackend with 12 concurrent workers.\n",
      "[Parallel(n_jobs=-1)]: Done   6 out of   9 | elapsed:    0.4s remaining:    0.1s\n",
      "[Parallel(n_jobs=-1)]: Done   9 out of   9 | elapsed:    0.4s finished\n",
      "Features: 10/23[Parallel(n_jobs=-1)]: Using backend LokyBackend with 12 concurrent workers.\n",
      "[Parallel(n_jobs=-1)]: Done  16 out of  19 | elapsed:    0.8s remaining:    0.1s\n",
      "[Parallel(n_jobs=-1)]: Done  19 out of  19 | elapsed:    1.0s finished\n",
      "[Parallel(n_jobs=-1)]: Using backend LokyBackend with 12 concurrent workers.\n",
      "[Parallel(n_jobs=-1)]: Done  10 out of  10 | elapsed:    0.6s finished\n",
      "Features: 11/23[Parallel(n_jobs=-1)]: Using backend LokyBackend with 12 concurrent workers.\n",
      "[Parallel(n_jobs=-1)]: Done  14 out of  18 | elapsed:    1.3s remaining:    0.3s\n",
      "[Parallel(n_jobs=-1)]: Done  18 out of  18 | elapsed:    1.5s finished\n",
      "[Parallel(n_jobs=-1)]: Using backend LokyBackend with 12 concurrent workers.\n",
      "[Parallel(n_jobs=-1)]: Done  11 out of  11 | elapsed:    0.5s finished\n",
      "Features: 12/23[Parallel(n_jobs=-1)]: Using backend LokyBackend with 12 concurrent workers.\n",
      "[Parallel(n_jobs=-1)]: Done  12 out of  17 | elapsed:    0.9s remaining:    0.3s\n",
      "[Parallel(n_jobs=-1)]: Done  17 out of  17 | elapsed:    1.0s finished\n",
      "[Parallel(n_jobs=-1)]: Using backend LokyBackend with 12 concurrent workers.\n",
      "[Parallel(n_jobs=-1)]: Done   2 out of  12 | elapsed:    0.5s remaining:    2.8s\n",
      "[Parallel(n_jobs=-1)]: Done  12 out of  12 | elapsed:    0.7s finished\n",
      "Features: 13/23[Parallel(n_jobs=-1)]: Using backend LokyBackend with 12 concurrent workers.\n",
      "[Parallel(n_jobs=-1)]: Done  10 out of  16 | elapsed:    0.8s remaining:    0.5s\n",
      "[Parallel(n_jobs=-1)]: Done  16 out of  16 | elapsed:    0.9s finished\n",
      "[Parallel(n_jobs=-1)]: Using backend LokyBackend with 12 concurrent workers.\n",
      "[Parallel(n_jobs=-1)]: Done   4 out of  13 | elapsed:    0.5s remaining:    1.2s\n",
      "[Parallel(n_jobs=-1)]: Done  13 out of  13 | elapsed:    0.8s finished\n",
      "[Parallel(n_jobs=-1)]: Using backend LokyBackend with 12 concurrent workers.\n",
      "[Parallel(n_jobs=-1)]: Done   2 out of  12 | elapsed:    0.5s remaining:    2.8s\n",
      "[Parallel(n_jobs=-1)]: Done  12 out of  12 | elapsed:    0.6s finished\n",
      "Features: 13/23[Parallel(n_jobs=-1)]: Using backend LokyBackend with 12 concurrent workers.\n",
      "[Parallel(n_jobs=-1)]: Done  10 out of  16 | elapsed:    0.5s remaining:    0.3s\n",
      "[Parallel(n_jobs=-1)]: Done  16 out of  16 | elapsed:    0.9s finished\n",
      "[Parallel(n_jobs=-1)]: Using backend LokyBackend with 12 concurrent workers.\n",
      "[Parallel(n_jobs=-1)]: Done   4 out of  13 | elapsed:    0.5s remaining:    1.3s\n",
      "[Parallel(n_jobs=-1)]: Done  13 out of  13 | elapsed:    0.9s finished\n",
      "Features: 14/23[Parallel(n_jobs=-1)]: Using backend LokyBackend with 12 concurrent workers.\n",
      "[Parallel(n_jobs=-1)]: Done   8 out of  15 | elapsed:    0.7s remaining:    0.6s\n",
      "[Parallel(n_jobs=-1)]: Done  15 out of  15 | elapsed:    1.0s finished\n",
      "[Parallel(n_jobs=-1)]: Using backend LokyBackend with 12 concurrent workers.\n",
      "[Parallel(n_jobs=-1)]: Done   6 out of  14 | elapsed:    0.4s remaining:    0.6s\n",
      "[Parallel(n_jobs=-1)]: Done  14 out of  14 | elapsed:    0.8s finished\n",
      "Features: 15/23[Parallel(n_jobs=-1)]: Using backend LokyBackend with 12 concurrent workers.\n",
      "[Parallel(n_jobs=-1)]: Done   6 out of  14 | elapsed:    0.5s remaining:    0.6s\n",
      "[Parallel(n_jobs=-1)]: Done  14 out of  14 | elapsed:    0.9s finished\n",
      "[Parallel(n_jobs=-1)]: Using backend LokyBackend with 12 concurrent workers.\n",
      "[Parallel(n_jobs=-1)]: Done   8 out of  15 | elapsed:    0.6s remaining:    0.5s\n",
      "[Parallel(n_jobs=-1)]: Done  15 out of  15 | elapsed:    1.0s finished\n",
      "Features: 16/23[Parallel(n_jobs=-1)]: Using backend LokyBackend with 12 concurrent workers.\n",
      "[Parallel(n_jobs=-1)]: Done   4 out of  13 | elapsed:    0.5s remaining:    1.3s\n",
      "[Parallel(n_jobs=-1)]: Done  13 out of  13 | elapsed:    1.1s finished\n",
      "[Parallel(n_jobs=-1)]: Using backend LokyBackend with 12 concurrent workers.\n",
      "[Parallel(n_jobs=-1)]: Done  10 out of  16 | elapsed:    0.7s remaining:    0.4s\n",
      "[Parallel(n_jobs=-1)]: Done  16 out of  16 | elapsed:    1.1s finished\n",
      "Features: 17/23[Parallel(n_jobs=-1)]: Using backend LokyBackend with 12 concurrent workers.\n",
      "[Parallel(n_jobs=-1)]: Done   2 out of  12 | elapsed:    0.5s remaining:    2.9s\n",
      "[Parallel(n_jobs=-1)]: Done  12 out of  12 | elapsed:    0.7s finished\n",
      "[Parallel(n_jobs=-1)]: Using backend LokyBackend with 12 concurrent workers.\n",
      "[Parallel(n_jobs=-1)]: Done  12 out of  17 | elapsed:    0.7s remaining:    0.2s\n",
      "[Parallel(n_jobs=-1)]: Done  17 out of  17 | elapsed:    1.1s finished\n",
      "Features: 18/23[Parallel(n_jobs=-1)]: Using backend LokyBackend with 12 concurrent workers.\n",
      "[Parallel(n_jobs=-1)]: Done  11 out of  11 | elapsed:    0.7s finished\n",
      "[Parallel(n_jobs=-1)]: Using backend LokyBackend with 12 concurrent workers.\n",
      "[Parallel(n_jobs=-1)]: Done  14 out of  18 | elapsed:    1.1s remaining:    0.2s\n",
      "[Parallel(n_jobs=-1)]: Done  18 out of  18 | elapsed:    1.2s finished\n",
      "Features: 19/23[Parallel(n_jobs=-1)]: Using backend LokyBackend with 12 concurrent workers.\n",
      "[Parallel(n_jobs=-1)]: Done  10 out of  10 | elapsed:    0.7s finished\n",
      "[Parallel(n_jobs=-1)]: Using backend LokyBackend with 12 concurrent workers.\n",
      "[Parallel(n_jobs=-1)]: Done  16 out of  19 | elapsed:    1.3s remaining:    0.2s\n",
      "[Parallel(n_jobs=-1)]: Done  19 out of  19 | elapsed:    1.5s finished\n",
      "Features: 20/23[Parallel(n_jobs=-1)]: Using backend LokyBackend with 12 concurrent workers.\n",
      "[Parallel(n_jobs=-1)]: Done   6 out of   9 | elapsed:    0.7s remaining:    0.3s\n",
      "[Parallel(n_jobs=-1)]: Done   9 out of   9 | elapsed:    0.9s finished\n",
      "[Parallel(n_jobs=-1)]: Using backend LokyBackend with 12 concurrent workers.\n",
      "[Parallel(n_jobs=-1)]: Done  18 out of  20 | elapsed:    1.3s remaining:    0.1s\n",
      "[Parallel(n_jobs=-1)]: Done  20 out of  20 | elapsed:    1.4s finished\n",
      "[Parallel(n_jobs=-1)]: Using backend LokyBackend with 12 concurrent workers.\n",
      "[Parallel(n_jobs=-1)]: Done  16 out of  19 | elapsed:    1.3s remaining:    0.2s\n",
      "[Parallel(n_jobs=-1)]: Done  19 out of  19 | elapsed:    1.4s finished\n",
      "Features: 20/23[Parallel(n_jobs=-1)]: Using backend LokyBackend with 12 concurrent workers.\n",
      "[Parallel(n_jobs=-1)]: Done   6 out of   9 | elapsed:    0.7s remaining:    0.3s\n",
      "[Parallel(n_jobs=-1)]: Done   9 out of   9 | elapsed:    0.7s finished\n",
      "[Parallel(n_jobs=-1)]: Using backend LokyBackend with 12 concurrent workers.\n",
      "[Parallel(n_jobs=-1)]: Done  18 out of  20 | elapsed:    1.3s remaining:    0.1s\n",
      "[Parallel(n_jobs=-1)]: Done  20 out of  20 | elapsed:    1.4s finished\n",
      "Features: 21/23[Parallel(n_jobs=-1)]: Using backend LokyBackend with 12 concurrent workers.\n",
      "[Parallel(n_jobs=-1)]: Done   3 out of   8 | elapsed:    0.6s remaining:    1.1s\n",
      "[Parallel(n_jobs=-1)]: Done   8 out of   8 | elapsed:    0.7s finished\n",
      "[Parallel(n_jobs=-1)]: Using backend LokyBackend with 12 concurrent workers.\n",
      "[Parallel(n_jobs=-1)]: Done  21 out of  21 | elapsed:    1.4s finished\n",
      "Features: 22/23[Parallel(n_jobs=-1)]: Using backend LokyBackend with 12 concurrent workers.\n",
      "[Parallel(n_jobs=-1)]: Done   7 out of   7 | elapsed:    0.7s finished\n",
      "[Parallel(n_jobs=-1)]: Using backend LokyBackend with 12 concurrent workers.\n",
      "[Parallel(n_jobs=-1)]: Done  22 out of  22 | elapsed:    1.6s finished\n",
      "Features: 23/23"
     ]
    },
    {
     "name": "stdout",
     "output_type": "stream",
     "text": [
      "Fitting 87 folds for each of 200 candidates, totalling 17400 fits\n",
      "0.0 {'max_depth': 1, 'min_samples_leaf': 1, 'min_samples_split': 2}\n"
     ]
    },
    {
     "name": "stderr",
     "output_type": "stream",
     "text": [
      "[Parallel(n_jobs=-1)]: Using backend LokyBackend with 12 concurrent workers.\n",
      "[Parallel(n_jobs=-1)]: Done  29 out of  29 | elapsed:    0.5s finished\n",
      "Features: 1/24[Parallel(n_jobs=-1)]: Using backend LokyBackend with 12 concurrent workers.\n",
      "[Parallel(n_jobs=-1)]: Done  28 out of  28 | elapsed:    0.6s finished\n",
      "Features: 2/24[Parallel(n_jobs=-1)]: Using backend LokyBackend with 12 concurrent workers.\n",
      "[Parallel(n_jobs=-1)]: Done  27 out of  27 | elapsed:    0.6s finished\n",
      "[Parallel(n_jobs=-1)]: Using backend LokyBackend with 12 concurrent workers.\n",
      "[Parallel(n_jobs=-1)]: Done   2 out of   2 | elapsed:    0.0s finished\n",
      "Features: 3/24[Parallel(n_jobs=-1)]: Using backend LokyBackend with 12 concurrent workers.\n",
      "[Parallel(n_jobs=-1)]: Done  26 out of  26 | elapsed:    0.6s finished\n",
      "[Parallel(n_jobs=-1)]: Using backend LokyBackend with 12 concurrent workers.\n",
      "[Parallel(n_jobs=-1)]: Done   3 out of   3 | elapsed:    0.0s finished\n",
      "Features: 4/24[Parallel(n_jobs=-1)]: Using backend LokyBackend with 12 concurrent workers.\n",
      "[Parallel(n_jobs=-1)]: Done  25 out of  25 | elapsed:    0.6s finished\n",
      "[Parallel(n_jobs=-1)]: Using backend LokyBackend with 12 concurrent workers.\n",
      "[Parallel(n_jobs=-1)]: Done   4 out of   4 | elapsed:    0.1s finished\n",
      "Features: 5/24[Parallel(n_jobs=-1)]: Using backend LokyBackend with 12 concurrent workers.\n",
      "[Parallel(n_jobs=-1)]: Done  24 out of  24 | elapsed:    0.6s finished\n",
      "[Parallel(n_jobs=-1)]: Using backend LokyBackend with 12 concurrent workers.\n",
      "[Parallel(n_jobs=-1)]: Done   5 out of   5 | elapsed:    0.1s finished\n",
      "Features: 6/24[Parallel(n_jobs=-1)]: Using backend LokyBackend with 12 concurrent workers.\n",
      "[Parallel(n_jobs=-1)]: Done  23 out of  23 | elapsed:    0.6s finished\n",
      "[Parallel(n_jobs=-1)]: Using backend LokyBackend with 12 concurrent workers.\n",
      "[Parallel(n_jobs=-1)]: Done   4 out of   6 | elapsed:    0.1s remaining:    0.0s\n",
      "[Parallel(n_jobs=-1)]: Done   6 out of   6 | elapsed:    0.2s finished\n",
      "Features: 7/24[Parallel(n_jobs=-1)]: Using backend LokyBackend with 12 concurrent workers.\n",
      "[Parallel(n_jobs=-1)]: Done  22 out of  22 | elapsed:    0.7s finished\n",
      "[Parallel(n_jobs=-1)]: Using backend LokyBackend with 12 concurrent workers.\n",
      "[Parallel(n_jobs=-1)]: Done   7 out of   7 | elapsed:    0.2s finished\n",
      "Features: 8/24[Parallel(n_jobs=-1)]: Using backend LokyBackend with 12 concurrent workers.\n",
      "[Parallel(n_jobs=-1)]: Done  21 out of  21 | elapsed:    0.7s finished\n",
      "[Parallel(n_jobs=-1)]: Using backend LokyBackend with 12 concurrent workers.\n",
      "[Parallel(n_jobs=-1)]: Done   3 out of   8 | elapsed:    0.2s remaining:    0.4s\n",
      "[Parallel(n_jobs=-1)]: Done   8 out of   8 | elapsed:    0.2s finished\n",
      "Features: 9/24[Parallel(n_jobs=-1)]: Using backend LokyBackend with 12 concurrent workers.\n",
      "[Parallel(n_jobs=-1)]: Done  18 out of  20 | elapsed:    0.7s remaining:    0.0s\n",
      "[Parallel(n_jobs=-1)]: Done  20 out of  20 | elapsed:    0.7s finished\n",
      "[Parallel(n_jobs=-1)]: Using backend LokyBackend with 12 concurrent workers.\n",
      "[Parallel(n_jobs=-1)]: Done   6 out of   9 | elapsed:    0.2s remaining:    0.1s\n",
      "[Parallel(n_jobs=-1)]: Done   9 out of   9 | elapsed:    0.3s finished\n",
      "Features: 10/24[Parallel(n_jobs=-1)]: Using backend LokyBackend with 12 concurrent workers.\n",
      "[Parallel(n_jobs=-1)]: Done  16 out of  19 | elapsed:    0.8s remaining:    0.1s\n",
      "[Parallel(n_jobs=-1)]: Done  19 out of  19 | elapsed:    0.9s finished\n",
      "[Parallel(n_jobs=-1)]: Using backend LokyBackend with 12 concurrent workers.\n",
      "[Parallel(n_jobs=-1)]: Done  10 out of  10 | elapsed:    0.4s finished\n",
      "Features: 11/24[Parallel(n_jobs=-1)]: Using backend LokyBackend with 12 concurrent workers.\n",
      "[Parallel(n_jobs=-1)]: Done  14 out of  18 | elapsed:    0.7s remaining:    0.1s\n",
      "[Parallel(n_jobs=-1)]: Done  18 out of  18 | elapsed:    0.7s finished\n",
      "[Parallel(n_jobs=-1)]: Using backend LokyBackend with 12 concurrent workers.\n",
      "[Parallel(n_jobs=-1)]: Done  11 out of  11 | elapsed:    0.4s finished\n",
      "Features: 12/24[Parallel(n_jobs=-1)]: Using backend LokyBackend with 12 concurrent workers.\n",
      "[Parallel(n_jobs=-1)]: Done  12 out of  17 | elapsed:    0.6s remaining:    0.2s\n",
      "[Parallel(n_jobs=-1)]: Done  17 out of  17 | elapsed:    0.8s finished\n",
      "[Parallel(n_jobs=-1)]: Using backend LokyBackend with 12 concurrent workers.\n",
      "[Parallel(n_jobs=-1)]: Done   2 out of  12 | elapsed:    0.3s remaining:    1.9s\n",
      "[Parallel(n_jobs=-1)]: Done  12 out of  12 | elapsed:    0.5s finished\n",
      "Features: 13/24[Parallel(n_jobs=-1)]: Using backend LokyBackend with 12 concurrent workers.\n",
      "[Parallel(n_jobs=-1)]: Done  10 out of  16 | elapsed:    0.6s remaining:    0.3s\n",
      "[Parallel(n_jobs=-1)]: Done  16 out of  16 | elapsed:    0.8s finished\n",
      "[Parallel(n_jobs=-1)]: Using backend LokyBackend with 12 concurrent workers.\n",
      "[Parallel(n_jobs=-1)]: Done   4 out of  13 | elapsed:    0.4s remaining:    1.0s\n",
      "[Parallel(n_jobs=-1)]: Done  13 out of  13 | elapsed:    0.7s finished\n",
      "[Parallel(n_jobs=-1)]: Using backend LokyBackend with 12 concurrent workers.\n",
      "[Parallel(n_jobs=-1)]: Done   2 out of  12 | elapsed:    0.4s remaining:    2.2s\n",
      "[Parallel(n_jobs=-1)]: Done  12 out of  12 | elapsed:    0.6s finished\n",
      "Features: 13/24[Parallel(n_jobs=-1)]: Using backend LokyBackend with 12 concurrent workers.\n",
      "[Parallel(n_jobs=-1)]: Done  10 out of  16 | elapsed:    0.6s remaining:    0.3s\n",
      "[Parallel(n_jobs=-1)]: Done  16 out of  16 | elapsed:    0.9s finished\n",
      "[Parallel(n_jobs=-1)]: Using backend LokyBackend with 12 concurrent workers.\n",
      "[Parallel(n_jobs=-1)]: Done   4 out of  13 | elapsed:    0.4s remaining:    1.1s\n",
      "[Parallel(n_jobs=-1)]: Done  13 out of  13 | elapsed:    0.8s finished\n",
      "Features: 14/24[Parallel(n_jobs=-1)]: Using backend LokyBackend with 12 concurrent workers.\n",
      "[Parallel(n_jobs=-1)]: Done   8 out of  15 | elapsed:    0.7s remaining:    0.6s\n",
      "[Parallel(n_jobs=-1)]: Done  15 out of  15 | elapsed:    1.0s finished\n",
      "[Parallel(n_jobs=-1)]: Using backend LokyBackend with 12 concurrent workers.\n",
      "[Parallel(n_jobs=-1)]: Done   6 out of  14 | elapsed:    0.4s remaining:    0.6s\n",
      "[Parallel(n_jobs=-1)]: Done  14 out of  14 | elapsed:    0.8s finished\n",
      "Features: 15/24[Parallel(n_jobs=-1)]: Using backend LokyBackend with 12 concurrent workers.\n",
      "[Parallel(n_jobs=-1)]: Done   6 out of  14 | elapsed:    0.5s remaining:    0.7s\n",
      "[Parallel(n_jobs=-1)]: Done  14 out of  14 | elapsed:    0.9s finished\n",
      "[Parallel(n_jobs=-1)]: Using backend LokyBackend with 12 concurrent workers.\n",
      "[Parallel(n_jobs=-1)]: Done   8 out of  15 | elapsed:    0.6s remaining:    0.5s\n",
      "[Parallel(n_jobs=-1)]: Done  15 out of  15 | elapsed:    0.9s finished\n",
      "Features: 16/24[Parallel(n_jobs=-1)]: Using backend LokyBackend with 12 concurrent workers.\n",
      "[Parallel(n_jobs=-1)]: Done   4 out of  13 | elapsed:    0.5s remaining:    1.2s\n",
      "[Parallel(n_jobs=-1)]: Done  13 out of  13 | elapsed:    0.9s finished\n",
      "[Parallel(n_jobs=-1)]: Using backend LokyBackend with 12 concurrent workers.\n",
      "[Parallel(n_jobs=-1)]: Done  10 out of  16 | elapsed:    0.7s remaining:    0.4s\n",
      "[Parallel(n_jobs=-1)]: Done  16 out of  16 | elapsed:    1.0s finished\n",
      "Features: 17/24[Parallel(n_jobs=-1)]: Using backend LokyBackend with 12 concurrent workers.\n",
      "[Parallel(n_jobs=-1)]: Done   2 out of  12 | elapsed:    0.5s remaining:    3.0s\n",
      "[Parallel(n_jobs=-1)]: Done  12 out of  12 | elapsed:    0.8s finished\n",
      "[Parallel(n_jobs=-1)]: Using backend LokyBackend with 12 concurrent workers.\n",
      "[Parallel(n_jobs=-1)]: Done  12 out of  17 | elapsed:    0.7s remaining:    0.2s\n",
      "[Parallel(n_jobs=-1)]: Done  17 out of  17 | elapsed:    1.0s finished\n",
      "Features: 18/24[Parallel(n_jobs=-1)]: Using backend LokyBackend with 12 concurrent workers.\n",
      "[Parallel(n_jobs=-1)]: Done  11 out of  11 | elapsed:    0.8s finished\n",
      "[Parallel(n_jobs=-1)]: Using backend LokyBackend with 12 concurrent workers.\n",
      "[Parallel(n_jobs=-1)]: Done  14 out of  18 | elapsed:    1.2s remaining:    0.3s\n",
      "[Parallel(n_jobs=-1)]: Done  18 out of  18 | elapsed:    1.3s finished\n",
      "Features: 19/24[Parallel(n_jobs=-1)]: Using backend LokyBackend with 12 concurrent workers.\n",
      "[Parallel(n_jobs=-1)]: Done  10 out of  10 | elapsed:    0.8s finished\n",
      "[Parallel(n_jobs=-1)]: Using backend LokyBackend with 12 concurrent workers.\n",
      "[Parallel(n_jobs=-1)]: Done  16 out of  19 | elapsed:    1.1s remaining:    0.1s\n",
      "[Parallel(n_jobs=-1)]: Done  19 out of  19 | elapsed:    1.2s finished\n",
      "Features: 20/24[Parallel(n_jobs=-1)]: Using backend LokyBackend with 12 concurrent workers.\n",
      "[Parallel(n_jobs=-1)]: Done   6 out of   9 | elapsed:    0.5s remaining:    0.2s\n",
      "[Parallel(n_jobs=-1)]: Done   9 out of   9 | elapsed:    0.6s finished\n",
      "[Parallel(n_jobs=-1)]: Using backend LokyBackend with 12 concurrent workers.\n",
      "[Parallel(n_jobs=-1)]: Done  18 out of  20 | elapsed:    1.3s remaining:    0.1s\n",
      "[Parallel(n_jobs=-1)]: Done  20 out of  20 | elapsed:    1.3s finished\n",
      "[Parallel(n_jobs=-1)]: Using backend LokyBackend with 12 concurrent workers.\n",
      "[Parallel(n_jobs=-1)]: Done  16 out of  19 | elapsed:    1.1s remaining:    0.1s\n",
      "[Parallel(n_jobs=-1)]: Done  19 out of  19 | elapsed:    1.2s finished\n",
      "Features: 20/24[Parallel(n_jobs=-1)]: Using backend LokyBackend with 12 concurrent workers.\n",
      "[Parallel(n_jobs=-1)]: Done   6 out of   9 | elapsed:    0.5s remaining:    0.2s\n",
      "[Parallel(n_jobs=-1)]: Done   9 out of   9 | elapsed:    0.5s finished\n",
      "[Parallel(n_jobs=-1)]: Using backend LokyBackend with 12 concurrent workers.\n",
      "[Parallel(n_jobs=-1)]: Done  18 out of  20 | elapsed:    1.2s remaining:    0.0s\n",
      "[Parallel(n_jobs=-1)]: Done  20 out of  20 | elapsed:    1.3s finished\n",
      "Features: 21/24[Parallel(n_jobs=-1)]: Using backend LokyBackend with 12 concurrent workers.\n",
      "[Parallel(n_jobs=-1)]: Done   3 out of   8 | elapsed:    0.5s remaining:    1.0s\n",
      "[Parallel(n_jobs=-1)]: Done   8 out of   8 | elapsed:    0.6s finished\n",
      "[Parallel(n_jobs=-1)]: Using backend LokyBackend with 12 concurrent workers.\n",
      "[Parallel(n_jobs=-1)]: Done  21 out of  21 | elapsed:    1.3s finished\n",
      "Features: 22/24[Parallel(n_jobs=-1)]: Using backend LokyBackend with 12 concurrent workers.\n",
      "[Parallel(n_jobs=-1)]: Done   7 out of   7 | elapsed:    0.5s finished\n",
      "[Parallel(n_jobs=-1)]: Using backend LokyBackend with 12 concurrent workers.\n",
      "[Parallel(n_jobs=-1)]: Done  22 out of  22 | elapsed:    1.4s finished\n",
      "Features: 23/24[Parallel(n_jobs=-1)]: Using backend LokyBackend with 12 concurrent workers.\n",
      "[Parallel(n_jobs=-1)]: Done   4 out of   6 | elapsed:    0.5s remaining:    0.2s\n",
      "[Parallel(n_jobs=-1)]: Done   6 out of   6 | elapsed:    0.5s finished\n",
      "[Parallel(n_jobs=-1)]: Using backend LokyBackend with 12 concurrent workers.\n",
      "[Parallel(n_jobs=-1)]: Done  23 out of  23 | elapsed:    1.6s finished\n",
      "Features: 24/24"
     ]
    },
    {
     "name": "stdout",
     "output_type": "stream",
     "text": [
      "Fitting 87 folds for each of 200 candidates, totalling 17400 fits\n",
      "0.0 {'max_depth': 1, 'min_samples_leaf': 1, 'min_samples_split': 2}\n"
     ]
    },
    {
     "name": "stderr",
     "output_type": "stream",
     "text": [
      "[Parallel(n_jobs=-1)]: Using backend LokyBackend with 12 concurrent workers.\n",
      "[Parallel(n_jobs=-1)]: Done  29 out of  29 | elapsed:    0.6s finished\n",
      "Features: 1/25[Parallel(n_jobs=-1)]: Using backend LokyBackend with 12 concurrent workers.\n",
      "[Parallel(n_jobs=-1)]: Done  28 out of  28 | elapsed:    0.6s finished\n",
      "Features: 2/25[Parallel(n_jobs=-1)]: Using backend LokyBackend with 12 concurrent workers.\n",
      "[Parallel(n_jobs=-1)]: Done  27 out of  27 | elapsed:    0.6s finished\n",
      "[Parallel(n_jobs=-1)]: Using backend LokyBackend with 12 concurrent workers.\n",
      "[Parallel(n_jobs=-1)]: Done   2 out of   2 | elapsed:    0.0s finished\n",
      "Features: 3/25[Parallel(n_jobs=-1)]: Using backend LokyBackend with 12 concurrent workers.\n",
      "[Parallel(n_jobs=-1)]: Done  26 out of  26 | elapsed:    0.6s finished\n",
      "[Parallel(n_jobs=-1)]: Using backend LokyBackend with 12 concurrent workers.\n",
      "[Parallel(n_jobs=-1)]: Done   3 out of   3 | elapsed:    0.1s finished\n",
      "Features: 4/25[Parallel(n_jobs=-1)]: Using backend LokyBackend with 12 concurrent workers.\n",
      "[Parallel(n_jobs=-1)]: Done  25 out of  25 | elapsed:    0.6s finished\n",
      "[Parallel(n_jobs=-1)]: Using backend LokyBackend with 12 concurrent workers.\n",
      "[Parallel(n_jobs=-1)]: Done   4 out of   4 | elapsed:    0.1s finished\n",
      "Features: 5/25[Parallel(n_jobs=-1)]: Using backend LokyBackend with 12 concurrent workers.\n",
      "[Parallel(n_jobs=-1)]: Done  24 out of  24 | elapsed:    0.6s finished\n",
      "[Parallel(n_jobs=-1)]: Using backend LokyBackend with 12 concurrent workers.\n",
      "[Parallel(n_jobs=-1)]: Done   5 out of   5 | elapsed:    0.1s finished\n",
      "Features: 6/25[Parallel(n_jobs=-1)]: Using backend LokyBackend with 12 concurrent workers.\n",
      "[Parallel(n_jobs=-1)]: Done  23 out of  23 | elapsed:    0.7s finished\n",
      "[Parallel(n_jobs=-1)]: Using backend LokyBackend with 12 concurrent workers.\n",
      "[Parallel(n_jobs=-1)]: Done   4 out of   6 | elapsed:    0.1s remaining:    0.0s\n",
      "[Parallel(n_jobs=-1)]: Done   6 out of   6 | elapsed:    0.1s finished\n",
      "Features: 7/25[Parallel(n_jobs=-1)]: Using backend LokyBackend with 12 concurrent workers.\n",
      "[Parallel(n_jobs=-1)]: Done  22 out of  22 | elapsed:    0.7s finished\n",
      "[Parallel(n_jobs=-1)]: Using backend LokyBackend with 12 concurrent workers.\n",
      "[Parallel(n_jobs=-1)]: Done   7 out of   7 | elapsed:    0.2s finished\n",
      "Features: 8/25[Parallel(n_jobs=-1)]: Using backend LokyBackend with 12 concurrent workers.\n",
      "[Parallel(n_jobs=-1)]: Done  21 out of  21 | elapsed:    0.8s finished\n",
      "[Parallel(n_jobs=-1)]: Using backend LokyBackend with 12 concurrent workers.\n",
      "[Parallel(n_jobs=-1)]: Done   3 out of   8 | elapsed:    0.2s remaining:    0.4s\n",
      "[Parallel(n_jobs=-1)]: Done   8 out of   8 | elapsed:    0.2s finished\n",
      "Features: 9/25[Parallel(n_jobs=-1)]: Using backend LokyBackend with 12 concurrent workers.\n",
      "[Parallel(n_jobs=-1)]: Done  18 out of  20 | elapsed:    0.6s remaining:    0.0s\n",
      "[Parallel(n_jobs=-1)]: Done  20 out of  20 | elapsed:    0.7s finished\n",
      "[Parallel(n_jobs=-1)]: Using backend LokyBackend with 12 concurrent workers.\n",
      "[Parallel(n_jobs=-1)]: Done   6 out of   9 | elapsed:    0.2s remaining:    0.1s\n",
      "[Parallel(n_jobs=-1)]: Done   9 out of   9 | elapsed:    0.2s finished\n",
      "Features: 10/25[Parallel(n_jobs=-1)]: Using backend LokyBackend with 12 concurrent workers.\n",
      "[Parallel(n_jobs=-1)]: Done  16 out of  19 | elapsed:    0.7s remaining:    0.0s\n",
      "[Parallel(n_jobs=-1)]: Done  19 out of  19 | elapsed:    0.7s finished\n",
      "[Parallel(n_jobs=-1)]: Using backend LokyBackend with 12 concurrent workers.\n",
      "[Parallel(n_jobs=-1)]: Done  10 out of  10 | elapsed:    0.3s finished\n",
      "Features: 11/25[Parallel(n_jobs=-1)]: Using backend LokyBackend with 12 concurrent workers.\n",
      "[Parallel(n_jobs=-1)]: Done  14 out of  18 | elapsed:    0.7s remaining:    0.1s\n",
      "[Parallel(n_jobs=-1)]: Done  18 out of  18 | elapsed:    0.7s finished\n",
      "[Parallel(n_jobs=-1)]: Using backend LokyBackend with 12 concurrent workers.\n",
      "[Parallel(n_jobs=-1)]: Done  11 out of  11 | elapsed:    0.4s finished\n",
      "Features: 12/25[Parallel(n_jobs=-1)]: Using backend LokyBackend with 12 concurrent workers.\n",
      "[Parallel(n_jobs=-1)]: Done  12 out of  17 | elapsed:    0.6s remaining:    0.2s\n",
      "[Parallel(n_jobs=-1)]: Done  17 out of  17 | elapsed:    0.8s finished\n",
      "[Parallel(n_jobs=-1)]: Using backend LokyBackend with 12 concurrent workers.\n",
      "[Parallel(n_jobs=-1)]: Done   2 out of  12 | elapsed:    0.3s remaining:    1.9s\n",
      "[Parallel(n_jobs=-1)]: Done  12 out of  12 | elapsed:    0.5s finished\n",
      "Features: 13/25[Parallel(n_jobs=-1)]: Using backend LokyBackend with 12 concurrent workers.\n",
      "[Parallel(n_jobs=-1)]: Done  10 out of  16 | elapsed:    0.6s remaining:    0.3s\n",
      "[Parallel(n_jobs=-1)]: Done  16 out of  16 | elapsed:    0.8s finished\n",
      "[Parallel(n_jobs=-1)]: Using backend LokyBackend with 12 concurrent workers.\n",
      "[Parallel(n_jobs=-1)]: Done   4 out of  13 | elapsed:    0.3s remaining:    0.9s\n",
      "[Parallel(n_jobs=-1)]: Done  13 out of  13 | elapsed:    0.6s finished\n",
      "[Parallel(n_jobs=-1)]: Using backend LokyBackend with 12 concurrent workers.\n",
      "[Parallel(n_jobs=-1)]: Done   2 out of  12 | elapsed:    0.4s remaining:    2.2s\n",
      "[Parallel(n_jobs=-1)]: Done  12 out of  12 | elapsed:    0.5s finished\n",
      "Features: 13/25[Parallel(n_jobs=-1)]: Using backend LokyBackend with 12 concurrent workers.\n",
      "[Parallel(n_jobs=-1)]: Done  10 out of  16 | elapsed:    0.6s remaining:    0.3s\n",
      "[Parallel(n_jobs=-1)]: Done  16 out of  16 | elapsed:    0.8s finished\n",
      "[Parallel(n_jobs=-1)]: Using backend LokyBackend with 12 concurrent workers.\n",
      "[Parallel(n_jobs=-1)]: Done   4 out of  13 | elapsed:    0.4s remaining:    1.0s\n",
      "[Parallel(n_jobs=-1)]: Done  13 out of  13 | elapsed:    0.7s finished\n",
      "Features: 14/25[Parallel(n_jobs=-1)]: Using backend LokyBackend with 12 concurrent workers.\n",
      "[Parallel(n_jobs=-1)]: Done   8 out of  15 | elapsed:    0.5s remaining:    0.4s\n",
      "[Parallel(n_jobs=-1)]: Done  15 out of  15 | elapsed:    0.9s finished\n",
      "[Parallel(n_jobs=-1)]: Using backend LokyBackend with 12 concurrent workers.\n",
      "[Parallel(n_jobs=-1)]: Done   6 out of  14 | elapsed:    0.4s remaining:    0.5s\n",
      "[Parallel(n_jobs=-1)]: Done  14 out of  14 | elapsed:    0.7s finished\n",
      "Features: 15/25[Parallel(n_jobs=-1)]: Using backend LokyBackend with 12 concurrent workers.\n",
      "[Parallel(n_jobs=-1)]: Done   6 out of  14 | elapsed:    0.4s remaining:    0.6s\n",
      "[Parallel(n_jobs=-1)]: Done  14 out of  14 | elapsed:    0.8s finished\n",
      "[Parallel(n_jobs=-1)]: Using backend LokyBackend with 12 concurrent workers.\n",
      "[Parallel(n_jobs=-1)]: Done   8 out of  15 | elapsed:    0.4s remaining:    0.4s\n",
      "[Parallel(n_jobs=-1)]: Done  15 out of  15 | elapsed:    0.8s finished\n",
      "Features: 16/25[Parallel(n_jobs=-1)]: Using backend LokyBackend with 12 concurrent workers.\n",
      "[Parallel(n_jobs=-1)]: Done   4 out of  13 | elapsed:    0.5s remaining:    1.2s\n",
      "[Parallel(n_jobs=-1)]: Done  13 out of  13 | elapsed:    0.8s finished\n",
      "[Parallel(n_jobs=-1)]: Using backend LokyBackend with 12 concurrent workers.\n",
      "[Parallel(n_jobs=-1)]: Done  10 out of  16 | elapsed:    0.6s remaining:    0.3s\n",
      "[Parallel(n_jobs=-1)]: Done  16 out of  16 | elapsed:    0.9s finished\n",
      "Features: 17/25[Parallel(n_jobs=-1)]: Using backend LokyBackend with 12 concurrent workers.\n",
      "[Parallel(n_jobs=-1)]: Done   2 out of  12 | elapsed:    0.5s remaining:    2.7s\n",
      "[Parallel(n_jobs=-1)]: Done  12 out of  12 | elapsed:    0.7s finished\n",
      "[Parallel(n_jobs=-1)]: Using backend LokyBackend with 12 concurrent workers.\n",
      "[Parallel(n_jobs=-1)]: Done  12 out of  17 | elapsed:    0.8s remaining:    0.3s\n",
      "[Parallel(n_jobs=-1)]: Done  17 out of  17 | elapsed:    1.0s finished\n",
      "Features: 18/25[Parallel(n_jobs=-1)]: Using backend LokyBackend with 12 concurrent workers.\n",
      "[Parallel(n_jobs=-1)]: Done  11 out of  11 | elapsed:    0.8s finished\n",
      "[Parallel(n_jobs=-1)]: Using backend LokyBackend with 12 concurrent workers.\n",
      "[Parallel(n_jobs=-1)]: Done  14 out of  18 | elapsed:    1.0s remaining:    0.2s\n",
      "[Parallel(n_jobs=-1)]: Done  18 out of  18 | elapsed:    1.1s finished\n",
      "Features: 19/25[Parallel(n_jobs=-1)]: Using backend LokyBackend with 12 concurrent workers.\n",
      "[Parallel(n_jobs=-1)]: Done  10 out of  10 | elapsed:    0.6s finished\n",
      "[Parallel(n_jobs=-1)]: Using backend LokyBackend with 12 concurrent workers.\n",
      "[Parallel(n_jobs=-1)]: Done  16 out of  19 | elapsed:    1.1s remaining:    0.1s\n",
      "[Parallel(n_jobs=-1)]: Done  19 out of  19 | elapsed:    1.2s finished\n",
      "Features: 20/25[Parallel(n_jobs=-1)]: Using backend LokyBackend with 12 concurrent workers.\n",
      "[Parallel(n_jobs=-1)]: Done   6 out of   9 | elapsed:    0.5s remaining:    0.2s\n",
      "[Parallel(n_jobs=-1)]: Done   9 out of   9 | elapsed:    0.6s finished\n",
      "[Parallel(n_jobs=-1)]: Using backend LokyBackend with 12 concurrent workers.\n",
      "[Parallel(n_jobs=-1)]: Done  18 out of  20 | elapsed:    1.2s remaining:    0.0s\n",
      "[Parallel(n_jobs=-1)]: Done  20 out of  20 | elapsed:    1.2s finished\n",
      "[Parallel(n_jobs=-1)]: Using backend LokyBackend with 12 concurrent workers.\n",
      "[Parallel(n_jobs=-1)]: Done  16 out of  19 | elapsed:    1.0s remaining:    0.1s\n",
      "[Parallel(n_jobs=-1)]: Done  19 out of  19 | elapsed:    1.0s finished\n",
      "Features: 20/25[Parallel(n_jobs=-1)]: Using backend LokyBackend with 12 concurrent workers.\n",
      "[Parallel(n_jobs=-1)]: Done   6 out of   9 | elapsed:    0.5s remaining:    0.2s\n",
      "[Parallel(n_jobs=-1)]: Done   9 out of   9 | elapsed:    0.5s finished\n",
      "[Parallel(n_jobs=-1)]: Using backend LokyBackend with 12 concurrent workers.\n",
      "[Parallel(n_jobs=-1)]: Done  18 out of  20 | elapsed:    1.1s remaining:    0.0s\n",
      "[Parallel(n_jobs=-1)]: Done  20 out of  20 | elapsed:    1.2s finished\n",
      "Features: 21/25[Parallel(n_jobs=-1)]: Using backend LokyBackend with 12 concurrent workers.\n",
      "[Parallel(n_jobs=-1)]: Done   3 out of   8 | elapsed:    0.5s remaining:    0.9s\n",
      "[Parallel(n_jobs=-1)]: Done   8 out of   8 | elapsed:    0.5s finished\n",
      "[Parallel(n_jobs=-1)]: Using backend LokyBackend with 12 concurrent workers.\n",
      "[Parallel(n_jobs=-1)]: Done  21 out of  21 | elapsed:    1.4s finished\n",
      "Features: 22/25[Parallel(n_jobs=-1)]: Using backend LokyBackend with 12 concurrent workers.\n",
      "[Parallel(n_jobs=-1)]: Done   7 out of   7 | elapsed:    0.6s finished\n",
      "[Parallel(n_jobs=-1)]: Using backend LokyBackend with 12 concurrent workers.\n",
      "[Parallel(n_jobs=-1)]: Done  22 out of  22 | elapsed:    1.8s finished\n",
      "Features: 23/25[Parallel(n_jobs=-1)]: Using backend LokyBackend with 12 concurrent workers.\n",
      "[Parallel(n_jobs=-1)]: Done   4 out of   6 | elapsed:    0.6s remaining:    0.2s\n",
      "[Parallel(n_jobs=-1)]: Done   6 out of   6 | elapsed:    0.6s finished\n",
      "[Parallel(n_jobs=-1)]: Using backend LokyBackend with 12 concurrent workers.\n",
      "[Parallel(n_jobs=-1)]: Done  23 out of  23 | elapsed:    1.8s finished\n",
      "Features: 24/25[Parallel(n_jobs=-1)]: Using backend LokyBackend with 12 concurrent workers.\n",
      "[Parallel(n_jobs=-1)]: Done   5 out of   5 | elapsed:    0.6s finished\n",
      "[Parallel(n_jobs=-1)]: Using backend LokyBackend with 12 concurrent workers.\n",
      "[Parallel(n_jobs=-1)]: Done  24 out of  24 | elapsed:    2.0s finished\n",
      "Features: 25/25"
     ]
    },
    {
     "name": "stdout",
     "output_type": "stream",
     "text": [
      "Fitting 87 folds for each of 200 candidates, totalling 17400 fits\n",
      "0.0 {'max_depth': 1, 'min_samples_leaf': 1, 'min_samples_split': 2}\n"
     ]
    },
    {
     "name": "stderr",
     "output_type": "stream",
     "text": [
      "[Parallel(n_jobs=-1)]: Using backend LokyBackend with 12 concurrent workers.\n",
      "[Parallel(n_jobs=-1)]: Done  29 out of  29 | elapsed:    0.5s finished\n",
      "Features: 1/26[Parallel(n_jobs=-1)]: Using backend LokyBackend with 12 concurrent workers.\n",
      "[Parallel(n_jobs=-1)]: Done  28 out of  28 | elapsed:    0.6s finished\n",
      "Features: 2/26[Parallel(n_jobs=-1)]: Using backend LokyBackend with 12 concurrent workers.\n",
      "[Parallel(n_jobs=-1)]: Done  27 out of  27 | elapsed:    0.6s finished\n",
      "[Parallel(n_jobs=-1)]: Using backend LokyBackend with 12 concurrent workers.\n",
      "[Parallel(n_jobs=-1)]: Done   2 out of   2 | elapsed:    0.0s finished\n",
      "Features: 3/26[Parallel(n_jobs=-1)]: Using backend LokyBackend with 12 concurrent workers.\n",
      "[Parallel(n_jobs=-1)]: Done  26 out of  26 | elapsed:    0.6s finished\n",
      "[Parallel(n_jobs=-1)]: Using backend LokyBackend with 12 concurrent workers.\n",
      "[Parallel(n_jobs=-1)]: Done   3 out of   3 | elapsed:    0.0s finished\n",
      "Features: 4/26[Parallel(n_jobs=-1)]: Using backend LokyBackend with 12 concurrent workers.\n",
      "[Parallel(n_jobs=-1)]: Done  25 out of  25 | elapsed:    0.6s finished\n",
      "[Parallel(n_jobs=-1)]: Using backend LokyBackend with 12 concurrent workers.\n",
      "[Parallel(n_jobs=-1)]: Done   4 out of   4 | elapsed:    0.1s finished\n",
      "Features: 5/26[Parallel(n_jobs=-1)]: Using backend LokyBackend with 12 concurrent workers.\n",
      "[Parallel(n_jobs=-1)]: Done  24 out of  24 | elapsed:    0.6s finished\n",
      "[Parallel(n_jobs=-1)]: Using backend LokyBackend with 12 concurrent workers.\n",
      "[Parallel(n_jobs=-1)]: Done   5 out of   5 | elapsed:    0.1s finished\n",
      "Features: 6/26[Parallel(n_jobs=-1)]: Using backend LokyBackend with 12 concurrent workers.\n",
      "[Parallel(n_jobs=-1)]: Done  23 out of  23 | elapsed:    0.7s finished\n",
      "[Parallel(n_jobs=-1)]: Using backend LokyBackend with 12 concurrent workers.\n",
      "[Parallel(n_jobs=-1)]: Done   4 out of   6 | elapsed:    0.1s remaining:    0.0s\n",
      "[Parallel(n_jobs=-1)]: Done   6 out of   6 | elapsed:    0.1s finished\n",
      "Features: 7/26[Parallel(n_jobs=-1)]: Using backend LokyBackend with 12 concurrent workers.\n",
      "[Parallel(n_jobs=-1)]: Done  22 out of  22 | elapsed:    0.7s finished\n",
      "[Parallel(n_jobs=-1)]: Using backend LokyBackend with 12 concurrent workers.\n",
      "[Parallel(n_jobs=-1)]: Done   7 out of   7 | elapsed:    0.2s finished\n",
      "Features: 8/26[Parallel(n_jobs=-1)]: Using backend LokyBackend with 12 concurrent workers.\n",
      "[Parallel(n_jobs=-1)]: Done  21 out of  21 | elapsed:    0.7s finished\n",
      "[Parallel(n_jobs=-1)]: Using backend LokyBackend with 12 concurrent workers.\n",
      "[Parallel(n_jobs=-1)]: Done   3 out of   8 | elapsed:    0.2s remaining:    0.4s\n",
      "[Parallel(n_jobs=-1)]: Done   8 out of   8 | elapsed:    0.2s finished\n",
      "Features: 9/26[Parallel(n_jobs=-1)]: Using backend LokyBackend with 12 concurrent workers.\n",
      "[Parallel(n_jobs=-1)]: Done  18 out of  20 | elapsed:    0.6s remaining:    0.0s\n",
      "[Parallel(n_jobs=-1)]: Done  20 out of  20 | elapsed:    0.7s finished\n",
      "[Parallel(n_jobs=-1)]: Using backend LokyBackend with 12 concurrent workers.\n",
      "[Parallel(n_jobs=-1)]: Done   6 out of   9 | elapsed:    0.2s remaining:    0.1s\n",
      "[Parallel(n_jobs=-1)]: Done   9 out of   9 | elapsed:    0.2s finished\n",
      "Features: 10/26[Parallel(n_jobs=-1)]: Using backend LokyBackend with 12 concurrent workers.\n",
      "[Parallel(n_jobs=-1)]: Done  16 out of  19 | elapsed:    0.7s remaining:    0.0s\n",
      "[Parallel(n_jobs=-1)]: Done  19 out of  19 | elapsed:    0.7s finished\n",
      "[Parallel(n_jobs=-1)]: Using backend LokyBackend with 12 concurrent workers.\n",
      "[Parallel(n_jobs=-1)]: Done  10 out of  10 | elapsed:    0.3s finished\n",
      "Features: 11/26[Parallel(n_jobs=-1)]: Using backend LokyBackend with 12 concurrent workers.\n",
      "[Parallel(n_jobs=-1)]: Done  14 out of  18 | elapsed:    0.7s remaining:    0.1s\n",
      "[Parallel(n_jobs=-1)]: Done  18 out of  18 | elapsed:    0.8s finished\n",
      "[Parallel(n_jobs=-1)]: Using backend LokyBackend with 12 concurrent workers.\n",
      "[Parallel(n_jobs=-1)]: Done  11 out of  11 | elapsed:    0.3s finished\n",
      "Features: 12/26[Parallel(n_jobs=-1)]: Using backend LokyBackend with 12 concurrent workers.\n",
      "[Parallel(n_jobs=-1)]: Done  12 out of  17 | elapsed:    0.5s remaining:    0.2s\n",
      "[Parallel(n_jobs=-1)]: Done  17 out of  17 | elapsed:    0.8s finished\n",
      "[Parallel(n_jobs=-1)]: Using backend LokyBackend with 12 concurrent workers.\n",
      "[Parallel(n_jobs=-1)]: Done   2 out of  12 | elapsed:    0.3s remaining:    1.9s\n",
      "[Parallel(n_jobs=-1)]: Done  12 out of  12 | elapsed:    0.5s finished\n",
      "Features: 13/26[Parallel(n_jobs=-1)]: Using backend LokyBackend with 12 concurrent workers.\n",
      "[Parallel(n_jobs=-1)]: Done  10 out of  16 | elapsed:    0.6s remaining:    0.3s\n",
      "[Parallel(n_jobs=-1)]: Done  16 out of  16 | elapsed:    0.8s finished\n",
      "[Parallel(n_jobs=-1)]: Using backend LokyBackend with 12 concurrent workers.\n",
      "[Parallel(n_jobs=-1)]: Done   4 out of  13 | elapsed:    0.3s remaining:    0.9s\n",
      "[Parallel(n_jobs=-1)]: Done  13 out of  13 | elapsed:    0.6s finished\n",
      "[Parallel(n_jobs=-1)]: Using backend LokyBackend with 12 concurrent workers.\n",
      "[Parallel(n_jobs=-1)]: Done   2 out of  12 | elapsed:    0.3s remaining:    2.0s\n",
      "[Parallel(n_jobs=-1)]: Done  12 out of  12 | elapsed:    0.4s finished\n",
      "Features: 13/26[Parallel(n_jobs=-1)]: Using backend LokyBackend with 12 concurrent workers.\n",
      "[Parallel(n_jobs=-1)]: Done  10 out of  16 | elapsed:    0.6s remaining:    0.3s\n",
      "[Parallel(n_jobs=-1)]: Done  16 out of  16 | elapsed:    0.8s finished\n",
      "[Parallel(n_jobs=-1)]: Using backend LokyBackend with 12 concurrent workers.\n",
      "[Parallel(n_jobs=-1)]: Done   4 out of  13 | elapsed:    0.4s remaining:    1.0s\n",
      "[Parallel(n_jobs=-1)]: Done  13 out of  13 | elapsed:    0.7s finished\n",
      "Features: 14/26[Parallel(n_jobs=-1)]: Using backend LokyBackend with 12 concurrent workers.\n",
      "[Parallel(n_jobs=-1)]: Done   8 out of  15 | elapsed:    0.5s remaining:    0.4s\n",
      "[Parallel(n_jobs=-1)]: Done  15 out of  15 | elapsed:    0.8s finished\n",
      "[Parallel(n_jobs=-1)]: Using backend LokyBackend with 12 concurrent workers.\n",
      "[Parallel(n_jobs=-1)]: Done   6 out of  14 | elapsed:    0.4s remaining:    0.6s\n",
      "[Parallel(n_jobs=-1)]: Done  14 out of  14 | elapsed:    0.7s finished\n",
      "Features: 15/26[Parallel(n_jobs=-1)]: Using backend LokyBackend with 12 concurrent workers.\n",
      "[Parallel(n_jobs=-1)]: Done   6 out of  14 | elapsed:    0.4s remaining:    0.6s\n",
      "[Parallel(n_jobs=-1)]: Done  14 out of  14 | elapsed:    0.8s finished\n",
      "[Parallel(n_jobs=-1)]: Using backend LokyBackend with 12 concurrent workers.\n",
      "[Parallel(n_jobs=-1)]: Done   8 out of  15 | elapsed:    0.5s remaining:    0.4s\n",
      "[Parallel(n_jobs=-1)]: Done  15 out of  15 | elapsed:    0.8s finished\n",
      "Features: 16/26[Parallel(n_jobs=-1)]: Using backend LokyBackend with 12 concurrent workers.\n",
      "[Parallel(n_jobs=-1)]: Done   4 out of  13 | elapsed:    0.5s remaining:    1.1s\n",
      "[Parallel(n_jobs=-1)]: Done  13 out of  13 | elapsed:    0.9s finished\n",
      "[Parallel(n_jobs=-1)]: Using backend LokyBackend with 12 concurrent workers.\n",
      "[Parallel(n_jobs=-1)]: Done  10 out of  16 | elapsed:    0.7s remaining:    0.4s\n",
      "[Parallel(n_jobs=-1)]: Done  16 out of  16 | elapsed:    0.9s finished\n",
      "Features: 17/26[Parallel(n_jobs=-1)]: Using backend LokyBackend with 12 concurrent workers.\n",
      "[Parallel(n_jobs=-1)]: Done   2 out of  12 | elapsed:    0.5s remaining:    2.8s\n",
      "[Parallel(n_jobs=-1)]: Done  12 out of  12 | elapsed:    0.8s finished\n",
      "[Parallel(n_jobs=-1)]: Using backend LokyBackend with 12 concurrent workers.\n",
      "[Parallel(n_jobs=-1)]: Done  12 out of  17 | elapsed:    0.7s remaining:    0.3s\n",
      "[Parallel(n_jobs=-1)]: Done  17 out of  17 | elapsed:    1.0s finished\n",
      "Features: 18/26[Parallel(n_jobs=-1)]: Using backend LokyBackend with 12 concurrent workers.\n",
      "[Parallel(n_jobs=-1)]: Done  11 out of  11 | elapsed:    0.7s finished\n",
      "[Parallel(n_jobs=-1)]: Using backend LokyBackend with 12 concurrent workers.\n",
      "[Parallel(n_jobs=-1)]: Done  14 out of  18 | elapsed:    1.0s remaining:    0.2s\n",
      "[Parallel(n_jobs=-1)]: Done  18 out of  18 | elapsed:    1.1s finished\n",
      "Features: 19/26[Parallel(n_jobs=-1)]: Using backend LokyBackend with 12 concurrent workers.\n",
      "[Parallel(n_jobs=-1)]: Done  10 out of  10 | elapsed:    0.5s finished\n",
      "[Parallel(n_jobs=-1)]: Using backend LokyBackend with 12 concurrent workers.\n",
      "[Parallel(n_jobs=-1)]: Done  16 out of  19 | elapsed:    1.1s remaining:    0.1s\n",
      "[Parallel(n_jobs=-1)]: Done  19 out of  19 | elapsed:    1.1s finished\n",
      "Features: 20/26[Parallel(n_jobs=-1)]: Using backend LokyBackend with 12 concurrent workers.\n",
      "[Parallel(n_jobs=-1)]: Done   6 out of   9 | elapsed:    0.5s remaining:    0.2s\n",
      "[Parallel(n_jobs=-1)]: Done   9 out of   9 | elapsed:    0.5s finished\n",
      "[Parallel(n_jobs=-1)]: Using backend LokyBackend with 12 concurrent workers.\n",
      "[Parallel(n_jobs=-1)]: Done  18 out of  20 | elapsed:    1.1s remaining:    0.0s\n",
      "[Parallel(n_jobs=-1)]: Done  20 out of  20 | elapsed:    1.2s finished\n",
      "[Parallel(n_jobs=-1)]: Using backend LokyBackend with 12 concurrent workers.\n",
      "[Parallel(n_jobs=-1)]: Done  16 out of  19 | elapsed:    1.2s remaining:    0.2s\n",
      "[Parallel(n_jobs=-1)]: Done  19 out of  19 | elapsed:    1.3s finished\n",
      "Features: 20/26[Parallel(n_jobs=-1)]: Using backend LokyBackend with 12 concurrent workers.\n",
      "[Parallel(n_jobs=-1)]: Done   6 out of   9 | elapsed:    0.7s remaining:    0.3s\n",
      "[Parallel(n_jobs=-1)]: Done   9 out of   9 | elapsed:    0.8s finished\n",
      "[Parallel(n_jobs=-1)]: Using backend LokyBackend with 12 concurrent workers.\n",
      "[Parallel(n_jobs=-1)]: Done  18 out of  20 | elapsed:    1.3s remaining:    0.1s\n",
      "[Parallel(n_jobs=-1)]: Done  20 out of  20 | elapsed:    1.3s finished\n",
      "Features: 21/26[Parallel(n_jobs=-1)]: Using backend LokyBackend with 12 concurrent workers.\n",
      "[Parallel(n_jobs=-1)]: Done   3 out of   8 | elapsed:    0.6s remaining:    1.1s\n",
      "[Parallel(n_jobs=-1)]: Done   8 out of   8 | elapsed:    0.7s finished\n",
      "[Parallel(n_jobs=-1)]: Using backend LokyBackend with 12 concurrent workers.\n",
      "[Parallel(n_jobs=-1)]: Done  21 out of  21 | elapsed:    1.6s finished\n",
      "Features: 22/26[Parallel(n_jobs=-1)]: Using backend LokyBackend with 12 concurrent workers.\n",
      "[Parallel(n_jobs=-1)]: Done   7 out of   7 | elapsed:    0.7s finished\n",
      "[Parallel(n_jobs=-1)]: Using backend LokyBackend with 12 concurrent workers.\n",
      "[Parallel(n_jobs=-1)]: Done  22 out of  22 | elapsed:    1.8s finished\n",
      "Features: 23/26[Parallel(n_jobs=-1)]: Using backend LokyBackend with 12 concurrent workers.\n",
      "[Parallel(n_jobs=-1)]: Done   4 out of   6 | elapsed:    0.7s remaining:    0.3s\n",
      "[Parallel(n_jobs=-1)]: Done   6 out of   6 | elapsed:    0.7s finished\n",
      "[Parallel(n_jobs=-1)]: Using backend LokyBackend with 12 concurrent workers.\n",
      "[Parallel(n_jobs=-1)]: Done  23 out of  23 | elapsed:    1.8s finished\n",
      "Features: 24/26[Parallel(n_jobs=-1)]: Using backend LokyBackend with 12 concurrent workers.\n",
      "[Parallel(n_jobs=-1)]: Done   5 out of   5 | elapsed:    0.7s finished\n",
      "[Parallel(n_jobs=-1)]: Using backend LokyBackend with 12 concurrent workers.\n",
      "[Parallel(n_jobs=-1)]: Done  24 out of  24 | elapsed:    2.0s finished\n",
      "Features: 25/26[Parallel(n_jobs=-1)]: Using backend LokyBackend with 12 concurrent workers.\n",
      "[Parallel(n_jobs=-1)]: Done   4 out of   4 | elapsed:    0.7s finished\n",
      "[Parallel(n_jobs=-1)]: Using backend LokyBackend with 12 concurrent workers.\n",
      "[Parallel(n_jobs=-1)]: Done  25 out of  25 | elapsed:    2.3s finished\n",
      "[Parallel(n_jobs=-1)]: Using backend LokyBackend with 12 concurrent workers.\n",
      "[Parallel(n_jobs=-1)]: Done  24 out of  24 | elapsed:    2.0s finished\n",
      "Features: 25/26[Parallel(n_jobs=-1)]: Using backend LokyBackend with 12 concurrent workers.\n",
      "[Parallel(n_jobs=-1)]: Done   4 out of   4 | elapsed:    0.7s finished\n",
      "[Parallel(n_jobs=-1)]: Using backend LokyBackend with 12 concurrent workers.\n",
      "[Parallel(n_jobs=-1)]: Done  25 out of  25 | elapsed:    2.3s finished\n",
      "Features: 26/26"
     ]
    },
    {
     "name": "stdout",
     "output_type": "stream",
     "text": [
      "Fitting 87 folds for each of 200 candidates, totalling 17400 fits\n",
      "0.0 {'max_depth': 1, 'min_samples_leaf': 1, 'min_samples_split': 2}\n"
     ]
    },
    {
     "name": "stderr",
     "output_type": "stream",
     "text": [
      "[Parallel(n_jobs=-1)]: Using backend LokyBackend with 12 concurrent workers.\n",
      "[Parallel(n_jobs=-1)]: Done  29 out of  29 | elapsed:    0.5s finished\n",
      "Features: 1/27[Parallel(n_jobs=-1)]: Using backend LokyBackend with 12 concurrent workers.\n",
      "[Parallel(n_jobs=-1)]: Done  28 out of  28 | elapsed:    0.6s finished\n",
      "Features: 2/27[Parallel(n_jobs=-1)]: Using backend LokyBackend with 12 concurrent workers.\n",
      "[Parallel(n_jobs=-1)]: Done  27 out of  27 | elapsed:    0.6s finished\n",
      "[Parallel(n_jobs=-1)]: Using backend LokyBackend with 12 concurrent workers.\n",
      "[Parallel(n_jobs=-1)]: Done   2 out of   2 | elapsed:    0.0s finished\n",
      "Features: 3/27[Parallel(n_jobs=-1)]: Using backend LokyBackend with 12 concurrent workers.\n",
      "[Parallel(n_jobs=-1)]: Done  26 out of  26 | elapsed:    0.6s finished\n",
      "[Parallel(n_jobs=-1)]: Using backend LokyBackend with 12 concurrent workers.\n",
      "[Parallel(n_jobs=-1)]: Done   3 out of   3 | elapsed:    0.0s finished\n",
      "Features: 4/27[Parallel(n_jobs=-1)]: Using backend LokyBackend with 12 concurrent workers.\n",
      "[Parallel(n_jobs=-1)]: Done  25 out of  25 | elapsed:    0.6s finished\n",
      "[Parallel(n_jobs=-1)]: Using backend LokyBackend with 12 concurrent workers.\n",
      "[Parallel(n_jobs=-1)]: Done   4 out of   4 | elapsed:    0.1s finished\n",
      "Features: 5/27[Parallel(n_jobs=-1)]: Using backend LokyBackend with 12 concurrent workers.\n",
      "[Parallel(n_jobs=-1)]: Done  24 out of  24 | elapsed:    0.6s finished\n",
      "[Parallel(n_jobs=-1)]: Using backend LokyBackend with 12 concurrent workers.\n",
      "[Parallel(n_jobs=-1)]: Done   5 out of   5 | elapsed:    0.1s finished\n",
      "Features: 6/27[Parallel(n_jobs=-1)]: Using backend LokyBackend with 12 concurrent workers.\n",
      "[Parallel(n_jobs=-1)]: Done  23 out of  23 | elapsed:    0.6s finished\n",
      "[Parallel(n_jobs=-1)]: Using backend LokyBackend with 12 concurrent workers.\n",
      "[Parallel(n_jobs=-1)]: Done   4 out of   6 | elapsed:    0.1s remaining:    0.0s\n",
      "[Parallel(n_jobs=-1)]: Done   6 out of   6 | elapsed:    0.2s finished\n",
      "Features: 7/27[Parallel(n_jobs=-1)]: Using backend LokyBackend with 12 concurrent workers.\n",
      "[Parallel(n_jobs=-1)]: Done  22 out of  22 | elapsed:    0.7s finished\n",
      "[Parallel(n_jobs=-1)]: Using backend LokyBackend with 12 concurrent workers.\n",
      "[Parallel(n_jobs=-1)]: Done   7 out of   7 | elapsed:    0.2s finished\n",
      "Features: 8/27[Parallel(n_jobs=-1)]: Using backend LokyBackend with 12 concurrent workers.\n",
      "[Parallel(n_jobs=-1)]: Done  21 out of  21 | elapsed:    0.7s finished\n",
      "[Parallel(n_jobs=-1)]: Using backend LokyBackend with 12 concurrent workers.\n",
      "[Parallel(n_jobs=-1)]: Done   3 out of   8 | elapsed:    0.2s remaining:    0.4s\n",
      "[Parallel(n_jobs=-1)]: Done   8 out of   8 | elapsed:    0.2s finished\n",
      "Features: 9/27[Parallel(n_jobs=-1)]: Using backend LokyBackend with 12 concurrent workers.\n",
      "[Parallel(n_jobs=-1)]: Done  18 out of  20 | elapsed:    0.6s remaining:    0.0s\n",
      "[Parallel(n_jobs=-1)]: Done  20 out of  20 | elapsed:    0.8s finished\n",
      "[Parallel(n_jobs=-1)]: Using backend LokyBackend with 12 concurrent workers.\n",
      "[Parallel(n_jobs=-1)]: Done   6 out of   9 | elapsed:    0.2s remaining:    0.1s\n",
      "[Parallel(n_jobs=-1)]: Done   9 out of   9 | elapsed:    0.3s finished\n",
      "Features: 10/27[Parallel(n_jobs=-1)]: Using backend LokyBackend with 12 concurrent workers.\n",
      "[Parallel(n_jobs=-1)]: Done  16 out of  19 | elapsed:    0.7s remaining:    0.0s\n",
      "[Parallel(n_jobs=-1)]: Done  19 out of  19 | elapsed:    0.7s finished\n",
      "[Parallel(n_jobs=-1)]: Using backend LokyBackend with 12 concurrent workers.\n",
      "[Parallel(n_jobs=-1)]: Done  10 out of  10 | elapsed:    0.3s finished\n",
      "Features: 11/27[Parallel(n_jobs=-1)]: Using backend LokyBackend with 12 concurrent workers.\n",
      "[Parallel(n_jobs=-1)]: Done  14 out of  18 | elapsed:    0.7s remaining:    0.1s\n",
      "[Parallel(n_jobs=-1)]: Done  18 out of  18 | elapsed:    0.7s finished\n",
      "[Parallel(n_jobs=-1)]: Using backend LokyBackend with 12 concurrent workers.\n",
      "[Parallel(n_jobs=-1)]: Done  11 out of  11 | elapsed:    0.4s finished\n",
      "Features: 12/27[Parallel(n_jobs=-1)]: Using backend LokyBackend with 12 concurrent workers.\n",
      "[Parallel(n_jobs=-1)]: Done  12 out of  17 | elapsed:    0.6s remaining:    0.2s\n",
      "[Parallel(n_jobs=-1)]: Done  17 out of  17 | elapsed:    0.8s finished\n",
      "[Parallel(n_jobs=-1)]: Using backend LokyBackend with 12 concurrent workers.\n",
      "[Parallel(n_jobs=-1)]: Done   2 out of  12 | elapsed:    0.3s remaining:    2.0s\n",
      "[Parallel(n_jobs=-1)]: Done  12 out of  12 | elapsed:    0.5s finished\n",
      "Features: 13/27[Parallel(n_jobs=-1)]: Using backend LokyBackend with 12 concurrent workers.\n",
      "[Parallel(n_jobs=-1)]: Done  10 out of  16 | elapsed:    0.6s remaining:    0.3s\n",
      "[Parallel(n_jobs=-1)]: Done  16 out of  16 | elapsed:    0.8s finished\n",
      "[Parallel(n_jobs=-1)]: Using backend LokyBackend with 12 concurrent workers.\n",
      "[Parallel(n_jobs=-1)]: Done   4 out of  13 | elapsed:    0.4s remaining:    0.9s\n",
      "[Parallel(n_jobs=-1)]: Done  13 out of  13 | elapsed:    0.7s finished\n",
      "[Parallel(n_jobs=-1)]: Using backend LokyBackend with 12 concurrent workers.\n",
      "[Parallel(n_jobs=-1)]: Done   2 out of  12 | elapsed:    0.4s remaining:    2.3s\n",
      "[Parallel(n_jobs=-1)]: Done  12 out of  12 | elapsed:    0.6s finished\n",
      "Features: 13/27[Parallel(n_jobs=-1)]: Using backend LokyBackend with 12 concurrent workers.\n",
      "[Parallel(n_jobs=-1)]: Done  10 out of  16 | elapsed:    0.7s remaining:    0.4s\n",
      "[Parallel(n_jobs=-1)]: Done  16 out of  16 | elapsed:    0.8s finished\n",
      "[Parallel(n_jobs=-1)]: Using backend LokyBackend with 12 concurrent workers.\n",
      "[Parallel(n_jobs=-1)]: Done   4 out of  13 | elapsed:    0.4s remaining:    1.0s\n",
      "[Parallel(n_jobs=-1)]: Done  13 out of  13 | elapsed:    0.7s finished\n",
      "Features: 14/27[Parallel(n_jobs=-1)]: Using backend LokyBackend with 12 concurrent workers.\n",
      "[Parallel(n_jobs=-1)]: Done   8 out of  15 | elapsed:    0.6s remaining:    0.5s\n",
      "[Parallel(n_jobs=-1)]: Done  15 out of  15 | elapsed:    1.1s finished\n",
      "[Parallel(n_jobs=-1)]: Using backend LokyBackend with 12 concurrent workers.\n",
      "[Parallel(n_jobs=-1)]: Done   6 out of  14 | elapsed:    0.5s remaining:    0.6s\n",
      "[Parallel(n_jobs=-1)]: Done  14 out of  14 | elapsed:    1.0s finished\n",
      "Features: 15/27[Parallel(n_jobs=-1)]: Using backend LokyBackend with 12 concurrent workers.\n",
      "[Parallel(n_jobs=-1)]: Done   6 out of  14 | elapsed:    0.6s remaining:    0.9s\n",
      "[Parallel(n_jobs=-1)]: Done  14 out of  14 | elapsed:    1.1s finished\n",
      "[Parallel(n_jobs=-1)]: Using backend LokyBackend with 12 concurrent workers.\n",
      "[Parallel(n_jobs=-1)]: Done   8 out of  15 | elapsed:    0.8s remaining:    0.6s\n",
      "[Parallel(n_jobs=-1)]: Done  15 out of  15 | elapsed:    1.1s finished\n",
      "Features: 16/27[Parallel(n_jobs=-1)]: Using backend LokyBackend with 12 concurrent workers.\n",
      "[Parallel(n_jobs=-1)]: Done   4 out of  13 | elapsed:    0.6s remaining:    1.5s\n",
      "[Parallel(n_jobs=-1)]: Done  13 out of  13 | elapsed:    1.2s finished\n",
      "[Parallel(n_jobs=-1)]: Using backend LokyBackend with 12 concurrent workers.\n",
      "[Parallel(n_jobs=-1)]: Done  10 out of  16 | elapsed:    0.8s remaining:    0.5s\n",
      "[Parallel(n_jobs=-1)]: Done  16 out of  16 | elapsed:    1.2s finished\n",
      "Features: 17/27[Parallel(n_jobs=-1)]: Using backend LokyBackend with 12 concurrent workers.\n",
      "[Parallel(n_jobs=-1)]: Done   2 out of  12 | elapsed:    0.5s remaining:    3.0s\n",
      "[Parallel(n_jobs=-1)]: Done  12 out of  12 | elapsed:    0.8s finished\n",
      "[Parallel(n_jobs=-1)]: Using backend LokyBackend with 12 concurrent workers.\n",
      "[Parallel(n_jobs=-1)]: Done  12 out of  17 | elapsed:    0.7s remaining:    0.2s\n",
      "[Parallel(n_jobs=-1)]: Done  17 out of  17 | elapsed:    1.0s finished\n",
      "Features: 18/27[Parallel(n_jobs=-1)]: Using backend LokyBackend with 12 concurrent workers.\n",
      "[Parallel(n_jobs=-1)]: Done  11 out of  11 | elapsed:    0.8s finished\n",
      "[Parallel(n_jobs=-1)]: Using backend LokyBackend with 12 concurrent workers.\n",
      "[Parallel(n_jobs=-1)]: Done  14 out of  18 | elapsed:    1.2s remaining:    0.3s\n",
      "[Parallel(n_jobs=-1)]: Done  18 out of  18 | elapsed:    1.3s finished\n",
      "Features: 19/27[Parallel(n_jobs=-1)]: Using backend LokyBackend with 12 concurrent workers.\n",
      "[Parallel(n_jobs=-1)]: Done  10 out of  10 | elapsed:    0.9s finished\n",
      "[Parallel(n_jobs=-1)]: Using backend LokyBackend with 12 concurrent workers.\n",
      "[Parallel(n_jobs=-1)]: Done  16 out of  19 | elapsed:    1.4s remaining:    0.2s\n",
      "[Parallel(n_jobs=-1)]: Done  19 out of  19 | elapsed:    1.6s finished\n",
      "Features: 20/27[Parallel(n_jobs=-1)]: Using backend LokyBackend with 12 concurrent workers.\n",
      "[Parallel(n_jobs=-1)]: Done   6 out of   9 | elapsed:    0.7s remaining:    0.3s\n",
      "[Parallel(n_jobs=-1)]: Done   9 out of   9 | elapsed:    0.9s finished\n",
      "[Parallel(n_jobs=-1)]: Using backend LokyBackend with 12 concurrent workers.\n",
      "[Parallel(n_jobs=-1)]: Done  18 out of  20 | elapsed:    1.5s remaining:    0.1s\n",
      "[Parallel(n_jobs=-1)]: Done  20 out of  20 | elapsed:    1.8s finished\n",
      "[Parallel(n_jobs=-1)]: Using backend LokyBackend with 12 concurrent workers.\n",
      "[Parallel(n_jobs=-1)]: Done  16 out of  19 | elapsed:    1.2s remaining:    0.1s\n",
      "[Parallel(n_jobs=-1)]: Done  19 out of  19 | elapsed:    1.2s finished\n",
      "Features: 20/27[Parallel(n_jobs=-1)]: Using backend LokyBackend with 12 concurrent workers.\n",
      "[Parallel(n_jobs=-1)]: Done   6 out of   9 | elapsed:    0.9s remaining:    0.4s\n",
      "[Parallel(n_jobs=-1)]: Done   9 out of   9 | elapsed:    0.9s finished\n",
      "[Parallel(n_jobs=-1)]: Using backend LokyBackend with 12 concurrent workers.\n",
      "[Parallel(n_jobs=-1)]: Done  18 out of  20 | elapsed:    1.7s remaining:    0.1s\n",
      "[Parallel(n_jobs=-1)]: Done  20 out of  20 | elapsed:    1.9s finished\n",
      "Features: 21/27[Parallel(n_jobs=-1)]: Using backend LokyBackend with 12 concurrent workers.\n",
      "[Parallel(n_jobs=-1)]: Done   3 out of   8 | elapsed:    0.7s remaining:    1.3s\n",
      "[Parallel(n_jobs=-1)]: Done   8 out of   8 | elapsed:    0.8s finished\n",
      "[Parallel(n_jobs=-1)]: Using backend LokyBackend with 12 concurrent workers.\n",
      "[Parallel(n_jobs=-1)]: Done  21 out of  21 | elapsed:    1.7s finished\n",
      "Features: 22/27[Parallel(n_jobs=-1)]: Using backend LokyBackend with 12 concurrent workers.\n",
      "[Parallel(n_jobs=-1)]: Done   7 out of   7 | elapsed:    0.8s finished\n",
      "[Parallel(n_jobs=-1)]: Using backend LokyBackend with 12 concurrent workers.\n",
      "[Parallel(n_jobs=-1)]: Done  22 out of  22 | elapsed:    2.1s finished\n",
      "Features: 23/27[Parallel(n_jobs=-1)]: Using backend LokyBackend with 12 concurrent workers.\n",
      "[Parallel(n_jobs=-1)]: Done   4 out of   6 | elapsed:    1.1s remaining:    0.5s\n",
      "[Parallel(n_jobs=-1)]: Done   6 out of   6 | elapsed:    1.1s finished\n",
      "[Parallel(n_jobs=-1)]: Using backend LokyBackend with 12 concurrent workers.\n",
      "[Parallel(n_jobs=-1)]: Done  23 out of  23 | elapsed:    2.2s finished\n",
      "Features: 24/27[Parallel(n_jobs=-1)]: Using backend LokyBackend with 12 concurrent workers.\n",
      "[Parallel(n_jobs=-1)]: Done   5 out of   5 | elapsed:    1.0s finished\n",
      "[Parallel(n_jobs=-1)]: Using backend LokyBackend with 12 concurrent workers.\n",
      "[Parallel(n_jobs=-1)]: Done  24 out of  24 | elapsed:    2.3s finished\n",
      "Features: 25/27[Parallel(n_jobs=-1)]: Using backend LokyBackend with 12 concurrent workers.\n",
      "[Parallel(n_jobs=-1)]: Done   4 out of   4 | elapsed:    1.0s finished\n",
      "[Parallel(n_jobs=-1)]: Using backend LokyBackend with 12 concurrent workers.\n",
      "[Parallel(n_jobs=-1)]: Done  25 out of  25 | elapsed:    2.5s finished\n",
      "[Parallel(n_jobs=-1)]: Using backend LokyBackend with 12 concurrent workers.\n",
      "[Parallel(n_jobs=-1)]: Done  24 out of  24 | elapsed:    2.6s finished\n",
      "Features: 25/27[Parallel(n_jobs=-1)]: Using backend LokyBackend with 12 concurrent workers.\n",
      "[Parallel(n_jobs=-1)]: Done   4 out of   4 | elapsed:    1.0s finished\n",
      "[Parallel(n_jobs=-1)]: Using backend LokyBackend with 12 concurrent workers.\n",
      "[Parallel(n_jobs=-1)]: Done  25 out of  25 | elapsed:    2.5s finished\n",
      "Features: 26/27[Parallel(n_jobs=-1)]: Using backend LokyBackend with 12 concurrent workers.\n",
      "[Parallel(n_jobs=-1)]: Done   3 out of   3 | elapsed:    0.9s finished\n",
      "[Parallel(n_jobs=-1)]: Using backend LokyBackend with 12 concurrent workers.\n",
      "[Parallel(n_jobs=-1)]: Done  26 out of  26 | elapsed:    2.7s finished\n",
      "Features: 27/27"
     ]
    },
    {
     "name": "stdout",
     "output_type": "stream",
     "text": [
      "Fitting 87 folds for each of 200 candidates, totalling 17400 fits\n",
      "0.0 {'max_depth': 1, 'min_samples_leaf': 1, 'min_samples_split': 2}\n"
     ]
    },
    {
     "name": "stderr",
     "output_type": "stream",
     "text": [
      "[Parallel(n_jobs=-1)]: Using backend LokyBackend with 12 concurrent workers.\n",
      "[Parallel(n_jobs=-1)]: Done  29 out of  29 | elapsed:    0.7s finished\n",
      "Features: 1/28[Parallel(n_jobs=-1)]: Using backend LokyBackend with 12 concurrent workers.\n",
      "[Parallel(n_jobs=-1)]: Done  28 out of  28 | elapsed:    0.8s finished\n",
      "Features: 2/28[Parallel(n_jobs=-1)]: Using backend LokyBackend with 12 concurrent workers.\n",
      "[Parallel(n_jobs=-1)]: Done  27 out of  27 | elapsed:    0.7s finished\n",
      "[Parallel(n_jobs=-1)]: Using backend LokyBackend with 12 concurrent workers.\n",
      "[Parallel(n_jobs=-1)]: Done   2 out of   2 | elapsed:    0.1s finished\n",
      "Features: 3/28[Parallel(n_jobs=-1)]: Using backend LokyBackend with 12 concurrent workers.\n",
      "[Parallel(n_jobs=-1)]: Done  26 out of  26 | elapsed:    0.7s finished\n",
      "[Parallel(n_jobs=-1)]: Using backend LokyBackend with 12 concurrent workers.\n",
      "[Parallel(n_jobs=-1)]: Done   3 out of   3 | elapsed:    0.1s finished\n",
      "Features: 4/28[Parallel(n_jobs=-1)]: Using backend LokyBackend with 12 concurrent workers.\n",
      "[Parallel(n_jobs=-1)]: Done  25 out of  25 | elapsed:    0.6s finished\n",
      "[Parallel(n_jobs=-1)]: Using backend LokyBackend with 12 concurrent workers.\n",
      "[Parallel(n_jobs=-1)]: Done   4 out of   4 | elapsed:    0.1s finished\n",
      "Features: 5/28[Parallel(n_jobs=-1)]: Using backend LokyBackend with 12 concurrent workers.\n",
      "[Parallel(n_jobs=-1)]: Done  24 out of  24 | elapsed:    0.7s finished\n",
      "[Parallel(n_jobs=-1)]: Using backend LokyBackend with 12 concurrent workers.\n",
      "[Parallel(n_jobs=-1)]: Done   5 out of   5 | elapsed:    0.1s finished\n",
      "Features: 6/28[Parallel(n_jobs=-1)]: Using backend LokyBackend with 12 concurrent workers.\n",
      "[Parallel(n_jobs=-1)]: Done  23 out of  23 | elapsed:    0.7s finished\n",
      "[Parallel(n_jobs=-1)]: Using backend LokyBackend with 12 concurrent workers.\n",
      "[Parallel(n_jobs=-1)]: Done   4 out of   6 | elapsed:    0.2s remaining:    0.0s\n",
      "[Parallel(n_jobs=-1)]: Done   6 out of   6 | elapsed:    0.2s finished\n",
      "Features: 7/28[Parallel(n_jobs=-1)]: Using backend LokyBackend with 12 concurrent workers.\n",
      "[Parallel(n_jobs=-1)]: Done  22 out of  22 | elapsed:    0.8s finished\n",
      "[Parallel(n_jobs=-1)]: Using backend LokyBackend with 12 concurrent workers.\n",
      "[Parallel(n_jobs=-1)]: Done   7 out of   7 | elapsed:    0.2s finished\n",
      "Features: 8/28[Parallel(n_jobs=-1)]: Using backend LokyBackend with 12 concurrent workers.\n",
      "[Parallel(n_jobs=-1)]: Done  21 out of  21 | elapsed:    0.8s finished\n",
      "[Parallel(n_jobs=-1)]: Using backend LokyBackend with 12 concurrent workers.\n",
      "[Parallel(n_jobs=-1)]: Done   3 out of   8 | elapsed:    0.2s remaining:    0.4s\n",
      "[Parallel(n_jobs=-1)]: Done   8 out of   8 | elapsed:    0.2s finished\n",
      "Features: 9/28[Parallel(n_jobs=-1)]: Using backend LokyBackend with 12 concurrent workers.\n",
      "[Parallel(n_jobs=-1)]: Done  18 out of  20 | elapsed:    0.6s remaining:    0.0s\n",
      "[Parallel(n_jobs=-1)]: Done  20 out of  20 | elapsed:    0.6s finished\n",
      "[Parallel(n_jobs=-1)]: Using backend LokyBackend with 12 concurrent workers.\n",
      "[Parallel(n_jobs=-1)]: Done   6 out of   9 | elapsed:    0.3s remaining:    0.1s\n",
      "[Parallel(n_jobs=-1)]: Done   9 out of   9 | elapsed:    0.3s finished\n",
      "Features: 10/28[Parallel(n_jobs=-1)]: Using backend LokyBackend with 12 concurrent workers.\n",
      "[Parallel(n_jobs=-1)]: Done  16 out of  19 | elapsed:    0.7s remaining:    0.0s\n",
      "[Parallel(n_jobs=-1)]: Done  19 out of  19 | elapsed:    0.7s finished\n",
      "[Parallel(n_jobs=-1)]: Using backend LokyBackend with 12 concurrent workers.\n",
      "[Parallel(n_jobs=-1)]: Done  10 out of  10 | elapsed:    0.3s finished\n",
      "Features: 11/28[Parallel(n_jobs=-1)]: Using backend LokyBackend with 12 concurrent workers.\n",
      "[Parallel(n_jobs=-1)]: Done  14 out of  18 | elapsed:    0.8s remaining:    0.1s\n",
      "[Parallel(n_jobs=-1)]: Done  18 out of  18 | elapsed:    0.8s finished\n",
      "[Parallel(n_jobs=-1)]: Using backend LokyBackend with 12 concurrent workers.\n",
      "[Parallel(n_jobs=-1)]: Done  11 out of  11 | elapsed:    0.5s finished\n",
      "Features: 12/28[Parallel(n_jobs=-1)]: Using backend LokyBackend with 12 concurrent workers.\n",
      "[Parallel(n_jobs=-1)]: Done  12 out of  17 | elapsed:    0.7s remaining:    0.2s\n",
      "[Parallel(n_jobs=-1)]: Done  17 out of  17 | elapsed:    0.9s finished\n",
      "[Parallel(n_jobs=-1)]: Using backend LokyBackend with 12 concurrent workers.\n",
      "[Parallel(n_jobs=-1)]: Done   2 out of  12 | elapsed:    0.3s remaining:    1.9s\n",
      "[Parallel(n_jobs=-1)]: Done  12 out of  12 | elapsed:    0.4s finished\n",
      "Features: 13/28[Parallel(n_jobs=-1)]: Using backend LokyBackend with 12 concurrent workers.\n",
      "[Parallel(n_jobs=-1)]: Done  10 out of  16 | elapsed:    0.6s remaining:    0.3s\n",
      "[Parallel(n_jobs=-1)]: Done  16 out of  16 | elapsed:    0.8s finished\n",
      "[Parallel(n_jobs=-1)]: Using backend LokyBackend with 12 concurrent workers.\n",
      "[Parallel(n_jobs=-1)]: Done   4 out of  13 | elapsed:    0.4s remaining:    0.9s\n",
      "[Parallel(n_jobs=-1)]: Done  13 out of  13 | elapsed:    0.7s finished\n",
      "[Parallel(n_jobs=-1)]: Using backend LokyBackend with 12 concurrent workers.\n",
      "[Parallel(n_jobs=-1)]: Done   2 out of  12 | elapsed:    0.4s remaining:    2.6s\n",
      "[Parallel(n_jobs=-1)]: Done  12 out of  12 | elapsed:    0.7s finished\n",
      "Features: 13/28[Parallel(n_jobs=-1)]: Using backend LokyBackend with 12 concurrent workers.\n",
      "[Parallel(n_jobs=-1)]: Done  10 out of  16 | elapsed:    0.8s remaining:    0.4s\n",
      "[Parallel(n_jobs=-1)]: Done  16 out of  16 | elapsed:    1.0s finished\n",
      "[Parallel(n_jobs=-1)]: Using backend LokyBackend with 12 concurrent workers.\n",
      "[Parallel(n_jobs=-1)]: Done   4 out of  13 | elapsed:    0.6s remaining:    1.5s\n",
      "[Parallel(n_jobs=-1)]: Done  13 out of  13 | elapsed:    1.0s finished\n",
      "Features: 14/28[Parallel(n_jobs=-1)]: Using backend LokyBackend with 12 concurrent workers.\n",
      "[Parallel(n_jobs=-1)]: Done   8 out of  15 | elapsed:    0.7s remaining:    0.6s\n",
      "[Parallel(n_jobs=-1)]: Done  15 out of  15 | elapsed:    1.1s finished\n",
      "[Parallel(n_jobs=-1)]: Using backend LokyBackend with 12 concurrent workers.\n",
      "[Parallel(n_jobs=-1)]: Done   6 out of  14 | elapsed:    0.6s remaining:    0.8s\n",
      "[Parallel(n_jobs=-1)]: Done  14 out of  14 | elapsed:    1.1s finished\n",
      "Features: 15/28[Parallel(n_jobs=-1)]: Using backend LokyBackend with 12 concurrent workers.\n",
      "[Parallel(n_jobs=-1)]: Done   6 out of  14 | elapsed:    0.6s remaining:    0.8s\n",
      "[Parallel(n_jobs=-1)]: Done  14 out of  14 | elapsed:    1.1s finished\n",
      "[Parallel(n_jobs=-1)]: Using backend LokyBackend with 12 concurrent workers.\n",
      "[Parallel(n_jobs=-1)]: Done   8 out of  15 | elapsed:    0.6s remaining:    0.5s\n",
      "[Parallel(n_jobs=-1)]: Done  15 out of  15 | elapsed:    1.1s finished\n",
      "Features: 16/28[Parallel(n_jobs=-1)]: Using backend LokyBackend with 12 concurrent workers.\n",
      "[Parallel(n_jobs=-1)]: Done   4 out of  13 | elapsed:    0.5s remaining:    1.2s\n",
      "[Parallel(n_jobs=-1)]: Done  13 out of  13 | elapsed:    1.1s finished\n",
      "[Parallel(n_jobs=-1)]: Using backend LokyBackend with 12 concurrent workers.\n",
      "[Parallel(n_jobs=-1)]: Done  10 out of  16 | elapsed:    0.8s remaining:    0.5s\n",
      "[Parallel(n_jobs=-1)]: Done  16 out of  16 | elapsed:    1.3s finished\n",
      "Features: 17/28[Parallel(n_jobs=-1)]: Using backend LokyBackend with 12 concurrent workers.\n",
      "[Parallel(n_jobs=-1)]: Done   2 out of  12 | elapsed:    0.5s remaining:    3.0s\n",
      "[Parallel(n_jobs=-1)]: Done  12 out of  12 | elapsed:    0.8s finished\n",
      "[Parallel(n_jobs=-1)]: Using backend LokyBackend with 12 concurrent workers.\n",
      "[Parallel(n_jobs=-1)]: Done  12 out of  17 | elapsed:    0.8s remaining:    0.3s\n",
      "[Parallel(n_jobs=-1)]: Done  17 out of  17 | elapsed:    1.1s finished\n",
      "Features: 18/28[Parallel(n_jobs=-1)]: Using backend LokyBackend with 12 concurrent workers.\n",
      "[Parallel(n_jobs=-1)]: Done  11 out of  11 | elapsed:    1.0s finished\n",
      "[Parallel(n_jobs=-1)]: Using backend LokyBackend with 12 concurrent workers.\n",
      "[Parallel(n_jobs=-1)]: Done  14 out of  18 | elapsed:    1.3s remaining:    0.3s\n",
      "[Parallel(n_jobs=-1)]: Done  18 out of  18 | elapsed:    1.4s finished\n",
      "Features: 19/28[Parallel(n_jobs=-1)]: Using backend LokyBackend with 12 concurrent workers.\n",
      "[Parallel(n_jobs=-1)]: Done  10 out of  10 | elapsed:    0.6s finished\n",
      "[Parallel(n_jobs=-1)]: Using backend LokyBackend with 12 concurrent workers.\n",
      "[Parallel(n_jobs=-1)]: Done  16 out of  19 | elapsed:    1.3s remaining:    0.2s\n",
      "[Parallel(n_jobs=-1)]: Done  19 out of  19 | elapsed:    1.4s finished\n",
      "Features: 20/28[Parallel(n_jobs=-1)]: Using backend LokyBackend with 12 concurrent workers.\n",
      "[Parallel(n_jobs=-1)]: Done   6 out of   9 | elapsed:    0.7s remaining:    0.3s\n",
      "[Parallel(n_jobs=-1)]: Done   9 out of   9 | elapsed:    0.8s finished\n",
      "[Parallel(n_jobs=-1)]: Using backend LokyBackend with 12 concurrent workers.\n",
      "[Parallel(n_jobs=-1)]: Done  18 out of  20 | elapsed:    1.2s remaining:    0.0s\n",
      "[Parallel(n_jobs=-1)]: Done  20 out of  20 | elapsed:    1.3s finished\n",
      "[Parallel(n_jobs=-1)]: Using backend LokyBackend with 12 concurrent workers.\n",
      "[Parallel(n_jobs=-1)]: Done  16 out of  19 | elapsed:    1.3s remaining:    0.2s\n",
      "[Parallel(n_jobs=-1)]: Done  19 out of  19 | elapsed:    1.6s finished\n",
      "Features: 20/28[Parallel(n_jobs=-1)]: Using backend LokyBackend with 12 concurrent workers.\n",
      "[Parallel(n_jobs=-1)]: Done   6 out of   9 | elapsed:    0.7s remaining:    0.3s\n",
      "[Parallel(n_jobs=-1)]: Done   9 out of   9 | elapsed:    0.8s finished\n",
      "[Parallel(n_jobs=-1)]: Using backend LokyBackend with 12 concurrent workers.\n",
      "[Parallel(n_jobs=-1)]: Done  18 out of  20 | elapsed:    1.3s remaining:    0.1s\n",
      "[Parallel(n_jobs=-1)]: Done  20 out of  20 | elapsed:    1.3s finished\n",
      "Features: 21/28[Parallel(n_jobs=-1)]: Using backend LokyBackend with 12 concurrent workers.\n",
      "[Parallel(n_jobs=-1)]: Done   3 out of   8 | elapsed:    0.7s remaining:    1.2s\n",
      "[Parallel(n_jobs=-1)]: Done   8 out of   8 | elapsed:    0.8s finished\n",
      "[Parallel(n_jobs=-1)]: Using backend LokyBackend with 12 concurrent workers.\n",
      "[Parallel(n_jobs=-1)]: Done  21 out of  21 | elapsed:    1.9s finished\n",
      "Features: 22/28[Parallel(n_jobs=-1)]: Using backend LokyBackend with 12 concurrent workers.\n",
      "[Parallel(n_jobs=-1)]: Done   7 out of   7 | elapsed:    2.0s finished\n",
      "[Parallel(n_jobs=-1)]: Using backend LokyBackend with 12 concurrent workers.\n",
      "[Parallel(n_jobs=-1)]: Done  22 out of  22 | elapsed:    3.5s finished\n",
      "Features: 23/28[Parallel(n_jobs=-1)]: Using backend LokyBackend with 12 concurrent workers.\n",
      "[Parallel(n_jobs=-1)]: Done   4 out of   6 | elapsed:    0.5s remaining:    0.2s\n",
      "[Parallel(n_jobs=-1)]: Done   6 out of   6 | elapsed:    0.5s finished\n",
      "[Parallel(n_jobs=-1)]: Using backend LokyBackend with 12 concurrent workers.\n",
      "[Parallel(n_jobs=-1)]: Done  23 out of  23 | elapsed:    1.7s finished\n",
      "Features: 24/28[Parallel(n_jobs=-1)]: Using backend LokyBackend with 12 concurrent workers.\n",
      "[Parallel(n_jobs=-1)]: Done   5 out of   5 | elapsed:    0.5s finished\n",
      "[Parallel(n_jobs=-1)]: Using backend LokyBackend with 12 concurrent workers.\n",
      "[Parallel(n_jobs=-1)]: Done  24 out of  24 | elapsed:    1.8s finished\n",
      "Features: 25/28[Parallel(n_jobs=-1)]: Using backend LokyBackend with 12 concurrent workers.\n",
      "[Parallel(n_jobs=-1)]: Done   4 out of   4 | elapsed:    0.5s finished\n",
      "[Parallel(n_jobs=-1)]: Using backend LokyBackend with 12 concurrent workers.\n",
      "[Parallel(n_jobs=-1)]: Done  25 out of  25 | elapsed:    1.9s finished\n",
      "[Parallel(n_jobs=-1)]: Using backend LokyBackend with 12 concurrent workers.\n",
      "[Parallel(n_jobs=-1)]: Done  24 out of  24 | elapsed:    2.0s finished\n",
      "Features: 25/28[Parallel(n_jobs=-1)]: Using backend LokyBackend with 12 concurrent workers.\n",
      "[Parallel(n_jobs=-1)]: Done   4 out of   4 | elapsed:    0.7s finished\n",
      "[Parallel(n_jobs=-1)]: Using backend LokyBackend with 12 concurrent workers.\n",
      "[Parallel(n_jobs=-1)]: Done  25 out of  25 | elapsed:    2.5s finished\n",
      "Features: 26/28[Parallel(n_jobs=-1)]: Using backend LokyBackend with 12 concurrent workers.\n",
      "[Parallel(n_jobs=-1)]: Done   3 out of   3 | elapsed:    0.9s finished\n",
      "[Parallel(n_jobs=-1)]: Using backend LokyBackend with 12 concurrent workers.\n",
      "[Parallel(n_jobs=-1)]: Done  26 out of  26 | elapsed:    3.2s finished\n",
      "Features: 27/28[Parallel(n_jobs=-1)]: Using backend LokyBackend with 12 concurrent workers.\n",
      "[Parallel(n_jobs=-1)]: Done   2 out of   2 | elapsed:    0.9s finished\n",
      "[Parallel(n_jobs=-1)]: Using backend LokyBackend with 12 concurrent workers.\n",
      "[Parallel(n_jobs=-1)]: Done  27 out of  27 | elapsed:    2.9s finished\n",
      "Features: 28/28"
     ]
    },
    {
     "name": "stdout",
     "output_type": "stream",
     "text": [
      "Fitting 87 folds for each of 200 candidates, totalling 17400 fits\n",
      "0.0 {'max_depth': 1, 'min_samples_leaf': 1, 'min_samples_split': 2}\n"
     ]
    },
    {
     "name": "stderr",
     "output_type": "stream",
     "text": [
      "[Parallel(n_jobs=-1)]: Using backend LokyBackend with 12 concurrent workers.\n",
      "[Parallel(n_jobs=-1)]: Done  29 out of  29 | elapsed:    0.7s finished\n",
      "Features: 1/29[Parallel(n_jobs=-1)]: Using backend LokyBackend with 12 concurrent workers.\n",
      "[Parallel(n_jobs=-1)]: Done  28 out of  28 | elapsed:    0.9s finished\n",
      "Features: 2/29[Parallel(n_jobs=-1)]: Using backend LokyBackend with 12 concurrent workers.\n",
      "[Parallel(n_jobs=-1)]: Done  27 out of  27 | elapsed:    0.7s finished\n",
      "[Parallel(n_jobs=-1)]: Using backend LokyBackend with 12 concurrent workers.\n",
      "[Parallel(n_jobs=-1)]: Done   2 out of   2 | elapsed:    0.1s finished\n",
      "Features: 3/29[Parallel(n_jobs=-1)]: Using backend LokyBackend with 12 concurrent workers.\n",
      "[Parallel(n_jobs=-1)]: Done  26 out of  26 | elapsed:    0.6s finished\n",
      "[Parallel(n_jobs=-1)]: Using backend LokyBackend with 12 concurrent workers.\n",
      "[Parallel(n_jobs=-1)]: Done   3 out of   3 | elapsed:    0.1s finished\n",
      "Features: 4/29[Parallel(n_jobs=-1)]: Using backend LokyBackend with 12 concurrent workers.\n",
      "[Parallel(n_jobs=-1)]: Done  25 out of  25 | elapsed:    1.0s finished\n",
      "[Parallel(n_jobs=-1)]: Using backend LokyBackend with 12 concurrent workers.\n",
      "[Parallel(n_jobs=-1)]: Done   4 out of   4 | elapsed:    0.2s finished\n",
      "Features: 5/29[Parallel(n_jobs=-1)]: Using backend LokyBackend with 12 concurrent workers.\n",
      "[Parallel(n_jobs=-1)]: Done  24 out of  24 | elapsed:    2.3s finished\n",
      "[Parallel(n_jobs=-1)]: Using backend LokyBackend with 12 concurrent workers.\n",
      "[Parallel(n_jobs=-1)]: Done   5 out of   5 | elapsed:    0.1s finished\n",
      "Features: 6/29[Parallel(n_jobs=-1)]: Using backend LokyBackend with 12 concurrent workers.\n",
      "[Parallel(n_jobs=-1)]: Done  23 out of  23 | elapsed:    0.7s finished\n",
      "[Parallel(n_jobs=-1)]: Using backend LokyBackend with 12 concurrent workers.\n",
      "[Parallel(n_jobs=-1)]: Done   4 out of   6 | elapsed:    0.1s remaining:    0.0s\n",
      "[Parallel(n_jobs=-1)]: Done   6 out of   6 | elapsed:    0.2s finished\n",
      "Features: 7/29[Parallel(n_jobs=-1)]: Using backend LokyBackend with 12 concurrent workers.\n",
      "[Parallel(n_jobs=-1)]: Done  22 out of  22 | elapsed:    0.7s finished\n",
      "[Parallel(n_jobs=-1)]: Using backend LokyBackend with 12 concurrent workers.\n",
      "[Parallel(n_jobs=-1)]: Done   7 out of   7 | elapsed:    0.2s finished\n",
      "Features: 8/29[Parallel(n_jobs=-1)]: Using backend LokyBackend with 12 concurrent workers.\n",
      "[Parallel(n_jobs=-1)]: Done  21 out of  21 | elapsed:    0.8s finished\n",
      "[Parallel(n_jobs=-1)]: Using backend LokyBackend with 12 concurrent workers.\n",
      "[Parallel(n_jobs=-1)]: Done   3 out of   8 | elapsed:    0.2s remaining:    0.4s\n",
      "[Parallel(n_jobs=-1)]: Done   8 out of   8 | elapsed:    0.2s finished\n",
      "Features: 9/29[Parallel(n_jobs=-1)]: Using backend LokyBackend with 12 concurrent workers.\n",
      "[Parallel(n_jobs=-1)]: Done  18 out of  20 | elapsed:    0.7s remaining:    0.0s\n",
      "[Parallel(n_jobs=-1)]: Done  20 out of  20 | elapsed:    0.8s finished\n",
      "[Parallel(n_jobs=-1)]: Using backend LokyBackend with 12 concurrent workers.\n",
      "[Parallel(n_jobs=-1)]: Done   6 out of   9 | elapsed:    0.3s remaining:    0.1s\n",
      "[Parallel(n_jobs=-1)]: Done   9 out of   9 | elapsed:    0.3s finished\n",
      "Features: 10/29[Parallel(n_jobs=-1)]: Using backend LokyBackend with 12 concurrent workers.\n",
      "[Parallel(n_jobs=-1)]: Done  16 out of  19 | elapsed:    0.7s remaining:    0.1s\n",
      "[Parallel(n_jobs=-1)]: Done  19 out of  19 | elapsed:    0.8s finished\n",
      "[Parallel(n_jobs=-1)]: Using backend LokyBackend with 12 concurrent workers.\n",
      "[Parallel(n_jobs=-1)]: Done  10 out of  10 | elapsed:    0.3s finished\n",
      "Features: 11/29[Parallel(n_jobs=-1)]: Using backend LokyBackend with 12 concurrent workers.\n",
      "[Parallel(n_jobs=-1)]: Done  14 out of  18 | elapsed:    0.7s remaining:    0.1s\n",
      "[Parallel(n_jobs=-1)]: Done  18 out of  18 | elapsed:    0.8s finished\n",
      "[Parallel(n_jobs=-1)]: Using backend LokyBackend with 12 concurrent workers.\n",
      "[Parallel(n_jobs=-1)]: Done  11 out of  11 | elapsed:    0.4s finished\n",
      "Features: 12/29[Parallel(n_jobs=-1)]: Using backend LokyBackend with 12 concurrent workers.\n",
      "[Parallel(n_jobs=-1)]: Done  12 out of  17 | elapsed:    0.7s remaining:    0.2s\n",
      "[Parallel(n_jobs=-1)]: Done  17 out of  17 | elapsed:    0.9s finished\n",
      "[Parallel(n_jobs=-1)]: Using backend LokyBackend with 12 concurrent workers.\n",
      "[Parallel(n_jobs=-1)]: Done   2 out of  12 | elapsed:    0.4s remaining:    2.2s\n",
      "[Parallel(n_jobs=-1)]: Done  12 out of  12 | elapsed:    0.6s finished\n",
      "Features: 13/29[Parallel(n_jobs=-1)]: Using backend LokyBackend with 12 concurrent workers.\n",
      "[Parallel(n_jobs=-1)]: Done  10 out of  16 | elapsed:    0.6s remaining:    0.3s\n",
      "[Parallel(n_jobs=-1)]: Done  16 out of  16 | elapsed:    0.9s finished\n",
      "[Parallel(n_jobs=-1)]: Using backend LokyBackend with 12 concurrent workers.\n",
      "[Parallel(n_jobs=-1)]: Done   4 out of  13 | elapsed:    0.5s remaining:    1.2s\n",
      "[Parallel(n_jobs=-1)]: Done  13 out of  13 | elapsed:    0.8s finished\n",
      "[Parallel(n_jobs=-1)]: Using backend LokyBackend with 12 concurrent workers.\n",
      "[Parallel(n_jobs=-1)]: Done   2 out of  12 | elapsed:    0.5s remaining:    2.8s\n",
      "[Parallel(n_jobs=-1)]: Done  12 out of  12 | elapsed:    0.6s finished\n",
      "Features: 13/29[Parallel(n_jobs=-1)]: Using backend LokyBackend with 12 concurrent workers.\n",
      "[Parallel(n_jobs=-1)]: Done  10 out of  16 | elapsed:    0.6s remaining:    0.3s\n",
      "[Parallel(n_jobs=-1)]: Done  16 out of  16 | elapsed:    0.9s finished\n",
      "[Parallel(n_jobs=-1)]: Using backend LokyBackend with 12 concurrent workers.\n",
      "[Parallel(n_jobs=-1)]: Done   4 out of  13 | elapsed:    0.4s remaining:    1.0s\n",
      "[Parallel(n_jobs=-1)]: Done  13 out of  13 | elapsed:    0.8s finished\n",
      "Features: 14/29[Parallel(n_jobs=-1)]: Using backend LokyBackend with 12 concurrent workers.\n",
      "[Parallel(n_jobs=-1)]: Done   8 out of  15 | elapsed:    0.5s remaining:    0.4s\n",
      "[Parallel(n_jobs=-1)]: Done  15 out of  15 | elapsed:    1.0s finished\n",
      "[Parallel(n_jobs=-1)]: Using backend LokyBackend with 12 concurrent workers.\n",
      "[Parallel(n_jobs=-1)]: Done   6 out of  14 | elapsed:    0.5s remaining:    0.7s\n",
      "[Parallel(n_jobs=-1)]: Done  14 out of  14 | elapsed:    1.0s finished\n",
      "Features: 15/29[Parallel(n_jobs=-1)]: Using backend LokyBackend with 12 concurrent workers.\n",
      "[Parallel(n_jobs=-1)]: Done   6 out of  14 | elapsed:    0.4s remaining:    0.6s\n",
      "[Parallel(n_jobs=-1)]: Done  14 out of  14 | elapsed:    0.9s finished\n",
      "[Parallel(n_jobs=-1)]: Using backend LokyBackend with 12 concurrent workers.\n",
      "[Parallel(n_jobs=-1)]: Done   8 out of  15 | elapsed:    0.7s remaining:    0.6s\n",
      "[Parallel(n_jobs=-1)]: Done  15 out of  15 | elapsed:    1.0s finished\n",
      "Features: 16/29[Parallel(n_jobs=-1)]: Using backend LokyBackend with 12 concurrent workers.\n",
      "[Parallel(n_jobs=-1)]: Done   4 out of  13 | elapsed:    0.5s remaining:    1.2s\n",
      "[Parallel(n_jobs=-1)]: Done  13 out of  13 | elapsed:    1.0s finished\n",
      "[Parallel(n_jobs=-1)]: Using backend LokyBackend with 12 concurrent workers.\n",
      "[Parallel(n_jobs=-1)]: Done  10 out of  16 | elapsed:    0.7s remaining:    0.4s\n",
      "[Parallel(n_jobs=-1)]: Done  16 out of  16 | elapsed:    1.2s finished\n",
      "Features: 17/29[Parallel(n_jobs=-1)]: Using backend LokyBackend with 12 concurrent workers.\n",
      "[Parallel(n_jobs=-1)]: Done   2 out of  12 | elapsed:    0.5s remaining:    2.8s\n",
      "[Parallel(n_jobs=-1)]: Done  12 out of  12 | elapsed:    0.8s finished\n",
      "[Parallel(n_jobs=-1)]: Using backend LokyBackend with 12 concurrent workers.\n",
      "[Parallel(n_jobs=-1)]: Done  12 out of  17 | elapsed:    0.8s remaining:    0.3s\n",
      "[Parallel(n_jobs=-1)]: Done  17 out of  17 | elapsed:    1.0s finished\n",
      "Features: 18/29[Parallel(n_jobs=-1)]: Using backend LokyBackend with 12 concurrent workers.\n",
      "[Parallel(n_jobs=-1)]: Done  11 out of  11 | elapsed:    0.7s finished\n",
      "[Parallel(n_jobs=-1)]: Using backend LokyBackend with 12 concurrent workers.\n",
      "[Parallel(n_jobs=-1)]: Done  14 out of  18 | elapsed:    1.2s remaining:    0.3s\n",
      "[Parallel(n_jobs=-1)]: Done  18 out of  18 | elapsed:    1.2s finished\n",
      "Features: 19/29[Parallel(n_jobs=-1)]: Using backend LokyBackend with 12 concurrent workers.\n",
      "[Parallel(n_jobs=-1)]: Done  10 out of  10 | elapsed:    0.6s finished\n",
      "[Parallel(n_jobs=-1)]: Using backend LokyBackend with 12 concurrent workers.\n",
      "[Parallel(n_jobs=-1)]: Done  16 out of  19 | elapsed:    1.3s remaining:    0.2s\n",
      "[Parallel(n_jobs=-1)]: Done  19 out of  19 | elapsed:    1.3s finished\n",
      "Features: 20/29[Parallel(n_jobs=-1)]: Using backend LokyBackend with 12 concurrent workers.\n",
      "[Parallel(n_jobs=-1)]: Done   6 out of   9 | elapsed:    0.7s remaining:    0.3s\n",
      "[Parallel(n_jobs=-1)]: Done   9 out of   9 | elapsed:    0.7s finished\n",
      "[Parallel(n_jobs=-1)]: Using backend LokyBackend with 12 concurrent workers.\n",
      "[Parallel(n_jobs=-1)]: Done  18 out of  20 | elapsed:    1.4s remaining:    0.1s\n",
      "[Parallel(n_jobs=-1)]: Done  20 out of  20 | elapsed:    1.6s finished\n",
      "[Parallel(n_jobs=-1)]: Using backend LokyBackend with 12 concurrent workers.\n",
      "[Parallel(n_jobs=-1)]: Done  16 out of  19 | elapsed:    1.2s remaining:    0.2s\n",
      "[Parallel(n_jobs=-1)]: Done  19 out of  19 | elapsed:    1.3s finished\n",
      "Features: 20/29[Parallel(n_jobs=-1)]: Using backend LokyBackend with 12 concurrent workers.\n",
      "[Parallel(n_jobs=-1)]: Done   6 out of   9 | elapsed:    0.6s remaining:    0.3s\n",
      "[Parallel(n_jobs=-1)]: Done   9 out of   9 | elapsed:    0.7s finished\n",
      "[Parallel(n_jobs=-1)]: Using backend LokyBackend with 12 concurrent workers.\n",
      "[Parallel(n_jobs=-1)]: Done  18 out of  20 | elapsed:    1.7s remaining:    0.1s\n",
      "[Parallel(n_jobs=-1)]: Done  20 out of  20 | elapsed:    1.8s finished\n",
      "Features: 21/29[Parallel(n_jobs=-1)]: Using backend LokyBackend with 12 concurrent workers.\n",
      "[Parallel(n_jobs=-1)]: Done   3 out of   8 | elapsed:    0.8s remaining:    1.5s\n",
      "[Parallel(n_jobs=-1)]: Done   8 out of   8 | elapsed:    1.0s finished\n",
      "[Parallel(n_jobs=-1)]: Using backend LokyBackend with 12 concurrent workers.\n",
      "[Parallel(n_jobs=-1)]: Done  21 out of  21 | elapsed:    2.0s finished\n",
      "Features: 22/29[Parallel(n_jobs=-1)]: Using backend LokyBackend with 12 concurrent workers.\n",
      "[Parallel(n_jobs=-1)]: Done   7 out of   7 | elapsed:    0.8s finished\n",
      "[Parallel(n_jobs=-1)]: Using backend LokyBackend with 12 concurrent workers.\n",
      "[Parallel(n_jobs=-1)]: Done  22 out of  22 | elapsed:    2.0s finished\n",
      "Features: 23/29[Parallel(n_jobs=-1)]: Using backend LokyBackend with 12 concurrent workers.\n",
      "[Parallel(n_jobs=-1)]: Done   4 out of   6 | elapsed:    0.7s remaining:    0.3s\n",
      "[Parallel(n_jobs=-1)]: Done   6 out of   6 | elapsed:    0.7s finished\n",
      "[Parallel(n_jobs=-1)]: Using backend LokyBackend with 12 concurrent workers.\n",
      "[Parallel(n_jobs=-1)]: Done  23 out of  23 | elapsed:    2.1s finished\n",
      "Features: 24/29[Parallel(n_jobs=-1)]: Using backend LokyBackend with 12 concurrent workers.\n",
      "[Parallel(n_jobs=-1)]: Done   5 out of   5 | elapsed:    0.7s finished\n",
      "[Parallel(n_jobs=-1)]: Using backend LokyBackend with 12 concurrent workers.\n",
      "[Parallel(n_jobs=-1)]: Done  24 out of  24 | elapsed:    2.2s finished\n",
      "Features: 25/29[Parallel(n_jobs=-1)]: Using backend LokyBackend with 12 concurrent workers.\n",
      "[Parallel(n_jobs=-1)]: Done   4 out of   4 | elapsed:    0.7s finished\n",
      "[Parallel(n_jobs=-1)]: Using backend LokyBackend with 12 concurrent workers.\n",
      "[Parallel(n_jobs=-1)]: Done  25 out of  25 | elapsed:    2.3s finished\n",
      "[Parallel(n_jobs=-1)]: Using backend LokyBackend with 12 concurrent workers.\n",
      "[Parallel(n_jobs=-1)]: Done  24 out of  24 | elapsed:    2.2s finished\n",
      "Features: 25/29[Parallel(n_jobs=-1)]: Using backend LokyBackend with 12 concurrent workers.\n",
      "[Parallel(n_jobs=-1)]: Done   4 out of   4 | elapsed:    0.8s finished\n",
      "[Parallel(n_jobs=-1)]: Using backend LokyBackend with 12 concurrent workers.\n",
      "[Parallel(n_jobs=-1)]: Done  25 out of  25 | elapsed:    2.8s finished\n",
      "Features: 26/29[Parallel(n_jobs=-1)]: Using backend LokyBackend with 12 concurrent workers.\n",
      "[Parallel(n_jobs=-1)]: Done   3 out of   3 | elapsed:    0.9s finished\n",
      "[Parallel(n_jobs=-1)]: Using backend LokyBackend with 12 concurrent workers.\n",
      "[Parallel(n_jobs=-1)]: Done  26 out of  26 | elapsed:    2.6s finished\n",
      "Features: 27/29[Parallel(n_jobs=-1)]: Using backend LokyBackend with 12 concurrent workers.\n",
      "[Parallel(n_jobs=-1)]: Done   2 out of   2 | elapsed:    0.8s finished\n",
      "[Parallel(n_jobs=-1)]: Using backend LokyBackend with 12 concurrent workers.\n",
      "[Parallel(n_jobs=-1)]: Done  27 out of  27 | elapsed:    3.0s finished\n",
      "Features: 28/29[Parallel(n_jobs=-1)]: Using backend LokyBackend with 12 concurrent workers.\n",
      "[Parallel(n_jobs=-1)]: Using backend LokyBackend with 12 concurrent workers.\n",
      "[Parallel(n_jobs=-1)]: Done  28 out of  28 | elapsed:    2.9s finished\n",
      "Features: 29/29"
     ]
    },
    {
     "name": "stdout",
     "output_type": "stream",
     "text": [
      "Fitting 87 folds for each of 200 candidates, totalling 17400 fits\n",
      "0.0 {'max_depth': 1, 'min_samples_leaf': 1, 'min_samples_split': 2}\n"
     ]
    },
    {
     "ename": "AttributeError",
     "evalue": "k_features must be between 1 and X.shape[1].",
     "output_type": "error",
     "traceback": [
      "\u001B[1;31m---------------------------------------------------------------------------\u001B[0m",
      "\u001B[1;31mAttributeError\u001B[0m                            Traceback (most recent call last)",
      "Cell \u001B[1;32mIn[7], line 17\u001B[0m\n\u001B[0;32m      5\u001B[0m \u001B[38;5;28;01mfor\u001B[39;00m i \u001B[38;5;129;01min\u001B[39;00m \u001B[38;5;28mrange\u001B[39m(\u001B[38;5;241m2\u001B[39m,\u001B[38;5;241m31\u001B[39m):\n\u001B[0;32m      6\u001B[0m     sffs \u001B[38;5;241m=\u001B[39m SFS(\n\u001B[0;32m      7\u001B[0m     DecisionTreeClassifier(random_state\u001B[38;5;241m=\u001B[39m\u001B[38;5;241m0\u001B[39m), \u001B[38;5;66;03m# 使う学習器\u001B[39;00m\n\u001B[0;32m      8\u001B[0m     k_features\u001B[38;5;241m=\u001B[39mi, \u001B[38;5;66;03m#特徴をいくつまで選択するか\u001B[39;00m\n\u001B[1;32m   (...)\u001B[0m\n\u001B[0;32m     14\u001B[0m     n_jobs\u001B[38;5;241m=\u001B[39m\u001B[38;5;241m-\u001B[39m\u001B[38;5;241m1\u001B[39m\n\u001B[0;32m     15\u001B[0m     )\n\u001B[1;32m---> 17\u001B[0m     sffs \u001B[38;5;241m=\u001B[39m \u001B[43msffs\u001B[49m\u001B[38;5;241;43m.\u001B[39;49m\u001B[43mfit\u001B[49m\u001B[43m(\u001B[49m\u001B[43mX_std\u001B[49m\u001B[43m,\u001B[49m\u001B[43m \u001B[49m\u001B[43my\u001B[49m\u001B[43m)\u001B[49m\n\u001B[0;32m     18\u001B[0m     \u001B[38;5;66;03m#選ばれた特徴\u001B[39;00m\n\u001B[0;32m     19\u001B[0m     X_train_sffs \u001B[38;5;241m=\u001B[39m X_std[:,\u001B[38;5;28mlist\u001B[39m(sffs\u001B[38;5;241m.\u001B[39mk_feature_idx_)]\n",
      "File \u001B[1;32mE:\\Programming\\AI\\Project\\venv\\lib\\site-packages\\mlxtend\\feature_selection\\sequential_feature_selector.py:454\u001B[0m, in \u001B[0;36mSequentialFeatureSelector.fit\u001B[1;34m(self, X, y, groups, **fit_params)\u001B[0m\n\u001B[0;32m    450\u001B[0m \u001B[38;5;28;01mif\u001B[39;00m \u001B[38;5;28misinstance\u001B[39m(\u001B[38;5;28mself\u001B[39m\u001B[38;5;241m.\u001B[39mk_features, \u001B[38;5;28mint\u001B[39m) \u001B[38;5;129;01mand\u001B[39;00m (\n\u001B[0;32m    451\u001B[0m     \u001B[38;5;28mself\u001B[39m\u001B[38;5;241m.\u001B[39mk_features \u001B[38;5;129;01mnot\u001B[39;00m \u001B[38;5;129;01min\u001B[39;00m eligible_k_values_range\n\u001B[0;32m    452\u001B[0m ):\n\u001B[0;32m    453\u001B[0m     err_msg \u001B[38;5;241m=\u001B[39m \u001B[38;5;28mself\u001B[39m\u001B[38;5;241m.\u001B[39mgenerate_error_message_k_features(\u001B[38;5;124m\"\u001B[39m\u001B[38;5;124mk_features\u001B[39m\u001B[38;5;124m\"\u001B[39m)\n\u001B[1;32m--> 454\u001B[0m     \u001B[38;5;28;01mraise\u001B[39;00m \u001B[38;5;167;01mAttributeError\u001B[39;00m(err_msg)\n\u001B[0;32m    456\u001B[0m \u001B[38;5;28;01mif\u001B[39;00m \u001B[38;5;28misinstance\u001B[39m(\u001B[38;5;28mself\u001B[39m\u001B[38;5;241m.\u001B[39mk_features, \u001B[38;5;28mtuple\u001B[39m):\n\u001B[0;32m    457\u001B[0m     \u001B[38;5;28;01mif\u001B[39;00m \u001B[38;5;28mlen\u001B[39m(\u001B[38;5;28mself\u001B[39m\u001B[38;5;241m.\u001B[39mk_features) \u001B[38;5;241m!=\u001B[39m \u001B[38;5;241m2\u001B[39m:\n",
      "\u001B[1;31mAttributeError\u001B[0m: k_features must be between 1 and X.shape[1]."
     ]
    }
   ],
   "source": [
    "best_acc = 0\n",
    "re = pd.DataFrame()\n",
    "stdsc = StandardScaler()\n",
    "X_std = stdsc.fit_transform(X)\n",
    "for i in range(2,31):\n",
    "    sffs = SFS(\n",
    "    DecisionTreeClassifier(random_state=0), # 使う学習器\n",
    "    k_features=i, #特徴をいくつまで選択するか\n",
    "    forward=True, #Trueでforward selectionになる。Falseでback\n",
    "    floating=True, #sffsを行うためのもの。\n",
    "    verbose=1, #実行時のlogをどれだけ詳しく表示するか\n",
    "    scoring='accuracy', # 評価指標\n",
    "    cv=cv,#クロスバリデーション\n",
    "    n_jobs=-1\n",
    "    )\n",
    "\n",
    "    sffs = sffs.fit(X_std, y)\n",
    "    #選ばれた特徴\n",
    "    X_train_sffs = X_std[:,list(sffs.k_feature_idx_)]\n",
    "\n",
    "    X_train_sffs_std = stdsc.fit_transform(X_train_sffs)\n",
    "    \n",
    "    clf = GridSearchCV(DecisionTreeClassifier(random_state=0),   # グリッドサーチで決定木を定義\n",
    "                   tuned_parameters,\n",
    "                   cv=cv,\n",
    "                   n_jobs=-1,\n",
    "                   verbose=2\n",
    "                  )\n",
    "    \n",
    "    clf.fit(X_train_sffs_std, y)\n",
    "\n",
    "    print(clf.best_score_, clf.best_params_)\n",
    "    \n",
    "    if clf.best_score_ < best_acc - 0.05:\n",
    "        break\n",
    "    elif clf.best_score_ > best_acc:\n",
    "        best_acc = clf.best_score_\n",
    "    \n",
    "    re_i = pd.DataFrame([[sffs.k_feature_idx_,clf.best_score_,clf.best_params_]], columns=['Feature','accuracy','param'])\n",
    "    re = pd.concat([re,re_i])\n",
    "    '''# トレーニングデータに対する精度\n",
    "    pred_train = random_forest.predict(X_train_sffs)\n",
    "    accuracy_train = accuracy_score(y_train, pred_train)\n",
    "\n",
    "    # テストデータに対する精度\n",
    "    pred_test = random_forest.predict(X_test_sffs)\n",
    "    accuracy_test = accuracy_score(y_test, pred_test)\n",
    "\n",
    "    re_i = pd.DataFrame([[sffs.k_feature_idx_,accuracy_train,accuracy_test]], columns=['Feature','TrainigScore','TestScore'])\n",
    "    re = pd.concat([re,re_i])\n",
    "\n",
    "re.to_csv('Dataset/RF_Zigzag_trace.csv')'''"
   ]
  },
  {
   "cell_type": "code",
   "execution_count": null,
   "metadata": {
    "ExecuteTime": {
     "start_time": "2025-01-12T09:12:55.334586600Z"
    }
   },
   "outputs": [],
   "source": [
    "re.to_csv('Dataset/DT_Zigzag_trace_SFFS.csv')"
   ]
  },
  {
   "cell_type": "code",
   "execution_count": null,
   "metadata": {
    "ExecuteTime": {
     "start_time": "2025-01-12T09:12:55.336586200Z"
    }
   },
   "outputs": [],
   "source": []
  },
  {
   "cell_type": "code",
   "execution_count": null,
   "metadata": {
    "ExecuteTime": {
     "start_time": "2025-01-12T09:12:55.338037300Z"
    }
   },
   "outputs": [],
   "source": []
  },
  {
   "attachments": {},
   "cell_type": "markdown",
   "metadata": {},
   "source": [
    "### ZigZag predict"
   ]
  },
  {
   "cell_type": "code",
   "execution_count": null,
   "metadata": {
    "ExecuteTime": {
     "start_time": "2025-01-12T09:12:55.339043100Z"
    }
   },
   "outputs": [],
   "source": [
    "from sklearn.datasets import make_moons\n",
    "from sklearn.model_selection import train_test_split, GridSearchCV\n",
    "from sklearn.tree import DecisionTreeClassifier\n",
    "from sklearn.tree import export_graphviz\n",
    "from matplotlib.colors import ListedColormap\n",
    "import graphviz\n",
    "from sklearn.preprocessing import StandardScaler\n",
    "import pandas as pd\n",
    "from mlxtend.feature_selection import SequentialFeatureSelector as SFS"
   ]
  },
  {
   "cell_type": "code",
   "execution_count": null,
   "metadata": {
    "ExecuteTime": {
     "start_time": "2025-01-12T09:12:55.340043200Z"
    }
   },
   "outputs": [],
   "source": [
    "f=pd.read_csv('Dataset/Task2.csv')\n",
    "df = f.to_numpy()\n",
    "df.shape"
   ]
  },
  {
   "cell_type": "code",
   "execution_count": null,
   "metadata": {
    "ExecuteTime": {
     "start_time": "2025-01-12T09:12:55.341043200Z"
    }
   },
   "outputs": [],
   "source": [
    "X = df[:,2:]\n",
    "y = df[:,1]\n",
    "print(y)\n",
    "y=y.astype('int')\n",
    "\n",
    "#データチューニング\n",
    "tuned_parameters = {'max_depth':[1, 2, 3, 4, 5],\n",
    "         'min_samples_leaf':[1, 2, 3, 4, 5, 6, 7, 8, 9, 10],\n",
    "         'min_samples_split':[2, 3, 4, 5]}\n",
    "\n",
    "#DecisionTreeClassifier(max_depth=4, min_samples_leaf=2, random_state=0)\n",
    "\n",
    "\n",
    "from sklearn.model_selection import LeaveOneOut\n",
    "\n",
    "# create loocv procedure\n",
    "cv = LeaveOneOut()\n",
    "\n",
    "clf = GridSearchCV(DecisionTreeClassifier(random_state=0),   # グリッドサーチで決定木を定義\n",
    "                   tuned_parameters,\n",
    "                   cv=cv,\n",
    "                   n_jobs=-1,\n",
    "                   verbose=2\n",
    "                  )"
   ]
  },
  {
   "cell_type": "code",
   "execution_count": null,
   "metadata": {
    "ExecuteTime": {
     "start_time": "2025-01-12T09:12:55.341043200Z"
    }
   },
   "outputs": [],
   "source": [
    "stdsc = StandardScaler()\n",
    "X_std = stdsc.fit_transform(X)"
   ]
  },
  {
   "cell_type": "code",
   "execution_count": null,
   "metadata": {
    "ExecuteTime": {
     "start_time": "2025-01-12T09:12:55.343550900Z"
    }
   },
   "outputs": [],
   "source": [
    "best_acc = 0\n",
    "re = pd.DataFrame()\n",
    "stdsc = StandardScaler()\n",
    "X_std = stdsc.fit_transform(X)\n",
    "for i in range(2,31):\n",
    "    sffs = SFS(\n",
    "    DecisionTreeClassifier(random_state=0), # 使う学習器\n",
    "    k_features=i, #特徴をいくつまで選択するか\n",
    "    forward=True, #Trueでforward selectionになる。Falseでback\n",
    "    floating=True, #sffsを行うためのもの。\n",
    "    verbose=1, #実行時のlogをどれだけ詳しく表示するか\n",
    "    scoring='accuracy', # 評価指標\n",
    "    cv=cv,#クロスバリデーション\n",
    "    n_jobs=-1\n",
    "    )\n",
    "\n",
    "    sffs = sffs.fit(X_std, y)\n",
    "    #選ばれた特徴\n",
    "    X_train_sffs = X_std[:,list(sffs.k_feature_idx_)]\n",
    "\n",
    "    X_train_sffs_std = stdsc.fit_transform(X_train_sffs)\n",
    "    \n",
    "    clf = GridSearchCV(DecisionTreeClassifier(random_state=0),   # グリッドサーチで決定木を定義\n",
    "                   tuned_parameters,\n",
    "                   cv=cv,\n",
    "                   n_jobs=-1,\n",
    "                   verbose=2\n",
    "                  )\n",
    "    \n",
    "    clf.fit(X_train_sffs_std, y)\n",
    "\n",
    "    print(clf.best_score_, clf.best_params_)\n",
    "    \n",
    "    if clf.best_score_ < best_acc - 0.05:\n",
    "        break\n",
    "    elif clf.best_score_ > best_acc:\n",
    "        best_acc = clf.best_score_\n",
    "    \n",
    "    re_i = pd.DataFrame([[sffs.k_feature_idx_,clf.best_score_,clf.best_params_]], columns=['Feature','accuracy','param'])\n",
    "    re = pd.concat([re,re_i])\n",
    "    '''# トレーニングデータに対する精度\n",
    "    pred_train = random_forest.predict(X_train_sffs)\n",
    "    accuracy_train = accuracy_score(y_train, pred_train)\n",
    "\n",
    "    # テストデータに対する精度\n",
    "    pred_test = random_forest.predict(X_test_sffs)\n",
    "    accuracy_test = accuracy_score(y_test, pred_test)\n",
    "\n",
    "    re_i = pd.DataFrame([[sffs.k_feature_idx_,accuracy_train,accuracy_test]], columns=['Feature','TrainigScore','TestScore'])\n",
    "    re = pd.concat([re,re_i])\n",
    "\n",
    "re.to_csv('Dataset/RF_Zigzag_trace.csv')'''"
   ]
  },
  {
   "cell_type": "code",
   "execution_count": null,
   "metadata": {
    "ExecuteTime": {
     "start_time": "2025-01-12T09:12:55.344791200Z"
    }
   },
   "outputs": [],
   "source": [
    "re.to_csv('Dataset/DT_Task2_SFFS.csv')"
   ]
  },
  {
   "cell_type": "code",
   "execution_count": null,
   "metadata": {
    "ExecuteTime": {
     "start_time": "2025-01-12T09:12:55.348126500Z"
    }
   },
   "outputs": [],
   "source": []
  },
  {
   "attachments": {},
   "cell_type": "markdown",
   "metadata": {},
   "source": [
    "### Pl trace"
   ]
  },
  {
   "cell_type": "code",
   "execution_count": null,
   "metadata": {
    "ExecuteTime": {
     "start_time": "2025-01-12T09:12:55.349127900Z"
    }
   },
   "outputs": [],
   "source": [
    "from sklearn.datasets import make_moons\n",
    "from sklearn.model_selection import train_test_split, GridSearchCV\n",
    "from sklearn.tree import DecisionTreeClassifier\n",
    "from sklearn.tree import export_graphviz\n",
    "from matplotlib.colors import ListedColormap\n",
    "import graphviz\n",
    "from sklearn.preprocessing import StandardScaler\n",
    "import pandas as pd\n",
    "from mlxtend.feature_selection import SequentialFeatureSelector as SFS"
   ]
  },
  {
   "cell_type": "code",
   "execution_count": null,
   "metadata": {
    "ExecuteTime": {
     "start_time": "2025-01-12T09:12:55.350128700Z"
    }
   },
   "outputs": [],
   "source": [
    "f=pd.read_csv('Dataset/Pl_trace.csv')\n",
    "df = f.to_numpy()\n",
    "df.shape"
   ]
  },
  {
   "cell_type": "code",
   "execution_count": null,
   "metadata": {
    "ExecuteTime": {
     "start_time": "2025-01-12T09:12:55.351517400Z"
    }
   },
   "outputs": [],
   "source": [
    "X = df[:,2:]\n",
    "y = df[:,1]\n",
    "print(y)\n",
    "y=y.astype('int')\n",
    "\n",
    "#データチューニング\n",
    "tuned_parameters = {'max_depth':[1, 2, 3, 4, 5],\n",
    "         'min_samples_leaf':[1, 2, 3, 4, 5, 6, 7, 8, 9, 10],\n",
    "         'min_samples_split':[2, 3, 4, 5]}\n",
    "\n",
    "#DecisionTreeClassifier(max_depth=4, min_samples_leaf=2, random_state=0)\n",
    "\n",
    "\n",
    "from sklearn.model_selection import LeaveOneOut\n",
    "\n",
    "# create loocv procedure\n",
    "cv = LeaveOneOut()\n",
    "\n",
    "clf = GridSearchCV(DecisionTreeClassifier(random_state=0),   # グリッドサーチで決定木を定義\n",
    "                   tuned_parameters,\n",
    "                   cv=cv,\n",
    "                   n_jobs=-1,\n",
    "                   verbose=2\n",
    "                  )"
   ]
  },
  {
   "cell_type": "code",
   "execution_count": null,
   "metadata": {
    "ExecuteTime": {
     "start_time": "2025-01-12T09:12:55.353524400Z"
    }
   },
   "outputs": [],
   "source": [
    "stdsc = StandardScaler()\n",
    "X_std = stdsc.fit_transform(X)"
   ]
  },
  {
   "cell_type": "code",
   "execution_count": null,
   "metadata": {
    "ExecuteTime": {
     "start_time": "2025-01-12T09:12:55.354524900Z"
    }
   },
   "outputs": [],
   "source": [
    "best_acc = 0\n",
    "re = pd.DataFrame()\n",
    "stdsc = StandardScaler()\n",
    "X_std = stdsc.fit_transform(X)\n",
    "for i in range(2,31):\n",
    "    sffs = SFS(\n",
    "    DecisionTreeClassifier(random_state=0), # 使う学習器\n",
    "    k_features=i, #特徴をいくつまで選択するか\n",
    "    forward=True, #Trueでforward selectionになる。Falseでback\n",
    "    floating=True, #sffsを行うためのもの。\n",
    "    verbose=1, #実行時のlogをどれだけ詳しく表示するか\n",
    "    scoring='accuracy', # 評価指標\n",
    "    cv=cv,#クロスバリデーション\n",
    "    n_jobs=-1\n",
    "    )\n",
    "\n",
    "    sffs = sffs.fit(X_std, y)\n",
    "    #選ばれた特徴\n",
    "    X_train_sffs = X_std[:,list(sffs.k_feature_idx_)]\n",
    "\n",
    "    X_train_sffs_std = stdsc.fit_transform(X_train_sffs)\n",
    "    \n",
    "    clf = GridSearchCV(DecisionTreeClassifier(random_state=0),   # グリッドサーチで決定木を定義\n",
    "                   tuned_parameters,\n",
    "                   cv=cv,\n",
    "                   n_jobs=-1,\n",
    "                   verbose=2\n",
    "                  )\n",
    "    \n",
    "    clf.fit(X_train_sffs_std, y)\n",
    "\n",
    "    print(clf.best_score_, clf.best_params_)\n",
    "    \n",
    "    if clf.best_score_ < best_acc - 0.05:\n",
    "        break\n",
    "    elif clf.best_score_ > best_acc:\n",
    "        best_acc = clf.best_score_\n",
    "    \n",
    "    re_i = pd.DataFrame([[sffs.k_feature_idx_,clf.best_score_,clf.best_params_]], columns=['Feature','accuracy','param'])\n",
    "    re = pd.concat([re,re_i])\n",
    "    '''# トレーニングデータに対する精度\n",
    "    pred_train = random_forest.predict(X_train_sffs)\n",
    "    accuracy_train = accuracy_score(y_train, pred_train)\n",
    "\n",
    "    # テストデータに対する精度\n",
    "    pred_test = random_forest.predict(X_test_sffs)\n",
    "    accuracy_test = accuracy_score(y_test, pred_test)\n",
    "\n",
    "    re_i = pd.DataFrame([[sffs.k_feature_idx_,accuracy_train,accuracy_test]], columns=['Feature','TrainigScore','TestScore'])\n",
    "    re = pd.concat([re,re_i])\n",
    "\n",
    "re.to_csv('Dataset/RF_Zigzag_trace.csv')'''"
   ]
  },
  {
   "cell_type": "code",
   "execution_count": null,
   "metadata": {
    "ExecuteTime": {
     "start_time": "2025-01-12T09:12:55.356523300Z"
    }
   },
   "outputs": [],
   "source": [
    "re.to_csv('Dataset/DT_Pl_trace_SFFS.csv')"
   ]
  },
  {
   "cell_type": "code",
   "execution_count": null,
   "metadata": {
    "ExecuteTime": {
     "start_time": "2025-01-12T09:12:55.357524800Z"
    }
   },
   "outputs": [],
   "source": []
  },
  {
   "attachments": {},
   "cell_type": "markdown",
   "metadata": {},
   "source": [
    "### Pl predict"
   ]
  },
  {
   "cell_type": "code",
   "execution_count": null,
   "metadata": {
    "ExecuteTime": {
     "start_time": "2025-01-12T09:12:55.358524800Z"
    }
   },
   "outputs": [],
   "source": [
    "from sklearn.datasets import make_moons\n",
    "from sklearn.model_selection import train_test_split, GridSearchCV\n",
    "from sklearn.tree import DecisionTreeClassifier\n",
    "from sklearn.tree import export_graphviz\n",
    "from matplotlib.colors import ListedColormap\n",
    "import graphviz\n",
    "from sklearn.preprocessing import StandardScaler\n",
    "import pandas as pd\n",
    "from mlxtend.feature_selection import SequentialFeatureSelector as SFS"
   ]
  },
  {
   "cell_type": "code",
   "execution_count": null,
   "metadata": {
    "ExecuteTime": {
     "start_time": "2025-01-12T09:12:55.358524800Z"
    }
   },
   "outputs": [],
   "source": [
    "f=pd.read_csv('Dataset/Pl_predict.csv')\n",
    "df = f.to_numpy()\n",
    "df.shape"
   ]
  },
  {
   "cell_type": "code",
   "execution_count": null,
   "metadata": {
    "ExecuteTime": {
     "start_time": "2025-01-12T09:12:55.359523700Z"
    }
   },
   "outputs": [],
   "source": [
    "X = df[:,2:]\n",
    "y = df[:,1]\n",
    "print(y)\n",
    "y=y.astype('int')\n",
    "\n",
    "#データチューニング\n",
    "tuned_parameters = {'max_depth':[1, 2, 3, 4, 5],\n",
    "         'min_samples_leaf':[1, 2, 3, 4, 5, 6, 7, 8, 9, 10],\n",
    "         'min_samples_split':[2, 3, 4, 5]}\n",
    "\n",
    "#DecisionTreeClassifier(max_depth=4, min_samples_leaf=2, random_state=0)\n",
    "\n",
    "\n",
    "from sklearn.model_selection import LeaveOneOut\n",
    "\n",
    "# create loocv procedure\n",
    "cv = LeaveOneOut()\n",
    "\n",
    "clf = GridSearchCV(DecisionTreeClassifier(random_state=0),   # グリッドサーチで決定木を定義\n",
    "                   tuned_parameters,\n",
    "                   cv=cv,\n",
    "                   n_jobs=-1,\n",
    "                   verbose=2\n",
    "                  )"
   ]
  },
  {
   "cell_type": "code",
   "execution_count": null,
   "metadata": {
    "ExecuteTime": {
     "start_time": "2025-01-12T09:12:55.360523800Z"
    }
   },
   "outputs": [],
   "source": [
    "stdsc = StandardScaler()\n",
    "X_std = stdsc.fit_transform(X)"
   ]
  },
  {
   "cell_type": "code",
   "execution_count": null,
   "metadata": {
    "ExecuteTime": {
     "start_time": "2025-01-12T09:12:55.361525100Z"
    }
   },
   "outputs": [],
   "source": [
    "best_acc = 0\n",
    "re = pd.DataFrame()\n",
    "stdsc = StandardScaler()\n",
    "X_std = stdsc.fit_transform(X)\n",
    "for i in range(2,31):\n",
    "    sffs = SFS(\n",
    "    DecisionTreeClassifier(random_state=0), # 使う学習器\n",
    "    k_features=i, #特徴をいくつまで選択するか\n",
    "    forward=True, #Trueでforward selectionになる。Falseでback\n",
    "    floating=True, #sffsを行うためのもの。\n",
    "    verbose=1, #実行時のlogをどれだけ詳しく表示するか\n",
    "    scoring='accuracy', # 評価指標\n",
    "    cv=cv,#クロスバリデーション\n",
    "    n_jobs=-1\n",
    "    )\n",
    "\n",
    "    sffs = sffs.fit(X_std, y)\n",
    "    #選ばれた特徴\n",
    "    X_train_sffs = X_std[:,list(sffs.k_feature_idx_)]\n",
    "\n",
    "    X_train_sffs_std = stdsc.fit_transform(X_train_sffs)\n",
    "    \n",
    "    clf = GridSearchCV(DecisionTreeClassifier(random_state=0),   # グリッドサーチで決定木を定義\n",
    "                   tuned_parameters,\n",
    "                   cv=cv,\n",
    "                   n_jobs=-1,\n",
    "                   verbose=2\n",
    "                  )\n",
    "    \n",
    "    clf.fit(X_train_sffs_std, y)\n",
    "\n",
    "    print(clf.best_score_, clf.best_params_)\n",
    "    \n",
    "    if clf.best_score_ < best_acc - 0.05:\n",
    "        break\n",
    "    elif clf.best_score_ > best_acc:\n",
    "        best_acc = clf.best_score_\n",
    "    \n",
    "    re_i = pd.DataFrame([[sffs.k_feature_idx_,clf.best_score_,clf.best_params_]], columns=['Feature','accuracy','param'])\n",
    "    re = pd.concat([re,re_i])\n",
    "    '''# トレーニングデータに対する精度\n",
    "    pred_train = random_forest.predict(X_train_sffs)\n",
    "    accuracy_train = accuracy_score(y_train, pred_train)\n",
    "\n",
    "    # テストデータに対する精度\n",
    "    pred_test = random_forest.predict(X_test_sffs)\n",
    "    accuracy_test = accuracy_score(y_test, pred_test)\n",
    "\n",
    "    re_i = pd.DataFrame([[sffs.k_feature_idx_,accuracy_train,accuracy_test]], columns=['Feature','TrainigScore','TestScore'])\n",
    "    re = pd.concat([re,re_i])\n",
    "\n",
    "re.to_csv('Dataset/RF_Zigzag_trace.csv')'''"
   ]
  },
  {
   "cell_type": "code",
   "execution_count": null,
   "metadata": {
    "ExecuteTime": {
     "start_time": "2025-01-12T09:12:55.362523300Z"
    }
   },
   "outputs": [],
   "source": [
    "re.to_csv('Dataset/DT_Pl_predict_SFFS.csv')"
   ]
  },
  {
   "cell_type": "code",
   "execution_count": null,
   "metadata": {
    "ExecuteTime": {
     "start_time": "2025-01-12T09:12:55.363525200Z"
    }
   },
   "outputs": [],
   "source": []
  },
  {
   "attachments": {},
   "cell_type": "markdown",
   "metadata": {},
   "source": [
    "## ET method"
   ]
  },
  {
   "attachments": {},
   "cell_type": "markdown",
   "metadata": {},
   "source": [
    "### ZigZag trace"
   ]
  },
  {
   "cell_type": "code",
   "execution_count": null,
   "metadata": {
    "ExecuteTime": {
     "start_time": "2025-01-12T09:12:55.364523600Z"
    }
   },
   "outputs": [],
   "source": [
    "from sklearn.ensemble import ExtraTreesClassifier\n",
    "import pandas as pd\n",
    "from mlxtend.feature_selection import SequentialFeatureSelector as SFS\n",
    "from sklearn.model_selection import GridSearchCV\n",
    "import numpy as np\n",
    "from sklearn.preprocessing import StandardScaler"
   ]
  },
  {
   "cell_type": "code",
   "execution_count": null,
   "metadata": {
    "ExecuteTime": {
     "start_time": "2025-01-12T09:12:55.365526Z"
    }
   },
   "outputs": [],
   "source": [
    "f=pd.read_csv('Dataset/Zigzag_trace.csv')\n",
    "df = f.to_numpy()\n",
    "df.shape"
   ]
  },
  {
   "cell_type": "code",
   "execution_count": null,
   "metadata": {
    "ExecuteTime": {
     "start_time": "2025-01-12T09:12:55.366522800Z"
    }
   },
   "outputs": [],
   "source": [
    "X = df[:,2:]\n",
    "y = df[:,1]\n",
    "print(y)\n",
    "y=y.astype('int')\n",
    "\n",
    "#データチューニング\n",
    "params = {\n",
    "    'max_depth':[3, 4, 5],\n",
    "    'min_samples_leaf':[1, 4, 7],\n",
    "    'min_samples_split':[2]\n",
    "}\n",
    "\n",
    "from sklearn.model_selection import LeaveOneOut\n",
    "\n",
    "# create loocv procedure\n",
    "cv = LeaveOneOut()\n",
    "\n",
    "clf = GridSearchCV(ExtraTreesClassifier(random_state=0),\n",
    "                   params,\n",
    "                   cv=cv,\n",
    "                   n_jobs=-1,\n",
    "                   verbose=2\n",
    "                  )"
   ]
  },
  {
   "cell_type": "code",
   "execution_count": null,
   "metadata": {
    "ExecuteTime": {
     "start_time": "2025-01-12T09:12:55.367524500Z"
    }
   },
   "outputs": [],
   "source": [
    "stdsc = StandardScaler()\n",
    "X_std = stdsc.fit_transform(X)"
   ]
  },
  {
   "cell_type": "code",
   "execution_count": null,
   "metadata": {
    "ExecuteTime": {
     "start_time": "2025-01-12T09:12:55.368525900Z"
    }
   },
   "outputs": [],
   "source": [
    "best_acc = 0\n",
    "re = pd.DataFrame()\n",
    "stdsc = StandardScaler()\n",
    "X_std = stdsc.fit_transform(X)\n",
    "for i in range(2,31):\n",
    "    sffs = SFS(\n",
    "    ExtraTreesClassifier(random_state=0), # 使う学習器\n",
    "    k_features=i, #特徴をいくつまで選択するか\n",
    "    forward=True, #Trueでforward selectionになる。Falseでback\n",
    "    floating=True, #sffsを行うためのもの。\n",
    "    verbose=1, #実行時のlogをどれだけ詳しく表示するか\n",
    "    scoring='accuracy', # 評価指標\n",
    "    cv=cv,#クロスバリデーション\n",
    "    n_jobs=-1\n",
    "    )\n",
    "\n",
    "    sffs = sffs.fit(X_std, y)\n",
    "    #選ばれた特徴\n",
    "    X_train_sffs = X_std[:,list(sffs.k_feature_idx_)]\n",
    "\n",
    "    X_train_sffs_std = stdsc.fit_transform(X_train_sffs)\n",
    "    \n",
    "    clf = GridSearchCV(ExtraTreesClassifier(random_state=0),\n",
    "                   params,\n",
    "                   cv=cv,\n",
    "                   n_jobs=-1,\n",
    "                   verbose=2\n",
    "                  )\n",
    "    \n",
    "    clf.fit(X_train_sffs_std, y)\n",
    "\n",
    "    print(clf.best_score_, clf.best_params_)\n",
    "    \n",
    "    if clf.best_score_ < best_acc - 0.05:\n",
    "        break\n",
    "    elif clf.best_score_ > best_acc:\n",
    "        best_acc = clf.best_score_\n",
    "    \n",
    "    re_i = pd.DataFrame([[sffs.k_feature_idx_,clf.best_score_,clf.best_params_]], columns=['Feature','accuracy','param'])\n",
    "    re = pd.concat([re,re_i])\n",
    "    '''# トレーニングデータに対する精度\n",
    "    pred_train = random_forest.predict(X_train_sffs)\n",
    "    accuracy_train = accuracy_score(y_train, pred_train)\n",
    "\n",
    "    # テストデータに対する精度\n",
    "    pred_test = random_forest.predict(X_test_sffs)\n",
    "    accuracy_test = accuracy_score(y_test, pred_test)\n",
    "\n",
    "    re_i = pd.DataFrame([[sffs.k_feature_idx_,accuracy_train,accuracy_test]], columns=['Feature','TrainigScore','TestScore'])\n",
    "    re = pd.concat([re,re_i])\n",
    "\n",
    "re.to_csv('Dataset/RF_Zigzag_trace.csv')'''"
   ]
  },
  {
   "cell_type": "code",
   "execution_count": null,
   "metadata": {
    "ExecuteTime": {
     "start_time": "2025-01-12T09:12:55.369524800Z"
    }
   },
   "outputs": [],
   "source": [
    "re.to_csv('Dataset/ET_Zigzag_trace_SFFS.csv')"
   ]
  },
  {
   "cell_type": "code",
   "execution_count": null,
   "metadata": {
    "ExecuteTime": {
     "start_time": "2025-01-12T09:12:55.370522300Z"
    }
   },
   "outputs": [],
   "source": []
  },
  {
   "attachments": {},
   "cell_type": "markdown",
   "metadata": {},
   "source": [
    "### ZigZag predict"
   ]
  },
  {
   "cell_type": "code",
   "execution_count": null,
   "metadata": {
    "ExecuteTime": {
     "start_time": "2025-01-12T09:12:55.371523100Z"
    }
   },
   "outputs": [],
   "source": [
    "from sklearn.ensemble import ExtraTreesClassifier\n",
    "import csv\n",
    "import pandas as pd\n",
    "from mlxtend.feature_selection import SequentialFeatureSelector as SFS\n",
    "from sklearn.model_selection import GridSearchCV\n",
    "import numpy as np\n",
    "from sklearn.preprocessing import StandardScaler"
   ]
  },
  {
   "cell_type": "code",
   "execution_count": null,
   "metadata": {
    "ExecuteTime": {
     "start_time": "2025-01-12T09:12:55.372523Z"
    }
   },
   "outputs": [],
   "source": [
    "f=pd.read_csv('Dataset/Zigzag_predict.csv')\n",
    "df = f.to_numpy()\n",
    "df.shape"
   ]
  },
  {
   "cell_type": "code",
   "execution_count": null,
   "metadata": {
    "ExecuteTime": {
     "start_time": "2025-01-12T09:12:55.373523900Z"
    }
   },
   "outputs": [],
   "source": [
    "X = df[:,2:]\n",
    "y = df[:,1]\n",
    "print(y)\n",
    "y=y.astype('int')\n",
    "\n",
    "#データチューニング\n",
    "params = {\n",
    "    'max_depth':[3, 4, 5],\n",
    "    'min_samples_leaf':[1, 4, 7],\n",
    "    'min_samples_split':[2]\n",
    "}\n",
    "\n",
    "from sklearn.model_selection import LeaveOneOut\n",
    "\n",
    "# create loocv procedure\n",
    "cv = LeaveOneOut()\n",
    "\n",
    "clf = GridSearchCV(ExtraTreesClassifier(random_state=0),\n",
    "                   params,\n",
    "                   cv=cv,\n",
    "                   n_jobs=-1,\n",
    "                   verbose=2\n",
    "                  )"
   ]
  },
  {
   "cell_type": "code",
   "execution_count": null,
   "metadata": {
    "ExecuteTime": {
     "start_time": "2025-01-12T09:12:55.375522600Z"
    }
   },
   "outputs": [],
   "source": [
    "stdsc = StandardScaler()\n",
    "X_std = stdsc.fit_transform(X)"
   ]
  },
  {
   "cell_type": "code",
   "execution_count": null,
   "metadata": {
    "ExecuteTime": {
     "start_time": "2025-01-12T09:12:55.376521300Z"
    }
   },
   "outputs": [],
   "source": [
    "best_acc = 0\n",
    "re = pd.DataFrame()\n",
    "stdsc = StandardScaler()\n",
    "X_std = stdsc.fit_transform(X)\n",
    "for i in range(2,31):\n",
    "    sffs = SFS(\n",
    "    ExtraTreesClassifier(random_state=0), # 使う学習器\n",
    "    k_features=i, #特徴をいくつまで選択するか\n",
    "    forward=True, #Trueでforward selectionになる。Falseでback\n",
    "    floating=True, #sffsを行うためのもの。\n",
    "    verbose=1, #実行時のlogをどれだけ詳しく表示するか\n",
    "    scoring='accuracy', # 評価指標\n",
    "    cv=cv,#クロスバリデーション\n",
    "    n_jobs=-1\n",
    "    )\n",
    "\n",
    "    sffs = sffs.fit(X_std, y)\n",
    "    #選ばれた特徴\n",
    "    X_train_sffs = X_std[:,list(sffs.k_feature_idx_)]\n",
    "\n",
    "    X_train_sffs_std = stdsc.fit_transform(X_train_sffs)\n",
    "    \n",
    "    clf = GridSearchCV(ExtraTreesClassifier(random_state=0),\n",
    "                   params,\n",
    "                   cv=cv,\n",
    "                   n_jobs=-1,\n",
    "                   verbose=2\n",
    "                  )\n",
    "    \n",
    "    clf.fit(X_train_sffs_std, y)\n",
    "\n",
    "    print(clf.best_score_, clf.best_params_)\n",
    "    \n",
    "    if clf.best_score_ < best_acc - 0.05:\n",
    "        break\n",
    "    elif clf.best_score_ > best_acc:\n",
    "        best_acc = clf.best_score_\n",
    "    \n",
    "    re_i = pd.DataFrame([[sffs.k_feature_idx_,clf.best_score_,clf.best_params_]], columns=['Feature','accuracy','param'])\n",
    "    re = pd.concat([re,re_i])\n",
    "    '''# トレーニングデータに対する精度\n",
    "    pred_train = random_forest.predict(X_train_sffs)\n",
    "    accuracy_train = accuracy_score(y_train, pred_train)\n",
    "\n",
    "    # テストデータに対する精度\n",
    "    pred_test = random_forest.predict(X_test_sffs)\n",
    "    accuracy_test = accuracy_score(y_test, pred_test)\n",
    "\n",
    "    re_i = pd.DataFrame([[sffs.k_feature_idx_,accuracy_train,accuracy_test]], columns=['Feature','TrainigScore','TestScore'])\n",
    "    re = pd.concat([re,re_i])\n",
    "\n",
    "re.to_csv('Dataset/RF_Zigzag_trace.csv')'''"
   ]
  },
  {
   "cell_type": "code",
   "execution_count": null,
   "metadata": {
    "ExecuteTime": {
     "start_time": "2025-01-12T09:12:55.377522Z"
    }
   },
   "outputs": [],
   "source": [
    "re.to_csv('Dataset/ET_Zigzag_predict_SFFS.csv')"
   ]
  },
  {
   "cell_type": "code",
   "execution_count": null,
   "metadata": {
    "ExecuteTime": {
     "start_time": "2025-01-12T09:12:55.377522Z"
    }
   },
   "outputs": [],
   "source": []
  },
  {
   "attachments": {},
   "cell_type": "markdown",
   "metadata": {},
   "source": [
    "### Pl trace"
   ]
  },
  {
   "cell_type": "code",
   "execution_count": null,
   "metadata": {
    "ExecuteTime": {
     "start_time": "2025-01-12T09:12:55.379523500Z"
    }
   },
   "outputs": [],
   "source": [
    "from sklearn.ensemble import ExtraTreesClassifier\n",
    "import csv\n",
    "import pandas as pd\n",
    "from mlxtend.feature_selection import SequentialFeatureSelector as SFS\n",
    "from sklearn.model_selection import GridSearchCV\n",
    "import numpy as np\n",
    "from sklearn.preprocessing import StandardScaler"
   ]
  },
  {
   "cell_type": "code",
   "execution_count": null,
   "metadata": {
    "ExecuteTime": {
     "start_time": "2025-01-12T09:12:55.380523800Z"
    }
   },
   "outputs": [],
   "source": [
    "f=pd.read_csv('Dataset/Pl_trace.csv')\n",
    "df = f.to_numpy()\n",
    "df.shape"
   ]
  },
  {
   "cell_type": "code",
   "execution_count": null,
   "metadata": {
    "ExecuteTime": {
     "start_time": "2025-01-12T09:12:55.380523800Z"
    }
   },
   "outputs": [],
   "source": [
    "X = df[:,2:]\n",
    "y = df[:,1]\n",
    "print(y)\n",
    "y=y.astype('int')\n",
    "\n",
    "#データチューニング\n",
    "params = {\n",
    "    'max_depth':[3, 4, 5],\n",
    "    'min_samples_leaf':[1, 4, 7],\n",
    "    'min_samples_split':[2]\n",
    "}\n",
    "\n",
    "from sklearn.model_selection import LeaveOneOut\n",
    "\n",
    "# create loocv procedure\n",
    "cv = LeaveOneOut()\n",
    "\n",
    "clf = GridSearchCV(ExtraTreesClassifier(random_state=0),\n",
    "                   params,\n",
    "                   cv=cv,\n",
    "                   n_jobs=-1,\n",
    "                   verbose=2\n",
    "                  )"
   ]
  },
  {
   "cell_type": "code",
   "execution_count": null,
   "metadata": {
    "ExecuteTime": {
     "start_time": "2025-01-12T09:12:55.381520500Z"
    }
   },
   "outputs": [],
   "source": [
    "stdsc = StandardScaler()\n",
    "X_std = stdsc.fit_transform(X)"
   ]
  },
  {
   "cell_type": "code",
   "execution_count": null,
   "metadata": {
    "ExecuteTime": {
     "start_time": "2025-01-12T09:12:55.383522800Z"
    }
   },
   "outputs": [],
   "source": [
    "best_acc = 0\n",
    "re = pd.DataFrame()\n",
    "stdsc = StandardScaler()\n",
    "X_std = stdsc.fit_transform(X)\n",
    "for i in range(2,31):\n",
    "    sffs = SFS(\n",
    "    ExtraTreesClassifier(random_state=0), # 使う学習器\n",
    "    k_features=i, #特徴をいくつまで選択するか\n",
    "    forward=True, #Trueでforward selectionになる。Falseでback\n",
    "    floating=True, #sffsを行うためのもの。\n",
    "    verbose=1, #実行時のlogをどれだけ詳しく表示するか\n",
    "    scoring='accuracy', # 評価指標\n",
    "    cv=cv,#クロスバリデーション\n",
    "    n_jobs=-1\n",
    "    )\n",
    "\n",
    "    sffs = sffs.fit(X_std, y)\n",
    "    #選ばれた特徴\n",
    "    X_train_sffs = X_std[:,list(sffs.k_feature_idx_)]\n",
    "\n",
    "    X_train_sffs_std = stdsc.fit_transform(X_train_sffs)\n",
    "    \n",
    "    clf = GridSearchCV(ExtraTreesClassifier(random_state=0),\n",
    "                   params,\n",
    "                   cv=cv,\n",
    "                   n_jobs=-1,\n",
    "                   verbose=2\n",
    "                  )\n",
    "    \n",
    "    clf.fit(X_train_sffs_std, y)\n",
    "\n",
    "    print(clf.best_score_, clf.best_params_)\n",
    "    \n",
    "    if clf.best_score_ < best_acc - 0.05:\n",
    "        break\n",
    "    elif clf.best_score_ > best_acc:\n",
    "        best_acc = clf.best_score_\n",
    "    \n",
    "    re_i = pd.DataFrame([[sffs.k_feature_idx_,clf.best_score_,clf.best_params_]], columns=['Feature','accuracy','param'])\n",
    "    re = pd.concat([re,re_i])\n",
    "    '''# トレーニングデータに対する精度\n",
    "    pred_train = random_forest.predict(X_train_sffs)\n",
    "    accuracy_train = accuracy_score(y_train, pred_train)\n",
    "\n",
    "    # テストデータに対する精度\n",
    "    pred_test = random_forest.predict(X_test_sffs)\n",
    "    accuracy_test = accuracy_score(y_test, pred_test)\n",
    "\n",
    "    re_i = pd.DataFrame([[sffs.k_feature_idx_,accuracy_train,accuracy_test]], columns=['Feature','TrainigScore','TestScore'])\n",
    "    re = pd.concat([re,re_i])\n",
    "\n",
    "re.to_csv('Dataset/RF_Zigzag_trace.csv')'''"
   ]
  },
  {
   "cell_type": "code",
   "execution_count": null,
   "metadata": {
    "ExecuteTime": {
     "start_time": "2025-01-12T09:12:55.384521400Z"
    }
   },
   "outputs": [],
   "source": [
    "re.to_csv('Dataset/ET_Pl_trace_SFFS.csv')"
   ]
  },
  {
   "cell_type": "code",
   "execution_count": null,
   "metadata": {
    "ExecuteTime": {
     "start_time": "2025-01-12T09:12:55.385519300Z"
    }
   },
   "outputs": [],
   "source": []
  },
  {
   "attachments": {},
   "cell_type": "markdown",
   "metadata": {},
   "source": [
    "### Pl predict"
   ]
  },
  {
   "cell_type": "code",
   "execution_count": null,
   "metadata": {
    "ExecuteTime": {
     "start_time": "2025-01-12T09:12:55.386521100Z"
    }
   },
   "outputs": [],
   "source": [
    "from sklearn.ensemble import ExtraTreesClassifier\n",
    "import csv\n",
    "import pandas as pd\n",
    "from mlxtend.feature_selection import SequentialFeatureSelector as SFS\n",
    "from sklearn.model_selection import GridSearchCV\n",
    "import numpy as np\n",
    "from sklearn.preprocessing import StandardScaler"
   ]
  },
  {
   "cell_type": "code",
   "execution_count": null,
   "metadata": {
    "ExecuteTime": {
     "start_time": "2025-01-12T09:12:55.387520500Z"
    }
   },
   "outputs": [],
   "source": [
    "f=pd.read_csv('Dataset/Pl_predict.csv')\n",
    "df = f.to_numpy()\n",
    "df.shape"
   ]
  },
  {
   "cell_type": "code",
   "execution_count": null,
   "metadata": {
    "ExecuteTime": {
     "start_time": "2025-01-12T09:12:55.388521300Z"
    }
   },
   "outputs": [],
   "source": [
    "X = df[:,2:]\n",
    "y = df[:,1]\n",
    "print(y)\n",
    "y=y.astype('int')\n",
    "\n",
    "#データチューニング\n",
    "params = {\n",
    "    'max_depth':[3, 4, 5],\n",
    "    'min_samples_leaf':[1, 4, 7],\n",
    "    'min_samples_split':[2]\n",
    "}\n",
    "\n",
    "from sklearn.model_selection import LeaveOneOut\n",
    "\n",
    "# create loocv procedure\n",
    "cv = LeaveOneOut()\n",
    "\n",
    "clf = GridSearchCV(ExtraTreesClassifier(random_state=0),\n",
    "                   params,\n",
    "                   cv=cv,\n",
    "                   n_jobs=-1,\n",
    "                   verbose=2\n",
    "                  )"
   ]
  },
  {
   "cell_type": "code",
   "execution_count": null,
   "metadata": {
    "ExecuteTime": {
     "start_time": "2025-01-12T09:12:55.389522100Z"
    }
   },
   "outputs": [],
   "source": [
    "stdsc = StandardScaler()\n",
    "X_std = stdsc.fit_transform(X)"
   ]
  },
  {
   "cell_type": "code",
   "execution_count": null,
   "metadata": {
    "ExecuteTime": {
     "start_time": "2025-01-12T09:12:55.390521700Z"
    }
   },
   "outputs": [],
   "source": [
    "best_acc = 0\n",
    "re = pd.DataFrame()\n",
    "stdsc = StandardScaler()\n",
    "X_std = stdsc.fit_transform(X)\n",
    "for i in range(2,31):\n",
    "    sffs = SFS(\n",
    "    ExtraTreesClassifier(random_state=0), # 使う学習器\n",
    "    k_features=i, #特徴をいくつまで選択するか\n",
    "    forward=True, #Trueでforward selectionになる。Falseでback\n",
    "    floating=True, #sffsを行うためのもの。\n",
    "    verbose=1, #実行時のlogをどれだけ詳しく表示するか\n",
    "    scoring='accuracy', # 評価指標\n",
    "    cv=cv,#クロスバリデーション\n",
    "    n_jobs=-1\n",
    "    )\n",
    "\n",
    "    sffs = sffs.fit(X_std, y)\n",
    "    #選ばれた特徴\n",
    "    X_train_sffs = X_std[:,list(sffs.k_feature_idx_)]\n",
    "\n",
    "    X_train_sffs_std = stdsc.fit_transform(X_train_sffs)\n",
    "    \n",
    "    clf = GridSearchCV(ExtraTreesClassifier(random_state=0),\n",
    "                   params,\n",
    "                   cv=cv,\n",
    "                   n_jobs=-1,\n",
    "                   verbose=2\n",
    "                  )\n",
    "    \n",
    "    clf.fit(X_train_sffs_std, y)\n",
    "\n",
    "    print(clf.best_score_, clf.best_params_)\n",
    "    \n",
    "    if clf.best_score_ < best_acc - 0.05:\n",
    "        break\n",
    "    elif clf.best_score_ > best_acc:\n",
    "        best_acc = clf.best_score_\n",
    "    \n",
    "    re_i = pd.DataFrame([[sffs.k_feature_idx_,clf.best_score_,clf.best_params_]], columns=['Feature','accuracy','param'])\n",
    "    re = pd.concat([re,re_i])\n",
    "    '''# トレーニングデータに対する精度\n",
    "    pred_train = random_forest.predict(X_train_sffs)\n",
    "    accuracy_train = accuracy_score(y_train, pred_train)\n",
    "\n",
    "    # テストデータに対する精度\n",
    "    pred_test = random_forest.predict(X_test_sffs)\n",
    "    accuracy_test = accuracy_score(y_test, pred_test)\n",
    "\n",
    "    re_i = pd.DataFrame([[sffs.k_feature_idx_,accuracy_train,accuracy_test]], columns=['Feature','TrainigScore','TestScore'])\n",
    "    re = pd.concat([re,re_i])\n",
    "\n",
    "re.to_csv('Dataset/RF_Zigzag_trace.csv')'''"
   ]
  },
  {
   "cell_type": "code",
   "execution_count": null,
   "metadata": {
    "ExecuteTime": {
     "start_time": "2025-01-12T09:12:55.390521700Z"
    }
   },
   "outputs": [],
   "source": [
    "re.to_csv('Dataset/ET_Pl_predict_SFFS.csv')"
   ]
  },
  {
   "cell_type": "code",
   "execution_count": null,
   "metadata": {
    "ExecuteTime": {
     "start_time": "2025-01-12T09:12:55.392521800Z"
    }
   },
   "outputs": [],
   "source": []
  },
  {
   "attachments": {},
   "cell_type": "markdown",
   "metadata": {},
   "source": [
    "## GNB method"
   ]
  },
  {
   "attachments": {},
   "cell_type": "markdown",
   "metadata": {},
   "source": [
    "### ZigZag trace"
   ]
  },
  {
   "cell_type": "code",
   "execution_count": null,
   "metadata": {
    "ExecuteTime": {
     "start_time": "2025-01-12T09:12:55.393521600Z"
    }
   },
   "outputs": [],
   "source": [
    "from sklearn.naive_bayes import GaussianNB\n",
    "import csv\n",
    "import pandas as pd\n",
    "from mlxtend.feature_selection import SequentialFeatureSelector as SFS\n",
    "from sklearn.model_selection import train_test_split\n",
    "from sklearn.model_selection import GridSearchCV\n",
    "from sklearn.metrics import accuracy_score\n",
    "import numpy as np\n",
    "from sklearn.preprocessing import StandardScaler"
   ]
  },
  {
   "cell_type": "code",
   "execution_count": null,
   "metadata": {
    "ExecuteTime": {
     "start_time": "2025-01-12T09:12:55.394520100Z"
    }
   },
   "outputs": [],
   "source": [
    "f=pd.read_csv('Dataset/Zigzag_trace.csv')\n",
    "df = f.to_numpy()\n",
    "df.shape"
   ]
  },
  {
   "cell_type": "code",
   "execution_count": null,
   "metadata": {
    "ExecuteTime": {
     "start_time": "2025-01-12T09:12:55.395519400Z"
    }
   },
   "outputs": [],
   "source": [
    "X = df[:,2:]\n",
    "y = df[:,1]\n",
    "print(y)\n",
    "y=y.astype('int')\n",
    "\n",
    "#データチューニング\n",
    "params = {\n",
    "    'var_smoothing': np.logspace(0,-9, num=100)\n",
    "}\n",
    "\n",
    "\n",
    "from sklearn.model_selection import LeaveOneOut\n",
    "\n",
    "# create loocv procedure\n",
    "cv = LeaveOneOut()\n",
    "\n",
    "clf = GridSearchCV(GaussianNB(),\n",
    "                   params,\n",
    "                   cv=cv,\n",
    "                   n_jobs=-1,\n",
    "                   verbose=2\n",
    "                  )"
   ]
  },
  {
   "cell_type": "code",
   "execution_count": null,
   "metadata": {
    "ExecuteTime": {
     "start_time": "2025-01-12T09:12:55.397519500Z"
    }
   },
   "outputs": [],
   "source": [
    "stdsc = StandardScaler()\n",
    "X_std = stdsc.fit_transform(X)"
   ]
  },
  {
   "cell_type": "code",
   "execution_count": null,
   "metadata": {
    "ExecuteTime": {
     "start_time": "2025-01-12T09:12:55.398519100Z"
    }
   },
   "outputs": [],
   "source": [
    "best_acc = 0\n",
    "re = pd.DataFrame()\n",
    "stdsc = StandardScaler()\n",
    "X_std = stdsc.fit_transform(X)\n",
    "for i in range(2,31):\n",
    "    sffs = SFS(\n",
    "    GaussianNB(), # 使う学習器\n",
    "    k_features=i, #特徴をいくつまで選択するか\n",
    "    forward=True, #Trueでforward selectionになる。Falseでback\n",
    "    floating=True, #sffsを行うためのもの。\n",
    "    verbose=1, #実行時のlogをどれだけ詳しく表示するか\n",
    "    scoring='accuracy', # 評価指標\n",
    "    cv=cv,#クロスバリデーション\n",
    "    n_jobs=-1\n",
    "    )\n",
    "\n",
    "    sffs = sffs.fit(X_std, y)\n",
    "    #選ばれた特徴\n",
    "    X_train_sffs = X_std[:,list(sffs.k_feature_idx_)]\n",
    "\n",
    "    X_train_sffs_std = stdsc.fit_transform(X_train_sffs)\n",
    "    \n",
    "    clf = GridSearchCV(GaussianNB(),\n",
    "                   params,\n",
    "                   cv=cv,\n",
    "                   n_jobs=-1,\n",
    "                   verbose=2\n",
    "                  )\n",
    "    \n",
    "    clf.fit(X_train_sffs_std, y)\n",
    "\n",
    "    print(clf.best_score_, clf.best_params_)\n",
    "    \n",
    "    if clf.best_score_ < best_acc - 0.05:\n",
    "        break\n",
    "    elif clf.best_score_ > best_acc:\n",
    "        best_acc = clf.best_score_\n",
    "    \n",
    "    re_i = pd.DataFrame([[sffs.k_feature_idx_,clf.best_score_,clf.best_params_]], columns=['Feature','accuracy','param'])\n",
    "    re = pd.concat([re,re_i])\n",
    "    '''# トレーニングデータに対する精度\n",
    "    pred_train = random_forest.predict(X_train_sffs)\n",
    "    accuracy_train = accuracy_score(y_train, pred_train)\n",
    "\n",
    "    # テストデータに対する精度\n",
    "    pred_test = random_forest.predict(X_test_sffs)\n",
    "    accuracy_test = accuracy_score(y_test, pred_test)\n",
    "\n",
    "    re_i = pd.DataFrame([[sffs.k_feature_idx_,accuracy_train,accuracy_test]], columns=['Feature','TrainigScore','TestScore'])\n",
    "    re = pd.concat([re,re_i])\n",
    "\n",
    "re.to_csv('Dataset/RF_Zigzag_trace.csv')'''"
   ]
  },
  {
   "cell_type": "code",
   "execution_count": null,
   "metadata": {
    "ExecuteTime": {
     "start_time": "2025-01-12T09:12:55.400744200Z"
    }
   },
   "outputs": [],
   "source": [
    "re.to_csv('Dataset/GNB_Zigzag_trace_SFFS.csv')"
   ]
  },
  {
   "cell_type": "code",
   "execution_count": null,
   "metadata": {
    "ExecuteTime": {
     "start_time": "2025-01-12T09:12:55.402743900Z"
    }
   },
   "outputs": [],
   "source": []
  },
  {
   "attachments": {},
   "cell_type": "markdown",
   "metadata": {},
   "source": [
    "### ZigZag predict"
   ]
  },
  {
   "cell_type": "code",
   "execution_count": null,
   "metadata": {
    "ExecuteTime": {
     "start_time": "2025-01-12T09:12:55.403741900Z"
    }
   },
   "outputs": [],
   "source": [
    "from sklearn.naive_bayes import GaussianNB\n",
    "import csv\n",
    "import pandas as pd\n",
    "from mlxtend.feature_selection import SequentialFeatureSelector as SFS\n",
    "from sklearn.model_selection import train_test_split\n",
    "from sklearn.model_selection import GridSearchCV\n",
    "from sklearn.metrics import accuracy_score\n",
    "import numpy as np\n",
    "from sklearn.preprocessing import StandardScaler"
   ]
  },
  {
   "cell_type": "code",
   "execution_count": null,
   "metadata": {
    "ExecuteTime": {
     "start_time": "2025-01-12T09:12:55.404744700Z"
    }
   },
   "outputs": [],
   "source": [
    "f=pd.read_csv('Dataset/Zigzag_predict.csv')\n",
    "df = f.to_numpy()\n",
    "df.shape"
   ]
  },
  {
   "cell_type": "code",
   "execution_count": null,
   "metadata": {
    "ExecuteTime": {
     "start_time": "2025-01-12T09:12:55.405745400Z"
    }
   },
   "outputs": [],
   "source": [
    "X = df[:,2:]\n",
    "y = df[:,1]\n",
    "print(y)\n",
    "y=y.astype('int')\n",
    "\n",
    "#データチューニング\n",
    "params = {\n",
    "    'var_smoothing': np.logspace(0,-9, num=100)\n",
    "}\n",
    "\n",
    "\n",
    "from sklearn.model_selection import LeaveOneOut\n",
    "\n",
    "# create loocv procedure\n",
    "cv = LeaveOneOut()\n",
    "\n",
    "clf = GridSearchCV(GaussianNB(),\n",
    "                   params,\n",
    "                   cv=cv,\n",
    "                   n_jobs=-1,\n",
    "                   verbose=2\n",
    "                  )"
   ]
  },
  {
   "cell_type": "code",
   "execution_count": null,
   "metadata": {
    "ExecuteTime": {
     "start_time": "2025-01-12T09:12:55.405745400Z"
    }
   },
   "outputs": [],
   "source": [
    "stdsc = StandardScaler()\n",
    "X_std = stdsc.fit_transform(X)"
   ]
  },
  {
   "cell_type": "code",
   "execution_count": null,
   "metadata": {
    "ExecuteTime": {
     "start_time": "2025-01-12T09:12:55.408005900Z"
    }
   },
   "outputs": [],
   "source": [
    "best_acc = 0\n",
    "re = pd.DataFrame()\n",
    "stdsc = StandardScaler()\n",
    "X_std = stdsc.fit_transform(X)\n",
    "for i in range(2,31):\n",
    "    sffs = SFS(\n",
    "    GaussianNB(), # 使う学習器\n",
    "    k_features=i, #特徴をいくつまで選択するか\n",
    "    forward=True, #Trueでforward selectionになる。Falseでback\n",
    "    floating=True, #sffsを行うためのもの。\n",
    "    verbose=1, #実行時のlogをどれだけ詳しく表示するか\n",
    "    scoring='accuracy', # 評価指標\n",
    "    cv=cv,#クロスバリデーション\n",
    "    n_jobs=-1\n",
    "    )\n",
    "\n",
    "    sffs = sffs.fit(X_std, y)\n",
    "    #選ばれた特徴\n",
    "    X_train_sffs = X_std[:,list(sffs.k_feature_idx_)]\n",
    "\n",
    "    X_train_sffs_std = stdsc.fit_transform(X_train_sffs)\n",
    "    \n",
    "    clf = GridSearchCV(GaussianNB(),\n",
    "                   params,\n",
    "                   cv=cv,\n",
    "                   n_jobs=-1,\n",
    "                   verbose=2\n",
    "                  )\n",
    "    \n",
    "    clf.fit(X_train_sffs_std, y)\n",
    "\n",
    "    print(clf.best_score_, clf.best_params_)\n",
    "    \n",
    "    if clf.best_score_ < best_acc - 0.05:\n",
    "        break\n",
    "    elif clf.best_score_ > best_acc:\n",
    "        best_acc = clf.best_score_\n",
    "    \n",
    "    re_i = pd.DataFrame([[sffs.k_feature_idx_,clf.best_score_,clf.best_params_]], columns=['Feature','accuracy','param'])\n",
    "    re = pd.concat([re,re_i])\n",
    "    '''# トレーニングデータに対する精度\n",
    "    pred_train = random_forest.predict(X_train_sffs)\n",
    "    accuracy_train = accuracy_score(y_train, pred_train)\n",
    "\n",
    "    # テストデータに対する精度\n",
    "    pred_test = random_forest.predict(X_test_sffs)\n",
    "    accuracy_test = accuracy_score(y_test, pred_test)\n",
    "\n",
    "    re_i = pd.DataFrame([[sffs.k_feature_idx_,accuracy_train,accuracy_test]], columns=['Feature','TrainigScore','TestScore'])\n",
    "    re = pd.concat([re,re_i])\n",
    "\n",
    "re.to_csv('Dataset/RF_Zigzag_trace.csv')'''"
   ]
  },
  {
   "cell_type": "code",
   "execution_count": null,
   "metadata": {
    "ExecuteTime": {
     "start_time": "2025-01-12T09:12:55.409006100Z"
    }
   },
   "outputs": [],
   "source": [
    "re.to_csv('Dataset/GNB_Zigzag_predict_SFFS.csv')"
   ]
  },
  {
   "cell_type": "code",
   "execution_count": null,
   "metadata": {
    "ExecuteTime": {
     "start_time": "2025-01-12T09:12:55.410006800Z"
    }
   },
   "outputs": [],
   "source": []
  },
  {
   "attachments": {},
   "cell_type": "markdown",
   "metadata": {},
   "source": [
    "### Pl trace"
   ]
  },
  {
   "cell_type": "code",
   "execution_count": null,
   "metadata": {
    "ExecuteTime": {
     "start_time": "2025-01-12T09:12:55.411006800Z"
    }
   },
   "outputs": [],
   "source": [
    "from sklearn.naive_bayes import GaussianNB\n",
    "import csv\n",
    "import pandas as pd\n",
    "from mlxtend.feature_selection import SequentialFeatureSelector as SFS\n",
    "from sklearn.model_selection import train_test_split\n",
    "from sklearn.model_selection import GridSearchCV\n",
    "from sklearn.metrics import accuracy_score\n",
    "import numpy as np\n",
    "from sklearn.preprocessing import StandardScaler"
   ]
  },
  {
   "cell_type": "code",
   "execution_count": null,
   "metadata": {
    "ExecuteTime": {
     "start_time": "2025-01-12T09:12:55.412006500Z"
    }
   },
   "outputs": [],
   "source": [
    "f=pd.read_csv('Dataset/Pl_trace.csv')\n",
    "df = f.to_numpy()\n",
    "df.shape"
   ]
  },
  {
   "cell_type": "code",
   "execution_count": null,
   "metadata": {
    "ExecuteTime": {
     "start_time": "2025-01-12T09:12:55.413370100Z"
    }
   },
   "outputs": [],
   "source": [
    "X = df[:,2:]\n",
    "y = df[:,1]\n",
    "print(y)\n",
    "y=y.astype('int')\n",
    "\n",
    "#データチューニング\n",
    "params = {\n",
    "    'var_smoothing': np.logspace(0,-9, num=100)\n",
    "}\n",
    "\n",
    "\n",
    "from sklearn.model_selection import LeaveOneOut\n",
    "\n",
    "# create loocv procedure\n",
    "cv = LeaveOneOut()\n",
    "\n",
    "clf = GridSearchCV(GaussianNB(),\n",
    "                   params,\n",
    "                   cv=cv,\n",
    "                   n_jobs=-1,\n",
    "                   verbose=2\n",
    "                  )"
   ]
  },
  {
   "cell_type": "code",
   "execution_count": null,
   "metadata": {
    "ExecuteTime": {
     "start_time": "2025-01-12T09:12:55.415886900Z"
    }
   },
   "outputs": [],
   "source": [
    "stdsc = StandardScaler()\n",
    "X_std = stdsc.fit_transform(X)"
   ]
  },
  {
   "cell_type": "code",
   "execution_count": null,
   "metadata": {
    "ExecuteTime": {
     "start_time": "2025-01-12T09:12:55.416883800Z"
    }
   },
   "outputs": [],
   "source": [
    "best_acc = 0\n",
    "re = pd.DataFrame()\n",
    "stdsc = StandardScaler()\n",
    "X_std = stdsc.fit_transform(X)\n",
    "for i in range(2,31):\n",
    "    sffs = SFS(\n",
    "    GaussianNB(), # 使う学習器\n",
    "    k_features=i, #特徴をいくつまで選択するか\n",
    "    forward=True, #Trueでforward selectionになる。Falseでback\n",
    "    floating=True, #sffsを行うためのもの。\n",
    "    verbose=1, #実行時のlogをどれだけ詳しく表示するか\n",
    "    scoring='accuracy', # 評価指標\n",
    "    cv=cv,#クロスバリデーション\n",
    "    n_jobs=-1\n",
    "    )\n",
    "\n",
    "    sffs = sffs.fit(X_std, y)\n",
    "    #選ばれた特徴\n",
    "    X_train_sffs = X_std[:,list(sffs.k_feature_idx_)]\n",
    "\n",
    "    X_train_sffs_std = stdsc.fit_transform(X_train_sffs)\n",
    "    \n",
    "    clf = GridSearchCV(GaussianNB(),\n",
    "                   params,\n",
    "                   cv=cv,\n",
    "                   n_jobs=-1,\n",
    "                   verbose=2\n",
    "                  )\n",
    "    \n",
    "    clf.fit(X_train_sffs_std, y)\n",
    "\n",
    "    print(clf.best_score_, clf.best_params_)\n",
    "    \n",
    "    if clf.best_score_ < best_acc - 0.05:\n",
    "        break\n",
    "    elif clf.best_score_ > best_acc:\n",
    "        best_acc = clf.best_score_\n",
    "    \n",
    "    re_i = pd.DataFrame([[sffs.k_feature_idx_,clf.best_score_,clf.best_params_]], columns=['Feature','accuracy','param'])\n",
    "    re = pd.concat([re,re_i])\n",
    "    '''# トレーニングデータに対する精度\n",
    "    pred_train = random_forest.predict(X_train_sffs)\n",
    "    accuracy_train = accuracy_score(y_train, pred_train)\n",
    "\n",
    "    # テストデータに対する精度\n",
    "    pred_test = random_forest.predict(X_test_sffs)\n",
    "    accuracy_test = accuracy_score(y_test, pred_test)\n",
    "\n",
    "    re_i = pd.DataFrame([[sffs.k_feature_idx_,accuracy_train,accuracy_test]], columns=['Feature','TrainigScore','TestScore'])\n",
    "    re = pd.concat([re,re_i])\n",
    "\n",
    "re.to_csv('Dataset/RF_Zigzag_trace.csv')'''"
   ]
  },
  {
   "cell_type": "code",
   "execution_count": null,
   "metadata": {
    "ExecuteTime": {
     "start_time": "2025-01-12T09:12:55.418884100Z"
    }
   },
   "outputs": [],
   "source": [
    "re.to_csv('Dataset/GNB_Pl_trace_SFFS.csv')"
   ]
  },
  {
   "cell_type": "code",
   "execution_count": null,
   "metadata": {
    "ExecuteTime": {
     "start_time": "2025-01-12T09:12:55.420883500Z"
    }
   },
   "outputs": [],
   "source": []
  },
  {
   "attachments": {},
   "cell_type": "markdown",
   "metadata": {},
   "source": [
    "### Pl predict"
   ]
  },
  {
   "cell_type": "code",
   "execution_count": null,
   "metadata": {
    "ExecuteTime": {
     "start_time": "2025-01-12T09:12:55.421883700Z"
    }
   },
   "outputs": [],
   "source": [
    "from sklearn.naive_bayes import GaussianNB\n",
    "import csv\n",
    "import pandas as pd\n",
    "from mlxtend.feature_selection import SequentialFeatureSelector as SFS\n",
    "from sklearn.model_selection import train_test_split\n",
    "from sklearn.model_selection import GridSearchCV\n",
    "from sklearn.metrics import accuracy_score\n",
    "import numpy as np\n",
    "from sklearn.preprocessing import StandardScaler"
   ]
  },
  {
   "cell_type": "code",
   "execution_count": null,
   "metadata": {
    "ExecuteTime": {
     "start_time": "2025-01-12T09:12:55.422882900Z"
    }
   },
   "outputs": [],
   "source": [
    "f=pd.read_csv('Dataset/Pl_predict.csv')\n",
    "df = f.to_numpy()\n",
    "df.shape"
   ]
  },
  {
   "cell_type": "code",
   "execution_count": null,
   "metadata": {
    "ExecuteTime": {
     "start_time": "2025-01-12T09:12:55.423882800Z"
    }
   },
   "outputs": [],
   "source": [
    "X = df[:,2:]\n",
    "y = df[:,1]\n",
    "print(y)\n",
    "y=y.astype('int')\n",
    "\n",
    "#データチューニング\n",
    "params = {\n",
    "    'var_smoothing': np.logspace(0,-9, num=100)\n",
    "}\n",
    "\n",
    "\n",
    "from sklearn.model_selection import LeaveOneOut\n",
    "\n",
    "# create loocv procedure\n",
    "cv = LeaveOneOut()\n",
    "\n",
    "clf = GridSearchCV(GaussianNB(),\n",
    "                   params,\n",
    "                   cv=cv,\n",
    "                   n_jobs=-1,\n",
    "                   verbose=2\n",
    "                  )"
   ]
  },
  {
   "cell_type": "code",
   "execution_count": null,
   "metadata": {
    "ExecuteTime": {
     "start_time": "2025-01-12T09:12:55.424883400Z"
    }
   },
   "outputs": [],
   "source": [
    "stdsc = StandardScaler()\n",
    "X_std = stdsc.fit_transform(X)"
   ]
  },
  {
   "cell_type": "code",
   "execution_count": null,
   "metadata": {
    "ExecuteTime": {
     "start_time": "2025-01-12T09:12:55.424883400Z"
    }
   },
   "outputs": [],
   "source": [
    "best_acc = 0\n",
    "re = pd.DataFrame()\n",
    "stdsc = StandardScaler()\n",
    "X_std = stdsc.fit_transform(X)\n",
    "for i in range(2,31):\n",
    "    sffs = SFS(\n",
    "    GaussianNB(), # 使う学習器\n",
    "    k_features=i, #特徴をいくつまで選択するか\n",
    "    forward=True, #Trueでforward selectionになる。Falseでback\n",
    "    floating=True, #sffsを行うためのもの。\n",
    "    verbose=1, #実行時のlogをどれだけ詳しく表示するか\n",
    "    scoring='accuracy', # 評価指標\n",
    "    cv=cv,#クロスバリデーション\n",
    "    n_jobs=-1\n",
    "    )\n",
    "\n",
    "    sffs = sffs.fit(X_std, y)\n",
    "    #選ばれた特徴\n",
    "    X_train_sffs = X_std[:,list(sffs.k_feature_idx_)]\n",
    "\n",
    "    X_train_sffs_std = stdsc.fit_transform(X_train_sffs)\n",
    "    \n",
    "    clf = GridSearchCV(GaussianNB(),\n",
    "                   params,\n",
    "                   cv=cv,\n",
    "                   n_jobs=-1,\n",
    "                   verbose=2\n",
    "                  )\n",
    "    \n",
    "    clf.fit(X_train_sffs_std, y)\n",
    "\n",
    "    print(clf.best_score_, clf.best_params_)\n",
    "    \n",
    "    if clf.best_score_ < best_acc - 0.05:\n",
    "        break\n",
    "    elif clf.best_score_ > best_acc:\n",
    "        best_acc = clf.best_score_\n",
    "    \n",
    "    re_i = pd.DataFrame([[sffs.k_feature_idx_,clf.best_score_,clf.best_params_]], columns=['Feature','accuracy','param'])\n",
    "    re = pd.concat([re,re_i])\n",
    "    '''# トレーニングデータに対する精度\n",
    "    pred_train = random_forest.predict(X_train_sffs)\n",
    "    accuracy_train = accuracy_score(y_train, pred_train)\n",
    "\n",
    "    # テストデータに対する精度\n",
    "    pred_test = random_forest.predict(X_test_sffs)\n",
    "    accuracy_test = accuracy_score(y_test, pred_test)\n",
    "\n",
    "    re_i = pd.DataFrame([[sffs.k_feature_idx_,accuracy_train,accuracy_test]], columns=['Feature','TrainigScore','TestScore'])\n",
    "    re = pd.concat([re,re_i])\n",
    "\n",
    "re.to_csv('Dataset/RF_Zigzag_trace.csv')'''"
   ]
  },
  {
   "cell_type": "code",
   "execution_count": null,
   "metadata": {
    "ExecuteTime": {
     "start_time": "2025-01-12T09:12:55.425883100Z"
    }
   },
   "outputs": [],
   "source": [
    "re.to_csv('Dataset/GNB_Pl_predict_SFFS.csv')"
   ]
  },
  {
   "cell_type": "code",
   "execution_count": null,
   "metadata": {
    "ExecuteTime": {
     "start_time": "2025-01-12T09:12:55.427884600Z"
    }
   },
   "outputs": [],
   "source": []
  },
  {
   "attachments": {},
   "cell_type": "markdown",
   "metadata": {},
   "source": [
    "## KNN method"
   ]
  },
  {
   "attachments": {},
   "cell_type": "markdown",
   "metadata": {},
   "source": [
    "### ZigZag trace"
   ]
  },
  {
   "cell_type": "code",
   "execution_count": null,
   "metadata": {
    "ExecuteTime": {
     "start_time": "2025-01-12T09:12:55.429908Z"
    }
   },
   "outputs": [],
   "source": [
    "from sklearn.neighbors import KNeighborsClassifier\n",
    "import csv\n",
    "import pandas as pd\n",
    "from mlxtend.feature_selection import SequentialFeatureSelector as SFS\n",
    "from sklearn.model_selection import GridSearchCV\n",
    "import numpy as np\n",
    "from sklearn.preprocessing import StandardScaler"
   ]
  },
  {
   "cell_type": "code",
   "execution_count": null,
   "metadata": {
    "ExecuteTime": {
     "start_time": "2025-01-12T09:12:55.429908Z"
    }
   },
   "outputs": [],
   "source": [
    "f=pd.read_csv('Dataset/Zigzag_trace.csv')\n",
    "df = f.to_numpy()\n",
    "df.shape"
   ]
  },
  {
   "cell_type": "code",
   "execution_count": null,
   "metadata": {
    "ExecuteTime": {
     "start_time": "2025-01-12T09:12:55.430916Z"
    }
   },
   "outputs": [],
   "source": [
    "X = df[:,2:]\n",
    "y = df[:,1]\n",
    "print(y)\n",
    "y=y.astype('int')\n",
    "\n",
    "#データチューニング\n",
    "params = {\n",
    "    'n_neighbors': np.arange(1, 20),\n",
    "    'weights': ['uniform', 'distance'],\n",
    "    'p': [1, 2]\n",
    "}\n",
    "\n",
    "\n",
    "from sklearn.model_selection import LeaveOneOut\n",
    "\n",
    "# create loocv procedure\n",
    "cv = LeaveOneOut()\n",
    "\n",
    "clf = GridSearchCV(KNeighborsClassifier(),\n",
    "                   param_grid=params,\n",
    "                   cv=cv,\n",
    "                   n_jobs=-1,\n",
    "                   verbose=2\n",
    "                  )"
   ]
  },
  {
   "cell_type": "code",
   "execution_count": null,
   "metadata": {
    "ExecuteTime": {
     "start_time": "2025-01-12T09:12:55.431916500Z"
    }
   },
   "outputs": [],
   "source": [
    "stdsc = StandardScaler()\n",
    "X_std = stdsc.fit_transform(X)"
   ]
  },
  {
   "cell_type": "code",
   "execution_count": null,
   "metadata": {
    "ExecuteTime": {
     "start_time": "2025-01-12T09:12:55.432914500Z"
    }
   },
   "outputs": [],
   "source": [
    "best_acc = 0\n",
    "re = pd.DataFrame()\n",
    "stdsc = StandardScaler()\n",
    "X_std = stdsc.fit_transform(X)\n",
    "for i in range(2,31):\n",
    "    sffs = SFS(\n",
    "    KNeighborsClassifier(), # 使う学習器\n",
    "    k_features=i, #特徴をいくつまで選択するか\n",
    "    forward=True, #Trueでforward selectionになる。Falseでback\n",
    "    floating=True, #sffsを行うためのもの。\n",
    "    verbose=1, #実行時のlogをどれだけ詳しく表示するか\n",
    "    scoring='accuracy', # 評価指標\n",
    "    cv=cv,#クロスバリデーション\n",
    "    n_jobs=-1\n",
    "    )\n",
    "\n",
    "    sffs = sffs.fit(X_std, y)\n",
    "    #選ばれた特徴\n",
    "    X_train_sffs = X_std[:,list(sffs.k_feature_idx_)]\n",
    "\n",
    "    X_train_sffs_std = stdsc.fit_transform(X_train_sffs)\n",
    "    \n",
    "    clf = GridSearchCV(KNeighborsClassifier(),\n",
    "                   param_grid=params,\n",
    "                   cv=cv,\n",
    "                   n_jobs=-1,\n",
    "                   verbose=2\n",
    "                  )\n",
    "    \n",
    "    clf.fit(X_train_sffs_std, y)\n",
    "\n",
    "    print(clf.best_score_, clf.best_params_)\n",
    "    \n",
    "    if clf.best_score_ < best_acc - 0.05:\n",
    "        break\n",
    "    elif clf.best_score_ > best_acc:\n",
    "        best_acc = clf.best_score_\n",
    "    \n",
    "    re_i = pd.DataFrame([[sffs.k_feature_idx_,clf.best_score_,clf.best_params_]], columns=['Feature','accuracy','param'])\n",
    "    re = pd.concat([re,re_i])\n",
    "    '''# トレーニングデータに対する精度\n",
    "    pred_train = random_forest.predict(X_train_sffs)\n",
    "    accuracy_train = accuracy_score(y_train, pred_train)\n",
    "\n",
    "    # テストデータに対する精度\n",
    "    pred_test = random_forest.predict(X_test_sffs)\n",
    "    accuracy_test = accuracy_score(y_test, pred_test)\n",
    "\n",
    "    re_i = pd.DataFrame([[sffs.k_feature_idx_,accuracy_train,accuracy_test]], columns=['Feature','TrainigScore','TestScore'])\n",
    "    re = pd.concat([re,re_i])\n",
    "\n",
    "re.to_csv('Dataset/RF_Zigzag_trace.csv')'''"
   ]
  },
  {
   "cell_type": "code",
   "execution_count": null,
   "metadata": {
    "ExecuteTime": {
     "start_time": "2025-01-12T09:12:55.433914200Z"
    }
   },
   "outputs": [],
   "source": [
    "re.to_csv('Dataset/KNN_Zigzag_trace_SFFS.csv')"
   ]
  },
  {
   "cell_type": "code",
   "execution_count": null,
   "metadata": {
    "ExecuteTime": {
     "start_time": "2025-01-12T09:12:55.435914100Z"
    }
   },
   "outputs": [],
   "source": []
  },
  {
   "cell_type": "code",
   "execution_count": null,
   "metadata": {
    "ExecuteTime": {
     "start_time": "2025-01-12T09:12:55.436913500Z"
    }
   },
   "outputs": [],
   "source": []
  },
  {
   "attachments": {},
   "cell_type": "markdown",
   "metadata": {},
   "source": [
    "### ZigZag predict"
   ]
  },
  {
   "cell_type": "code",
   "execution_count": null,
   "metadata": {
    "ExecuteTime": {
     "start_time": "2025-01-12T09:12:55.437913200Z"
    }
   },
   "outputs": [],
   "source": [
    "from sklearn.neighbors import KNeighborsClassifier\n",
    "import csv\n",
    "import pandas as pd\n",
    "from mlxtend.feature_selection import SequentialFeatureSelector as SFS\n",
    "from sklearn.model_selection import GridSearchCV\n",
    "import numpy as np\n",
    "from sklearn.preprocessing import StandardScaler"
   ]
  },
  {
   "cell_type": "code",
   "execution_count": null,
   "metadata": {
    "ExecuteTime": {
     "start_time": "2025-01-12T09:12:55.438912800Z"
    }
   },
   "outputs": [],
   "source": [
    "f=pd.read_csv('Dataset/Zigzag_predict.csv')\n",
    "df = f.to_numpy()\n",
    "df.shape"
   ]
  },
  {
   "cell_type": "code",
   "execution_count": null,
   "metadata": {
    "ExecuteTime": {
     "start_time": "2025-01-12T09:12:55.439915Z"
    }
   },
   "outputs": [],
   "source": [
    "X = df[:,2:]\n",
    "y = df[:,1]\n",
    "print(y)\n",
    "y=y.astype('int')\n",
    "\n",
    "#データチューニング\n",
    "params = {\n",
    "    'n_neighbors': np.arange(1, 20),\n",
    "    'weights': ['uniform', 'distance'],\n",
    "    'p': [1, 2]\n",
    "}\n",
    "\n",
    "\n",
    "from sklearn.model_selection import LeaveOneOut\n",
    "\n",
    "# create loocv procedure\n",
    "cv = LeaveOneOut()\n",
    "\n",
    "clf = GridSearchCV(KNeighborsClassifier(),\n",
    "                   param_grid=params,\n",
    "                   cv=cv,\n",
    "                   n_jobs=-1,\n",
    "                   verbose=2\n",
    "                  )"
   ]
  },
  {
   "cell_type": "code",
   "execution_count": null,
   "metadata": {
    "ExecuteTime": {
     "start_time": "2025-01-12T09:12:55.441912900Z"
    }
   },
   "outputs": [],
   "source": [
    "stdsc = StandardScaler()\n",
    "X_std = stdsc.fit_transform(X)"
   ]
  },
  {
   "cell_type": "code",
   "execution_count": null,
   "metadata": {
    "ExecuteTime": {
     "start_time": "2025-01-12T09:12:55.442913700Z"
    }
   },
   "outputs": [],
   "source": [
    "best_acc = 0\n",
    "re = pd.DataFrame()\n",
    "stdsc = StandardScaler()\n",
    "X_std = stdsc.fit_transform(X)\n",
    "for i in range(2,31):\n",
    "    sffs = SFS(\n",
    "    KNeighborsClassifier(), # 使う学習器\n",
    "    k_features=i, #特徴をいくつまで選択するか\n",
    "    forward=True, #Trueでforward selectionになる。Falseでback\n",
    "    floating=True, #sffsを行うためのもの。\n",
    "    verbose=1, #実行時のlogをどれだけ詳しく表示するか\n",
    "    scoring='accuracy', # 評価指標\n",
    "    cv=cv,#クロスバリデーション\n",
    "    n_jobs=-1\n",
    "    )\n",
    "\n",
    "    sffs = sffs.fit(X_std, y)\n",
    "    #選ばれた特徴\n",
    "    X_train_sffs = X_std[:,list(sffs.k_feature_idx_)]\n",
    "\n",
    "    X_train_sffs_std = stdsc.fit_transform(X_train_sffs)\n",
    "    \n",
    "    clf = GridSearchCV(KNeighborsClassifier(),\n",
    "                   param_grid=params,\n",
    "                   cv=cv,\n",
    "                   n_jobs=-1,\n",
    "                   verbose=2\n",
    "                  )\n",
    "    \n",
    "    clf.fit(X_train_sffs_std, y)\n",
    "\n",
    "    print(clf.best_score_, clf.best_params_)\n",
    "    \n",
    "    if clf.best_score_ < best_acc - 0.05:\n",
    "        break\n",
    "    elif clf.best_score_ > best_acc:\n",
    "        best_acc = clf.best_score_\n",
    "    \n",
    "    re_i = pd.DataFrame([[sffs.k_feature_idx_,clf.best_score_,clf.best_params_]], columns=['Feature','accuracy','param'])\n",
    "    re = pd.concat([re,re_i])\n",
    "    '''# トレーニングデータに対する精度\n",
    "    pred_train = random_forest.predict(X_train_sffs)\n",
    "    accuracy_train = accuracy_score(y_train, pred_train)\n",
    "\n",
    "    # テストデータに対する精度\n",
    "    pred_test = random_forest.predict(X_test_sffs)\n",
    "    accuracy_test = accuracy_score(y_test, pred_test)\n",
    "\n",
    "    re_i = pd.DataFrame([[sffs.k_feature_idx_,accuracy_train,accuracy_test]], columns=['Feature','TrainigScore','TestScore'])\n",
    "    re = pd.concat([re,re_i])\n",
    "\n",
    "re.to_csv('Dataset/RF_Zigzag_trace.csv')'''"
   ]
  },
  {
   "cell_type": "code",
   "execution_count": null,
   "metadata": {
    "ExecuteTime": {
     "start_time": "2025-01-12T09:12:55.443914100Z"
    }
   },
   "outputs": [],
   "source": [
    "re.to_csv('Dataset/KNN_Zigzag_predict_SFFS.csv')"
   ]
  },
  {
   "cell_type": "code",
   "execution_count": null,
   "metadata": {
    "ExecuteTime": {
     "start_time": "2025-01-12T09:12:55.444915700Z"
    }
   },
   "outputs": [],
   "source": []
  },
  {
   "cell_type": "code",
   "execution_count": null,
   "metadata": {
    "ExecuteTime": {
     "start_time": "2025-01-12T09:12:55.446049Z"
    }
   },
   "outputs": [],
   "source": []
  },
  {
   "attachments": {},
   "cell_type": "markdown",
   "metadata": {},
   "source": [
    "### Pl trace"
   ]
  },
  {
   "cell_type": "code",
   "execution_count": null,
   "metadata": {
    "ExecuteTime": {
     "start_time": "2025-01-12T09:12:55.447057800Z"
    }
   },
   "outputs": [],
   "source": [
    "from sklearn.neighbors import KNeighborsClassifier\n",
    "import csv\n",
    "import pandas as pd\n",
    "from mlxtend.feature_selection import SequentialFeatureSelector as SFS\n",
    "from sklearn.model_selection import GridSearchCV\n",
    "import numpy as np\n",
    "from sklearn.preprocessing import StandardScaler"
   ]
  },
  {
   "cell_type": "code",
   "execution_count": null,
   "metadata": {
    "ExecuteTime": {
     "start_time": "2025-01-12T09:12:55.448055900Z"
    }
   },
   "outputs": [],
   "source": [
    "f=pd.read_csv('Dataset/Pl_trace.csv')\n",
    "df = f.to_numpy()\n",
    "df.shape"
   ]
  },
  {
   "cell_type": "code",
   "execution_count": null,
   "metadata": {
    "ExecuteTime": {
     "start_time": "2025-01-12T09:12:55.449056Z"
    }
   },
   "outputs": [],
   "source": [
    "X = df[:,2:]\n",
    "y = df[:,1]\n",
    "print(y)\n",
    "y=y.astype('int')\n",
    "\n",
    "#データチューニング\n",
    "params = {\n",
    "    'n_neighbors': np.arange(1, 20),\n",
    "    'weights': ['uniform', 'distance'],\n",
    "    'p': [1, 2]\n",
    "}\n",
    "\n",
    "\n",
    "from sklearn.model_selection import LeaveOneOut\n",
    "\n",
    "# create loocv procedure\n",
    "cv = LeaveOneOut()\n",
    "\n",
    "clf = GridSearchCV(KNeighborsClassifier(),\n",
    "                   param_grid=params,\n",
    "                   cv=cv,\n",
    "                   n_jobs=-1,\n",
    "                   verbose=2\n",
    "                  )"
   ]
  },
  {
   "cell_type": "code",
   "execution_count": null,
   "metadata": {
    "ExecuteTime": {
     "start_time": "2025-01-12T09:12:55.450056300Z"
    }
   },
   "outputs": [],
   "source": [
    "stdsc = StandardScaler()\n",
    "X_std = stdsc.fit_transform(X)"
   ]
  },
  {
   "cell_type": "code",
   "execution_count": null,
   "metadata": {
    "ExecuteTime": {
     "start_time": "2025-01-12T09:12:55.451055500Z"
    }
   },
   "outputs": [],
   "source": [
    "best_acc = 0\n",
    "re = pd.DataFrame()\n",
    "stdsc = StandardScaler()\n",
    "X_std = stdsc.fit_transform(X)\n",
    "for i in range(2,31):\n",
    "    sffs = SFS(\n",
    "    KNeighborsClassifier(), # 使う学習器\n",
    "    k_features=i, #特徴をいくつまで選択するか\n",
    "    forward=True, #Trueでforward selectionになる。Falseでback\n",
    "    floating=True, #sffsを行うためのもの。\n",
    "    verbose=1, #実行時のlogをどれだけ詳しく表示するか\n",
    "    scoring='accuracy', # 評価指標\n",
    "    cv=cv,#クロスバリデーション\n",
    "    n_jobs=-1\n",
    "    )\n",
    "\n",
    "    sffs = sffs.fit(X_std, y)\n",
    "    #選ばれた特徴\n",
    "    X_train_sffs = X_std[:,list(sffs.k_feature_idx_)]\n",
    "\n",
    "    X_train_sffs_std = stdsc.fit_transform(X_train_sffs)\n",
    "    \n",
    "    clf = GridSearchCV(KNeighborsClassifier(),\n",
    "                   param_grid=params,\n",
    "                   cv=cv,\n",
    "                   n_jobs=-1,\n",
    "                   verbose=2\n",
    "                  )\n",
    "    \n",
    "    clf.fit(X_train_sffs_std, y)\n",
    "\n",
    "    print(clf.best_score_, clf.best_params_)\n",
    "    \n",
    "    if clf.best_score_ < best_acc - 0.05:\n",
    "        break\n",
    "    elif clf.best_score_ > best_acc:\n",
    "        best_acc = clf.best_score_\n",
    "    \n",
    "    re_i = pd.DataFrame([[sffs.k_feature_idx_,clf.best_score_,clf.best_params_]], columns=['Feature','accuracy','param'])\n",
    "    re = pd.concat([re,re_i])\n",
    "    '''# トレーニングデータに対する精度\n",
    "    pred_train = random_forest.predict(X_train_sffs)\n",
    "    accuracy_train = accuracy_score(y_train, pred_train)\n",
    "\n",
    "    # テストデータに対する精度\n",
    "    pred_test = random_forest.predict(X_test_sffs)\n",
    "    accuracy_test = accuracy_score(y_test, pred_test)\n",
    "\n",
    "    re_i = pd.DataFrame([[sffs.k_feature_idx_,accuracy_train,accuracy_test]], columns=['Feature','TrainigScore','TestScore'])\n",
    "    re = pd.concat([re,re_i])\n",
    "\n",
    "re.to_csv('Dataset/RF_Zigzag_trace.csv')'''"
   ]
  },
  {
   "cell_type": "code",
   "execution_count": null,
   "metadata": {
    "ExecuteTime": {
     "start_time": "2025-01-12T09:12:55.452057300Z"
    }
   },
   "outputs": [],
   "source": [
    "re.to_csv('Dataset/KNN_Pl_trace_SFFS.csv')"
   ]
  },
  {
   "cell_type": "code",
   "execution_count": null,
   "metadata": {
    "ExecuteTime": {
     "start_time": "2025-01-12T09:12:55.453054500Z"
    }
   },
   "outputs": [],
   "source": []
  },
  {
   "cell_type": "code",
   "execution_count": null,
   "metadata": {
    "ExecuteTime": {
     "start_time": "2025-01-12T09:12:55.454055500Z"
    }
   },
   "outputs": [],
   "source": []
  },
  {
   "attachments": {},
   "cell_type": "markdown",
   "metadata": {},
   "source": [
    "### Pl predict"
   ]
  },
  {
   "cell_type": "code",
   "execution_count": null,
   "metadata": {
    "ExecuteTime": {
     "start_time": "2025-01-12T09:12:55.455054700Z"
    }
   },
   "outputs": [],
   "source": [
    "from sklearn.neighbors import KNeighborsClassifier\n",
    "import csv\n",
    "import pandas as pd\n",
    "from mlxtend.feature_selection import SequentialFeatureSelector as SFS\n",
    "from sklearn.model_selection import GridSearchCV\n",
    "import numpy as np\n",
    "from sklearn.preprocessing import StandardScaler"
   ]
  },
  {
   "cell_type": "code",
   "execution_count": null,
   "metadata": {
    "ExecuteTime": {
     "start_time": "2025-01-12T09:12:55.457056600Z"
    }
   },
   "outputs": [],
   "source": [
    "f=pd.read_csv('Dataset/Pl_predict.csv')\n",
    "df = f.to_numpy()\n",
    "df.shape"
   ]
  },
  {
   "cell_type": "code",
   "execution_count": null,
   "metadata": {
    "ExecuteTime": {
     "start_time": "2025-01-12T09:12:55.458053800Z"
    }
   },
   "outputs": [],
   "source": [
    "X = df[:,2:]\n",
    "y = df[:,1]\n",
    "print(y)\n",
    "y=y.astype('int')\n",
    "\n",
    "#データチューニング\n",
    "params = {\n",
    "    'n_neighbors': np.arange(1, 20),\n",
    "    'weights': ['uniform', 'distance'],\n",
    "    'p': [1, 2]\n",
    "}\n",
    "\n",
    "\n",
    "from sklearn.model_selection import LeaveOneOut\n",
    "\n",
    "# create loocv procedure\n",
    "cv = LeaveOneOut()\n",
    "\n",
    "clf = GridSearchCV(KNeighborsClassifier(),\n",
    "                   param_grid=params,\n",
    "                   cv=cv,\n",
    "                   n_jobs=-1,\n",
    "                   verbose=2\n",
    "                  )"
   ]
  },
  {
   "cell_type": "code",
   "execution_count": null,
   "metadata": {
    "ExecuteTime": {
     "start_time": "2025-01-12T09:12:55.459053800Z"
    }
   },
   "outputs": [],
   "source": [
    "stdsc = StandardScaler()\n",
    "X_std = stdsc.fit_transform(X)"
   ]
  },
  {
   "cell_type": "code",
   "execution_count": null,
   "metadata": {
    "ExecuteTime": {
     "start_time": "2025-01-12T09:12:55.460055100Z"
    }
   },
   "outputs": [],
   "source": [
    "best_acc = 0\n",
    "re = pd.DataFrame()\n",
    "stdsc = StandardScaler()\n",
    "X_std = stdsc.fit_transform(X)\n",
    "for i in range(2,31):\n",
    "    sffs = SFS(\n",
    "    KNeighborsClassifier(), # 使う学習器\n",
    "    k_features=i, #特徴をいくつまで選択するか\n",
    "    forward=True, #Trueでforward selectionになる。Falseでback\n",
    "    floating=True, #sffsを行うためのもの。\n",
    "    verbose=1, #実行時のlogをどれだけ詳しく表示するか\n",
    "    scoring='accuracy', # 評価指標\n",
    "    cv=cv,#クロスバリデーション\n",
    "    n_jobs=-1\n",
    "    )\n",
    "\n",
    "    sffs = sffs.fit(X_std, y)\n",
    "    #選ばれた特徴\n",
    "    X_train_sffs = X_std[:,list(sffs.k_feature_idx_)]\n",
    "\n",
    "    X_train_sffs_std = stdsc.fit_transform(X_train_sffs)\n",
    "    \n",
    "    clf = GridSearchCV(KNeighborsClassifier(),\n",
    "                   param_grid=params,\n",
    "                   cv=cv,\n",
    "                   n_jobs=-1,\n",
    "                   verbose=2\n",
    "                  )\n",
    "    \n",
    "    clf.fit(X_train_sffs_std, y)\n",
    "\n",
    "    print(clf.best_score_, clf.best_params_)\n",
    "    \n",
    "    if clf.best_score_ < best_acc - 0.05:\n",
    "        break\n",
    "    elif clf.best_score_ > best_acc:\n",
    "        best_acc = clf.best_score_\n",
    "    \n",
    "    re_i = pd.DataFrame([[sffs.k_feature_idx_,clf.best_score_,clf.best_params_]], columns=['Feature','accuracy','param'])\n",
    "    re = pd.concat([re,re_i])\n",
    "    '''# トレーニングデータに対する精度\n",
    "    pred_train = random_forest.predict(X_train_sffs)\n",
    "    accuracy_train = accuracy_score(y_train, pred_train)\n",
    "\n",
    "    # テストデータに対する精度\n",
    "    pred_test = random_forest.predict(X_test_sffs)\n",
    "    accuracy_test = accuracy_score(y_test, pred_test)\n",
    "\n",
    "    re_i = pd.DataFrame([[sffs.k_feature_idx_,accuracy_train,accuracy_test]], columns=['Feature','TrainigScore','TestScore'])\n",
    "    re = pd.concat([re,re_i])\n",
    "\n",
    "re.to_csv('Dataset/RF_Zigzag_trace.csv')'''"
   ]
  },
  {
   "cell_type": "code",
   "execution_count": null,
   "metadata": {
    "ExecuteTime": {
     "start_time": "2025-01-12T09:12:55.462053200Z"
    }
   },
   "outputs": [],
   "source": [
    "re.to_csv('Dataset/KNN_Pl_predict_SFFS.csv')"
   ]
  },
  {
   "cell_type": "code",
   "execution_count": null,
   "metadata": {
    "ExecuteTime": {
     "start_time": "2025-01-12T09:12:55.463052500Z"
    }
   },
   "outputs": [],
   "source": []
  },
  {
   "cell_type": "code",
   "execution_count": null,
   "metadata": {
    "ExecuteTime": {
     "start_time": "2025-01-12T09:12:55.465053100Z"
    }
   },
   "outputs": [],
   "source": []
  },
  {
   "attachments": {},
   "cell_type": "markdown",
   "metadata": {},
   "source": [
    "## LOG method"
   ]
  },
  {
   "attachments": {},
   "cell_type": "markdown",
   "metadata": {},
   "source": [
    "### ZigZag trace"
   ]
  },
  {
   "cell_type": "code",
   "execution_count": null,
   "metadata": {
    "ExecuteTime": {
     "start_time": "2025-01-12T09:12:55.467054100Z"
    }
   },
   "outputs": [],
   "source": [
    "import csv\n",
    "import pandas as pd\n",
    "from sklearn.ensemble import RandomForestClassifier\n",
    "from mlxtend.feature_selection import SequentialFeatureSelector as SFS\n",
    "from sklearn.model_selection import train_test_split\n",
    "from sklearn.model_selection import GridSearchCV\n",
    "from sklearn.metrics import accuracy_score\n",
    "import numpy as np\n",
    "from sklearn.preprocessing import StandardScaler\n",
    "from sklearn.linear_model import LogisticRegression"
   ]
  },
  {
   "cell_type": "code",
   "execution_count": null,
   "metadata": {
    "ExecuteTime": {
     "start_time": "2025-01-12T09:12:55.468054300Z"
    }
   },
   "outputs": [],
   "source": [
    "f=pd.read_csv('Dataset/Zigzag_trace.csv')\n",
    "df = f.to_numpy()\n",
    "df.shape"
   ]
  },
  {
   "cell_type": "code",
   "execution_count": null,
   "metadata": {
    "ExecuteTime": {
     "start_time": "2025-01-12T09:12:55.470054Z"
    }
   },
   "outputs": [],
   "source": [
    "X = df[:,2:]\n",
    "y = df[:,1]\n",
    "print(y)\n",
    "y=y.astype('int')\n",
    "\n",
    "#データチューニング\n",
    "params = {\n",
    "    \"C\": [10**i for i in range(-4,4)],\n",
    "    \"penalty\": [\"l1\", \"l2\"],\n",
    "    \"random_state\": [1],\n",
    "    \"solver\":['liblinear']\n",
    "}\n",
    "\n",
    "\n",
    "from sklearn.model_selection import LeaveOneOut\n",
    "\n",
    "# create loocv procedure\n",
    "cv = LeaveOneOut()\n",
    "\n",
    "clf = GridSearchCV(LogisticRegression(),\n",
    "                   param_grid=params,\n",
    "                   cv=cv,\n",
    "                   n_jobs=-1,\n",
    "                   verbose=2\n",
    "                  )"
   ]
  },
  {
   "cell_type": "code",
   "execution_count": null,
   "metadata": {
    "ExecuteTime": {
     "start_time": "2025-01-12T09:12:55.472052600Z"
    }
   },
   "outputs": [],
   "source": [
    "stdsc = StandardScaler()\n",
    "X_std = stdsc.fit_transform(X)"
   ]
  },
  {
   "cell_type": "code",
   "execution_count": null,
   "metadata": {
    "ExecuteTime": {
     "start_time": "2025-01-12T09:12:55.473054100Z"
    }
   },
   "outputs": [],
   "source": [
    "best_acc = 0\n",
    "re = pd.DataFrame()\n",
    "stdsc = StandardScaler()\n",
    "X_std = stdsc.fit_transform(X)\n",
    "for i in range(2,31):\n",
    "    sffs = SFS(\n",
    "    LogisticRegression(), # 使う学習器\n",
    "    k_features=i, #特徴をいくつまで選択するか\n",
    "    forward=True, #Trueでforward selectionになる。Falseでback\n",
    "    floating=True, #sffsを行うためのもの。\n",
    "    verbose=1, #実行時のlogをどれだけ詳しく表示するか\n",
    "    scoring='accuracy', # 評価指標\n",
    "    cv=cv,#クロスバリデーション\n",
    "    n_jobs=-1\n",
    "    )\n",
    "\n",
    "    sffs = sffs.fit(X_std, y)\n",
    "    #選ばれた特徴\n",
    "    X_train_sffs = X_std[:,list(sffs.k_feature_idx_)]\n",
    "\n",
    "    X_train_sffs_std = stdsc.fit_transform(X_train_sffs)\n",
    "    \n",
    "    clf = GridSearchCV(LogisticRegression(),\n",
    "                   param_grid=params,\n",
    "                   cv=cv,\n",
    "                   n_jobs=-1,\n",
    "                   verbose=2\n",
    "                  )\n",
    "    \n",
    "    clf.fit(X_train_sffs_std, y)\n",
    "\n",
    "    print(clf.best_score_, clf.best_params_)\n",
    "    \n",
    "    if clf.best_score_ < best_acc - 0.05:\n",
    "        break\n",
    "    elif clf.best_score_ > best_acc:\n",
    "        best_acc = clf.best_score_\n",
    "    \n",
    "    re_i = pd.DataFrame([[sffs.k_feature_idx_,clf.best_score_,clf.best_params_]], columns=['Feature','accuracy','param'])\n",
    "    re = pd.concat([re,re_i])\n",
    "    '''# トレーニングデータに対する精度\n",
    "    pred_train = random_forest.predict(X_train_sffs)\n",
    "    accuracy_train = accuracy_score(y_train, pred_train)\n",
    "\n",
    "    # テストデータに対する精度\n",
    "    pred_test = random_forest.predict(X_test_sffs)\n",
    "    accuracy_test = accuracy_score(y_test, pred_test)\n",
    "\n",
    "    re_i = pd.DataFrame([[sffs.k_feature_idx_,accuracy_train,accuracy_test]], columns=['Feature','TrainigScore','TestScore'])\n",
    "    re = pd.concat([re,re_i])\n",
    "\n",
    "re.to_csv('Dataset/RF_Zigzag_trace.csv')'''"
   ]
  },
  {
   "cell_type": "code",
   "execution_count": null,
   "metadata": {
    "ExecuteTime": {
     "start_time": "2025-01-12T09:12:55.475055300Z"
    }
   },
   "outputs": [],
   "source": [
    "re.to_csv('Dataset/LOG_Zigzag_trace_SFFS.csv')"
   ]
  },
  {
   "cell_type": "code",
   "execution_count": null,
   "metadata": {
    "ExecuteTime": {
     "start_time": "2025-01-12T09:12:55.477240500Z"
    }
   },
   "outputs": [],
   "source": []
  },
  {
   "cell_type": "code",
   "execution_count": null,
   "metadata": {
    "ExecuteTime": {
     "start_time": "2025-01-12T09:12:55.478725800Z"
    }
   },
   "outputs": [],
   "source": []
  },
  {
   "attachments": {},
   "cell_type": "markdown",
   "metadata": {},
   "source": [
    "### ZigZag predict"
   ]
  },
  {
   "cell_type": "code",
   "execution_count": null,
   "metadata": {
    "ExecuteTime": {
     "start_time": "2025-01-12T09:12:55.480090300Z"
    }
   },
   "outputs": [],
   "source": [
    "import csv\n",
    "import pandas as pd\n",
    "from sklearn.ensemble import RandomForestClassifier\n",
    "from mlxtend.feature_selection import SequentialFeatureSelector as SFS\n",
    "from sklearn.model_selection import train_test_split\n",
    "from sklearn.model_selection import GridSearchCV\n",
    "from sklearn.metrics import accuracy_score\n",
    "import numpy as np\n",
    "from sklearn.preprocessing import StandardScaler\n",
    "from sklearn.linear_model import LogisticRegression"
   ]
  },
  {
   "cell_type": "code",
   "execution_count": null,
   "metadata": {
    "ExecuteTime": {
     "start_time": "2025-01-12T09:12:55.480930300Z"
    }
   },
   "outputs": [],
   "source": [
    "f=pd.read_csv('Dataset/Zigzag_predict.csv')\n",
    "df = f.to_numpy()\n",
    "df.shape"
   ]
  },
  {
   "cell_type": "code",
   "execution_count": null,
   "metadata": {
    "ExecuteTime": {
     "start_time": "2025-01-12T09:12:55.481936Z"
    }
   },
   "outputs": [],
   "source": [
    "X = df[:,2:]\n",
    "y = df[:,1]\n",
    "print(y)\n",
    "y=y.astype('int')\n",
    "\n",
    "#データチューニング\n",
    "params = {\n",
    "    \"C\": [10**i for i in range(-4,4)],\n",
    "    \"penalty\": [\"l1\", \"l2\"],\n",
    "    \"random_state\": [1],\n",
    "    \"solver\":['liblinear']\n",
    "}\n",
    "\n",
    "\n",
    "from sklearn.model_selection import LeaveOneOut\n",
    "\n",
    "# create loocv procedure\n",
    "cv = LeaveOneOut()\n",
    "\n",
    "clf = GridSearchCV(LogisticRegression(),\n",
    "                   param_grid=params,\n",
    "                   cv=cv,\n",
    "                   n_jobs=-1,\n",
    "                   verbose=2\n",
    "                  )"
   ]
  },
  {
   "cell_type": "code",
   "execution_count": null,
   "metadata": {
    "ExecuteTime": {
     "start_time": "2025-01-12T09:12:55.483937700Z"
    }
   },
   "outputs": [],
   "source": [
    "stdsc = StandardScaler()\n",
    "X_std = stdsc.fit_transform(X)"
   ]
  },
  {
   "cell_type": "code",
   "execution_count": null,
   "metadata": {
    "ExecuteTime": {
     "start_time": "2025-01-12T09:12:55.483937700Z"
    }
   },
   "outputs": [],
   "source": [
    "best_acc = 0\n",
    "re = pd.DataFrame()\n",
    "stdsc = StandardScaler()\n",
    "X_std = stdsc.fit_transform(X)\n",
    "for i in range(2,31):\n",
    "    sffs = SFS(\n",
    "    LogisticRegression(), # 使う学習器\n",
    "    k_features=i, #特徴をいくつまで選択するか\n",
    "    forward=True, #Trueでforward selectionになる。Falseでback\n",
    "    floating=True, #sffsを行うためのもの。\n",
    "    verbose=1, #実行時のlogをどれだけ詳しく表示するか\n",
    "    scoring='accuracy', # 評価指標\n",
    "    cv=cv,#クロスバリデーション\n",
    "    n_jobs=-1\n",
    "    )\n",
    "\n",
    "    sffs = sffs.fit(X_std, y)\n",
    "    #選ばれた特徴\n",
    "    X_train_sffs = X_std[:,list(sffs.k_feature_idx_)]\n",
    "\n",
    "    X_train_sffs_std = stdsc.fit_transform(X_train_sffs)\n",
    "    \n",
    "    clf = GridSearchCV(LogisticRegression(),\n",
    "                   param_grid=params,\n",
    "                   cv=cv,\n",
    "                   n_jobs=-1,\n",
    "                   verbose=2\n",
    "                  )\n",
    "    \n",
    "    clf.fit(X_train_sffs_std, y)\n",
    "\n",
    "    print(clf.best_score_, clf.best_params_)\n",
    "    \n",
    "    if clf.best_score_ < best_acc - 0.05:\n",
    "        break\n",
    "    elif clf.best_score_ > best_acc:\n",
    "        best_acc = clf.best_score_\n",
    "    \n",
    "    re_i = pd.DataFrame([[sffs.k_feature_idx_,clf.best_score_,clf.best_params_]], columns=['Feature','accuracy','param'])\n",
    "    re = pd.concat([re,re_i])\n",
    "    '''# トレーニングデータに対する精度\n",
    "    pred_train = random_forest.predict(X_train_sffs)\n",
    "    accuracy_train = accuracy_score(y_train, pred_train)\n",
    "\n",
    "    # テストデータに対する精度\n",
    "    pred_test = random_forest.predict(X_test_sffs)\n",
    "    accuracy_test = accuracy_score(y_test, pred_test)\n",
    "\n",
    "    re_i = pd.DataFrame([[sffs.k_feature_idx_,accuracy_train,accuracy_test]], columns=['Feature','TrainigScore','TestScore'])\n",
    "    re = pd.concat([re,re_i])\n",
    "\n",
    "re.to_csv('Dataset/RF_Zigzag_trace.csv')'''"
   ]
  },
  {
   "cell_type": "code",
   "execution_count": null,
   "metadata": {
    "ExecuteTime": {
     "start_time": "2025-01-12T09:12:55.484938400Z"
    }
   },
   "outputs": [],
   "source": [
    "re.to_csv('Dataset/LOG_Zigzag_predict_SFFS.csv')"
   ]
  },
  {
   "cell_type": "code",
   "execution_count": null,
   "metadata": {
    "ExecuteTime": {
     "start_time": "2025-01-12T09:12:55.485936700Z"
    }
   },
   "outputs": [],
   "source": []
  },
  {
   "cell_type": "code",
   "execution_count": null,
   "metadata": {
    "ExecuteTime": {
     "start_time": "2025-01-12T09:12:55.486937700Z"
    }
   },
   "outputs": [],
   "source": []
  },
  {
   "attachments": {},
   "cell_type": "markdown",
   "metadata": {},
   "source": [
    "### Pl trace"
   ]
  },
  {
   "cell_type": "code",
   "execution_count": null,
   "metadata": {
    "ExecuteTime": {
     "start_time": "2025-01-12T09:12:55.487936200Z"
    }
   },
   "outputs": [],
   "source": [
    "import csv\n",
    "import pandas as pd\n",
    "from sklearn.ensemble import RandomForestClassifier\n",
    "from mlxtend.feature_selection import SequentialFeatureSelector as SFS\n",
    "from sklearn.model_selection import train_test_split\n",
    "from sklearn.model_selection import GridSearchCV\n",
    "from sklearn.metrics import accuracy_score\n",
    "import numpy as np\n",
    "from sklearn.preprocessing import StandardScaler\n",
    "from sklearn.linear_model import LogisticRegression"
   ]
  },
  {
   "cell_type": "code",
   "execution_count": null,
   "metadata": {
    "ExecuteTime": {
     "start_time": "2025-01-12T09:12:55.488936800Z"
    }
   },
   "outputs": [],
   "source": [
    "f=pd.read_csv('Dataset/Pl_trace.csv')\n",
    "df = f.to_numpy()\n",
    "df.shape"
   ]
  },
  {
   "cell_type": "code",
   "execution_count": null,
   "metadata": {
    "ExecuteTime": {
     "start_time": "2025-01-12T09:12:55.489938800Z"
    }
   },
   "outputs": [],
   "source": [
    "X = df[:,2:]\n",
    "y = df[:,1]\n",
    "print(y)\n",
    "y=y.astype('int')\n",
    "\n",
    "#データチューニング\n",
    "params = {\n",
    "    \"C\": [10**i for i in range(-4,4)],\n",
    "    \"penalty\": [\"l1\", \"l2\"],\n",
    "    \"random_state\": [1],\n",
    "    \"solver\":['liblinear']\n",
    "}\n",
    "\n",
    "\n",
    "from sklearn.model_selection import LeaveOneOut\n",
    "\n",
    "# create loocv procedure\n",
    "cv = LeaveOneOut()\n",
    "\n",
    "clf = GridSearchCV(LogisticRegression(),\n",
    "                   param_grid=params,\n",
    "                   cv=cv,\n",
    "                   n_jobs=-1,\n",
    "                   verbose=2\n",
    "                  )"
   ]
  },
  {
   "cell_type": "code",
   "execution_count": null,
   "metadata": {
    "ExecuteTime": {
     "start_time": "2025-01-12T09:12:55.490937800Z"
    }
   },
   "outputs": [],
   "source": [
    "stdsc = StandardScaler()\n",
    "X_std = stdsc.fit_transform(X)"
   ]
  },
  {
   "cell_type": "code",
   "execution_count": null,
   "metadata": {
    "ExecuteTime": {
     "start_time": "2025-01-12T09:12:55.491937600Z"
    }
   },
   "outputs": [],
   "source": [
    "best_acc = 0\n",
    "re = pd.DataFrame()\n",
    "stdsc = StandardScaler()\n",
    "X_std = stdsc.fit_transform(X)\n",
    "for i in range(2,31):\n",
    "    sffs = SFS(\n",
    "    LogisticRegression(), # 使う学習器\n",
    "    k_features=i, #特徴をいくつまで選択するか\n",
    "    forward=True, #Trueでforward selectionになる。Falseでback\n",
    "    floating=True, #sffsを行うためのもの。\n",
    "    verbose=1, #実行時のlogをどれだけ詳しく表示するか\n",
    "    scoring='accuracy', # 評価指標\n",
    "    cv=cv,#クロスバリデーション\n",
    "    n_jobs=-1\n",
    "    )\n",
    "\n",
    "    sffs = sffs.fit(X_std, y)\n",
    "    #選ばれた特徴\n",
    "    X_train_sffs = X_std[:,list(sffs.k_feature_idx_)]\n",
    "\n",
    "    X_train_sffs_std = stdsc.fit_transform(X_train_sffs)\n",
    "    \n",
    "    clf = GridSearchCV(LogisticRegression(),\n",
    "                   param_grid=params,\n",
    "                   cv=cv,\n",
    "                   n_jobs=-1,\n",
    "                   verbose=2\n",
    "                  )\n",
    "    \n",
    "    clf.fit(X_train_sffs_std, y)\n",
    "\n",
    "    print(clf.best_score_, clf.best_params_)\n",
    "    \n",
    "    if clf.best_score_ < best_acc - 0.05:\n",
    "        break\n",
    "    elif clf.best_score_ > best_acc:\n",
    "        best_acc = clf.best_score_\n",
    "    \n",
    "    re_i = pd.DataFrame([[sffs.k_feature_idx_,clf.best_score_,clf.best_params_]], columns=['Feature','accuracy','param'])\n",
    "    re = pd.concat([re,re_i])\n",
    "    '''# トレーニングデータに対する精度\n",
    "    pred_train = random_forest.predict(X_train_sffs)\n",
    "    accuracy_train = accuracy_score(y_train, pred_train)\n",
    "\n",
    "    # テストデータに対する精度\n",
    "    pred_test = random_forest.predict(X_test_sffs)\n",
    "    accuracy_test = accuracy_score(y_test, pred_test)\n",
    "\n",
    "    re_i = pd.DataFrame([[sffs.k_feature_idx_,accuracy_train,accuracy_test]], columns=['Feature','TrainigScore','TestScore'])\n",
    "    re = pd.concat([re,re_i])\n",
    "\n",
    "re.to_csv('Dataset/RF_Zigzag_trace.csv')'''"
   ]
  },
  {
   "cell_type": "code",
   "execution_count": null,
   "metadata": {
    "ExecuteTime": {
     "start_time": "2025-01-12T09:12:55.493938300Z"
    }
   },
   "outputs": [],
   "source": [
    "re.to_csv('Dataset/LOG_Pl_trace_SFFS.csv')"
   ]
  },
  {
   "cell_type": "code",
   "execution_count": null,
   "metadata": {
    "ExecuteTime": {
     "start_time": "2025-01-12T09:12:55.493938300Z"
    }
   },
   "outputs": [],
   "source": []
  },
  {
   "cell_type": "code",
   "execution_count": null,
   "metadata": {
    "ExecuteTime": {
     "start_time": "2025-01-12T09:12:55.494936300Z"
    }
   },
   "outputs": [],
   "source": []
  },
  {
   "attachments": {},
   "cell_type": "markdown",
   "metadata": {},
   "source": [
    "### Pl predict"
   ]
  },
  {
   "cell_type": "code",
   "execution_count": null,
   "metadata": {
    "ExecuteTime": {
     "start_time": "2025-01-12T09:12:55.495934500Z"
    }
   },
   "outputs": [],
   "source": [
    "import csv\n",
    "import pandas as pd\n",
    "from sklearn.ensemble import RandomForestClassifier\n",
    "from mlxtend.feature_selection import SequentialFeatureSelector as SFS\n",
    "from sklearn.model_selection import train_test_split\n",
    "from sklearn.model_selection import GridSearchCV\n",
    "from sklearn.metrics import accuracy_score\n",
    "import numpy as np\n",
    "from sklearn.preprocessing import StandardScaler\n",
    "from sklearn.linear_model import LogisticRegression"
   ]
  },
  {
   "cell_type": "code",
   "execution_count": null,
   "metadata": {
    "ExecuteTime": {
     "start_time": "2025-01-12T09:12:55.497934800Z"
    }
   },
   "outputs": [],
   "source": [
    "f=pd.read_csv('Dataset/Pl_predict.csv')\n",
    "df = f.to_numpy()\n",
    "df.shape"
   ]
  },
  {
   "cell_type": "code",
   "execution_count": null,
   "metadata": {
    "ExecuteTime": {
     "start_time": "2025-01-12T09:12:55.498934400Z"
    }
   },
   "outputs": [],
   "source": [
    "X = df[:,2:]\n",
    "y = df[:,1]\n",
    "print(y)\n",
    "y=y.astype('int')\n",
    "\n",
    "#データチューニング\n",
    "params = {\n",
    "    \"C\": [10**i for i in range(-4,4)],\n",
    "    \"penalty\": [\"l1\", \"l2\"],\n",
    "    \"random_state\": [1],\n",
    "    \"solver\":['liblinear']\n",
    "}\n",
    "\n",
    "\n",
    "from sklearn.model_selection import LeaveOneOut\n",
    "\n",
    "# create loocv procedure\n",
    "cv = LeaveOneOut()\n",
    "\n",
    "clf = GridSearchCV(LogisticRegression(),\n",
    "                   param_grid=params,\n",
    "                   cv=cv,\n",
    "                   n_jobs=-1,\n",
    "                   verbose=2\n",
    "                  )"
   ]
  },
  {
   "cell_type": "code",
   "execution_count": null,
   "metadata": {
    "ExecuteTime": {
     "start_time": "2025-01-12T09:12:55.499935500Z"
    }
   },
   "outputs": [],
   "source": [
    "stdsc = StandardScaler()\n",
    "X_std = stdsc.fit_transform(X)"
   ]
  },
  {
   "cell_type": "code",
   "execution_count": null,
   "metadata": {
    "ExecuteTime": {
     "start_time": "2025-01-12T09:12:55.499935500Z"
    }
   },
   "outputs": [],
   "source": [
    "best_acc = 0\n",
    "re = pd.DataFrame()\n",
    "stdsc = StandardScaler()\n",
    "X_std = stdsc.fit_transform(X)\n",
    "for i in range(2,31):\n",
    "    sffs = SFS(\n",
    "    LogisticRegression(), # 使う学習器\n",
    "    k_features=i, #特徴をいくつまで選択するか\n",
    "    forward=True, #Trueでforward selectionになる。Falseでback\n",
    "    floating=True, #sffsを行うためのもの。\n",
    "    verbose=1, #実行時のlogをどれだけ詳しく表示するか\n",
    "    scoring='accuracy', # 評価指標\n",
    "    cv=cv,#クロスバリデーション\n",
    "    n_jobs=-1\n",
    "    )\n",
    "\n",
    "    sffs = sffs.fit(X_std, y)\n",
    "    #選ばれた特徴\n",
    "    X_train_sffs = X_std[:,list(sffs.k_feature_idx_)]\n",
    "\n",
    "    X_train_sffs_std = stdsc.fit_transform(X_train_sffs)\n",
    "    \n",
    "    clf = GridSearchCV(LogisticRegression(),\n",
    "                   param_grid=params,\n",
    "                   cv=cv,\n",
    "                   n_jobs=-1,\n",
    "                   verbose=2\n",
    "                  )\n",
    "    \n",
    "    clf.fit(X_train_sffs_std, y)\n",
    "\n",
    "    print(clf.best_score_, clf.best_params_)\n",
    "    \n",
    "    if clf.best_score_ < best_acc - 0.05:\n",
    "        break\n",
    "    elif clf.best_score_ > best_acc:\n",
    "        best_acc = clf.best_score_\n",
    "    \n",
    "    re_i = pd.DataFrame([[sffs.k_feature_idx_,clf.best_score_,clf.best_params_]], columns=['Feature','accuracy','param'])\n",
    "    re = pd.concat([re,re_i])\n",
    "    '''# トレーニングデータに対する精度\n",
    "    pred_train = random_forest.predict(X_train_sffs)\n",
    "    accuracy_train = accuracy_score(y_train, pred_train)\n",
    "\n",
    "    # テストデータに対する精度\n",
    "    pred_test = random_forest.predict(X_test_sffs)\n",
    "    accuracy_test = accuracy_score(y_test, pred_test)\n",
    "\n",
    "    re_i = pd.DataFrame([[sffs.k_feature_idx_,accuracy_train,accuracy_test]], columns=['Feature','TrainigScore','TestScore'])\n",
    "    re = pd.concat([re,re_i])\n",
    "\n",
    "re.to_csv('Dataset/RF_Zigzag_trace.csv')'''"
   ]
  },
  {
   "cell_type": "code",
   "execution_count": null,
   "metadata": {
    "ExecuteTime": {
     "start_time": "2025-01-12T09:12:55.501941300Z"
    }
   },
   "outputs": [],
   "source": [
    "re.to_csv('Dataset/LOG_Pl_predict_SFFS.csv')"
   ]
  },
  {
   "cell_type": "code",
   "execution_count": null,
   "metadata": {
    "ExecuteTime": {
     "start_time": "2025-01-12T09:12:55.502942200Z"
    }
   },
   "outputs": [],
   "source": []
  },
  {
   "cell_type": "code",
   "execution_count": null,
   "metadata": {
    "ExecuteTime": {
     "start_time": "2025-01-12T09:12:55.503944100Z"
    }
   },
   "outputs": [],
   "source": []
  },
  {
   "attachments": {},
   "cell_type": "markdown",
   "metadata": {},
   "source": [
    "## RF method"
   ]
  },
  {
   "attachments": {},
   "cell_type": "markdown",
   "metadata": {},
   "source": [
    "### ZigZag trace"
   ]
  },
  {
   "attachments": {},
   "cell_type": "markdown",
   "metadata": {},
   "source": [
    "#### ML Code"
   ]
  },
  {
   "cell_type": "code",
   "execution_count": null,
   "metadata": {
    "ExecuteTime": {
     "start_time": "2025-01-12T09:12:55.505940900Z"
    }
   },
   "outputs": [],
   "source": [
    "%pwd"
   ]
  },
  {
   "cell_type": "code",
   "execution_count": null,
   "metadata": {
    "ExecuteTime": {
     "start_time": "2025-01-12T09:12:55.506941200Z"
    }
   },
   "outputs": [],
   "source": [
    "import csv\n",
    "import pandas as pd\n",
    "from sklearn.ensemble import RandomForestClassifier\n",
    "from mlxtend.feature_selection import SequentialFeatureSelector as SFS\n",
    "from sklearn.model_selection import train_test_split\n",
    "from sklearn.model_selection import GridSearchCV\n",
    "from sklearn.metrics import accuracy_score\n",
    "import numpy as np\n",
    "from sklearn.preprocessing import StandardScaler"
   ]
  },
  {
   "cell_type": "code",
   "execution_count": null,
   "metadata": {
    "ExecuteTime": {
     "start_time": "2025-01-12T09:12:55.508000900Z"
    }
   },
   "outputs": [],
   "source": [
    "#pl trace 16 30 50\n",
    "#pl forecast 20 40 60\n",
    "#zig trace 12 31 51\n",
    "#zig forecast 20 40 60"
   ]
  },
  {
   "cell_type": "code",
   "execution_count": null,
   "metadata": {
    "ExecuteTime": {
     "start_time": "2025-01-12T09:12:55.509008800Z"
    }
   },
   "outputs": [],
   "source": [
    "path=\"C:\\\\Users\\\\shinlab\\\\Desktop\\\\ChildOrAdult-20211214T064035Z-001\\\\ChildOrAdult\\\\result\"\n",
    "f=pd.read_csv('Dataset/DD_pentablet/result/Zigzag_trace.csv')\n",
    "df = f.to_numpy()\n",
    "df.shape"
   ]
  },
  {
   "cell_type": "code",
   "execution_count": null,
   "metadata": {
    "ExecuteTime": {
     "start_time": "2025-01-12T09:12:55.510007900Z"
    }
   },
   "outputs": [],
   "source": [
    "X = df[:,2:]\n",
    "y = df[:,1]\n",
    "print(y)\n",
    "y=y.astype('int')\n",
    "X_train, X_test, y_train, y_test = train_test_split(X, y, test_size=0.3, random_state=1)\n",
    "\n",
    "\n",
    "#データチューニング\n",
    "tuned_parameters = {\"max_depth\": [5, None],\n",
    "                     \"n_estimators\":[50,100,200,300],\n",
    "                     \"min_samples_split\": [2, 3],\n",
    "                     \"min_samples_leaf\": [1, 3],\n",
    "                     \"bootstrap\": [True],\n",
    "                     \"criterion\": [\"gini\", \"entropy\"]}\n",
    "\n",
    "from sklearn.model_selection import LeaveOneOut\n",
    "\n",
    "# create loocv procedure\n",
    "cv = LeaveOneOut()\n",
    "\n",
    "clf = GridSearchCV(\n",
    "RandomForestClassifier(random_state=0), # 識別器\n",
    "tuned_parameters, # 最適化したいパラメータセット\n",
    "verbose=2,\n",
    "cv=cv, # 交差検定の回数\n",
    ")\n",
    "\"\"\"\n",
    "{\"max_depth\": [2,3,5,10, None],\n",
    " \"n_estimators\":[50,100,200,300,400],\n",
    " \"min_samples_split\": [2, 3, 10],\n",
    " \"min_samples_leaf\": [1, 3, 10],\n",
    " \"bootstrap\": [True, False],\n",
    " \"criterion\": [\"gini\", \"entropy\"]}\n",
    " \"\"\""
   ]
  },
  {
   "cell_type": "code",
   "execution_count": null,
   "metadata": {
    "ExecuteTime": {
     "start_time": "2025-01-12T09:12:55.511007300Z"
    }
   },
   "outputs": [],
   "source": [
    "best_acc = 0\n",
    "re = pd.DataFrame()\n",
    "stdsc = StandardScaler()\n",
    "X_std = stdsc.fit_transform(X)\n",
    "for i in range(1,31):\n",
    "    sffs = SFS(\n",
    "    RandomForestClassifier(random_state=0), # 使う学習器\n",
    "    k_features=i, #特徴をいくつまで選択するか\n",
    "    forward=True, #Trueでforward selectionになる。Falseでback\n",
    "    floating=True, #sffsを行うためのもの。\n",
    "    verbose=1, #実行時のlogをどれだけ詳しく表示するか\n",
    "    scoring='accuracy', # 評価指標\n",
    "    cv=cv,#クロスバリデーション\n",
    "    n_jobs=-1\n",
    "    )\n",
    "\n",
    "    sffs = sffs.fit(X_std, y)\n",
    "    #選ばれた特徴\n",
    "    X_train_sffs = X_std[:,list(sffs.k_feature_idx_)]\n",
    "\n",
    "    X_train_sffs_std = stdsc.fit_transform(X_train_sffs)\n",
    "    \n",
    "    clf = GridSearchCV(\n",
    "    RandomForestClassifier(random_state=0), # 識別器\n",
    "    tuned_parameters, # 最適化したいパラメータセット\n",
    "    verbose=2,\n",
    "    cv=cv, # 交差検定の回数\n",
    "    )\n",
    "    \n",
    "    clf.fit(X_train_sffs_std, y)\n",
    "\n",
    "    print(clf.best_score_, clf.best_params_)\n",
    "    \n",
    "    if clf.best_score_ < best_acc - 0.05:\n",
    "        break\n",
    "    elif clf.best_score_ > best_acc:\n",
    "        best_acc = clf.best_score_\n",
    "    \n",
    "    re_i = pd.DataFrame([[sffs.k_feature_idx_,clf.best_score_,clf.best_params_]], columns=['Feature','accuracy','param'])\n",
    "    re = pd.concat([re,re_i])\n",
    "    '''# トレーニングデータに対する精度\n",
    "    pred_train = random_forest.predict(X_train_sffs)\n",
    "    accuracy_train = accuracy_score(y_train, pred_train)\n",
    "\n",
    "    # テストデータに対する精度\n",
    "    pred_test = random_forest.predict(X_test_sffs)\n",
    "    accuracy_test = accuracy_score(y_test, pred_test)\n",
    "\n",
    "    re_i = pd.DataFrame([[sffs.k_feature_idx_,accuracy_train,accuracy_test]], columns=['Feature','TrainigScore','TestScore'])\n",
    "    re = pd.concat([re,re_i])\n",
    "\n",
    "re.to_csv('Dataset/DD_pentablet/result/RF_Zigzag_trace.csv')'''"
   ]
  },
  {
   "cell_type": "code",
   "execution_count": null,
   "metadata": {
    "ExecuteTime": {
     "start_time": "2025-01-12T09:12:55.513007500Z"
    }
   },
   "outputs": [],
   "source": [
    "re"
   ]
  },
  {
   "cell_type": "code",
   "execution_count": null,
   "metadata": {
    "ExecuteTime": {
     "start_time": "2025-01-12T09:12:55.514007600Z"
    }
   },
   "outputs": [],
   "source": [
    "re.to_csv('Dataset/DD_pentablet/result/RF_Zigzag_trace.csv')"
   ]
  },
  {
   "cell_type": "code",
   "execution_count": null,
   "metadata": {
    "ExecuteTime": {
     "start_time": "2025-01-12T09:12:55.515515Z"
    }
   },
   "outputs": [],
   "source": []
  },
  {
   "attachments": {},
   "cell_type": "markdown",
   "metadata": {},
   "source": [
    "#### CM and result detail Code"
   ]
  },
  {
   "cell_type": "code",
   "execution_count": null,
   "metadata": {
    "ExecuteTime": {
     "start_time": "2025-01-12T09:12:55.516520400Z"
    }
   },
   "outputs": [],
   "source": [
    "from sklearn.metrics import confusion_matrix\n",
    "import csv\n",
    "import pandas as pd\n",
    "from sklearn.ensemble import RandomForestClassifier\n",
    "from mlxtend.feature_selection import SequentialFeatureSelector as SFS\n",
    "from sklearn.model_selection import train_test_split\n",
    "from sklearn.model_selection import GridSearchCV\n",
    "from sklearn.metrics import accuracy_score\n",
    "import numpy as np\n",
    "from sklearn.preprocessing import StandardScaler\n",
    "from sklearn.svm import SVC\n",
    "from sklearn.model_selection import cross_val_score"
   ]
  },
  {
   "cell_type": "code",
   "execution_count": null,
   "metadata": {
    "ExecuteTime": {
     "start_time": "2025-01-12T09:12:55.518523900Z"
    }
   },
   "outputs": [],
   "source": [
    "%pwd"
   ]
  },
  {
   "cell_type": "code",
   "execution_count": null,
   "metadata": {
    "ExecuteTime": {
     "start_time": "2025-01-12T09:12:55.519520700Z"
    }
   },
   "outputs": [],
   "source": [
    "f=pd.read_csv('Dataset/DD_pentablet/result/Zigzag_trace.csv')\n",
    "df = f.to_numpy()\n",
    "df.shape"
   ]
  },
  {
   "cell_type": "code",
   "execution_count": null,
   "metadata": {
    "ExecuteTime": {
     "start_time": "2025-01-12T09:12:55.521519600Z"
    }
   },
   "outputs": [],
   "source": [
    "#change feature shape\n",
    "flist = [6, 7, 20, 28]\n",
    "changed_list = [n+3 for n in flist]\n",
    "changed_list"
   ]
  },
  {
   "cell_type": "code",
   "execution_count": null,
   "metadata": {
    "ExecuteTime": {
     "start_time": "2025-01-12T09:12:55.523520500Z"
    }
   },
   "outputs": [],
   "source": [
    "#data separation\n",
    "#(3, 4, 5, 6, 7, 20, 22, 23, 25, 29)\n",
    "\n",
    "X = df[:,changed_list]\n",
    "y =f.iloc[:,2]\n",
    "\n",
    "y=y.astype('int')\n",
    "print(y)\n",
    "y.value_counts()\n",
    "#X = np.delete(X, 1, 1)\n",
    "#X = np.delete(X, 0, 1)\n",
    "#X_train, X_test, y_train, y_test = train_test_split(X, y, test_size=0.3, random_state=1)"
   ]
  },
  {
   "cell_type": "code",
   "execution_count": null,
   "metadata": {
    "ExecuteTime": {
     "start_time": "2025-01-12T09:12:55.524669900Z"
    }
   },
   "outputs": [],
   "source": [
    "stdsc = StandardScaler()"
   ]
  },
  {
   "cell_type": "code",
   "execution_count": null,
   "metadata": {
    "ExecuteTime": {
     "start_time": "2025-01-12T09:12:55.527111100Z"
    }
   },
   "outputs": [],
   "source": [
    "from sklearn.model_selection import LeaveOneOut\n",
    "\n",
    "# create loocv procedure\n",
    "cv = LeaveOneOut()"
   ]
  },
  {
   "cell_type": "code",
   "execution_count": null,
   "metadata": {
    "ExecuteTime": {
     "start_time": "2025-01-12T09:12:55.528510200Z"
    }
   },
   "outputs": [],
   "source": [
    "X_std = stdsc.fit_transform(X)"
   ]
  },
  {
   "cell_type": "code",
   "execution_count": null,
   "metadata": {
    "ExecuteTime": {
     "start_time": "2025-01-12T09:12:55.529516600Z"
    }
   },
   "outputs": [],
   "source": [
    "tuned_parameters = {'bootstrap': [True],\n",
    "                    'criterion': ['gini'],\n",
    "                    'max_depth': [5],\n",
    "                    'min_samples_leaf': [1],\n",
    "                    'min_samples_split': [3],\n",
    "                    'n_estimators': [50]\n",
    "                   }\n",
    "#{'bootstrap': True, 'criterion': 'gini', 'max_depth': 5, 'min_samples_leaf': 1, 'min_samples_split': 3, 'n_estimators': 50}"
   ]
  },
  {
   "cell_type": "code",
   "execution_count": null,
   "metadata": {
    "ExecuteTime": {
     "start_time": "2025-01-12T09:12:55.530515800Z"
    }
   },
   "outputs": [],
   "source": [
    "#GridSearch\n",
    "clf = GridSearchCV(\n",
    "RandomForestClassifier(random_state=0), # 識別器\n",
    "tuned_parameters, # 最適化したいパラメータセット\n",
    "verbose=2,\n",
    "cv=cv, # 交差検定の回数\n",
    "n_jobs=-1\n",
    ")\n",
    "\n",
    "clf.fit(X_std, y)\n",
    "\n",
    "#result(score + param)\n",
    "print(clf.best_score_, clf.best_params_)"
   ]
  },
  {
   "cell_type": "code",
   "execution_count": null,
   "metadata": {
    "ExecuteTime": {
     "start_time": "2025-01-12T09:12:55.532517500Z"
    }
   },
   "outputs": [],
   "source": [
    "def generate_param(param):\n",
    "    new_param = \"\"\n",
    "    count = 0\n",
    "    for i in param:\n",
    "        if i == '{' or i == '}':\n",
    "            i = ''\n",
    "        elif i == ':':\n",
    "            i = '='\n",
    "            count += 1\n",
    "        elif (count == 2 or count == 3) and i == '\\'':\n",
    "            count += 1\n",
    "        elif (count != 2 and count != 3) and i == '\\'':\n",
    "            i = ''\n",
    "        new_param += i\n",
    "    return new_param\n",
    "        "
   ]
  },
  {
   "cell_type": "code",
   "execution_count": null,
   "metadata": {
    "ExecuteTime": {
     "start_time": "2025-01-12T09:12:55.533516600Z"
    }
   },
   "outputs": [],
   "source": [
    "sample = \"{'bootstrap': True, 'criterion': 'gini', 'max_depth': 5, 'min_samples_leaf': 1, 'min_samples_split': 3, 'n_estimators': 50}\"\n",
    "tuned_param = generate_param(sample)"
   ]
  },
  {
   "cell_type": "code",
   "execution_count": null,
   "metadata": {
    "ExecuteTime": {
     "start_time": "2025-01-12T09:12:55.534517700Z"
    }
   },
   "outputs": [],
   "source": [
    "tuned_param"
   ]
  },
  {
   "cell_type": "code",
   "execution_count": null,
   "metadata": {
    "ExecuteTime": {
     "start_time": "2025-01-12T09:12:55.535517Z"
    }
   },
   "outputs": [],
   "source": [
    "model=RandomForestClassifier(bootstrap= True, criterion= 'gini', max_depth= 5, min_samples_leaf= 1, min_samples_split= 3, n_estimators= 50,\n",
    "                            random_state=0)\n",
    "#{'bootstrap': True, 'criterion': 'gini', 'max_depth': 5, 'min_samples_leaf': 1, 'min_samples_split': 3, 'n_estimators': 100}"
   ]
  },
  {
   "cell_type": "code",
   "execution_count": null,
   "metadata": {
    "ExecuteTime": {
     "start_time": "2025-01-12T09:12:55.537515300Z"
    }
   },
   "outputs": [],
   "source": [
    "# loocv to manually evaluate the performance of a random forest classifier\n",
    "from sklearn.datasets import make_blobs\n",
    "from sklearn.model_selection import LeaveOneOut\n",
    "from sklearn.ensemble import RandomForestClassifier\n",
    "from sklearn.metrics import accuracy_score\n",
    "# create loocv procedure\n",
    "cv = LeaveOneOut()\n",
    "# enumerate splits\n",
    "y_true, y_pred = list(), list()\n",
    "for train_ix, test_ix in cv.split(X_std):\n",
    "    # split data\n",
    "    X_train, X_test = X_std[train_ix, :], X_std[test_ix, :]\n",
    "    y_train, y_test = y[train_ix], y[test_ix]\n",
    "    model.fit(X_train, y_train)\n",
    "    # evaluate model\n",
    "    yhat = model.predict(X_test)\n",
    "    # store\n",
    "    #y_true.append(y_test[0])\n",
    "    y_pred.append(yhat[0])\n",
    "# calculate accuracy\n",
    "acc = accuracy_score(y, y_pred)\n",
    "print('Accuracy: %.3f' % acc)"
   ]
  },
  {
   "cell_type": "code",
   "execution_count": null,
   "metadata": {
    "ExecuteTime": {
     "start_time": "2025-01-12T09:12:55.539814400Z"
    }
   },
   "outputs": [],
   "source": [
    "from sklearn.metrics import confusion_matrix\n",
    "import seaborn as sns\n",
    "import matplotlib.pyplot as plt\n",
    "\n",
    "cm = confusion_matrix(y, y_pred)\n",
    "\n",
    "sns.heatmap(cm, annot=True)\n",
    "#plt.savefig('Dataset/DD_pentablet/result/Zigzag_trace_RF_heatmap.png')"
   ]
  },
  {
   "cell_type": "code",
   "execution_count": null,
   "metadata": {
    "ExecuteTime": {
     "start_time": "2025-01-12T09:12:55.540822800Z"
    }
   },
   "outputs": [],
   "source": [
    "from sklearn.metrics import precision_score\n",
    "from sklearn.metrics import recall_score\n",
    "from sklearn.metrics import f1_score\n",
    "from sklearn.metrics import roc_auc_score\n",
    "\n",
    "acc = accuracy_score(y, y_pred)\n",
    "pre = precision_score(y, y_pred)\n",
    "rec = recall_score(y, y_pred)\n",
    "f1 = f1_score(y, y_pred)\n",
    "auc = roc_auc_score(y, y_pred)\n",
    "\n",
    "\n",
    "re = pd.DataFrame()\n",
    "re_i = pd.DataFrame([[flist,acc,clf.best_params_,pre,rec,f1,auc]], columns=['Feature','accuracy','param','precision','recall','f1','AUC'])\n",
    "re = pd.concat([re,re_i])\n",
    "#re.to_csv('Dataset/DD_pentablet/result/RF_Zigzag_trace_29_rep.csv', index = False)"
   ]
  },
  {
   "cell_type": "code",
   "execution_count": null,
   "metadata": {
    "ExecuteTime": {
     "start_time": "2025-01-12T09:12:55.541821800Z"
    }
   },
   "outputs": [],
   "source": [
    "re"
   ]
  },
  {
   "cell_type": "code",
   "execution_count": null,
   "metadata": {
    "ExecuteTime": {
     "start_time": "2025-01-12T09:12:55.542821900Z"
    }
   },
   "outputs": [],
   "source": []
  },
  {
   "cell_type": "code",
   "execution_count": null,
   "metadata": {
    "ExecuteTime": {
     "start_time": "2025-01-12T09:12:55.543821900Z"
    }
   },
   "outputs": [],
   "source": []
  },
  {
   "attachments": {},
   "cell_type": "markdown",
   "metadata": {},
   "source": [
    "### ZigZag predict"
   ]
  },
  {
   "attachments": {},
   "cell_type": "markdown",
   "metadata": {},
   "source": [
    "#### ML Code"
   ]
  },
  {
   "cell_type": "code",
   "execution_count": null,
   "metadata": {
    "ExecuteTime": {
     "start_time": "2025-01-12T09:12:55.544822600Z"
    }
   },
   "outputs": [],
   "source": [
    "%pwd"
   ]
  },
  {
   "cell_type": "code",
   "execution_count": null,
   "metadata": {
    "ExecuteTime": {
     "start_time": "2025-01-12T09:12:55.545823100Z"
    }
   },
   "outputs": [],
   "source": [
    "import csv\n",
    "import pandas as pd\n",
    "from sklearn.ensemble import RandomForestClassifier\n",
    "from mlxtend.feature_selection import SequentialFeatureSelector as SFS\n",
    "from sklearn.model_selection import train_test_split\n",
    "from sklearn.model_selection import GridSearchCV\n",
    "from sklearn.metrics import accuracy_score\n",
    "import numpy as np\n",
    "from sklearn.preprocessing import StandardScaler"
   ]
  },
  {
   "cell_type": "code",
   "execution_count": null,
   "metadata": {
    "ExecuteTime": {
     "start_time": "2025-01-12T09:12:55.546822700Z"
    }
   },
   "outputs": [],
   "source": [
    "#pl trace 16 30 50\n",
    "#pl forecast 20 40 60\n",
    "#zig trace 12 31 51\n",
    "#zig forecast 20 40 60"
   ]
  },
  {
   "cell_type": "code",
   "execution_count": null,
   "metadata": {
    "ExecuteTime": {
     "start_time": "2025-01-12T09:12:55.547821600Z"
    }
   },
   "outputs": [],
   "source": [
    "path=\"C:\\\\Users\\\\shinlab\\\\Desktop\\\\ChildOrAdult-20211214T064035Z-001\\\\ChildOrAdult\\\\result\"\n",
    "f=pd.read_csv('Dataset/DD_pentablet/result/Zigzag_predict.csv')\n",
    "df = f.to_numpy()\n",
    "df.shape"
   ]
  },
  {
   "cell_type": "code",
   "execution_count": null,
   "metadata": {
    "ExecuteTime": {
     "start_time": "2025-01-12T09:12:55.548822800Z"
    }
   },
   "outputs": [],
   "source": [
    "X = df[:,2:]\n",
    "y = df[:,1]\n",
    "print(y)\n",
    "y=y.astype('int')\n",
    "X_train, X_test, y_train, y_test = train_test_split(X, y, test_size=0.3, random_state=1)\n",
    "\n",
    "\n",
    "#データチューニング\n",
    "tuned_parameters = {\"max_depth\": [2,3,5, None],\n",
    "                     \"n_estimators\":[50,100,200,300],\n",
    "                     \"min_samples_split\": [2, 3, 10],\n",
    "                     \"min_samples_leaf\": [1, 3, 10],\n",
    "                     \"bootstrap\": [True, False],\n",
    "                     \"criterion\": [\"gini\", \"entropy\"]}\n",
    "\n",
    "from sklearn.model_selection import LeaveOneOut\n",
    "\n",
    "# create loocv procedure\n",
    "cv = LeaveOneOut()\n",
    "\n",
    "clf = GridSearchCV(\n",
    "RandomForestClassifier(random_state=0), # 識別器\n",
    "tuned_parameters, # 最適化したいパラメータセット\n",
    "verbose=2,\n",
    "cv=cv, # 交差検定の回数\n",
    ")\n",
    "\"\"\"\n",
    "{\"max_depth\": [5, None],\n",
    " \"n_estimators\":[50,100,200,300],\n",
    " \"min_samples_split\": [2, 3],\n",
    " \"min_samples_leaf\": [1, 3],\n",
    " \"bootstrap\": [True],\n",
    " \"criterion\": [\"gini\", \"entropy\"]}\n",
    " \n",
    " {\"max_depth\": [2,3,5,10, None],\n",
    " \"n_estimators\":[50,100,200,300,400],\n",
    " \"min_samples_split\": [2, 3, 10],\n",
    " \"min_samples_leaf\": [1, 3, 10],\n",
    " \"bootstrap\": [True, False],\n",
    " \"criterion\": [\"gini\", \"entropy\"]}\n",
    " \"\"\""
   ]
  },
  {
   "cell_type": "code",
   "execution_count": null,
   "metadata": {
    "ExecuteTime": {
     "start_time": "2025-01-12T09:12:55.549820Z"
    }
   },
   "outputs": [],
   "source": [
    "best_acc = 0\n",
    "re = pd.DataFrame()\n",
    "stdsc = StandardScaler()\n",
    "X_std = stdsc.fit_transform(X)\n",
    "for i in range(1,31):\n",
    "    sffs = SFS(\n",
    "    RandomForestClassifier(random_state=0), # 使う学習器\n",
    "    k_features=i, #特徴をいくつまで選択するか\n",
    "    forward=True, #Trueでforward selectionになる。Falseでback\n",
    "    floating=True, #sffsを行うためのもの。\n",
    "    verbose=2, #実行時のlogをどれだけ詳しく表示するか\n",
    "    scoring='accuracy', # 評価指標\n",
    "    cv=cv,#クロスバリデーション\n",
    "    n_jobs=-1\n",
    "    )\n",
    "\n",
    "    sffs = sffs.fit(X_std, y)\n",
    "    #選ばれた特徴\n",
    "    X_train_sffs = X_std[:,list(sffs.k_feature_idx_)]\n",
    "\n",
    "    X_train_sffs_std = stdsc.fit_transform(X_train_sffs)\n",
    "    \n",
    "    clf = GridSearchCV(\n",
    "    RandomForestClassifier(random_state=0), # 識別器\n",
    "    tuned_parameters, # 最適化したいパラメータセット\n",
    "    verbose=2,\n",
    "    cv=cv, # 交差検定の回数\n",
    "    )\n",
    "    \n",
    "    clf.fit(X_train_sffs_std, y)\n",
    "\n",
    "    print(clf.best_score_, clf.best_params_)\n",
    "    re_i = pd.DataFrame([[sffs.k_feature_idx_,clf.best_score_,clf.best_params_]], columns=['Feature','accuracy','param'])\n",
    "    re = pd.concat([re,re_i])\n",
    "    '''# トレーニングデータに対する精度\n",
    "    pred_train = random_forest.predict(X_train_sffs)\n",
    "    accuracy_train = accuracy_score(y_train, pred_train)\n",
    "\n",
    "    # テストデータに対する精度\n",
    "    pred_test = random_forest.predict(X_test_sffs)\n",
    "    accuracy_test = accuracy_score(y_test, pred_test)\n",
    "\n",
    "    re_i = pd.DataFrame([[sffs.k_feature_idx_,accuracy_train,accuracy_test]], columns=['Feature','TrainigScore','TestScore'])\n",
    "    re = pd.concat([re,re_i])\n",
    "\n",
    "re.to_csv('Dataset/DD_pentablet/result/RF_Zigzag_trace.csv')'''"
   ]
  },
  {
   "cell_type": "code",
   "execution_count": null,
   "metadata": {
    "ExecuteTime": {
     "start_time": "2025-01-12T09:12:55.549820Z"
    }
   },
   "outputs": [],
   "source": [
    "re"
   ]
  },
  {
   "cell_type": "code",
   "execution_count": null,
   "metadata": {
    "ExecuteTime": {
     "start_time": "2025-01-12T09:12:55.550820300Z"
    }
   },
   "outputs": [],
   "source": [
    "re.to_csv('Dataset/DD_pentablet/result/RF_Zigzag_predict.csv')"
   ]
  },
  {
   "cell_type": "code",
   "execution_count": null,
   "metadata": {
    "ExecuteTime": {
     "start_time": "2025-01-12T09:12:55.551821300Z"
    }
   },
   "outputs": [],
   "source": []
  },
  {
   "attachments": {},
   "cell_type": "markdown",
   "metadata": {},
   "source": [
    "#### CM and result detail Code"
   ]
  },
  {
   "cell_type": "code",
   "execution_count": null,
   "metadata": {
    "ExecuteTime": {
     "start_time": "2025-01-12T09:12:55.554062200Z"
    }
   },
   "outputs": [],
   "source": [
    "from sklearn.metrics import confusion_matrix\n",
    "import csv\n",
    "import pandas as pd\n",
    "from sklearn.ensemble import RandomForestClassifier\n",
    "from mlxtend.feature_selection import SequentialFeatureSelector as SFS\n",
    "from sklearn.model_selection import train_test_split\n",
    "from sklearn.model_selection import GridSearchCV\n",
    "from sklearn.metrics import accuracy_score\n",
    "import numpy as np\n",
    "from sklearn.preprocessing import StandardScaler\n",
    "from sklearn.svm import SVC\n",
    "from sklearn.model_selection import cross_val_score"
   ]
  },
  {
   "cell_type": "code",
   "execution_count": null,
   "metadata": {
    "ExecuteTime": {
     "start_time": "2025-01-12T09:12:55.555544900Z"
    }
   },
   "outputs": [],
   "source": [
    "%pwd"
   ]
  },
  {
   "cell_type": "code",
   "execution_count": null,
   "metadata": {
    "ExecuteTime": {
     "start_time": "2025-01-12T09:12:55.556552800Z"
    }
   },
   "outputs": [],
   "source": [
    "f=pd.read_csv('Dataset/DD_pentablet/result/Zigzag_predict.csv')\n",
    "df = f.to_numpy()\n",
    "df.shape"
   ]
  },
  {
   "cell_type": "code",
   "execution_count": null,
   "metadata": {
    "ExecuteTime": {
     "start_time": "2025-01-12T09:12:55.557879300Z"
    }
   },
   "outputs": [],
   "source": [
    "#change feature shape\n",
    "flist = [2, 6, 8, 20, 25]\n",
    "changed_list = [n+3 for n in flist]\n",
    "changed_list"
   ]
  },
  {
   "cell_type": "code",
   "execution_count": null,
   "metadata": {
    "ExecuteTime": {
     "start_time": "2025-01-12T09:12:55.560862200Z"
    }
   },
   "outputs": [],
   "source": [
    "#data separation\n",
    "#(3, 4, 5, 6, 7, 20, 22, 23, 25, 29)\n",
    "\n",
    "X = df[:,changed_list]\n",
    "y =f.iloc[:,2]\n",
    "\n",
    "y=y.astype('int')\n",
    "print(y)\n",
    "y.value_counts()\n",
    "#X = np.delete(X, 1, 1)\n",
    "#X = np.delete(X, 0, 1)\n",
    "#X_train, X_test, y_train, y_test = train_test_split(X, y, test_size=0.3, random_state=1)"
   ]
  },
  {
   "cell_type": "code",
   "execution_count": null,
   "metadata": {
    "ExecuteTime": {
     "start_time": "2025-01-12T09:12:55.561861400Z"
    }
   },
   "outputs": [],
   "source": [
    "stdsc = StandardScaler()"
   ]
  },
  {
   "cell_type": "code",
   "execution_count": null,
   "metadata": {
    "ExecuteTime": {
     "start_time": "2025-01-12T09:12:55.562861400Z"
    }
   },
   "outputs": [],
   "source": [
    "from sklearn.model_selection import LeaveOneOut\n",
    "\n",
    "# create loocv procedure\n",
    "cv = LeaveOneOut()"
   ]
  },
  {
   "cell_type": "code",
   "execution_count": null,
   "metadata": {
    "ExecuteTime": {
     "start_time": "2025-01-12T09:12:55.563861200Z"
    }
   },
   "outputs": [],
   "source": [
    "X_std = stdsc.fit_transform(X)"
   ]
  },
  {
   "cell_type": "code",
   "execution_count": null,
   "metadata": {
    "ExecuteTime": {
     "start_time": "2025-01-12T09:12:55.564862100Z"
    }
   },
   "outputs": [],
   "source": [
    "tuned_parameters = {'bootstrap': [True],\n",
    "                    'criterion': ['gini'],\n",
    "                    'max_depth': [None],\n",
    "                    'min_samples_leaf': [1],\n",
    "                    'min_samples_split': [2],\n",
    "                    'n_estimators': [100]\n",
    "                   }\n",
    "#{'bootstrap': True, 'criterion': 'gini', 'max_depth': None, 'min_samples_leaf': 1, 'min_samples_split': 2, 'n_estimators': 100}"
   ]
  },
  {
   "cell_type": "code",
   "execution_count": null,
   "metadata": {
    "ExecuteTime": {
     "start_time": "2025-01-12T09:12:55.565862900Z"
    }
   },
   "outputs": [],
   "source": [
    "#GridSearch\n",
    "clf = GridSearchCV(\n",
    "RandomForestClassifier(random_state=0), # 識別器\n",
    "tuned_parameters, # 最適化したいパラメータセット\n",
    "verbose=2,\n",
    "cv=cv, # 交差検定の回数\n",
    "n_jobs=-1\n",
    ")\n",
    "\n",
    "clf.fit(X_std, y)\n",
    "\n",
    "#result(score + param)\n",
    "print(clf.best_score_, clf.best_params_)"
   ]
  },
  {
   "cell_type": "code",
   "execution_count": null,
   "metadata": {
    "ExecuteTime": {
     "start_time": "2025-01-12T09:12:55.566860700Z"
    }
   },
   "outputs": [],
   "source": [
    "def generate_param(param):\n",
    "    new_param = \"\"\n",
    "    count = 0\n",
    "    for i in param:\n",
    "        if i == '{' or i == '}':\n",
    "            i = ''\n",
    "        elif i == ':':\n",
    "            i = '='\n",
    "            count += 1\n",
    "        elif (count == 2 or count == 3) and i == '\\'':\n",
    "            count += 1\n",
    "        elif (count != 2 and count != 3) and i == '\\'':\n",
    "            i = ''\n",
    "        new_param += i\n",
    "    return new_param\n",
    "        "
   ]
  },
  {
   "cell_type": "code",
   "execution_count": null,
   "metadata": {
    "ExecuteTime": {
     "start_time": "2025-01-12T09:12:55.567861100Z"
    }
   },
   "outputs": [],
   "source": [
    "sample = \"{'bootstrap': True, 'criterion': 'gini', 'max_depth': None, 'min_samples_leaf': 1, 'min_samples_split': 2, 'n_estimators': 100}\"\n",
    "tuned_param = generate_param(sample)"
   ]
  },
  {
   "cell_type": "code",
   "execution_count": null,
   "metadata": {
    "ExecuteTime": {
     "start_time": "2025-01-12T09:12:55.568860500Z"
    }
   },
   "outputs": [],
   "source": [
    "tuned_param"
   ]
  },
  {
   "cell_type": "code",
   "execution_count": null,
   "metadata": {
    "ExecuteTime": {
     "start_time": "2025-01-12T09:12:55.570912500Z"
    }
   },
   "outputs": [],
   "source": [
    "model=RandomForestClassifier(bootstrap= True, criterion= 'gini', max_depth= None, min_samples_leaf= 1, min_samples_split= 2, n_estimators= 100,\n",
    "                            random_state=0)\n",
    "#{'bootstrap': True, 'criterion': 'gini', 'max_depth': 5, 'min_samples_leaf': 1, 'min_samples_split': 3, 'n_estimators': 100}"
   ]
  },
  {
   "cell_type": "code",
   "execution_count": null,
   "metadata": {
    "ExecuteTime": {
     "start_time": "2025-01-12T09:12:55.571912500Z"
    }
   },
   "outputs": [],
   "source": [
    "# loocv to manually evaluate the performance of a random forest classifier\n",
    "from sklearn.datasets import make_blobs\n",
    "from sklearn.model_selection import LeaveOneOut\n",
    "from sklearn.ensemble import RandomForestClassifier\n",
    "from sklearn.metrics import accuracy_score\n",
    "# create loocv procedure\n",
    "cv = LeaveOneOut()\n",
    "# enumerate splits\n",
    "y_true, y_pred = list(), list()\n",
    "for train_ix, test_ix in cv.split(X_std):\n",
    "    # split data\n",
    "    X_train, X_test = X_std[train_ix, :], X_std[test_ix, :]\n",
    "    y_train, y_test = y[train_ix], y[test_ix]\n",
    "    model.fit(X_train, y_train)\n",
    "    # evaluate model\n",
    "    yhat = model.predict(X_test)\n",
    "    # store\n",
    "    #y_true.append(y_test[0])\n",
    "    y_pred.append(yhat[0])\n",
    "# calculate accuracy\n",
    "acc = accuracy_score(y, y_pred)\n",
    "print('Accuracy: %.3f' % acc)"
   ]
  },
  {
   "cell_type": "code",
   "execution_count": null,
   "metadata": {
    "ExecuteTime": {
     "start_time": "2025-01-12T09:12:55.573260900Z"
    }
   },
   "outputs": [],
   "source": [
    "from sklearn.metrics import confusion_matrix\n",
    "import seaborn as sns\n",
    "import matplotlib.pyplot as plt\n",
    "\n",
    "cm = confusion_matrix(y, y_pred)\n",
    "\n",
    "sns.heatmap(cm, annot=True)\n",
    "#plt.savefig('Dataset/DD_pentablet/result/Zigzag_predict_RF_heatmap.png')"
   ]
  },
  {
   "cell_type": "code",
   "execution_count": null,
   "metadata": {
    "ExecuteTime": {
     "start_time": "2025-01-12T09:12:55.574269700Z"
    }
   },
   "outputs": [],
   "source": [
    "from sklearn.metrics import precision_score\n",
    "from sklearn.metrics import recall_score\n",
    "from sklearn.metrics import f1_score\n",
    "from sklearn.metrics import roc_auc_score\n",
    "\n",
    "acc = accuracy_score(y, y_pred)\n",
    "pre = precision_score(y, y_pred)\n",
    "rec = recall_score(y, y_pred)\n",
    "f1 = f1_score(y, y_pred)\n",
    "auc = roc_auc_score(y, y_pred)\n",
    "\n",
    "\n",
    "re = pd.DataFrame()\n",
    "re_i = pd.DataFrame([[flist,acc,clf.best_params_,pre,rec,f1,auc]], columns=['Feature','accuracy','param','precision','recall','f1','AUC'])\n",
    "re = pd.concat([re,re_i])\n",
    "#re.to_csv('Dataset/DD_pentablet/result/RF_Zigzag_predict_29_rep.csv', index = False)"
   ]
  },
  {
   "cell_type": "code",
   "execution_count": null,
   "metadata": {
    "ExecuteTime": {
     "start_time": "2025-01-12T09:12:55.576266700Z"
    }
   },
   "outputs": [],
   "source": [
    "re"
   ]
  },
  {
   "cell_type": "code",
   "execution_count": null,
   "metadata": {
    "ExecuteTime": {
     "start_time": "2025-01-12T09:12:55.577265900Z"
    }
   },
   "outputs": [],
   "source": []
  },
  {
   "cell_type": "code",
   "execution_count": null,
   "metadata": {
    "ExecuteTime": {
     "start_time": "2025-01-12T09:12:55.577265900Z"
    }
   },
   "outputs": [],
   "source": []
  },
  {
   "attachments": {},
   "cell_type": "markdown",
   "metadata": {},
   "source": [
    "### Pl trace"
   ]
  },
  {
   "attachments": {},
   "cell_type": "markdown",
   "metadata": {},
   "source": [
    "#### ML Code"
   ]
  },
  {
   "cell_type": "code",
   "execution_count": null,
   "metadata": {
    "ExecuteTime": {
     "start_time": "2025-01-12T09:12:55.579267100Z"
    }
   },
   "outputs": [],
   "source": [
    "%pwd"
   ]
  },
  {
   "cell_type": "code",
   "execution_count": null,
   "metadata": {
    "ExecuteTime": {
     "start_time": "2025-01-12T09:12:55.581364200Z"
    }
   },
   "outputs": [],
   "source": [
    "import csv\n",
    "import pandas as pd\n",
    "from sklearn.ensemble import RandomForestClassifier\n",
    "from mlxtend.feature_selection import SequentialFeatureSelector as SFS\n",
    "from sklearn.model_selection import train_test_split\n",
    "from sklearn.model_selection import GridSearchCV\n",
    "from sklearn.metrics import accuracy_score\n",
    "import numpy as np\n",
    "from sklearn.preprocessing import StandardScaler"
   ]
  },
  {
   "cell_type": "code",
   "execution_count": null,
   "metadata": {
    "ExecuteTime": {
     "start_time": "2025-01-12T09:12:55.582364300Z"
    }
   },
   "outputs": [],
   "source": [
    "#pl trace 16 30 50\n",
    "#pl forecast 20 40 60\n",
    "#zig trace 12 31 51\n",
    "#zig forecast 20 40 60"
   ]
  },
  {
   "cell_type": "code",
   "execution_count": null,
   "metadata": {
    "ExecuteTime": {
     "start_time": "2025-01-12T09:12:55.583364400Z"
    }
   },
   "outputs": [],
   "source": [
    "path=\"C:\\\\Users\\\\shinlab\\\\Desktop\\\\ChildOrAdult-20211214T064035Z-001\\\\ChildOrAdult\\\\result\"\n",
    "f=pd.read_csv('Dataset/DD_pentablet/result/Pl_trace.csv')\n",
    "df = f.to_numpy()\n",
    "df.shape"
   ]
  },
  {
   "cell_type": "code",
   "execution_count": null,
   "metadata": {
    "ExecuteTime": {
     "start_time": "2025-01-12T09:12:55.584365700Z"
    }
   },
   "outputs": [],
   "source": [
    "X = df[:,2:]\n",
    "y = df[:,1]\n",
    "print(y)\n",
    "y=y.astype('int')\n",
    "X_train, X_test, y_train, y_test = train_test_split(X, y, test_size=0.3, random_state=1)\n",
    "\n",
    "\n",
    "#データチューニング\n",
    "tuned_parameters = {\"max_depth\": [5, None],\n",
    "                     \"n_estimators\":[50,100,200,300],\n",
    "                     \"min_samples_split\": [2, 3],\n",
    "                     \"min_samples_leaf\": [1, 3],\n",
    "                     \"bootstrap\": [True],\n",
    "                     \"criterion\": [\"gini\", \"entropy\"]}\n",
    "from sklearn.model_selection import LeaveOneOut\n",
    "\n",
    "# create loocv procedure\n",
    "cv = LeaveOneOut()\n",
    "\n",
    "clf = GridSearchCV(\n",
    "RandomForestClassifier(random_state=0), # 識別器\n",
    "tuned_parameters, # 最適化したいパラメータセット\n",
    "verbose=2,\n",
    "cv=cv, # 交差検定の回数\n",
    ")\n",
    "\"\"\"\n",
    "{\"max_depth\": [2,3,5,10, None],\n",
    " \"n_estimators\":[50,100,200,300,400],\n",
    " \"min_samples_split\": [2, 3, 10],\n",
    " \"min_samples_leaf\": [1, 3, 10],\n",
    " \"bootstrap\": [True, False],\n",
    " \"criterion\": [\"gini\", \"entropy\"]}\n",
    " \"\"\""
   ]
  },
  {
   "cell_type": "code",
   "execution_count": null,
   "metadata": {
    "ExecuteTime": {
     "start_time": "2025-01-12T09:12:55.585428400Z"
    }
   },
   "outputs": [],
   "source": [
    "best_acc = 0\n",
    "re = pd.DataFrame()\n",
    "stdsc = StandardScaler()\n",
    "X_std = stdsc.fit_transform(X)\n",
    "for i in range(1,31):\n",
    "    sffs = SFS(\n",
    "    RandomForestClassifier(random_state=0), # 使う学習器\n",
    "    k_features=i, #特徴をいくつまで選択するか\n",
    "    forward=True, #Trueでforward selectionになる。Falseでback\n",
    "    floating=True, #sffsを行うためのもの。\n",
    "    verbose=2, #実行時のlogをどれだけ詳しく表示するか\n",
    "    scoring='accuracy', # 評価指標\n",
    "    cv=cv,#クロスバリデーション\n",
    "    n_jobs=-1\n",
    "    )\n",
    "\n",
    "    sffs = sffs.fit(X_std, y)\n",
    "    #選ばれた特徴\n",
    "    X_train_sffs = X_std[:,list(sffs.k_feature_idx_)]\n",
    "\n",
    "    X_train_sffs_std = stdsc.fit_transform(X_train_sffs)\n",
    "    \n",
    "    clf = GridSearchCV(\n",
    "    RandomForestClassifier(random_state=0), # 識別器\n",
    "    tuned_parameters, # 最適化したいパラメータセット\n",
    "    verbose=1,\n",
    "    cv=cv, # 交差検定の回数\n",
    "    )\n",
    "    \n",
    "    clf.fit(X_train_sffs_std, y)\n",
    "\n",
    "    print(clf.best_score_, clf.best_params_)\n",
    "    \n",
    "    if clf.best_score_ < best_acc - 0.05:\n",
    "        break\n",
    "    elif clf.best_score_ > best_acc:\n",
    "        best_acc = clf.best_score_\n",
    "    \n",
    "    re_i = pd.DataFrame([[sffs.k_feature_idx_,clf.best_score_,clf.best_params_]], columns=['Feature','accuracy','param'])\n",
    "    re = pd.concat([re,re_i])\n",
    "    '''# トレーニングデータに対する精度\n",
    "    pred_train = random_forest.predict(X_train_sffs)\n",
    "    accuracy_train = accuracy_score(y_train, pred_train)\n",
    "\n",
    "    # テストデータに対する精度\n",
    "    pred_test = random_forest.predict(X_test_sffs)\n",
    "    accuracy_test = accuracy_score(y_test, pred_test)\n",
    "\n",
    "    re_i = pd.DataFrame([[sffs.k_feature_idx_,accuracy_train,accuracy_test]], columns=['Feature','TrainigScore','TestScore'])\n",
    "    re = pd.concat([re,re_i])\n",
    "\n",
    "re.to_csv('Dataset/DD_pentablet/result/RF_Zigzag_trace.csv')'''"
   ]
  },
  {
   "cell_type": "code",
   "execution_count": null,
   "metadata": {
    "ExecuteTime": {
     "start_time": "2025-01-12T09:12:55.586895700Z"
    }
   },
   "outputs": [],
   "source": [
    "re"
   ]
  },
  {
   "cell_type": "code",
   "execution_count": null,
   "metadata": {
    "ExecuteTime": {
     "start_time": "2025-01-12T09:12:55.587904Z"
    }
   },
   "outputs": [],
   "source": [
    "re.to_csv('Dataset/DD_pentablet/result/RF_Pl_trace.csv')"
   ]
  },
  {
   "cell_type": "code",
   "execution_count": null,
   "metadata": {
    "ExecuteTime": {
     "start_time": "2025-01-12T09:12:55.588903600Z"
    }
   },
   "outputs": [],
   "source": []
  },
  {
   "attachments": {},
   "cell_type": "markdown",
   "metadata": {},
   "source": [
    "#### CM and result detail Code"
   ]
  },
  {
   "cell_type": "code",
   "execution_count": null,
   "metadata": {
    "ExecuteTime": {
     "start_time": "2025-01-12T09:12:55.589903400Z"
    }
   },
   "outputs": [],
   "source": [
    "from sklearn.metrics import confusion_matrix\n",
    "import csv\n",
    "import pandas as pd\n",
    "from sklearn.ensemble import RandomForestClassifier\n",
    "from mlxtend.feature_selection import SequentialFeatureSelector as SFS\n",
    "from sklearn.model_selection import train_test_split\n",
    "from sklearn.model_selection import GridSearchCV\n",
    "from sklearn.metrics import accuracy_score\n",
    "import numpy as np\n",
    "from sklearn.preprocessing import StandardScaler\n",
    "from sklearn.svm import SVC\n",
    "from sklearn.model_selection import cross_val_score"
   ]
  },
  {
   "cell_type": "code",
   "execution_count": null,
   "metadata": {
    "ExecuteTime": {
     "start_time": "2025-01-12T09:12:55.590904500Z"
    }
   },
   "outputs": [],
   "source": [
    "%pwd"
   ]
  },
  {
   "cell_type": "code",
   "execution_count": null,
   "metadata": {
    "ExecuteTime": {
     "start_time": "2025-01-12T09:12:55.591904800Z"
    }
   },
   "outputs": [],
   "source": [
    "f=pd.read_csv('Dataset/DD_pentablet/result/Pl_trace.csv')\n",
    "df = f.to_numpy()\n",
    "df.shape"
   ]
  },
  {
   "cell_type": "code",
   "execution_count": null,
   "metadata": {
    "ExecuteTime": {
     "start_time": "2025-01-12T09:12:55.592903700Z"
    }
   },
   "outputs": [],
   "source": [
    "#change feature shape\n",
    "flist = [4, 6, 10, 15, 22, 26, 27]\n",
    "changed_list = [n+3 for n in flist]\n",
    "changed_list"
   ]
  },
  {
   "cell_type": "code",
   "execution_count": null,
   "metadata": {
    "ExecuteTime": {
     "start_time": "2025-01-12T09:12:55.595153100Z"
    }
   },
   "outputs": [],
   "source": [
    "#data separation\n",
    "#(3, 4, 5, 6, 7, 20, 22, 23, 25, 29)\n",
    "\n",
    "X = df[:,changed_list]\n",
    "y =f.iloc[:,2]\n",
    "\n",
    "y=y.astype('int')\n",
    "print(y)\n",
    "y.value_counts()\n",
    "#X = np.delete(X, 1, 1)\n",
    "#X = np.delete(X, 0, 1)\n",
    "#X_train, X_test, y_train, y_test = train_test_split(X, y, test_size=0.3, random_state=1)"
   ]
  },
  {
   "cell_type": "code",
   "execution_count": null,
   "metadata": {
    "ExecuteTime": {
     "start_time": "2025-01-12T09:12:55.596152Z"
    }
   },
   "outputs": [],
   "source": [
    "stdsc = StandardScaler()"
   ]
  },
  {
   "cell_type": "code",
   "execution_count": null,
   "metadata": {
    "ExecuteTime": {
     "start_time": "2025-01-12T09:12:55.597152Z"
    }
   },
   "outputs": [],
   "source": [
    "from sklearn.model_selection import LeaveOneOut\n",
    "\n",
    "# create loocv procedure\n",
    "cv = LeaveOneOut()"
   ]
  },
  {
   "cell_type": "code",
   "execution_count": null,
   "metadata": {
    "ExecuteTime": {
     "start_time": "2025-01-12T09:12:55.598153500Z"
    }
   },
   "outputs": [],
   "source": [
    "X_std = stdsc.fit_transform(X)"
   ]
  },
  {
   "cell_type": "code",
   "execution_count": null,
   "metadata": {
    "ExecuteTime": {
     "start_time": "2025-01-12T09:12:55.599153Z"
    }
   },
   "outputs": [],
   "source": [
    "tuned_parameters = {'bootstrap': [True],\n",
    "                    'criterion': ['gini'],\n",
    "                    'max_depth': [5],\n",
    "                    'min_samples_leaf': [1],\n",
    "                    'min_samples_split': [3],\n",
    "                    'n_estimators': [100]\n",
    "                   }\n",
    "#{'bootstrap': True, 'criterion': 'gini', 'max_depth': 5, 'min_samples_leaf': 1, 'min_samples_split': 3, 'n_estimators': 100}"
   ]
  },
  {
   "cell_type": "code",
   "execution_count": null,
   "metadata": {
    "ExecuteTime": {
     "start_time": "2025-01-12T09:12:55.600152400Z"
    }
   },
   "outputs": [],
   "source": [
    "#GridSearch\n",
    "clf = GridSearchCV(\n",
    "RandomForestClassifier(random_state=0), # 識別器\n",
    "tuned_parameters, # 最適化したいパラメータセット\n",
    "verbose=2,\n",
    "cv=cv, # 交差検定の回数\n",
    "n_jobs=-1\n",
    ")\n",
    "\n",
    "clf.fit(X_std, y)\n",
    "\n",
    "#result(score + param)\n",
    "print(clf.best_score_, clf.best_params_)"
   ]
  },
  {
   "cell_type": "code",
   "execution_count": null,
   "metadata": {
    "ExecuteTime": {
     "start_time": "2025-01-12T09:12:55.602248300Z"
    }
   },
   "outputs": [],
   "source": [
    "def generate_param(param):\n",
    "    new_param = \"\"\n",
    "    count = 0\n",
    "    for i in param:\n",
    "        if i == '{' or i == '}':\n",
    "            i = ''\n",
    "        elif i == ':':\n",
    "            i = '='\n",
    "            count += 1\n",
    "        elif (count == 2 or count == 3) and i == '\\'':\n",
    "            count += 1\n",
    "        elif (count != 2 and count != 3) and i == '\\'':\n",
    "            i = ''\n",
    "        new_param += i\n",
    "    return new_param\n",
    "        "
   ]
  },
  {
   "cell_type": "code",
   "execution_count": null,
   "metadata": {
    "ExecuteTime": {
     "start_time": "2025-01-12T09:12:55.603247600Z"
    }
   },
   "outputs": [],
   "source": [
    "sample = \"{'bootstrap': True, 'criterion': 'gini', 'max_depth': 5, 'min_samples_leaf': 1, 'min_samples_split': 3, 'n_estimators': 100}\"\n",
    "tuned_param = generate_param(sample)"
   ]
  },
  {
   "cell_type": "code",
   "execution_count": null,
   "metadata": {
    "ExecuteTime": {
     "start_time": "2025-01-12T09:12:55.604250100Z"
    }
   },
   "outputs": [],
   "source": [
    "tuned_param"
   ]
  },
  {
   "cell_type": "code",
   "execution_count": null,
   "metadata": {
    "ExecuteTime": {
     "start_time": "2025-01-12T09:12:55.605247900Z"
    }
   },
   "outputs": [],
   "source": [
    "model=RandomForestClassifier(bootstrap= True, criterion= 'gini', max_depth= 5, min_samples_leaf= 1, min_samples_split= 3, n_estimators= 100,\n",
    "                            random_state=0)\n",
    "#{'bootstrap': True, 'criterion': 'gini', 'max_depth': 5, 'min_samples_leaf': 1, 'min_samples_split': 3, 'n_estimators': 100}"
   ]
  },
  {
   "cell_type": "code",
   "execution_count": null,
   "metadata": {
    "ExecuteTime": {
     "start_time": "2025-01-12T09:12:55.606247500Z"
    }
   },
   "outputs": [],
   "source": [
    "# loocv to manually evaluate the performance of a random forest classifier\n",
    "from sklearn.datasets import make_blobs\n",
    "from sklearn.model_selection import LeaveOneOut\n",
    "from sklearn.ensemble import RandomForestClassifier\n",
    "from sklearn.metrics import accuracy_score\n",
    "# create loocv procedure\n",
    "cv = LeaveOneOut()\n",
    "# enumerate splits\n",
    "y_true, y_pred = list(), list()\n",
    "for train_ix, test_ix in cv.split(X_std):\n",
    "    # split data\n",
    "    X_train, X_test = X_std[train_ix, :], X_std[test_ix, :]\n",
    "    y_train, y_test = y[train_ix], y[test_ix]\n",
    "    model.fit(X_train, y_train)\n",
    "    # evaluate model\n",
    "    yhat = model.predict(X_test)\n",
    "    # store\n",
    "    #y_true.append(y_test[0])\n",
    "    y_pred.append(yhat[0])\n",
    "# calculate accuracy\n",
    "acc = accuracy_score(y, y_pred)\n",
    "print('Accuracy: %.3f' % acc)"
   ]
  },
  {
   "cell_type": "code",
   "execution_count": null,
   "metadata": {
    "ExecuteTime": {
     "start_time": "2025-01-12T09:12:55.607248600Z"
    }
   },
   "outputs": [],
   "source": [
    "from sklearn.metrics import confusion_matrix\n",
    "import seaborn as sns\n",
    "import matplotlib.pyplot as plt\n",
    "\n",
    "cm = confusion_matrix(y, y_pred)\n",
    "\n",
    "sns.heatmap(cm, annot=True)\n",
    "#plt.savefig('Dataset/DD_pentablet/result/Pl_trace_RF_heatmap.png')"
   ]
  },
  {
   "cell_type": "code",
   "execution_count": null,
   "metadata": {
    "ExecuteTime": {
     "start_time": "2025-01-12T09:12:55.608340700Z"
    }
   },
   "outputs": [],
   "source": [
    "from sklearn.metrics import precision_score\n",
    "from sklearn.metrics import recall_score\n",
    "from sklearn.metrics import f1_score\n",
    "from sklearn.metrics import roc_auc_score\n",
    "\n",
    "acc = accuracy_score(y, y_pred)\n",
    "pre = precision_score(y, y_pred)\n",
    "rec = recall_score(y, y_pred)\n",
    "f1 = f1_score(y, y_pred)\n",
    "auc = roc_auc_score(y, y_pred)\n",
    "\n",
    "\n",
    "re = pd.DataFrame()\n",
    "re_i = pd.DataFrame([[flist,acc,clf.best_params_,pre,rec,f1,auc]], columns=['Feature','accuracy','param','precision','recall','f1','AUC'])\n",
    "re = pd.concat([re,re_i])\n",
    "#re.to_csv('Dataset/DD_pentablet/result/RF_Pl_trace_29_rep.csv', index = False)"
   ]
  },
  {
   "cell_type": "code",
   "execution_count": null,
   "metadata": {
    "ExecuteTime": {
     "start_time": "2025-01-12T09:12:55.609462600Z"
    }
   },
   "outputs": [],
   "source": [
    "re"
   ]
  },
  {
   "cell_type": "code",
   "execution_count": null,
   "metadata": {
    "ExecuteTime": {
     "start_time": "2025-01-12T09:12:55.610469900Z"
    }
   },
   "outputs": [],
   "source": []
  },
  {
   "cell_type": "code",
   "execution_count": null,
   "metadata": {
    "ExecuteTime": {
     "start_time": "2025-01-12T09:12:55.611470Z"
    }
   },
   "outputs": [],
   "source": []
  },
  {
   "attachments": {},
   "cell_type": "markdown",
   "metadata": {},
   "source": [
    "### Pl predict"
   ]
  },
  {
   "attachments": {},
   "cell_type": "markdown",
   "metadata": {},
   "source": [
    "#### ML Code"
   ]
  },
  {
   "cell_type": "code",
   "execution_count": null,
   "metadata": {
    "ExecuteTime": {
     "start_time": "2025-01-12T09:12:55.612469100Z"
    }
   },
   "outputs": [],
   "source": [
    "%pwd"
   ]
  },
  {
   "cell_type": "code",
   "execution_count": null,
   "metadata": {
    "ExecuteTime": {
     "start_time": "2025-01-12T09:12:55.613469500Z"
    }
   },
   "outputs": [],
   "source": [
    "import csv\n",
    "import pandas as pd\n",
    "from sklearn.ensemble import RandomForestClassifier\n",
    "from mlxtend.feature_selection import SequentialFeatureSelector as SFS\n",
    "from sklearn.model_selection import train_test_split\n",
    "from sklearn.model_selection import GridSearchCV\n",
    "from sklearn.metrics import accuracy_score\n",
    "import numpy as np\n",
    "from sklearn.preprocessing import StandardScaler"
   ]
  },
  {
   "cell_type": "code",
   "execution_count": null,
   "metadata": {
    "ExecuteTime": {
     "start_time": "2025-01-12T09:12:55.614976Z"
    }
   },
   "outputs": [],
   "source": [
    "#pl trace 16 30 50\n",
    "#pl forecast 20 40 60\n",
    "#zig trace 12 31 51\n",
    "#zig forecast 20 40 60"
   ]
  },
  {
   "cell_type": "code",
   "execution_count": null,
   "metadata": {
    "ExecuteTime": {
     "start_time": "2025-01-12T09:12:55.615983Z"
    }
   },
   "outputs": [],
   "source": [
    "# path=\"C:\\\\Users\\\\shinlab\\\\Desktop\\\\ChildOrAdult-20211214T064035Z-001\\\\ChildOrAdult\\\\result\"\n",
    "f=pd.read_csv('Dataset/DD_pentablet/result/Pl_predict.csv')\n",
    "df = f.to_numpy()\n",
    "df.shape"
   ]
  },
  {
   "cell_type": "code",
   "execution_count": null,
   "metadata": {
    "ExecuteTime": {
     "start_time": "2025-01-12T09:12:55.616982300Z"
    }
   },
   "outputs": [],
   "source": [
    "X = df[:,2:]\n",
    "y = df[:,1]\n",
    "print(y)\n",
    "y=y.astype('int')\n",
    "X_train, X_test, y_train, y_test = train_test_split(X, y, test_size=0.3, random_state=1)\n",
    "\n",
    "\n",
    "#データチューニング\n",
    "tuned_parameters = {\"max_depth\": [5, None],\n",
    "                     \"n_estimators\":[50,100,200,300],\n",
    "                     \"min_samples_split\": [2, 3],\n",
    "                     \"min_samples_leaf\": [1, 3],\n",
    "                     \"bootstrap\": [True],\n",
    "                     \"criterion\": [\"gini\", \"entropy\"]}\n",
    "\n",
    "from sklearn.model_selection import LeaveOneOut\n",
    "\n",
    "# create loocv procedure\n",
    "cv = LeaveOneOut()\n",
    "\n",
    "clf = GridSearchCV(\n",
    "RandomForestClassifier(random_state=0), # 識別器\n",
    "tuned_parameters, # 最適化したいパラメータセット\n",
    "verbose=2,\n",
    "cv=cv, # 交差検定の回数\n",
    ")\n",
    "\"\"\"\n",
    "{\"max_depth\": [2,3,5,10, None],\n",
    " \"n_estimators\":[50,100,200,300,400],\n",
    " \"min_samples_split\": [2, 3, 10],\n",
    " \"min_samples_leaf\": [1, 3, 10],\n",
    " \"bootstrap\": [True, False],\n",
    " \"criterion\": [\"gini\", \"entropy\"]}\n",
    " \"\"\""
   ]
  },
  {
   "cell_type": "code",
   "execution_count": null,
   "metadata": {
    "ExecuteTime": {
     "start_time": "2025-01-12T09:12:55.617983500Z"
    }
   },
   "outputs": [],
   "source": [
    "best_acc = 0\n",
    "re = pd.DataFrame()\n",
    "stdsc = StandardScaler()\n",
    "X_std = stdsc.fit_transform(X)\n",
    "for i in range(1,31):\n",
    "    sffs = SFS(\n",
    "    RandomForestClassifier(random_state=0), # 使う学習器\n",
    "    k_features=i, #特徴をいくつまで選択するか\n",
    "    forward=True, #Trueでforward selectionになる。Falseでback\n",
    "    floating=True, #sffsを行うためのもの。\n",
    "    verbose=2, #実行時のlogをどれだけ詳しく表示するか\n",
    "    scoring='accuracy', # 評価指標\n",
    "    cv=cv,#クロスバリデーション\n",
    "    n_jobs=-1\n",
    "    )\n",
    "\n",
    "    sffs = sffs.fit(X_std, y)\n",
    "    #選ばれた特徴\n",
    "    X_train_sffs = X_std[:,list(sffs.k_feature_idx_)]\n",
    "\n",
    "    X_train_sffs_std = stdsc.fit_transform(X_train_sffs)\n",
    "    \n",
    "    clf = GridSearchCV(\n",
    "    RandomForestClassifier(random_state=0), # 識別器\n",
    "    tuned_parameters, # 最適化したいパラメータセット\n",
    "    verbose=1,\n",
    "    cv=cv, # 交差検定の回数\n",
    "    )\n",
    "    \n",
    "    clf.fit(X_train_sffs_std, y)\n",
    "\n",
    "    print(clf.best_score_, clf.best_params_)\n",
    "    \n",
    "    if clf.best_score_ < best_acc - 0.05:\n",
    "        break\n",
    "    elif clf.best_score_ > best_acc:\n",
    "        best_acc = clf.best_score_\n",
    "    \n",
    "    re_i = pd.DataFrame([[sffs.k_feature_idx_,clf.best_score_,clf.best_params_]], columns=['Feature','accuracy','param'])\n",
    "    re = pd.concat([re,re_i])\n",
    "    '''# トレーニングデータに対する精度\n",
    "    pred_train = random_forest.predict(X_train_sffs)\n",
    "    accuracy_train = accuracy_score(y_train, pred_train)\n",
    "\n",
    "    # テストデータに対する精度\n",
    "    pred_test = random_forest.predict(X_test_sffs)\n",
    "    accuracy_test = accuracy_score(y_test, pred_test)\n",
    "\n",
    "    re_i = pd.DataFrame([[sffs.k_feature_idx_,accuracy_train,accuracy_test]], columns=['Feature','TrainigScore','TestScore'])\n",
    "    re = pd.concat([re,re_i])\n",
    "\n",
    "re.to_csv('Dataset/DD_pentablet/result/RF_Zigzag_trace.csv')'''"
   ]
  },
  {
   "cell_type": "code",
   "execution_count": null,
   "metadata": {
    "ExecuteTime": {
     "start_time": "2025-01-12T09:12:55.618982800Z"
    }
   },
   "outputs": [],
   "source": [
    "re"
   ]
  },
  {
   "cell_type": "code",
   "execution_count": null,
   "metadata": {
    "ExecuteTime": {
     "start_time": "2025-01-12T09:12:55.620982900Z"
    }
   },
   "outputs": [],
   "source": [
    "re.to_csv('Dataset/DD_pentablet/result/RF_Pl_predict.csv')"
   ]
  },
  {
   "cell_type": "code",
   "execution_count": null,
   "metadata": {
    "ExecuteTime": {
     "start_time": "2025-01-12T09:12:55.622981500Z"
    }
   },
   "outputs": [],
   "source": []
  },
  {
   "attachments": {},
   "cell_type": "markdown",
   "metadata": {},
   "source": [
    "#### CM and result detail Code"
   ]
  },
  {
   "cell_type": "code",
   "execution_count": null,
   "metadata": {
    "ExecuteTime": {
     "start_time": "2025-01-12T09:12:55.623980400Z"
    }
   },
   "outputs": [],
   "source": [
    "from sklearn.metrics import confusion_matrix\n",
    "import csv\n",
    "import pandas as pd\n",
    "from sklearn.ensemble import RandomForestClassifier\n",
    "from mlxtend.feature_selection import SequentialFeatureSelector as SFS\n",
    "from sklearn.model_selection import train_test_split\n",
    "from sklearn.model_selection import GridSearchCV\n",
    "from sklearn.metrics import accuracy_score\n",
    "import numpy as np\n",
    "from sklearn.preprocessing import StandardScaler\n",
    "from sklearn.svm import SVC\n",
    "from sklearn.model_selection import cross_val_score"
   ]
  },
  {
   "cell_type": "code",
   "execution_count": null,
   "metadata": {
    "ExecuteTime": {
     "start_time": "2025-01-12T09:12:55.625983Z"
    }
   },
   "outputs": [],
   "source": [
    "%pwd"
   ]
  },
  {
   "cell_type": "code",
   "execution_count": null,
   "metadata": {
    "ExecuteTime": {
     "start_time": "2025-01-12T09:12:55.626982100Z"
    }
   },
   "outputs": [],
   "source": [
    "f=pd.read_csv('Dataset/DD_pentablet/result/Pl_predict.csv')\n",
    "df = f.to_numpy()\n",
    "df.shape"
   ]
  },
  {
   "cell_type": "code",
   "execution_count": null,
   "metadata": {
    "ExecuteTime": {
     "start_time": "2025-01-12T09:12:55.628983300Z"
    }
   },
   "outputs": [],
   "source": [
    "#change feature shape\n",
    "flist = [2, 3, 4, 6, 7, 8, 9, 14, 24]\n",
    "changed_list = [n+3 for n in flist]\n",
    "changed_list"
   ]
  },
  {
   "cell_type": "code",
   "execution_count": null,
   "metadata": {
    "ExecuteTime": {
     "start_time": "2025-01-12T09:12:55.629981Z"
    }
   },
   "outputs": [],
   "source": [
    "#data separation\n",
    "#(3, 4, 5, 6, 7, 20, 22, 23, 25, 29)\n",
    "\n",
    "X = df[:,changed_list]\n",
    "y =f.iloc[:,2]\n",
    "\n",
    "y=y.astype('int')\n",
    "print(y)\n",
    "y.value_counts()\n",
    "#X = np.delete(X, 1, 1)\n",
    "#X = np.delete(X, 0, 1)\n",
    "#X_train, X_test, y_train, y_test = train_test_split(X, y, test_size=0.3, random_state=1)"
   ]
  },
  {
   "cell_type": "code",
   "execution_count": null,
   "metadata": {
    "ExecuteTime": {
     "start_time": "2025-01-12T09:12:55.630981500Z"
    }
   },
   "outputs": [],
   "source": [
    "stdsc = StandardScaler()"
   ]
  },
  {
   "cell_type": "code",
   "execution_count": null,
   "metadata": {
    "ExecuteTime": {
     "start_time": "2025-01-12T09:12:55.632982300Z"
    }
   },
   "outputs": [],
   "source": [
    "from sklearn.model_selection import LeaveOneOut\n",
    "\n",
    "# create loocv procedure\n",
    "cv = LeaveOneOut()"
   ]
  },
  {
   "cell_type": "code",
   "execution_count": null,
   "metadata": {
    "ExecuteTime": {
     "start_time": "2025-01-12T09:12:55.633982700Z"
    }
   },
   "outputs": [],
   "source": [
    "X_std = stdsc.fit_transform(X)"
   ]
  },
  {
   "cell_type": "code",
   "execution_count": null,
   "metadata": {
    "ExecuteTime": {
     "start_time": "2025-01-12T09:12:55.634980500Z"
    }
   },
   "outputs": [],
   "source": [
    "tuned_parameters = {'bootstrap': [True],\n",
    "                    'criterion': ['gini'],\n",
    "                    'max_depth': [None],\n",
    "                    'min_samples_leaf': [1],\n",
    "                    'min_samples_split': [2],\n",
    "                    'n_estimators': [100]\n",
    "                   }\n",
    "#{'bootstrap': True, 'criterion': 'gini', 'max_depth': None, 'min_samples_leaf': 1, 'min_samples_split': 2, 'n_estimators': 100}"
   ]
  },
  {
   "cell_type": "code",
   "execution_count": null,
   "metadata": {
    "ExecuteTime": {
     "start_time": "2025-01-12T09:12:55.635982300Z"
    }
   },
   "outputs": [],
   "source": [
    "#GridSearch\n",
    "clf = GridSearchCV(\n",
    "RandomForestClassifier(random_state=0), # 識別器\n",
    "tuned_parameters, # 最適化したいパラメータセット\n",
    "verbose=2,\n",
    "cv=cv, # 交差検定の回数\n",
    "n_jobs=-1\n",
    ")\n",
    "\n",
    "clf.fit(X_std, y)\n",
    "\n",
    "#result(score + param)\n",
    "print(clf.best_score_, clf.best_params_)"
   ]
  },
  {
   "cell_type": "code",
   "execution_count": null,
   "metadata": {
    "ExecuteTime": {
     "start_time": "2025-01-12T09:12:55.636981600Z"
    }
   },
   "outputs": [],
   "source": [
    "def generate_param(param):\n",
    "    new_param = \"\"\n",
    "    count = 0\n",
    "    for i in param:\n",
    "        if i == '{' or i == '}':\n",
    "            i = ''\n",
    "        elif i == ':':\n",
    "            i = '='\n",
    "            count += 1\n",
    "        elif (count == 2 or count == 3) and i == '\\'':\n",
    "            count += 1\n",
    "        elif (count != 2 and count != 3) and i == '\\'':\n",
    "            i = ''\n",
    "        new_param += i\n",
    "    return new_param\n",
    "        "
   ]
  },
  {
   "cell_type": "code",
   "execution_count": null,
   "metadata": {
    "ExecuteTime": {
     "start_time": "2025-01-12T09:12:55.638982Z"
    }
   },
   "outputs": [],
   "source": [
    "sample = \"{'bootstrap': True, 'criterion': 'gini', 'max_depth': None, 'min_samples_leaf': 1, 'min_samples_split': 2, 'n_estimators': 100}\"\n",
    "tuned_param = generate_param(sample)"
   ]
  },
  {
   "cell_type": "code",
   "execution_count": null,
   "metadata": {
    "ExecuteTime": {
     "start_time": "2025-01-12T09:12:55.639980600Z"
    }
   },
   "outputs": [],
   "source": [
    "tuned_param"
   ]
  },
  {
   "cell_type": "code",
   "execution_count": null,
   "metadata": {
    "ExecuteTime": {
     "start_time": "2025-01-12T09:12:55.639980600Z"
    }
   },
   "outputs": [],
   "source": [
    "model=RandomForestClassifier(bootstrap= True, criterion= 'gini', max_depth= None, min_samples_leaf= 1, min_samples_split= 2, n_estimators= 100,\n",
    "                            random_state=0)\n",
    "#{'bootstrap': True, 'criterion': 'gini', 'max_depth': 5, 'min_samples_leaf': 1, 'min_samples_split': 3, 'n_estimators': 100}"
   ]
  },
  {
   "cell_type": "code",
   "execution_count": null,
   "metadata": {
    "ExecuteTime": {
     "start_time": "2025-01-12T09:12:55.640980800Z"
    }
   },
   "outputs": [],
   "source": [
    "# loocv to manually evaluate the performance of a random forest classifier\n",
    "from sklearn.datasets import make_blobs\n",
    "from sklearn.model_selection import LeaveOneOut\n",
    "from sklearn.ensemble import RandomForestClassifier\n",
    "from sklearn.metrics import accuracy_score\n",
    "# create loocv procedure\n",
    "cv = LeaveOneOut()\n",
    "# enumerate splits\n",
    "y_true, y_pred = list(), list()\n",
    "for train_ix, test_ix in cv.split(X_std):\n",
    "    # split data\n",
    "    X_train, X_test = X_std[train_ix, :], X_std[test_ix, :]\n",
    "    y_train, y_test = y[train_ix], y[test_ix]\n",
    "    model.fit(X_train, y_train)\n",
    "    # evaluate model\n",
    "    yhat = model.predict(X_test)\n",
    "    # store\n",
    "    #y_true.append(y_test[0])\n",
    "    y_pred.append(yhat[0])\n",
    "# calculate accuracy\n",
    "acc = accuracy_score(y, y_pred)\n",
    "print('Accuracy: %.3f' % acc)"
   ]
  },
  {
   "cell_type": "code",
   "execution_count": null,
   "metadata": {
    "ExecuteTime": {
     "start_time": "2025-01-12T09:12:55.642981300Z"
    }
   },
   "outputs": [],
   "source": [
    "from sklearn.metrics import confusion_matrix\n",
    "import seaborn as sns\n",
    "import matplotlib.pyplot as plt\n",
    "\n",
    "cm = confusion_matrix(y, y_pred)\n",
    "\n",
    "sns.heatmap(cm, annot=True)\n",
    "#plt.savefig('Dataset/DD_pentablet/result/Pl_predict_RF_heatmap.png')"
   ]
  },
  {
   "cell_type": "code",
   "execution_count": null,
   "metadata": {
    "ExecuteTime": {
     "start_time": "2025-01-12T09:12:55.643980600Z"
    }
   },
   "outputs": [],
   "source": [
    "from sklearn.metrics import precision_score\n",
    "from sklearn.metrics import recall_score\n",
    "from sklearn.metrics import f1_score\n",
    "from sklearn.metrics import roc_auc_score\n",
    "\n",
    "acc = accuracy_score(y, y_pred)\n",
    "pre = precision_score(y, y_pred)\n",
    "rec = recall_score(y, y_pred)\n",
    "f1 = f1_score(y, y_pred)\n",
    "auc = roc_auc_score(y, y_pred)\n",
    "\n",
    "\n",
    "re = pd.DataFrame()\n",
    "re_i = pd.DataFrame([[flist,acc,clf.best_params_,pre,rec,f1,auc]], columns=['Feature','accuracy','param','precision','recall','f1','AUC'])\n",
    "re = pd.concat([re,re_i])\n",
    "#re.to_csv('Dataset/DD_pentablet/result/RF_Pl_predict_29_rep.csv', index = False)"
   ]
  },
  {
   "cell_type": "code",
   "execution_count": null,
   "metadata": {
    "ExecuteTime": {
     "start_time": "2025-01-12T09:12:55.643980600Z"
    }
   },
   "outputs": [],
   "source": [
    "re"
   ]
  },
  {
   "cell_type": "code",
   "execution_count": null,
   "metadata": {
    "ExecuteTime": {
     "start_time": "2025-01-12T09:12:55.645979900Z"
    }
   },
   "outputs": [],
   "source": []
  },
  {
   "cell_type": "code",
   "execution_count": null,
   "metadata": {
    "ExecuteTime": {
     "start_time": "2025-01-12T09:12:55.646980400Z"
    }
   },
   "outputs": [],
   "source": []
  },
  {
   "attachments": {},
   "cell_type": "markdown",
   "metadata": {},
   "source": [
    "## SVM method"
   ]
  },
  {
   "attachments": {},
   "cell_type": "markdown",
   "metadata": {},
   "source": [
    "### ZigZag trace"
   ]
  },
  {
   "cell_type": "code",
   "execution_count": null,
   "metadata": {
    "ExecuteTime": {
     "start_time": "2025-01-12T09:12:55.646980400Z"
    }
   },
   "outputs": [],
   "source": [
    "import csv\n",
    "import pandas as pd\n",
    "from sklearn.ensemble import RandomForestClassifier\n",
    "from mlxtend.feature_selection import SequentialFeatureSelector as SFS\n",
    "from sklearn.model_selection import train_test_split\n",
    "from sklearn.model_selection import GridSearchCV\n",
    "from sklearn.metrics import accuracy_score\n",
    "import numpy as np\n",
    "from sklearn.preprocessing import StandardScaler\n",
    "from sklearn.svm import SVC\n",
    "from sklearn.model_selection import cross_val_score"
   ]
  },
  {
   "cell_type": "code",
   "execution_count": null,
   "metadata": {
    "ExecuteTime": {
     "start_time": "2025-01-12T09:12:55.647978500Z"
    }
   },
   "outputs": [],
   "source": [
    "%pwd"
   ]
  },
  {
   "cell_type": "code",
   "execution_count": null,
   "metadata": {
    "ExecuteTime": {
     "start_time": "2025-01-12T09:12:55.648979300Z"
    }
   },
   "outputs": [],
   "source": [
    "f=pd.read_csv('Dataset/DD_pentablet/result/Zigzag_trace.csv')\n",
    "df = f.to_numpy()\n",
    "df.shape"
   ]
  },
  {
   "cell_type": "code",
   "execution_count": null,
   "metadata": {
    "ExecuteTime": {
     "start_time": "2025-01-12T09:12:55.649983Z"
    }
   },
   "outputs": [],
   "source": [
    "i = 0\n",
    "for column in f:\n",
    "    print(column + str(i))\n",
    "    i += 1"
   ]
  },
  {
   "cell_type": "code",
   "execution_count": null,
   "metadata": {
    "ExecuteTime": {
     "start_time": "2025-01-12T09:12:55.650979500Z"
    }
   },
   "outputs": [],
   "source": [
    "df"
   ]
  },
  {
   "cell_type": "code",
   "execution_count": null,
   "metadata": {
    "ExecuteTime": {
     "start_time": "2025-01-12T09:12:55.652980100Z"
    }
   },
   "outputs": [],
   "source": [
    "#data separation\n",
    "X = df[:,3:]\n",
    "y =f.iloc[:,2]\n",
    "\n",
    "y=y.astype('int')\n",
    "print(y)\n",
    "y.value_counts()\n",
    "#X = np.delete(X, 1, 1)\n",
    "#X = np.delete(X, 0, 1)\n",
    "#X_train, X_test, y_train, y_test = train_test_split(X, y, test_size=0.3, random_state=1)"
   ]
  },
  {
   "cell_type": "code",
   "execution_count": null,
   "metadata": {
    "ExecuteTime": {
     "start_time": "2025-01-12T09:12:55.652980100Z"
    }
   },
   "outputs": [],
   "source": [
    "stdsc = StandardScaler()"
   ]
  },
  {
   "cell_type": "code",
   "execution_count": null,
   "metadata": {
    "ExecuteTime": {
     "start_time": "2025-01-12T09:12:55.654979100Z"
    }
   },
   "outputs": [],
   "source": [
    "from sklearn.model_selection import LeaveOneOut\n",
    "\n",
    "# create loocv procedure\n",
    "cv = LeaveOneOut()"
   ]
  },
  {
   "cell_type": "code",
   "execution_count": null,
   "metadata": {
    "ExecuteTime": {
     "start_time": "2025-01-12T09:12:55.655980400Z"
    }
   },
   "outputs": [],
   "source": [
    "X_std = stdsc.fit_transform(X)\n",
    "#X_test_std = stdsc.transform(X_test)"
   ]
  },
  {
   "cell_type": "code",
   "execution_count": null,
   "metadata": {
    "ExecuteTime": {
     "start_time": "2025-01-12T09:12:55.656981300Z"
    }
   },
   "outputs": [],
   "source": [
    "tuned_parameters = {'C': [0.0001, 0.001, 0.01, 0.1, 1, 10, 100, 1000], 'kernel': ['rbf'], 'gamma': [0.00001, 0.0001, 0.001, 0.01, 0.1, 1]}\n",
    "\"\"\"\n",
    "{'C': [1, 10, 100, 1000], 'kernel': ['linear']},\n",
    "{'C': [1, 10, 100, 1000], 'kernel': ['rbf'], 'gamma': [0.001, 0.0001]}, 75%\n",
    "{'C': [1, 10, 100, 1000], 'kernel': ['poly'], 'degree': [2, 3, 4], 'gamma': [0.001, 0.0001]},\n",
    "\"\"\""
   ]
  },
  {
   "cell_type": "code",
   "execution_count": null,
   "metadata": {
    "ExecuteTime": {
     "start_time": "2025-01-12T09:12:55.657980Z"
    }
   },
   "outputs": [],
   "source": [
    "gs = GridSearchCV(\n",
    "SVC(), # 識別器\n",
    "tuned_parameters, # 最適化したいパラメータセット\n",
    "verbose=2,\n",
    "cv=cv, # 交差検定の回数\n",
    "n_jobs=-1\n",
    ")"
   ]
  },
  {
   "cell_type": "code",
   "execution_count": null,
   "metadata": {
    "ExecuteTime": {
     "start_time": "2025-01-12T09:12:55.658979200Z"
    }
   },
   "outputs": [],
   "source": [
    "best_acc = 0\n",
    "re = pd.DataFrame()\n",
    "for i in range(2,31):\n",
    "    sffs = SFS(SVC(), # 使う学習器\n",
    "    k_features=i, #特徴をいくつまで選択するか\n",
    "    forward=True, #Trueでforward selectionになる。Falseでback\n",
    "    floating=True, #sffsを行うためのもの。\n",
    "    verbose=2, #実行時のlogをどれだけ詳しく表示するか\n",
    "    scoring='accuracy', # 評価指標\n",
    "    cv=cv,\t#クロスバリデーション\n",
    "    n_jobs=-1\n",
    "    )\n",
    "\n",
    "    sffs = sffs.fit(X_std, y)\n",
    "    #選ばれた特徴\n",
    "    X_train_sffs = X_std[:,list(sffs.k_feature_idx_)]\n",
    "    # 標準化\n",
    "    stdsc = StandardScaler()\n",
    "    X_train_sffs_std = stdsc.fit_transform(X_train_sffs)\n",
    "\n",
    "    #GridSearch\n",
    "    gs = GridSearchCV(\n",
    "    SVC(), # 識別器\n",
    "    tuned_parameters, # 最適化したいパラメータセット\n",
    "    verbose=2,\n",
    "    cv=cv, # 交差検定の回数\n",
    "    n_jobs=-1\n",
    "    )\n",
    "    \n",
    "    gs.fit(X_train_sffs_std, y)\n",
    "    \n",
    "    #result(score + param)\n",
    "    print(gs.best_score_, gs.best_params_)\n",
    "    re_i = pd.DataFrame([[sffs.k_feature_idx_,gs.best_score_,gs.best_params_]], columns=['Feature','accuracy','param'])\n",
    "    re = pd.concat([re,re_i])\n",
    "    \n",
    "    '''if gs.best_score_ < best_acc:\n",
    "        break\n",
    "    else:\n",
    "        best_acc = gs.best_score_'''\n",
    "    \n",
    "'''\n",
    "    svm.fit(X_train_sffs_std, y)\n",
    "\n",
    "    # トレーニングデータに対する精度\n",
    "    scores = cross_val_score(svm, X_std, y, scoring='accuracy', cv=LeaveOneOut(), n_jobs=-1)\n",
    "    accuracy=scores.mean()\n",
    "\n",
    "    re_i = pd.DataFrame([[sffs.k_feature_idx_,accuracy]], columns=['Feature','accuracy'])\n",
    "    re = pd.concat([re,re_i])\n",
    "    '''"
   ]
  },
  {
   "cell_type": "code",
   "execution_count": null,
   "metadata": {
    "ExecuteTime": {
     "start_time": "2025-01-12T09:12:55.659980800Z"
    }
   },
   "outputs": [],
   "source": [
    "print(re)"
   ]
  },
  {
   "cell_type": "code",
   "execution_count": null,
   "metadata": {
    "ExecuteTime": {
     "start_time": "2025-01-12T09:12:55.660978500Z"
    }
   },
   "outputs": [],
   "source": [
    "re.to_csv('Dataset/DD_pentablet/result/SVM_Zigzag_trace_29.csv')"
   ]
  },
  {
   "cell_type": "code",
   "execution_count": null,
   "metadata": {
    "ExecuteTime": {
     "start_time": "2025-01-12T09:12:55.661980800Z"
    }
   },
   "outputs": [],
   "source": [
    "re.max(axis=0)"
   ]
  },
  {
   "attachments": {},
   "cell_type": "markdown",
   "metadata": {},
   "source": [
    "### ZigZag predict"
   ]
  },
  {
   "cell_type": "code",
   "execution_count": null,
   "metadata": {
    "ExecuteTime": {
     "start_time": "2025-01-12T09:12:55.663979100Z"
    }
   },
   "outputs": [],
   "source": [
    "import csv\n",
    "import pandas as pd\n",
    "from sklearn.ensemble import RandomForestClassifier\n",
    "from mlxtend.feature_selection import SequentialFeatureSelector as SFS\n",
    "from sklearn.model_selection import train_test_split\n",
    "from sklearn.model_selection import GridSearchCV\n",
    "from sklearn.metrics import accuracy_score\n",
    "import numpy as np\n",
    "from sklearn.preprocessing import StandardScaler\n",
    "from sklearn.svm import SVC\n",
    "from sklearn.model_selection import cross_val_score"
   ]
  },
  {
   "cell_type": "code",
   "execution_count": null,
   "metadata": {
    "ExecuteTime": {
     "start_time": "2025-01-12T09:12:55.664979800Z"
    }
   },
   "outputs": [],
   "source": [
    "%pwd"
   ]
  },
  {
   "cell_type": "code",
   "execution_count": null,
   "metadata": {
    "ExecuteTime": {
     "start_time": "2025-01-12T09:12:55.665978200Z"
    }
   },
   "outputs": [],
   "source": [
    "f=pd.read_csv('Dataset/DD_pentablet/result/Zigzag_predict.csv')\n",
    "df = f.to_numpy()\n",
    "df.shape"
   ]
  },
  {
   "cell_type": "code",
   "execution_count": null,
   "metadata": {
    "ExecuteTime": {
     "start_time": "2025-01-12T09:12:55.666978100Z"
    }
   },
   "outputs": [],
   "source": [
    "i = 0\n",
    "for column in f:\n",
    "    print(column + str(i))\n",
    "    i += 1"
   ]
  },
  {
   "cell_type": "code",
   "execution_count": null,
   "metadata": {
    "ExecuteTime": {
     "start_time": "2025-01-12T09:12:55.666978100Z"
    }
   },
   "outputs": [],
   "source": [
    "df"
   ]
  },
  {
   "cell_type": "code",
   "execution_count": null,
   "metadata": {
    "ExecuteTime": {
     "start_time": "2025-01-12T09:12:55.667977500Z"
    }
   },
   "outputs": [],
   "source": [
    "#data separation\n",
    "X = df[:,3:]\n",
    "y = f.iloc[:,2]\n",
    "y=y.astype('int')\n",
    "print(y)\n",
    "y.value_counts()\n",
    "#X = np.delete(X, 1, 1)_\n",
    "#X = np.delete(X, 0, 1)\n",
    "#X_train, X_test, y_train, y_test = train_test_split(X, y, test_size=0.3, random_state=1)"
   ]
  },
  {
   "cell_type": "code",
   "execution_count": null,
   "metadata": {
    "ExecuteTime": {
     "start_time": "2025-01-12T09:12:55.668976800Z"
    }
   },
   "outputs": [],
   "source": [
    "# loocv to automatically evaluate the performance of a random forest classifier\n",
    "from sklearn.model_selection import LeaveOneOut\n",
    "\n",
    "# create loocv procedure\n",
    "cv = LeaveOneOut()"
   ]
  },
  {
   "cell_type": "code",
   "execution_count": null,
   "metadata": {
    "ExecuteTime": {
     "start_time": "2025-01-12T09:12:55.669978100Z"
    }
   },
   "outputs": [],
   "source": [
    "stdsc = StandardScaler()"
   ]
  },
  {
   "cell_type": "code",
   "execution_count": null,
   "metadata": {
    "ExecuteTime": {
     "start_time": "2025-01-12T09:12:55.670979600Z"
    }
   },
   "outputs": [],
   "source": [
    "X_std = stdsc.fit_transform(X)"
   ]
  },
  {
   "cell_type": "code",
   "execution_count": null,
   "metadata": {
    "ExecuteTime": {
     "start_time": "2025-01-12T09:12:55.671978900Z"
    }
   },
   "outputs": [],
   "source": [
    "tuned_parameters = {'C': [0.0001, 0.001, 0.01, 0.1, 1, 10, 100, 1000], 'kernel': ['rbf'], 'gamma': [0.00001, 0.0001, 0.001, 0.01, 0.1, 1]}\n",
    "\"\"\"\n",
    "'kernel': ['rbf','linear','poly','sigmoid']\n",
    "{'C': [1, 10, 100, 1000], 'kernel': ['linear']},\n",
    "{'C': [1, 10, 100, 1000], 'kernel': ['rbf'], 'gamma': [0.001, 0.0001]}, 75%\n",
    "{'C': [1, 10, 100, 1000], 'kernel': ['poly'], 'degree': [2, 3, 4], 'gamma': [0.001, 0.0001]},\n",
    "\"\"\""
   ]
  },
  {
   "cell_type": "code",
   "execution_count": null,
   "metadata": {
    "ExecuteTime": {
     "start_time": "2025-01-12T09:12:55.672978600Z"
    }
   },
   "outputs": [],
   "source": [
    "gs = GridSearchCV(\n",
    "SVC(), # 識別器\n",
    "tuned_parameters, # 最適化したいパラメータセット\n",
    "verbose=2,\n",
    "cv=cv, # 交差検定の回数\n",
    "n_jobs=-1,\n",
    "scoring='accuracy'\n",
    ")"
   ]
  },
  {
   "cell_type": "code",
   "execution_count": null,
   "metadata": {
    "ExecuteTime": {
     "start_time": "2025-01-12T09:12:55.673978200Z"
    }
   },
   "outputs": [],
   "source": [
    "best_acc = 0\n",
    "re = pd.DataFrame()\n",
    "for i in range(2,31):\n",
    "    sffs = SFS(SVC(), # 使う学習器\n",
    "    k_features=i, #特徴をいくつまで選択するか\n",
    "    forward=True, #Trueでforward selectionになる。Falseでback\n",
    "    floating=True, #sffsを行うためのもの。\n",
    "    verbose=2, #実行時のlogをどれだけ詳しく表示するか\n",
    "    scoring='accuracy', # 評価指標\n",
    "    cv=cv,\t#クロスバリデーション\n",
    "    n_jobs=-1\n",
    "    )\n",
    "\n",
    "    sffs = sffs.fit(X_std, y)\n",
    "    #選ばれた特徴\n",
    "    X_train_sffs = X_std[:,list(sffs.k_feature_idx_)]\n",
    "    # 標準化\n",
    "    stdsc = StandardScaler()\n",
    "    X_train_sffs_std = stdsc.fit_transform(X_train_sffs)\n",
    "\n",
    "    #GridSearch\n",
    "    gs = GridSearchCV(\n",
    "    SVC(), # 識別器\n",
    "    tuned_parameters, # 最適化したいパラメータセット\n",
    "    verbose=2,\n",
    "    cv=cv, # 交差検定の回数\n",
    "    n_jobs=-1\n",
    "    )\n",
    "    \n",
    "    gs.fit(X_train_sffs_std, y)\n",
    "    \n",
    "    #result(score + param)\n",
    "    print(gs.best_score_, gs.best_params_)\n",
    "    re_i = pd.DataFrame([[sffs.k_feature_idx_,gs.best_score_,gs.best_params_]], columns=['Feature','accuracy','param'])\n",
    "    re = pd.concat([re,re_i])\n",
    "    \n",
    "    '''if gs.best_score_ < best_acc:\n",
    "        break\n",
    "    else:\n",
    "        best_acc = gs.best_score_'''\n",
    "    \n",
    "'''\n",
    "    svm.fit(X_train_sffs_std, y)\n",
    "\n",
    "    # トレーニングデータに対する精度\n",
    "    scores = cross_val_score(svm, X_std, y, scoring='accuracy', cv=LeaveOneOut(), n_jobs=-1)\n",
    "    accuracy=scores.mean()\n",
    "\n",
    "    re_i = pd.DataFrame([[sffs.k_feature_idx_,accuracy]], columns=['Feature','accuracy'])\n",
    "    re = pd.concat([re,re_i])\n",
    "    '''"
   ]
  },
  {
   "cell_type": "code",
   "execution_count": null,
   "metadata": {
    "ExecuteTime": {
     "start_time": "2025-01-12T09:12:55.674978500Z"
    }
   },
   "outputs": [],
   "source": [
    "print(re)"
   ]
  },
  {
   "cell_type": "code",
   "execution_count": null,
   "metadata": {
    "ExecuteTime": {
     "start_time": "2025-01-12T09:12:55.675977700Z"
    }
   },
   "outputs": [],
   "source": [
    "re.to_csv('Dataset/DD_pentablet/result/SVM_Zigzag_predict_29.csv')"
   ]
  },
  {
   "cell_type": "code",
   "execution_count": null,
   "metadata": {
    "ExecuteTime": {
     "start_time": "2025-01-12T09:12:55.677977100Z"
    }
   },
   "outputs": [],
   "source": [
    "re.max(axis=0)"
   ]
  },
  {
   "attachments": {},
   "cell_type": "markdown",
   "metadata": {},
   "source": [
    "### Pl trace"
   ]
  },
  {
   "cell_type": "code",
   "execution_count": null,
   "metadata": {
    "ExecuteTime": {
     "start_time": "2025-01-12T09:12:55.678977400Z"
    }
   },
   "outputs": [],
   "source": [
    "import csv\n",
    "import pandas as pd\n",
    "from sklearn.ensemble import RandomForestClassifier\n",
    "from mlxtend.feature_selection import SequentialFeatureSelector as SFS\n",
    "from sklearn.model_selection import train_test_split\n",
    "from sklearn.model_selection import GridSearchCV\n",
    "from sklearn.metrics import accuracy_score\n",
    "import numpy as np\n",
    "from sklearn.preprocessing import StandardScaler\n",
    "from sklearn.svm import SVC\n",
    "from sklearn.model_selection import cross_val_score"
   ]
  },
  {
   "cell_type": "code",
   "execution_count": null,
   "metadata": {
    "ExecuteTime": {
     "start_time": "2025-01-12T09:12:55.678977400Z"
    }
   },
   "outputs": [],
   "source": [
    "%pwd"
   ]
  },
  {
   "cell_type": "code",
   "execution_count": null,
   "metadata": {
    "ExecuteTime": {
     "start_time": "2025-01-12T09:12:55.679975100Z"
    }
   },
   "outputs": [],
   "source": [
    "f=pd.read_csv('Dataset/DD_pentablet/result/Pl_trace.csv')\n",
    "df = f.to_numpy()\n",
    "df.shape"
   ]
  },
  {
   "cell_type": "code",
   "execution_count": null,
   "metadata": {
    "ExecuteTime": {
     "start_time": "2025-01-12T09:12:55.680974800Z"
    }
   },
   "outputs": [],
   "source": [
    "i = 0\n",
    "for column in f:\n",
    "    print(column + str(i))\n",
    "    i += 1"
   ]
  },
  {
   "cell_type": "code",
   "execution_count": null,
   "metadata": {
    "ExecuteTime": {
     "start_time": "2025-01-12T09:12:55.680974800Z"
    }
   },
   "outputs": [],
   "source": [
    "df"
   ]
  },
  {
   "cell_type": "code",
   "execution_count": null,
   "metadata": {
    "ExecuteTime": {
     "start_time": "2025-01-12T09:12:55.681974Z"
    }
   },
   "outputs": [],
   "source": [
    "#data separation\n",
    "X = df[:,3:]\n",
    "y = df[:,2]\n",
    "y=y.astype('int')\n",
    "print(y)\n",
    "#X = np.delete(X, 1, 1)\n",
    "#X = np.delete(X, 0, 1)\n",
    "#X_train, X_test, y_train, y_test = train_test_split(X, y, test_size=0.3, random_state=1)"
   ]
  },
  {
   "cell_type": "code",
   "execution_count": null,
   "metadata": {
    "ExecuteTime": {
     "start_time": "2025-01-12T09:12:55.682974200Z"
    }
   },
   "outputs": [],
   "source": [
    "from sklearn.model_selection import LeaveOneOut\n",
    "\n",
    "# create loocv procedure\n",
    "cv = LeaveOneOut()"
   ]
  },
  {
   "cell_type": "code",
   "execution_count": null,
   "metadata": {
    "ExecuteTime": {
     "start_time": "2025-01-12T09:12:55.682974200Z"
    }
   },
   "outputs": [],
   "source": [
    "stdsc = StandardScaler()"
   ]
  },
  {
   "cell_type": "code",
   "execution_count": null,
   "metadata": {
    "ExecuteTime": {
     "start_time": "2025-01-12T09:12:55.683976500Z"
    }
   },
   "outputs": [],
   "source": [
    "X_std = stdsc.fit_transform(X)\n",
    "#X_test_std = stdsc.transform(X_test)"
   ]
  },
  {
   "cell_type": "code",
   "execution_count": null,
   "metadata": {
    "ExecuteTime": {
     "start_time": "2025-01-12T09:12:55.684975400Z"
    }
   },
   "outputs": [],
   "source": [
    "tuned_parameters = {'C': [0.0001, 0.001, 0.01, 0.1, 1, 10, 100, 1000], 'kernel': ['rbf'], 'gamma': [0.00001, 0.0001, 0.001, 0.01, 0.1, 1]}\n",
    "\"\"\"\n",
    "{'C': [1, 10, 100, 1000], 'kernel': ['linear']},\n",
    "{'C': [1, 10, 100, 1000], 'kernel': ['rbf'], 'gamma': [0.001, 0.0001]}, 75%\n",
    "{'C': [1, 10, 100, 1000], 'kernel': ['poly'], 'degree': [2, 3, 4], 'gamma': [0.001, 0.0001]},\n",
    "\"\"\""
   ]
  },
  {
   "cell_type": "code",
   "execution_count": null,
   "metadata": {
    "ExecuteTime": {
     "start_time": "2025-01-12T09:12:55.684975400Z"
    }
   },
   "outputs": [],
   "source": [
    "gs = GridSearchCV(\n",
    "SVC(), # 識別器\n",
    "tuned_parameters, # 最適化したいパラメータセット\n",
    "verbose=2,\n",
    "#cv=5, # 交差検定の回数\n",
    "cv=cv,\n",
    "n_jobs=-1\n",
    ")"
   ]
  },
  {
   "cell_type": "code",
   "execution_count": null,
   "metadata": {
    "ExecuteTime": {
     "start_time": "2025-01-12T09:12:55.685974900Z"
    }
   },
   "outputs": [],
   "source": [
    "best_acc = 0\n",
    "re = pd.DataFrame()\n",
    "for i in range(2,31):\n",
    "    sffs = SFS(SVC(), # 使う学習器\n",
    "    k_features=i, #特徴をいくつまで選択するか\n",
    "    forward=True, #Trueでforward selectionになる。Falseでback\n",
    "    floating=True, #sffsを行うためのもの。\n",
    "    verbose=2, #実行時のlogをどれだけ詳しく表示するか\n",
    "    scoring='accuracy', # 評価指標\n",
    "    cv=cv,\t#クロスバリデーション\n",
    "    n_jobs=-1\n",
    "    )\n",
    "\n",
    "    sffs = sffs.fit(X_std, y)\n",
    "    #選ばれた特徴\n",
    "    X_train_sffs = X_std[:,list(sffs.k_feature_idx_)]\n",
    "    # 標準化\n",
    "    stdsc = StandardScaler()\n",
    "    X_train_sffs_std = stdsc.fit_transform(X_train_sffs)\n",
    "\n",
    "    #GridSearch\n",
    "    gs = GridSearchCV(\n",
    "    SVC(), # 識別器\n",
    "    tuned_parameters, # 最適化したいパラメータセット\n",
    "    verbose=2,\n",
    "    cv=cv, # 交差検定の回数\n",
    "    n_jobs=-1\n",
    "    )\n",
    "    \n",
    "    gs.fit(X_train_sffs_std, y)\n",
    "    \n",
    "    #result(score + param)\n",
    "    print(gs.best_score_, gs.best_params_)\n",
    "    re_i = pd.DataFrame([[sffs.k_feature_idx_,gs.best_score_,gs.best_params_]], columns=['Feature','accuracy','param'])\n",
    "    re = pd.concat([re,re_i])\n",
    "    \n",
    "    '''if gs.best_score_ < best_acc:\n",
    "        break\n",
    "    else:\n",
    "        best_acc = gs.best_score_'''\n",
    "    \n",
    "'''\n",
    "    svm.fit(X_train_sffs_std, y)\n",
    "\n",
    "    # トレーニングデータに対する精度\n",
    "    scores = cross_val_score(svm, X_std, y, scoring='accuracy', cv=LeaveOneOut(), n_jobs=-1)\n",
    "    accuracy=scores.mean()\n",
    "\n",
    "    re_i = pd.DataFrame([[sffs.k_feature_idx_,accuracy]], columns=['Feature','accuracy'])\n",
    "    re = pd.concat([re,re_i])\n",
    "    '''"
   ]
  },
  {
   "cell_type": "code",
   "execution_count": null,
   "metadata": {
    "ExecuteTime": {
     "start_time": "2025-01-12T09:12:55.686974700Z"
    }
   },
   "outputs": [],
   "source": [
    "print(re)"
   ]
  },
  {
   "cell_type": "code",
   "execution_count": null,
   "metadata": {
    "ExecuteTime": {
     "start_time": "2025-01-12T09:12:55.686974700Z"
    }
   },
   "outputs": [],
   "source": [
    "re.to_csv('Dataset/DD_pentablet/result/SVM_Pl_trace_29.csv')"
   ]
  },
  {
   "cell_type": "code",
   "execution_count": null,
   "metadata": {
    "ExecuteTime": {
     "start_time": "2025-01-12T09:12:55.687975300Z"
    }
   },
   "outputs": [],
   "source": [
    "re.max(axis=0)"
   ]
  },
  {
   "attachments": {},
   "cell_type": "markdown",
   "metadata": {},
   "source": [
    "### Pl predict"
   ]
  },
  {
   "cell_type": "code",
   "execution_count": null,
   "metadata": {
    "ExecuteTime": {
     "start_time": "2025-01-12T09:12:55.688974800Z"
    }
   },
   "outputs": [],
   "source": [
    "import csv\n",
    "import pandas as pd\n",
    "from sklearn.ensemble import RandomForestClassifier\n",
    "from mlxtend.feature_selection import SequentialFeatureSelector as SFS\n",
    "from sklearn.model_selection import train_test_split\n",
    "from sklearn.model_selection import GridSearchCV\n",
    "from sklearn.metrics import accuracy_score\n",
    "import numpy as np\n",
    "from sklearn.preprocessing import StandardScaler\n",
    "from sklearn.svm import SVC\n",
    "from sklearn.model_selection import cross_val_score"
   ]
  },
  {
   "cell_type": "code",
   "execution_count": null,
   "metadata": {
    "ExecuteTime": {
     "start_time": "2025-01-12T09:12:55.688974800Z"
    }
   },
   "outputs": [],
   "source": [
    "%pwd"
   ]
  },
  {
   "cell_type": "code",
   "execution_count": null,
   "metadata": {
    "ExecuteTime": {
     "start_time": "2025-01-12T09:12:55.689974500Z"
    }
   },
   "outputs": [],
   "source": [
    "f=pd.read_csv('Dataset/DD_pentablet/result/Pl_predict.csv')\n",
    "df = f.to_numpy()\n",
    "df.shape"
   ]
  },
  {
   "cell_type": "code",
   "execution_count": null,
   "metadata": {
    "ExecuteTime": {
     "start_time": "2025-01-12T09:12:55.690975Z"
    }
   },
   "outputs": [],
   "source": [
    "i = 0\n",
    "for column in f:\n",
    "    print(column + str(i))\n",
    "    i += 1"
   ]
  },
  {
   "cell_type": "code",
   "execution_count": null,
   "metadata": {
    "ExecuteTime": {
     "start_time": "2025-01-12T09:12:55.691974500Z"
    }
   },
   "outputs": [],
   "source": [
    "df"
   ]
  },
  {
   "cell_type": "code",
   "execution_count": null,
   "metadata": {
    "ExecuteTime": {
     "start_time": "2025-01-12T09:12:55.691974500Z"
    }
   },
   "outputs": [],
   "source": [
    "#data separation\n",
    "X = df[:,3:]\n",
    "y = df[:,2]\n",
    "y=y.astype('int')\n",
    "print(y)\n",
    "#X = np.delete(X, 1, 1)\n",
    "#X = np.delete(X, 0, 1)\n",
    "#X_train, X_test, y_train, y_test = train_test_split(X, y, test_size=0.3, random_state=1)"
   ]
  },
  {
   "cell_type": "code",
   "execution_count": null,
   "metadata": {
    "ExecuteTime": {
     "start_time": "2025-01-12T09:12:55.692974300Z"
    }
   },
   "outputs": [],
   "source": [
    "from sklearn.model_selection import LeaveOneOut\n",
    "# create loocv procedure\n",
    "cv = LeaveOneOut()"
   ]
  },
  {
   "cell_type": "code",
   "execution_count": null,
   "metadata": {
    "ExecuteTime": {
     "start_time": "2025-01-12T09:12:55.693973700Z"
    }
   },
   "outputs": [],
   "source": [
    "stdsc = StandardScaler()"
   ]
  },
  {
   "cell_type": "code",
   "execution_count": null,
   "metadata": {
    "ExecuteTime": {
     "start_time": "2025-01-12T09:12:55.694973Z"
    }
   },
   "outputs": [],
   "source": [
    "X_std = stdsc.fit_transform(X)\n",
    "#X_test_std = stdsc.transform(X_test)"
   ]
  },
  {
   "cell_type": "code",
   "execution_count": null,
   "metadata": {
    "ExecuteTime": {
     "start_time": "2025-01-12T09:12:55.695975500Z"
    }
   },
   "outputs": [],
   "source": [
    "tuned_parameters = {'C': [1, 10, 100, 1000], 'kernel': ['rbf','sigmoid','poly'], 'gamma': [0.00001, 0.0001, 0.001, 0.01, 0.1, 1]}\n",
    "\"\"\"\n",
    "{'C': [1, 10, 100, 1000], 'kernel': ['linear']},\n",
    "{'C': [1, 10, 100, 1000], 'kernel': ['rbf'], 'gamma': [0.001, 0.0001]}, 75%\n",
    "{'C': [1, 10, 100, 1000], 'kernel': ['poly'], 'degree': [2, 3, 4], 'gamma': [0.001, 0.0001]},\n",
    "\"\"\""
   ]
  },
  {
   "cell_type": "code",
   "execution_count": null,
   "metadata": {
    "ExecuteTime": {
     "start_time": "2025-01-12T09:12:55.695975500Z"
    }
   },
   "outputs": [],
   "source": [
    "gs = GridSearchCV(\n",
    "SVC(), # 識別器\n",
    "tuned_parameters, # 最適化したいパラメータセット\n",
    "verbose=2,\n",
    "cv=cv, # 交差検定の回数\n",
    "n_jobs=-1\n",
    ")"
   ]
  },
  {
   "cell_type": "code",
   "execution_count": null,
   "metadata": {
    "ExecuteTime": {
     "start_time": "2025-01-12T09:12:55.696972800Z"
    }
   },
   "outputs": [],
   "source": [
    "best_acc = 0\n",
    "re = pd.DataFrame()\n",
    "for i in range(2,31):\n",
    "    sffs = SFS(SVC(), # 使う学習器\n",
    "    k_features=i, #特徴をいくつまで選択するか\n",
    "    forward=True, #Trueでforward selectionになる。Falseでback\n",
    "    floating=True, #sffsを行うためのもの。\n",
    "    verbose=2, #実行時のlogをどれだけ詳しく表示するか\n",
    "    scoring='accuracy', # 評価指標\n",
    "    cv=cv,\t#クロスバリデーション\n",
    "    n_jobs=-1\n",
    "    )\n",
    "\n",
    "    sffs = sffs.fit(X_std, y)\n",
    "    #選ばれた特徴\n",
    "    X_train_sffs = X_std[:,list(sffs.k_feature_idx_)]\n",
    "    # 標準化\n",
    "    stdsc = StandardScaler()\n",
    "    X_train_sffs_std = stdsc.fit_transform(X_train_sffs)\n",
    "\n",
    "    #GridSearch\n",
    "    gs = GridSearchCV(\n",
    "    SVC(), # 識別器\n",
    "    tuned_parameters, # 最適化したいパラメータセット\n",
    "    verbose=2,\n",
    "    cv=cv, # 交差検定の回数\n",
    "    n_jobs=-1\n",
    "    )\n",
    "    \n",
    "    gs.fit(X_train_sffs_std, y)\n",
    "    \n",
    "    svm = gs.best_estimator_\n",
    "    scores = cross_val_score(svm, X_train_sffs_std, y, scoring='accuracy', cv=LeaveOneOut(), n_jobs=-1)\n",
    "    accuracy=scores.mean()\n",
    "    \n",
    "    \n",
    "    #result(score + param)\n",
    "    print(accuracy, gs.best_params_)\n",
    "    re_i = pd.DataFrame([[sffs.k_feature_idx_,gs.best_score_,gs.best_params_]], columns=['Feature','accuracy','param'])\n",
    "    re = pd.concat([re,re_i])\n",
    "    \n",
    "'''    if gs.best_score_ < best_acc:\n",
    "        break\n",
    "    else:\n",
    "        best_acc = gs.best_score_'''\n",
    "    \n",
    "'''\n",
    "    svm.fit(X_train_sffs_std, y)\n",
    "\n",
    "    # トレーニングデータに対する精度\n",
    "    scores = cross_val_score(svm, X_std, y, scoring='accuracy', cv=LeaveOneOut(), n_jobs=-1)\n",
    "    accuracy=scores.mean()\n",
    "\n",
    "    re_i = pd.DataFrame([[sffs.k_feature_idx_,accuracy]], columns=['Feature','accuracy'])\n",
    "    re = pd.concat([re,re_i])\n",
    "    '''"
   ]
  },
  {
   "cell_type": "code",
   "execution_count": null,
   "metadata": {
    "ExecuteTime": {
     "start_time": "2025-01-12T09:12:55.697974100Z"
    }
   },
   "outputs": [],
   "source": [
    "print(re)"
   ]
  },
  {
   "cell_type": "code",
   "execution_count": null,
   "metadata": {
    "ExecuteTime": {
     "start_time": "2025-01-12T09:12:55.698975400Z"
    }
   },
   "outputs": [],
   "source": [
    "re.to_csv('Dataset/DD_pentablet/result/SVM_Pl_predict_29.csv')"
   ]
  },
  {
   "cell_type": "code",
   "execution_count": null,
   "metadata": {
    "ExecuteTime": {
     "start_time": "2025-01-12T09:12:55.698975400Z"
    }
   },
   "outputs": [],
   "source": [
    "re.max(axis=0)"
   ]
  }
 ],
 "metadata": {
  "language_info": {
   "name": "python"
  },
  "orig_nbformat": 4,
  "kernelspec": {
   "name": "python3",
   "language": "python",
   "display_name": "Python 3 (ipykernel)"
  }
 },
 "nbformat": 4,
 "nbformat_minor": 2
}
